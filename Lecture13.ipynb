{
 "cells": [
  {
   "cell_type": "markdown",
   "metadata": {
    "slideshow": {
     "slide_type": "slide"
    }
   },
   "source": [
    "# Scheme I\n",
    "## Intro to Functional Programming"
   ]
  },
  {
   "cell_type": "markdown",
   "metadata": {
    "slideshow": {
     "slide_type": "slide"
    }
   },
   "source": [
    "## What is Functional Programming\n",
    "- All the languages you've used up until now were most likely imperative or object-oriented\n",
    "- Based on the mathematical idea of a function\n",
    "- Pure Functional Programming doesn't allow mutable objects or assignment into variables\n",
    "    - Haskell is a pure functional language"
   ]
  },
  {
   "cell_type": "markdown",
   "metadata": {
    "slideshow": {
     "slide_type": "slide"
    }
   },
   "source": [
    "## What is Functional Programming\n",
    "- Most functional languages today allow variables and may allow mutable objects\n",
    "- Inspired by Lambda Calculus\n",
    "- Rely more on recursion than inheritance"
   ]
  },
  {
   "cell_type": "markdown",
   "metadata": {
    "slideshow": {
     "slide_type": "slide"
    }
   },
   "source": [
    "## Mathematical Review\n",
    "- Mathematically, a function is a mapping from a domain to a range\n",
    "- Each element of the domain is always mapped to the same element in the range\n",
    "- A mathematical function does not cause side effects, it only takes in parameters, and returns the corresponding element in the range\n",
    "- Lambda calculus is one way to express functions\n",
    "    - The cube of a number would be written as $\\lambda(x)x*x*x$"
   ]
  },
  {
   "cell_type": "markdown",
   "metadata": {
    "slideshow": {
     "slide_type": "slide"
    }
   },
   "source": [
    "## A Bit of Background\n",
    "- While many programming languages we have learned are descendants from the same \"tree\" , the functional programming languages have developed more or less in parallel\n",
    "    - This is starting to change as traditional imperative languages adopt functional paradigms\n",
    "    - We will look at this in a few lectures"
   ]
  },
  {
   "cell_type": "markdown",
   "metadata": {
    "slideshow": {
     "slide_type": "slide"
    }
   },
   "source": [
    "## A Bit of Background\n",
    "- Lisp ( LISt Processing ) was invented in 1959, making it the second oldest langauge still in use today \n",
    "- Many newer languages are slight variations on Lisp and are often called dialects because with a few changes, a program could be run in Lisp\n",
    "    - Scheme\n",
    "    - Common Lisp\n",
    "    - Clojure\n",
    "    - Arc\n",
    "    - Hy"
   ]
  },
  {
   "cell_type": "markdown",
   "metadata": {
    "slideshow": {
     "slide_type": "slide"
    }
   },
   "source": [
    "## Scheme\n",
    "- A Dialect of Lisp invented in 1975\n",
    "- Is smaller and has a simpler syntax than Lisp\n",
    "- Is Dynamically Typed\n",
    "- Very popular in education, especially in intro to CS classes (MIT until circa 2009, still used at Yale)"
   ]
  },
  {
   "cell_type": "markdown",
   "metadata": {
    "slideshow": {
     "slide_type": "slide"
    }
   },
   "source": [
    "## A first look at Scheme\n",
    "- In Scheme, functions calls are written in the format\n",
    "```scheme\n",
    "(FUNCTION_NAME ARGS)\n",
    "```\n",
    "- Many functions take a variable number of arguments, and apply the operation recursively"
   ]
  },
  {
   "cell_type": "code",
   "execution_count": 1,
   "metadata": {
    "slideshow": {
     "slide_type": "slide"
    }
   },
   "outputs": [
    {
     "data": {
      "text/plain": [
       "0"
      ]
     },
     "execution_count": 1,
     "metadata": {},
     "output_type": "execute_result"
    }
   ],
   "source": [
    "(+)"
   ]
  },
  {
   "cell_type": "code",
   "execution_count": 2,
   "metadata": {},
   "outputs": [
    {
     "data": {
      "text/plain": [
       "3"
      ]
     },
     "execution_count": 2,
     "metadata": {},
     "output_type": "execute_result"
    }
   ],
   "source": [
    "(+ 1 2)"
   ]
  },
  {
   "cell_type": "code",
   "execution_count": 7,
   "metadata": {},
   "outputs": [
    {
     "data": {
      "text/plain": [
       "6.140000000000001"
      ]
     },
     "execution_count": 7,
     "metadata": {},
     "output_type": "execute_result"
    }
   ],
   "source": [
    "(+ 1 2 3.14)"
   ]
  },
  {
   "cell_type": "code",
   "execution_count": 8,
   "metadata": {
    "slideshow": {
     "slide_type": "slide"
    }
   },
   "outputs": [
    {
     "data": {
      "text/plain": [
       "1"
      ]
     },
     "execution_count": 8,
     "metadata": {},
     "output_type": "execute_result"
    }
   ],
   "source": [
    "(*)"
   ]
  },
  {
   "cell_type": "code",
   "execution_count": 9,
   "metadata": {},
   "outputs": [
    {
     "data": {
      "text/plain": [
       "6"
      ]
     },
     "execution_count": 9,
     "metadata": {},
     "output_type": "execute_result"
    }
   ],
   "source": [
    "(* 2 3)"
   ]
  },
  {
   "cell_type": "code",
   "execution_count": 10,
   "metadata": {},
   "outputs": [
    {
     "data": {
      "text/plain": [
       "24"
      ]
     },
     "execution_count": 10,
     "metadata": {},
     "output_type": "execute_result"
    }
   ],
   "source": [
    "(* 2 3 4)"
   ]
  },
  {
   "cell_type": "code",
   "execution_count": 4,
   "metadata": {
    "slideshow": {
     "slide_type": "slide"
    }
   },
   "outputs": [
    {
     "data": {
      "text/plain": [
       "-4"
      ]
     },
     "execution_count": 4,
     "metadata": {},
     "output_type": "execute_result"
    }
   ],
   "source": [
    "(- 1 2 3)"
   ]
  },
  {
   "cell_type": "code",
   "execution_count": 7,
   "metadata": {},
   "outputs": [
    {
     "data": {
      "text/plain": [
       "0"
      ]
     },
     "execution_count": 7,
     "metadata": {},
     "output_type": "execute_result"
    }
   ],
   "source": [
    "(modulo 14 2)"
   ]
  },
  {
   "cell_type": "markdown",
   "metadata": {
    "slideshow": {
     "slide_type": "slide"
    }
   },
   "source": [
    "## Scheme on GL\n",
    "- Like Lisp, Scheme has evolved into many dialects\n",
    "    - To be considered a dialect of scheme, most programmers agree that it should follow the Revised$^5$ Report on the Algorithmic Language Scheme (R5RS)\n",
    "- Scheme files end in .ss or .scm"
   ]
  },
  {
   "cell_type": "markdown",
   "metadata": {
    "slideshow": {
     "slide_type": "slide"
    }
   },
   "source": [
    "## Scheme on GL\n",
    "- The version on GL is called PLT Scheme and run using mzscheme\n",
    "    - This dialect no longer exists\n",
    "    - The creators felt that their product evolved to a point to no longer be called Scheme, even though they still consider it a dialect of Lisp and a descendant of Scheme\n",
    "    - It is now called [Racket](http://racket-lang.org/new-name.html)\n",
    "- To exit the REPL type __(exit)__"
   ]
  },
  {
   "cell_type": "markdown",
   "metadata": {
    "slideshow": {
     "slide_type": "slide"
    }
   },
   "source": [
    "## Syntax\n",
    "- Parentheses are required for every statement: `(statement)`\n",
    "    - Parentheses get messy, but use an editor that has parentheses matching and lots of spacing and indentation, and you will be ok!\n",
    "- Identifiers have a much wider range of characters to use\n",
    "    - Can contain letters, digits, +, -, *, /, <, =, >, :, \\$, %, ^, &, _, ~, @, ?, !, and .\n",
    "    - Can't start with anything a number could start with\n",
    "        - +, - are special function names already though\n",
    "    - Case might matter\n",
    "        - In R5RS case didn't matter\n",
    "        - In R6RS case does (This is what is on GL by default)"
   ]
  },
  {
   "cell_type": "markdown",
   "metadata": {
    "collapsed": true,
    "slideshow": {
     "slide_type": "slide"
    }
   },
   "source": [
    "## Naming Conventions\n",
    "- Because of the wide variety of symbols allowed in an identifier, naming conventions have emerged than can tell us alot about what a function might do\n",
    "    - A predicate function usually ends in ? (odd?)\n",
    "    - A function that operates on a string or char is precded by char- or string-\n",
    "    - When converting betweeen objects we can use the -> symbol\n",
    "    - A function that has a side effect (which should be rare) ends in !"
   ]
  },
  {
   "cell_type": "markdown",
   "metadata": {
    "slideshow": {
     "slide_type": "slide"
    }
   },
   "source": [
    "## Data Basics\n",
    "- In Scheme, everything is an atom or a list\n",
    "- An atom can be an integer, or an identifier, or a string, or…\n",
    "- A list is a left parenthesis, followed by zero or more S-expressions, followed by a right parenthesis\n",
    "- An S-expression is an atom or a list\n",
    "   - Example: ()\n",
    "   - (A (B 3) (C) ( ( ) ) )"
   ]
  },
  {
   "cell_type": "markdown",
   "metadata": {
    "slideshow": {
     "slide_type": "slide"
    }
   },
   "source": [
    "## Datatypes\n",
    "- A list is the primary datatype in Scheme\n",
    "- Scheme also has vectors which are denoted like #(1 2 3 4)\n",
    "    - A vector is an immutable fixed length list\n",
    "- Strings are delimited by double quotes\n",
    "- Characters are denoted with #\\ as in #\\a\n",
    "- Numbers can be integers, fractions, decimals, or scientific notation.\n",
    "- __;__ Is the comment symbol\n",
    "- True is represented by #t, False by #f\n",
    "    - Anything besides #f will be evaluated to true"
   ]
  },
  {
   "cell_type": "code",
   "execution_count": 1,
   "metadata": {
    "collapsed": true,
    "slideshow": {
     "slide_type": "slide"
    }
   },
   "outputs": [
    {
     "name": "stdout",
     "output_type": "stream",
     "text": [
      "(1 2 3 4)"
     ]
    }
   ],
   "source": [
    "(display `(1 2 3 4))"
   ]
  },
  {
   "cell_type": "code",
   "execution_count": 5,
   "metadata": {
    "collapsed": true
   },
   "outputs": [
    {
     "name": "stdout",
     "output_type": "stream",
     "text": [
      "1/2\n",
      ".49751243781094523\n",
      "1\n",
      "100.111111"
     ]
    }
   ],
   "source": [
    "(display 10/20)\n",
    "(display \"\\n\")\n",
    "(display (/ 10 20.1))\n",
    "(display \"\\n\")\n",
    "(display 1)\n",
    "(display \"\\n\")\n",
    "(display 100.111111)"
   ]
  },
  {
   "cell_type": "code",
   "execution_count": 4,
   "metadata": {},
   "outputs": [
    {
     "name": "stdout",
     "output_type": "stream",
     "text": [
      "#(1 2 3 4)"
     ]
    }
   ],
   "source": [
    "(display #(1 2 3 4))"
   ]
  },
  {
   "cell_type": "code",
   "execution_count": 3,
   "metadata": {},
   "outputs": [
    {
     "name": "stdout",
     "output_type": "stream",
     "text": [
      "a"
     ]
    }
   ],
   "source": [
    "(display #\\a)"
   ]
  },
  {
   "cell_type": "markdown",
   "metadata": {
    "slideshow": {
     "slide_type": "slide"
    }
   },
   "source": [
    "## Quoting\n",
    "- In most functional programming languages, data and code are the same\n",
    "    - To prevent the execution of code, we apply a special form known as a quote\n",
    "    - We can either type the word __quote__, use the backtick __`__, or a single quote __'__"
   ]
  },
  {
   "cell_type": "code",
   "execution_count": 5,
   "metadata": {
    "slideshow": {
     "slide_type": "slide"
    }
   },
   "outputs": [
    {
     "data": {
      "text/plain": [
       "(1 2 3 4)"
      ]
     },
     "execution_count": 5,
     "metadata": {},
     "output_type": "execute_result"
    }
   ],
   "source": [
    "'(1 2 3 4)"
   ]
  },
  {
   "cell_type": "code",
   "execution_count": 6,
   "metadata": {},
   "outputs": [
    {
     "data": {
      "text/plain": [
       "(1 2 3 4)"
      ]
     },
     "execution_count": 6,
     "metadata": {},
     "output_type": "execute_result"
    }
   ],
   "source": [
    "(quote (1 2 3 4))"
   ]
  },
  {
   "cell_type": "code",
   "execution_count": 7,
   "metadata": {},
   "outputs": [
    {
     "ename": "inapplicable-object",
     "evalue": "The object 1 is not applicable.",
     "output_type": "error",
     "traceback": [
      "\u001b[31mThe object 1 is not applicable.\u001b[0m"
     ]
    }
   ],
   "source": [
    "(1 2 3 4)"
   ]
  },
  {
   "cell_type": "markdown",
   "metadata": {
    "slideshow": {
     "slide_type": "slide"
    }
   },
   "source": [
    "## Evaluation\n",
    "The evaluation rules of Scheme are as follows\n",
    "- Numbers, strings, #f, #t, all evaluate to themselves\n",
    "- A list is taken to be a function call by default, with the first item the function and the remaining items the parameters\n",
    "- A special form such as quote or define are not evaluated\n",
    "- Evaluation can be forced with the __eval__ function"
   ]
  },
  {
   "cell_type": "code",
   "execution_count": 8,
   "metadata": {
    "slideshow": {
     "slide_type": "slide"
    }
   },
   "outputs": [
    {
     "data": {
      "text/plain": [
       "a"
      ]
     },
     "execution_count": 8,
     "metadata": {},
     "output_type": "execute_result"
    }
   ],
   "source": [
    "(define a `(+ 10 20 30 40))"
   ]
  },
  {
   "cell_type": "code",
   "execution_count": 9,
   "metadata": {},
   "outputs": [
    {
     "data": {
      "text/plain": [
       "(+ 10 20 30 40)"
      ]
     },
     "execution_count": 9,
     "metadata": {},
     "output_type": "execute_result"
    }
   ],
   "source": [
    "a"
   ]
  },
  {
   "cell_type": "code",
   "execution_count": 10,
   "metadata": {},
   "outputs": [
    {
     "data": {
      "text/plain": [
       "100"
      ]
     },
     "execution_count": 10,
     "metadata": {},
     "output_type": "execute_result"
    }
   ],
   "source": [
    "(eval a user-initial-environment) \n",
    ";Just (eval a) on GL"
   ]
  },
  {
   "cell_type": "markdown",
   "metadata": {
    "slideshow": {
     "slide_type": "slide"
    }
   },
   "source": [
    "## Basic Functions\n",
    "- Three of the most imporant functions in Scheme deal with constructing and examining lists\n",
    "- __car__ returns the first element in a list\n",
    "- __cdr__ returns the rest of it\n",
    "- __cons__ builds a list by prepending its first parameter to its second"
   ]
  },
  {
   "cell_type": "code",
   "execution_count": 1,
   "metadata": {
    "slideshow": {
     "slide_type": "slide"
    }
   },
   "outputs": [
    {
     "data": {
      "text/plain": [
       "1"
      ]
     },
     "execution_count": 1,
     "metadata": {},
     "output_type": "execute_result"
    }
   ],
   "source": [
    "(car `(1 2 3 4))"
   ]
  },
  {
   "cell_type": "code",
   "execution_count": 2,
   "metadata": {},
   "outputs": [
    {
     "data": {
      "text/plain": [
       "(2 3 4)"
      ]
     },
     "execution_count": 2,
     "metadata": {},
     "output_type": "execute_result"
    }
   ],
   "source": [
    "(cdr `(1 2 3 4))"
   ]
  },
  {
   "cell_type": "code",
   "execution_count": 3,
   "metadata": {},
   "outputs": [
    {
     "data": {
      "text/plain": [
       "(1 2 3 4)"
      ]
     },
     "execution_count": 3,
     "metadata": {},
     "output_type": "execute_result"
    }
   ],
   "source": [
    "(cons 1 `(2 3 4))"
   ]
  },
  {
   "cell_type": "markdown",
   "metadata": {
    "slideshow": {
     "slide_type": "slide"
    }
   },
   "source": [
    "## Basic Function Examples\n",
    "Use cons to create:\n",
    "- (1 2 3)\t \t \n",
    "- ((1 2) 3)\t \t \n",
    "- (1 (2 3))\t \t "
   ]
  },
  {
   "cell_type": "code",
   "execution_count": 4,
   "metadata": {
    "slideshow": {
     "slide_type": "slide"
    }
   },
   "outputs": [
    {
     "data": {
      "text/plain": [
       "(1 2 3)"
      ]
     },
     "execution_count": 4,
     "metadata": {},
     "output_type": "execute_result"
    }
   ],
   "source": [
    "(cons 1 (cons 2 ( cons 3 () )))"
   ]
  },
  {
   "cell_type": "code",
   "execution_count": 5,
   "metadata": {},
   "outputs": [
    {
     "data": {
      "text/plain": [
       "((1 2) 3)"
      ]
     },
     "execution_count": 5,
     "metadata": {},
     "output_type": "execute_result"
    }
   ],
   "source": [
    "(cons (cons 1 (cons 2 ()))  (cons 3 ()))"
   ]
  },
  {
   "cell_type": "code",
   "execution_count": 6,
   "metadata": {},
   "outputs": [
    {
     "data": {
      "text/plain": [
       "(1 (2 3))"
      ]
     },
     "execution_count": 6,
     "metadata": {},
     "output_type": "execute_result"
    }
   ],
   "source": [
    "(cons 1 (cons (cons 2 (cons 3 () )) ()))"
   ]
  },
  {
   "cell_type": "markdown",
   "metadata": {
    "slideshow": {
     "slide_type": "slide"
    }
   },
   "source": [
    "## Basic Function Practice\n",
    "Use cons to create:\n",
    "- ((1 2) (3))\n",
    "- ((1)(2)(3))\n",
    "- (((1)) (2) 3)"
   ]
  },
  {
   "cell_type": "code",
   "execution_count": 8,
   "metadata": {
    "slideshow": {
     "slide_type": "slide"
    }
   },
   "outputs": [
    {
     "data": {
      "text/plain": [
       "((1 2) (3))"
      ]
     },
     "execution_count": 8,
     "metadata": {},
     "output_type": "execute_result"
    }
   ],
   "source": [
    "(cons (cons 1 (cons 2 ())) (cons (cons 3 () ) ()))"
   ]
  },
  {
   "cell_type": "code",
   "execution_count": 2,
   "metadata": {},
   "outputs": [
    {
     "data": {
      "text/plain": [
       "((1) (2) (3))"
      ]
     },
     "execution_count": 2,
     "metadata": {},
     "output_type": "execute_result"
    }
   ],
   "source": [
    "(cons\n",
    " (cons 1 () )\n",
    "(cons (cons 2 () )(cons \n",
    "                       (cons 3 ()) ())))"
   ]
  },
  {
   "cell_type": "code",
   "execution_count": 4,
   "metadata": {},
   "outputs": [
    {
     "data": {
      "text/plain": [
       "(((1)) (2) 3)"
      ]
     },
     "execution_count": 4,
     "metadata": {},
     "output_type": "execute_result"
    }
   ],
   "source": [
    "(cons (cons (cons 1 () ) ())(cons (cons 2 ()) (cons 3 ())))"
   ]
  },
  {
   "cell_type": "markdown",
   "metadata": {
    "slideshow": {
     "slide_type": "slide"
    }
   },
   "source": [
    "## Basic Function Practice\n",
    "Get 3 out of the following expressions:\n",
    "- (((3)) (1) 2) - As a class\n",
    "- ((1) (3) ((2)))\n",
    "- ((1 3 2) 5)"
   ]
  },
  {
   "cell_type": "code",
   "execution_count": 5,
   "metadata": {
    "slideshow": {
     "slide_type": "slide"
    }
   },
   "outputs": [
    {
     "data": {
      "text/plain": [
       "3"
      ]
     },
     "execution_count": 5,
     "metadata": {},
     "output_type": "execute_result"
    }
   ],
   "source": [
    "(car (car (car \n",
    "           `(((3)) (1) 2) \n",
    "           )))"
   ]
  },
  {
   "cell_type": "code",
   "execution_count": 6,
   "metadata": {},
   "outputs": [
    {
     "data": {
      "text/plain": [
       "3"
      ]
     },
     "execution_count": 6,
     "metadata": {},
     "output_type": "execute_result"
    }
   ],
   "source": [
    "(caaar \n",
    " `(((3)) (1) 2) \n",
    " )"
   ]
  },
  {
   "cell_type": "code",
   "execution_count": 8,
   "metadata": {
    "slideshow": {
     "slide_type": "slide"
    }
   },
   "outputs": [
    {
     "data": {
      "text/plain": [
       "3"
      ]
     },
     "execution_count": 8,
     "metadata": {},
     "output_type": "execute_result"
    }
   ],
   "source": [
    "(car (car (cdr `((1) (3) ((2))) ) ) )"
   ]
  },
  {
   "cell_type": "code",
   "execution_count": 9,
   "metadata": {},
   "outputs": [
    {
     "data": {
      "text/plain": [
       "3"
      ]
     },
     "execution_count": 9,
     "metadata": {},
     "output_type": "execute_result"
    }
   ],
   "source": [
    "(caadr `((1) (3) ((2))))"
   ]
  },
  {
   "cell_type": "code",
   "execution_count": 1,
   "metadata": {
    "slideshow": {
     "slide_type": "slide"
    }
   },
   "outputs": [
    {
     "data": {
      "text/plain": [
       "3"
      ]
     },
     "execution_count": 1,
     "metadata": {},
     "output_type": "execute_result"
    }
   ],
   "source": [
    "(car (cdr (car `((1 3 2) 5))))"
   ]
  },
  {
   "cell_type": "code",
   "execution_count": 2,
   "metadata": {},
   "outputs": [
    {
     "data": {
      "text/plain": [
       "3"
      ]
     },
     "execution_count": 2,
     "metadata": {},
     "output_type": "execute_result"
    }
   ],
   "source": [
    "(cadar `((1 3 2) 5))"
   ]
  },
  {
   "cell_type": "markdown",
   "metadata": {
    "slideshow": {
     "slide_type": "slide"
    }
   },
   "source": [
    "## More Functions\n",
    "- __eq?__ Tests the equality between two atoms\n",
    "- __equal?__ Tests the equality between s-expressions\n"
   ]
  },
  {
   "cell_type": "code",
   "execution_count": 4,
   "metadata": {
    "collapsed": true
   },
   "outputs": [
    {
     "data": {
      "text/plain": [
       "#f"
      ]
     },
     "execution_count": 4,
     "metadata": {},
     "output_type": "execute_result"
    }
   ],
   "source": [
    "(define a \"the\")\n",
    ";(eq? a a)\n",
    "(eq? \"the\" \"the\")"
   ]
  },
  {
   "cell_type": "code",
   "execution_count": 5,
   "metadata": {
    "collapsed": true
   },
   "outputs": [
    {
     "data": {
      "text/plain": [
       "#t"
      ]
     },
     "execution_count": 5,
     "metadata": {},
     "output_type": "execute_result"
    }
   ],
   "source": [
    "(eq? `t 't)"
   ]
  },
  {
   "cell_type": "code",
   "execution_count": 6,
   "metadata": {},
   "outputs": [
    {
     "data": {
      "text/plain": [
       "#t"
      ]
     },
     "execution_count": 6,
     "metadata": {},
     "output_type": "execute_result"
    }
   ],
   "source": [
    "(equal? \"the\" \"the\")"
   ]
  },
  {
   "cell_type": "code",
   "execution_count": 7,
   "metadata": {},
   "outputs": [
    {
     "data": {
      "text/plain": [
       "#t"
      ]
     },
     "execution_count": 7,
     "metadata": {},
     "output_type": "execute_result"
    }
   ],
   "source": [
    "(equal? (cons 1 (cons 2 (cons 3()))) `(1 2 3))"
   ]
  },
  {
   "cell_type": "markdown",
   "metadata": {
    "slideshow": {
     "slide_type": "slide"
    }
   },
   "source": [
    "## Even More Functions\n",
    "- Using cons can get cumbersome, so the function __list__ will make a list out of all the arugments\n",
    "- Concatinating two or more lists is done with __append__ "
   ]
  },
  {
   "cell_type": "code",
   "execution_count": 6,
   "metadata": {
    "slideshow": {
     "slide_type": "slide"
    }
   },
   "outputs": [
    {
     "data": {
      "text/plain": [
       "(1 2 3 4)"
      ]
     },
     "execution_count": 6,
     "metadata": {},
     "output_type": "execute_result"
    }
   ],
   "source": [
    "(list 1 2 3 4)"
   ]
  },
  {
   "cell_type": "code",
   "execution_count": 7,
   "metadata": {},
   "outputs": [
    {
     "data": {
      "text/plain": [
       "(1 2 3 4)"
      ]
     },
     "execution_count": 7,
     "metadata": {},
     "output_type": "execute_result"
    }
   ],
   "source": [
    "(append `(1 2) `(3 4))"
   ]
  },
  {
   "cell_type": "code",
   "execution_count": 8,
   "metadata": {},
   "outputs": [
    {
     "ename": "wrong-type-argument",
     "evalue": "The object 3, passed as an argument to append, is not a list.",
     "output_type": "error",
     "traceback": [
      "\u001b[31mThe object 3, passed as an argument to append, is not a list.\u001b[0m"
     ]
    }
   ],
   "source": [
    "(append `(1 2) `3 `4)"
   ]
  },
  {
   "cell_type": "code",
   "execution_count": 1,
   "metadata": {},
   "outputs": [
    {
     "data": {
      "text/plain": [
       "(1 2 3 \"s\")"
      ]
     },
     "execution_count": 1,
     "metadata": {},
     "output_type": "execute_result"
    }
   ],
   "source": [
    "(append `(1 2) `(3) `(\"s\"))"
   ]
  },
  {
   "cell_type": "markdown",
   "metadata": {
    "slideshow": {
     "slide_type": "slide"
    }
   },
   "source": [
    "## List Examples\n",
    "Use list to create:\n",
    "- ((1 2) (3))\t \t \n",
    "- ((1)(2)(3))\t \t \n",
    "- (((1)) (2) 3)"
   ]
  },
  {
   "cell_type": "code",
   "execution_count": 3,
   "metadata": {
    "slideshow": {
     "slide_type": "slide"
    }
   },
   "outputs": [
    {
     "data": {
      "text/plain": [
       "((1 2) (3))"
      ]
     },
     "execution_count": 3,
     "metadata": {},
     "output_type": "execute_result"
    }
   ],
   "source": [
    ";((1 2) (3))\n",
    "(list (list 1 2) (list 3))"
   ]
  },
  {
   "cell_type": "code",
   "execution_count": 4,
   "metadata": {},
   "outputs": [
    {
     "data": {
      "text/plain": [
       "((1) (2) (3))"
      ]
     },
     "execution_count": 4,
     "metadata": {},
     "output_type": "execute_result"
    }
   ],
   "source": [
    ";((1)(2)(3))\n",
    "(list (list 1)(list 2)(list 3))"
   ]
  },
  {
   "cell_type": "code",
   "execution_count": 5,
   "metadata": {},
   "outputs": [
    {
     "data": {
      "text/plain": [
       "(((1)) (2) 3)"
      ]
     },
     "execution_count": 5,
     "metadata": {},
     "output_type": "execute_result"
    }
   ],
   "source": [
    ";(((1)) (2) 3)\n",
    "(list (list (list 1)) (list 2) 3)"
   ]
  },
  {
   "cell_type": "markdown",
   "metadata": {
    "slideshow": {
     "slide_type": "slide"
    }
   },
   "source": [
    "## List Practice\n",
    "Use list to create:\n",
    "- (1 2 3)\t \t \n",
    "- ((1 2) 3)\t \t \n",
    "- (1 (2 3))\t \t "
   ]
  },
  {
   "cell_type": "code",
   "execution_count": 6,
   "metadata": {
    "slideshow": {
     "slide_type": "slide"
    }
   },
   "outputs": [
    {
     "data": {
      "text/plain": [
       "(1 2 3)"
      ]
     },
     "execution_count": 6,
     "metadata": {},
     "output_type": "execute_result"
    }
   ],
   "source": [
    "(list 1 2 3)"
   ]
  },
  {
   "cell_type": "code",
   "execution_count": 7,
   "metadata": {},
   "outputs": [
    {
     "data": {
      "text/plain": [
       "((1 2) 3)"
      ]
     },
     "execution_count": 7,
     "metadata": {},
     "output_type": "execute_result"
    }
   ],
   "source": [
    "(list (list 1 2 ) 3)"
   ]
  },
  {
   "cell_type": "code",
   "execution_count": 1,
   "metadata": {},
   "outputs": [
    {
     "data": {
      "text/plain": [
       "(1 (2 3))"
      ]
     },
     "execution_count": 1,
     "metadata": {},
     "output_type": "execute_result"
    }
   ],
   "source": [
    "(list 1 (list 2 3))"
   ]
  },
  {
   "cell_type": "code",
   "execution_count": null,
   "metadata": {},
   "outputs": [],
   "source": []
  }
 ],
 "metadata": {
  "celltoolbar": "Slideshow",
  "kernelspec": {
   "display_name": "MIT Scheme",
   "language": "scheme",
   "name": "mit-scheme"
  },
  "language_info": {
   "codemirror_mode": "scheme",
   "file_extension": ".scm",
   "mimetype": "application/x-scheme",
   "name": "MIT Scheme",
   "pygments_lexer": "scheme",
   "version": "9.2.1"
  }
 },
 "nbformat": 4,
 "nbformat_minor": 1
}
