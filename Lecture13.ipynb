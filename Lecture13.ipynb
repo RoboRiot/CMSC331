{
 "cells": [
  {
   "cell_type": "markdown",
   "metadata": {
    "slideshow": {
     "slide_type": "slide"
    }
   },
   "source": [
    "# Scheme II"
   ]
  },
  {
   "cell_type": "markdown",
   "metadata": {
    "slideshow": {
     "slide_type": "slide"
    }
   },
   "source": [
    "## Warm Up\n",
    "- Use Cons to construct the following list (Quote the characters so they aren't evaluated as variables)\n",
    "\n",
    "    `(a (b) (c))`\n",
    "\n",
    "- Use car and cdr to get return \"c\" from the list you just constructed"
   ]
  },
  {
   "cell_type": "code",
   "execution_count": null,
   "metadata": {
    "slideshow": {
     "slide_type": "slide"
    }
   },
   "outputs": [],
   "source": []
  },
  {
   "cell_type": "markdown",
   "metadata": {
    "slideshow": {
     "slide_type": "slide"
    }
   },
   "source": [
    "## Variables in Scheme\n",
    "- Variables in scheme have two basic scopes\n",
    "    - Local scope set with the __let__ command\n",
    "    - Global scope set with the __define__ command\n",
    "    - There are a few other variations of let that have slightly different scope\n",
    "        - We will talk about these when we talk about recursion"
   ]
  },
  {
   "cell_type": "markdown",
   "metadata": {
    "slideshow": {
     "slide_type": "slide"
    }
   },
   "source": [
    "## Let\n",
    "The general syntax of __let__ is\n",
    "\n",
    "```scheme\n",
    "(let\n",
    "    ( (var1 val1) (var2 val2) ... (var_n val_n) )\n",
    "    (function1)\n",
    "    (function2)\n",
    "    .\n",
    "    .\n",
    "    .\n",
    "    (function_n)\n",
    ")\n",
    "```"
   ]
  },
  {
   "cell_type": "code",
   "execution_count": null,
   "metadata": {
    "slideshow": {
     "slide_type": "slide"
    }
   },
   "outputs": [],
   "source": [
    "(let \n",
    "  (\n",
    "   (a 10)\n",
    "   (b 20)\n",
    "  )\n",
    "  (+ a b)\n",
    ")"
   ]
  },
  {
   "cell_type": "code",
   "execution_count": null,
   "metadata": {
    "slideshow": {
     "slide_type": "slide"
    }
   },
   "outputs": [],
   "source": [
    "(let\n",
    "  ((a 10) (b 20) (+ *))\n",
    "  (+ a b)\n",
    ")"
   ]
  },
  {
   "cell_type": "code",
   "execution_count": null,
   "metadata": {
    "slideshow": {
     "slide_type": "slide"
    }
   },
   "outputs": [],
   "source": [
    "(let\n",
    "  ((a 10) (b 20) (+ *))\n",
    "  (+ a b)\n",
    ")\n",
    "(+ a b)"
   ]
  },
  {
   "cell_type": "code",
   "execution_count": null,
   "metadata": {
    "slideshow": {
     "slide_type": "slide"
    }
   },
   "outputs": [],
   "source": [
    "(let\n",
    "  ((a 10) (b 20) (+ *))\n",
    "  (display (+ a b))\n",
    " (newline)\n",
    ")\n",
    "(display (+ 10 20))"
   ]
  },
  {
   "cell_type": "markdown",
   "metadata": {
    "slideshow": {
     "slide_type": "slide"
    }
   },
   "source": [
    "## Nested Let\n",
    "- When __let__ is nested inside another __let__ the variable can be redefined"
   ]
  },
  {
   "cell_type": "code",
   "execution_count": null,
   "metadata": {},
   "outputs": [],
   "source": [
    "(let\n",
    "  ((a 10) (b 20))\n",
    "  (let ((b 30))\n",
    "    (display (+ a b))\n",
    "    (display \n",
    "    \"\\n\")\n",
    "  )\n",
    "  (let ((a 20))\n",
    "    (display (- a b))\n",
    "  )\n",
    ")"
   ]
  },
  {
   "cell_type": "markdown",
   "metadata": {
    "slideshow": {
     "slide_type": "slide"
    }
   },
   "source": [
    "## Let Example\n",
    "- Use let to remove the common expressions from the following statement\n",
    "```scheme\n",
    "    (append '(1 2) '(3 4) '(3 4) '(1 2)\n",
    "```"
   ]
  },
  {
   "cell_type": "code",
   "execution_count": null,
   "metadata": {},
   "outputs": [],
   "source": []
  },
  {
   "cell_type": "markdown",
   "metadata": {
    "slideshow": {
     "slide_type": "slide"
    }
   },
   "source": [
    "## Let Practice\n",
    "From \"The Scheme Programming Language\"\n",
    "\n",
    "Use __let__ to remove common expressions from:\n",
    "```scheme\n",
    "(+ (- (* 3 a) b) (+ (* 3 a) b))\n",
    "(cons (car (list a b c)) (cdr (list a b c)))\n",
    "```"
   ]
  },
  {
   "cell_type": "code",
   "execution_count": null,
   "metadata": {
    "slideshow": {
     "slide_type": "slide"
    }
   },
   "outputs": [],
   "source": [
    "(define a 20)\n",
    "(define b 5)\n",
    "(+ (- (* 3 a) b) (+ (* 3 a) b))"
   ]
  },
  {
   "cell_type": "code",
   "execution_count": null,
   "metadata": {},
   "outputs": [],
   "source": []
  },
  {
   "cell_type": "code",
   "execution_count": null,
   "metadata": {
    "slideshow": {
     "slide_type": "slide"
    }
   },
   "outputs": [],
   "source": [
    "(define a 1)\n",
    "(define b 2)\n",
    "(define c 3)\n",
    "(cons (car (list a b c)) (cdr (list a b c)))"
   ]
  },
  {
   "cell_type": "code",
   "execution_count": null,
   "metadata": {},
   "outputs": [],
   "source": []
  },
  {
   "cell_type": "markdown",
   "metadata": {
    "slideshow": {
     "slide_type": "slide"
    }
   },
   "source": [
    "## Define\n",
    "- Define is used to make a variable have global scope\n",
    "- While it can be used for anything, it is most often used for functions"
   ]
  },
  {
   "cell_type": "code",
   "execution_count": null,
   "metadata": {},
   "outputs": [],
   "source": [
    "(define a 20)\n",
    "(define b 30)\n",
    "(+ a b)"
   ]
  },
  {
   "cell_type": "markdown",
   "metadata": {
    "slideshow": {
     "slide_type": "slide"
    }
   },
   "source": [
    "## Functions\n",
    "- In Scheme, the act of defining a function and naming a function require two separate expressions\n",
    "- To define a function, a __lambda__ expression is used\n",
    "    - The general syntax is\n",
    "```scheme\n",
    "(lambda (var1 var2 ... varN) \n",
    "         expr1 expr2 ... exprN)\n",
    "```\n",
    "    - This will return a function (often called a procedure in scheme)\n",
    "    - The return value of the function is the value of the last statement evaluated in it"
   ]
  },
  {
   "cell_type": "markdown",
   "metadata": {
    "slideshow": {
     "slide_type": "slide"
    }
   },
   "source": [
    "## Naming Functions\n",
    "- To name a function, use __let__ or __define__\n",
    "```scheme\n",
    "(define cadr\n",
    "    (lambda (x) \n",
    "        (car ( cdr x) ) \n",
    "    ) \n",
    ")\n",
    "```"
   ]
  },
  {
   "cell_type": "code",
   "execution_count": null,
   "metadata": {
    "slideshow": {
     "slide_type": "slide"
    }
   },
   "outputs": [],
   "source": [
    "(define mystery\n",
    "  (lambda(x)\n",
    "   ;(display (append `(+) x))\n",
    "   (/ (eval (append `(+) x) user-initial-environment )\n",
    "      ;(eval (append `(+) x)) ON GL\n",
    "      (length x) )\n",
    "  )\n",
    ")"
   ]
  },
  {
   "cell_type": "code",
   "execution_count": null,
   "metadata": {},
   "outputs": [],
   "source": [
    "(mystery `(1 2 3 4 5 10.01))"
   ]
  },
  {
   "cell_type": "code",
   "execution_count": null,
   "metadata": {
    "slideshow": {
     "slide_type": "slide"
    }
   },
   "outputs": [],
   "source": [
    "(define compose\n",
    "  (lambda (a b)\n",
    "    (lambda (x y) \n",
    "      (a (b x y) y)\n",
    "    )\n",
    "  )\n",
    ")"
   ]
  },
  {
   "cell_type": "code",
   "execution_count": null,
   "metadata": {},
   "outputs": [],
   "source": [
    "((compose + *) 3 2)"
   ]
  },
  {
   "cell_type": "code",
   "execution_count": null,
   "metadata": {},
   "outputs": [],
   "source": [
    "(define plusStar (compose + *))\n",
    "(plusStar 3 2)"
   ]
  },
  {
   "cell_type": "markdown",
   "metadata": {
    "slideshow": {
     "slide_type": "slide"
    }
   },
   "source": [
    "## Function Example\n",
    "- Write a function that solves the Pythagorean theorem for two numbers, a and b\n"
   ]
  },
  {
   "cell_type": "code",
   "execution_count": null,
   "metadata": {
    "slideshow": {
     "slide_type": "slide"
    }
   },
   "outputs": [],
   "source": []
  },
  {
   "cell_type": "code",
   "execution_count": null,
   "metadata": {},
   "outputs": [],
   "source": []
  },
  {
   "cell_type": "markdown",
   "metadata": {
    "slideshow": {
     "slide_type": "slide"
    }
   },
   "source": [
    "## Function Practice\n",
    "Write the following functions\n",
    "- Returns the surface area of a cube given the length of side x, $6x^2$\n",
    "- A function that converts a temperature given in farenheight to celcius ($\\frac{(F - 32) \\times 5}{9}$) "
   ]
  },
  {
   "cell_type": "code",
   "execution_count": null,
   "metadata": {
    "slideshow": {
     "slide_type": "slide"
    }
   },
   "outputs": [],
   "source": []
  },
  {
   "cell_type": "code",
   "execution_count": null,
   "metadata": {},
   "outputs": [],
   "source": [
    "(sa 2)"
   ]
  },
  {
   "cell_type": "code",
   "execution_count": null,
   "metadata": {
    "slideshow": {
     "slide_type": "slide"
    }
   },
   "outputs": [],
   "source": []
  },
  {
   "cell_type": "code",
   "execution_count": null,
   "metadata": {},
   "outputs": [],
   "source": [
    "(f->c 32)"
   ]
  },
  {
   "cell_type": "markdown",
   "metadata": {
    "slideshow": {
     "slide_type": "slide"
    }
   },
   "source": [
    "## Variadic  Functions\n",
    "- Scheme has two ways of creating a function with a variable number of parameters\n",
    "- Lambda with one argument instead of a list\n",
    "```scheme\n",
    "    (lambda var_r\n",
    "      expr1 expr2 ... exprN\n",
    "    )\n",
    "```\n",
    "- Lambda with an improper list of arguments\n",
    "```scheme\n",
    "    (lambda (var1 var2 . var_r)\n",
    "      expr1 expr2 ... exprN\n",
    "    )\n",
    "```"
   ]
  },
  {
   "cell_type": "code",
   "execution_count": null,
   "metadata": {
    "slideshow": {
     "slide_type": "slide"
    }
   },
   "outputs": [],
   "source": [
    "(define vari\n",
    "  (lambda nums\n",
    "     (display  nums)\n",
    "  )\n",
    ")"
   ]
  },
  {
   "cell_type": "code",
   "execution_count": null,
   "metadata": {
    "slideshow": {
     "slide_type": "-"
    }
   },
   "outputs": [],
   "source": [
    "(vari `(1 2 3 4) `(5 6 7 8))"
   ]
  },
  {
   "cell_type": "code",
   "execution_count": null,
   "metadata": {
    "slideshow": {
     "slide_type": "slide"
    }
   },
   "outputs": [],
   "source": [
    "(define improper\n",
    "  (lambda (x y . z)\n",
    "     (display  x)\n",
    "     (newline)\n",
    "     (display  y)\n",
    "     (newline)\n",
    "     (display  z)\n",
    "  )\n",
    ")"
   ]
  },
  {
   "cell_type": "code",
   "execution_count": null,
   "metadata": {
    "slideshow": {
     "slide_type": "slide"
    }
   },
   "outputs": [],
   "source": [
    "(improper 1 2 3 4)"
   ]
  },
  {
   "cell_type": "code",
   "execution_count": null,
   "metadata": {},
   "outputs": [],
   "source": [
    "(improper 1 2)"
   ]
  },
  {
   "cell_type": "code",
   "execution_count": null,
   "metadata": {},
   "outputs": [],
   "source": [
    "(improper 1 )"
   ]
  },
  {
   "cell_type": "markdown",
   "metadata": {
    "slideshow": {
     "slide_type": "slide"
    }
   },
   "source": [
    "## Comparison Operators\n",
    "- The comparison operators that exist in many other languages also exist in Scheme\n",
    "    - Unlike many languages, these can take multiple arguments, returning true if the correct order is specified\n",
    "- Examples\n",
    "    - `(< )`\n",
    "    - `(string<? )`\n",
    "    - `(>= )`"
   ]
  },
  {
   "cell_type": "code",
   "execution_count": null,
   "metadata": {
    "slideshow": {
     "slide_type": "slide"
    }
   },
   "outputs": [],
   "source": [
    "(< 1 2)"
   ]
  },
  {
   "cell_type": "code",
   "execution_count": null,
   "metadata": {},
   "outputs": [],
   "source": [
    "(< 2 1)"
   ]
  },
  {
   "cell_type": "code",
   "execution_count": null,
   "metadata": {},
   "outputs": [],
   "source": [
    "(< 1 2 3 4)"
   ]
  },
  {
   "cell_type": "code",
   "execution_count": null,
   "metadata": {},
   "outputs": [],
   "source": [
    "(< 1 2 3 2)"
   ]
  },
  {
   "cell_type": "code",
   "execution_count": null,
   "metadata": {
    "slideshow": {
     "slide_type": "slide"
    }
   },
   "outputs": [],
   "source": [
    "(string<? \"abba\" \"blondie\")"
   ]
  },
  {
   "cell_type": "code",
   "execution_count": null,
   "metadata": {},
   "outputs": [],
   "source": [
    "(string<? \"abbaa\" \"abba\")"
   ]
  },
  {
   "cell_type": "code",
   "execution_count": null,
   "metadata": {},
   "outputs": [],
   "source": [
    "(string<? \"abba\" \"blondie\" \"carly rae jepsen\")\n",
    ";;Doesn't work in MIT-Scheme :( \n",
    ";;Works fine in MzScheme"
   ]
  },
  {
   "cell_type": "markdown",
   "metadata": {
    "slideshow": {
     "slide_type": "slide"
    }
   },
   "source": [
    "## Boolean Operators\n",
    "- Just like Lua, the boolean operators in Scheme behave like function calls, returning a value\n",
    "- `(and )` returns the first `#f` it finds, or the last element if no `#f` is found\n",
    "- `(or )` returns the first non `#f` element, returns #f if all are #f"
   ]
  },
  {
   "cell_type": "code",
   "execution_count": null,
   "metadata": {
    "slideshow": {
     "slide_type": "slide"
    }
   },
   "outputs": [],
   "source": [
    "(and #f 3 1 4)"
   ]
  },
  {
   "cell_type": "code",
   "execution_count": null,
   "metadata": {},
   "outputs": [],
   "source": [
    "(and 3 1 4)"
   ]
  },
  {
   "cell_type": "code",
   "execution_count": null,
   "metadata": {},
   "outputs": [],
   "source": [
    "(or #f 1 2 3)"
   ]
  },
  {
   "cell_type": "code",
   "execution_count": null,
   "metadata": {},
   "outputs": [],
   "source": [
    "(or #f #f #f)"
   ]
  },
  {
   "cell_type": "markdown",
   "metadata": {
    "slideshow": {
     "slide_type": "slide"
    }
   },
   "source": [
    "## Conditionals\n",
    "Scheme has three main conditional statements\n",
    "- An __if__ statement\n",
    "- The __cond__ statement\n",
    "- The __case__ statement\n",
    "\n",
    "All of these are functions and return something"
   ]
  },
  {
   "cell_type": "markdown",
   "metadata": {
    "slideshow": {
     "slide_type": "slide"
    }
   },
   "source": [
    "## If Statement\n",
    "The syntax of an __if__ statement is\n",
    "```scheme\n",
    "(if\n",
    "    test\n",
    "    consequent\n",
    "    alternative ; Optional\n",
    ")\n",
    "```"
   ]
  },
  {
   "cell_type": "code",
   "execution_count": null,
   "metadata": {
    "slideshow": {
     "slide_type": "slide"
    }
   },
   "outputs": [],
   "source": [
    "(define max\n",
    "  (lambda (x y)\n",
    "    (if (> x y)\n",
    "        x\n",
    "        y\n",
    "    )\n",
    "  )\n",
    ")"
   ]
  },
  {
   "cell_type": "code",
   "execution_count": null,
   "metadata": {},
   "outputs": [],
   "source": [
    "(max 10 11)"
   ]
  },
  {
   "cell_type": "code",
   "execution_count": null,
   "metadata": {},
   "outputs": [],
   "source": [
    "(max 11 10)"
   ]
  },
  {
   "cell_type": "code",
   "execution_count": null,
   "metadata": {
    "slideshow": {
     "slide_type": "slide"
    }
   },
   "outputs": [],
   "source": [
    "(define ifBigger\n",
    "  (lambda (x y)\n",
    "    (if (> x y)\n",
    "        x\n",
    "    )\n",
    "  )\n",
    ")"
   ]
  },
  {
   "cell_type": "code",
   "execution_count": null,
   "metadata": {},
   "outputs": [],
   "source": [
    "(ifBigger 10 111)"
   ]
  },
  {
   "cell_type": "code",
   "execution_count": null,
   "metadata": {},
   "outputs": [],
   "source": [
    "(ifBigger 10 1)"
   ]
  },
  {
   "cell_type": "code",
   "execution_count": null,
   "metadata": {
    "slideshow": {
     "slide_type": "slide"
    }
   },
   "outputs": [],
   "source": [
    "(define canDivide?\n",
    "  (lambda (n d)\n",
    "    (if\n",
    "      (not (= d 0))\n",
    "      #t\n",
    "      #f\n",
    "    )\n",
    "  )\n",
    ")"
   ]
  },
  {
   "cell_type": "code",
   "execution_count": null,
   "metadata": {},
   "outputs": [],
   "source": [
    "(candivide? 20 0)"
   ]
  },
  {
   "cell_type": "code",
   "execution_count": null,
   "metadata": {},
   "outputs": [],
   "source": [
    "(canDivide? 20 1)"
   ]
  },
  {
   "cell_type": "markdown",
   "metadata": {
    "slideshow": {
     "slide_type": "slide"
    }
   },
   "source": [
    "## Cond Statement\n",
    "The syntax of a __cond__ statement is\n",
    "```scheme\n",
    "(cond\n",
    "    (test1 expression1 expression2 ...)\n",
    "    (test2 expressiona expressionb ...)\n",
    "    .\n",
    "    .\n",
    "    .\n",
    "    (testn expressioni expressionii ...)\n",
    "    (else expressionI expresionII ....)\n",
    ")\n",
    "```"
   ]
  },
  {
   "cell_type": "code",
   "execution_count": null,
   "metadata": {
    "slideshow": {
     "slide_type": "slide"
    }
   },
   "outputs": [],
   "source": [
    "(define grade\n",
    "  (lambda (score)\n",
    "    (cond\n",
    "      ( (>= score 90) \"A\")\n",
    "      ( (>= score 80) \"B\")\n",
    "      ( (>= score 70) \"C\")\n",
    "      ( (>= score 60) \"D\")\n",
    "      ( else \"F\")\n",
    "    )\n",
    "  )\n",
    ")\n"
   ]
  },
  {
   "cell_type": "code",
   "execution_count": null,
   "metadata": {},
   "outputs": [],
   "source": [
    "(grade 20)"
   ]
  },
  {
   "cell_type": "code",
   "execution_count": null,
   "metadata": {
    "slideshow": {
     "slide_type": "slide"
    }
   },
   "outputs": [],
   "source": [
    "(define whatToWatch\n",
    "  (lambda (night haveNetflix )\n",
    "    (cond\n",
    "      ( (equal? night \"Saturday\") \"Watch SNL\")\n",
    "      ( (equal? night \"Tuesday\") \"Watch ABC\")\n",
    "      ( (equal? night \"Thursday\") \"Watch NBC\")\n",
    "      ( haveNetflix \"Watch Master of None\")\n",
    "      ( else \"Channel Surf\")\n",
    "    )\n",
    "  )\n",
    ")\n"
   ]
  },
  {
   "cell_type": "code",
   "execution_count": null,
   "metadata": {},
   "outputs": [],
   "source": [
    "(whatToWatch \"Sunday\" #f)"
   ]
  },
  {
   "cell_type": "markdown",
   "metadata": {
    "slideshow": {
     "slide_type": "slide"
    }
   },
   "source": [
    "## Case Statements\n",
    "A case statement is approximently the same as a switch statement in other langauges\n",
    "\n",
    "The basic snytax is:\n",
    "```scheme\n",
    "(case \n",
    "    (expression)\n",
    "    ( (key1 key2 ... keyn) expr1 expr2 .. exprn)\n",
    "    ( (keyA keyB ... keyN) expra exprb .. exprn)\n",
    "    ( else expri exprii ... expr_n)\n",
    ")\n",
    "```"
   ]
  },
  {
   "cell_type": "markdown",
   "metadata": {
    "slideshow": {
     "slide_type": "slide"
    }
   },
   "source": [
    "## Case Statement Example"
   ]
  },
  {
   "cell_type": "code",
   "execution_count": null,
   "metadata": {},
   "outputs": [],
   "source": [
    "(define grade2\n",
    "  (lambda (x)\n",
    "   (case x\n",
    "     ( (100 90 91 92 93 94 95 96 97 98 99) \"A\")\n",
    "     ( (80 81 82 83 84 85 86 87 88 89) \"B\")\n",
    "     ( (70 71 72 73 74 75 76 77 88 89) \"C\")\n",
    "     ( (60 61 62 63 64 65 66 67 68 69) \"D\")\n",
    "     ( else \"F\")   \n",
    "   )\n",
    "  )\n",
    ")\n",
    "(grade2 88)"
   ]
  },
  {
   "cell_type": "markdown",
   "metadata": {
    "slideshow": {
     "slide_type": "slide"
    }
   },
   "source": [
    "## Conditionals Practice\n",
    "Write a function that does the following:\n",
    "- Returns if a number is odd or even"
   ]
  },
  {
   "cell_type": "code",
   "execution_count": null,
   "metadata": {
    "slideshow": {
     "slide_type": "slide"
    }
   },
   "outputs": [],
   "source": [
    "(define oddEven?\n",
    ")\n",
    "\n"
   ]
  },
  {
   "cell_type": "code",
   "execution_count": null,
   "metadata": {},
   "outputs": [],
   "source": [
    "(oddEven? 21)"
   ]
  },
  {
   "cell_type": "markdown",
   "metadata": {
    "slideshow": {
     "slide_type": "slide"
    }
   },
   "source": [
    "## Loops\n",
    "- Explicit looping is less commonly used in functional languages, but is still possible\n",
    "- In Scheme, the looping construct is `do`\n",
    "```scheme\n",
    "    (do ( (var1 init1 update1)\n",
    "          (var2 init2 update2))\n",
    "        ( (stop-predicate) final-value)\n",
    "        body1\n",
    "        body2\n",
    "    )\n",
    "```"
   ]
  },
  {
   "cell_type": "code",
   "execution_count": null,
   "metadata": {
    "slideshow": {
     "slide_type": "slide"
    }
   },
   "outputs": [],
   "source": [
    "(do\n",
    "     (;initialization\n",
    "      (i 0 ;var and initial value\n",
    "         (+ 1 i)) ;update rule\n",
    "     )\n",
    "     (\n",
    "      (= 5 i) ; stop-condition\n",
    "      \"Hello\" ; Return when stopped\n",
    "     )\n",
    "     (display i) ;body\n",
    "     (newline) ; body\n",
    " )"
   ]
  }
 ],
 "metadata": {
  "celltoolbar": "Slideshow",
  "kernelspec": {
   "display_name": "MIT Scheme",
   "language": "scheme",
   "name": "mit-scheme"
  },
  "language_info": {
   "codemirror_mode": "scheme",
   "file_extension": ".scm",
   "mimetype": "application/x-scheme",
   "name": "MIT Scheme",
   "pygments_lexer": "scheme",
   "version": "9.2.1"
  }
 },
 "nbformat": 4,
 "nbformat_minor": 1
}
