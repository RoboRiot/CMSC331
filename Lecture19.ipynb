{
 "cells": [
  {
   "cell_type": "markdown",
   "metadata": {
    "slideshow": {
     "slide_type": "slide"
    }
   },
   "source": [
    "# Java III"
   ]
  },
  {
   "cell_type": "markdown",
   "metadata": {
    "slideshow": {
     "slide_type": "slide"
    }
   },
   "source": [
    "## Inheritance\n",
    "- Inheritance is the ability to define classes from other classes, there by inheriting their methods and members\n",
    "- Inheritance aims to do two things\n",
    "    - Provide a mechanism for code reuse\n",
    "    - Proivde a way to organize a program similarly to the problem space\n",
    "\n"
   ]
  },
  {
   "cell_type": "markdown",
   "metadata": {
    "slideshow": {
     "slide_type": "slide"
    }
   },
   "source": [
    "## Base Class\n",
    "- The base class should contain all commonalities of the derived classes\n",
    " - All shapes have an area\n",
    " - All people have a name\n",
    "- Base classes can also be used to enforce consitency in method naming and how interaction takes place"
   ]
  },
  {
   "cell_type": "markdown",
   "metadata": {
    "slideshow": {
     "slide_type": "slide"
    }
   },
   "source": [
    "## Derived Class\n",
    "- The derived class inherits all methods and members of the base class, in general.\n",
    "- The derived class can do one of three things for each method in the base class:\n",
    "    - Refine the base class methods\n",
    "        - Call the base class method and then do something else\n",
    "    - Replace the base class methods\n",
    "        - Do something else entirely, hopefully still related \n",
    "    - Do Nothing\n",
    "        - Inherit the method as is\n"
   ]
  },
  {
   "cell_type": "markdown",
   "metadata": {
    "slideshow": {
     "slide_type": "slide"
    }
   },
   "source": [
    "## Base Class in Java\n",
    "- Almost any class can be inherited from in Java\n",
    "- To prevent a class from ever being inherited from, define it with the keyword __final__ \n",
    "- A base class can still have private methods and members\n",
    "    - These will not be inherited"
   ]
  },
  {
   "cell_type": "markdown",
   "metadata": {
    "slideshow": {
     "slide_type": "slide"
    }
   },
   "source": [
    "## Derived Class in Java\n",
    "- Each class in Java can have one direct base class\n",
    "- The syntax to indicate inheritance in Java is to use the __extends__ keyword in class definition\n",
    "- The base class's constructor is always called\n",
    "    - If it is not explicitly called, then the constructor with no parameters is called\n",
    "    - To call the base constructor manually use the keyword __super__\n"
   ]
  },
  {
   "cell_type": "markdown",
   "metadata": {
    "slideshow": {
     "slide_type": "slide"
    }
   },
   "source": [
    "```java\n",
    "        public class SomeClass extends BaseClass{\n",
    "            public Someclass(int var1, bool var2,String var3){\n",
    "                super(var1,var2);\n",
    "            }\n",
    "        }\n",
    "     ```"
   ]
  },
  {
   "cell_type": "code",
   "execution_count": null,
   "metadata": {
    "slideshow": {
     "slide_type": "slide"
    }
   },
   "outputs": [],
   "source": [
    "public class Vehicle {\n",
    "    private String make;\n",
    "    private String model;\n",
    "    \n",
    "    public Vehicle(String make, String model)\n",
    "    {\n",
    "        this.make = make;\n",
    "        this.model = model;\n",
    "    }\n",
    "    \n",
    "    public String getMake(){\n",
    "        return make;\n",
    "    }\n",
    "    \n",
    "    public void setMake(String newMake){\n",
    "        this.make = newMake;\n",
    "    }\n",
    "}"
   ]
  },
  {
   "cell_type": "code",
   "execution_count": null,
   "metadata": {
    "slideshow": {
     "slide_type": "slide"
    }
   },
   "outputs": [],
   "source": [
    "public class Car extends Vehicle{\n",
    "    public Car(String make, String model){\n",
    "        super(make, model);\n",
    "        super.setMake(\"Car\");\n",
    "    }\n",
    "    \n",
    "}"
   ]
  },
  {
   "cell_type": "markdown",
   "metadata": {
    "slideshow": {
     "slide_type": "slide"
    }
   },
   "source": [
    "## Base Class Design Example\n",
    "- Design a base class for astronomical bodies\n",
    "- What do all astronomical bodies have in common"
   ]
  },
  {
   "cell_type": "code",
   "execution_count": null,
   "metadata": {
    "slideshow": {
     "slide_type": "slide"
    }
   },
   "outputs": [],
   "source": []
  },
  {
   "cell_type": "markdown",
   "metadata": {
    "slideshow": {
     "slide_type": "slide"
    }
   },
   "source": [
    "## Derived Class Practice\n",
    "- Write two classes that derive from our base class\n",
    "- Planet\n",
    "    - What are some unique things about planets?\n",
    "- Star\n",
    "    - What are some unique things about stars?"
   ]
  },
  {
   "cell_type": "code",
   "execution_count": null,
   "metadata": {
    "slideshow": {
     "slide_type": "slide"
    }
   },
   "outputs": [],
   "source": []
  },
  {
   "cell_type": "markdown",
   "metadata": {
    "slideshow": {
     "slide_type": "slide"
    }
   },
   "source": [
    "## Method Overriding\n",
    "- A method in the derived class with a same name as one in the base class\n",
    "- Should do something similar - but this is up to the programmer\n",
    "- Any method that is not overriden will be inherited\n",
    "- Can call the base method from the parent using the __super__ keyword\n"
   ]
  },
  {
   "cell_type": "markdown",
   "metadata": {
    "slideshow": {
     "slide_type": "slide"
    }
   },
   "source": [
    "```java\n",
    "   public class SomeClass extends BaseClass{\n",
    "      public int aMethod(){\n",
    "          return super.aMethod() + 10;\n",
    "      }\n",
    "  }\n",
    "```"
   ]
  },
  {
   "cell_type": "markdown",
   "metadata": {
    "slideshow": {
     "slide_type": "slide"
    }
   },
   "source": [
    "## Method Overriding Set Up\n",
    "- Add a `print` method to the base class to print out the object by printing some of its properties"
   ]
  },
  {
   "cell_type": "code",
   "execution_count": null,
   "metadata": {
    "slideshow": {
     "slide_type": "slide"
    }
   },
   "outputs": [],
   "source": []
  },
  {
   "cell_type": "markdown",
   "metadata": {
    "slideshow": {
     "slide_type": "slide"
    }
   },
   "source": [
    "## Method Overridding Example\n",
    "- Override the `print` method in the Star class to add in the temperature information"
   ]
  },
  {
   "cell_type": "code",
   "execution_count": null,
   "metadata": {
    "slideshow": {
     "slide_type": "slide"
    }
   },
   "outputs": [],
   "source": []
  },
  {
   "cell_type": "markdown",
   "metadata": {
    "slideshow": {
     "slide_type": "slide"
    }
   },
   "source": [
    "## Method Overriding Practice\n",
    "- Override the `print` method in Planet to replace the parents definition and only print information about the Planet"
   ]
  },
  {
   "cell_type": "code",
   "execution_count": null,
   "metadata": {
    "slideshow": {
     "slide_type": "slide"
    }
   },
   "outputs": [],
   "source": []
  },
  {
   "cell_type": "markdown",
   "metadata": {
    "slideshow": {
     "slide_type": "slide"
    }
   },
   "source": [
    "## Using Base and Derived Class Types\n",
    "- If an object is declared as a base class, say vehicle, it can hold any object whose class is desecended from vehicle\n",
    "    - This applies to parameter and return types as well\n",
    "- This doesn't work the other way\n",
    "    - if a method takes a Car parameter, it must be a Car, not a Vehicle object"
   ]
  },
  {
   "cell_type": "markdown",
   "metadata": {
    "slideshow": {
     "slide_type": "slide"
    }
   },
   "source": [
    "## Making a Solar System\n",
    "- For now lets consider a solar system a collection of astronomical objects"
   ]
  },
  {
   "cell_type": "code",
   "execution_count": null,
   "metadata": {
    "slideshow": {
     "slide_type": "slide"
    }
   },
   "outputs": [],
   "source": []
  },
  {
   "cell_type": "markdown",
   "metadata": {
    "slideshow": {
     "slide_type": "slide"
    }
   },
   "source": [
    "## The Class `Object`\n",
    "- Every class in Java inherits from the Object class, wether declared or not\n",
    "- The `Object` class provides default implementations of many methods\n",
    "    - `clone`\n",
    "    - `equals`\n",
    "    - `toString`\n",
    "    - `getClass`"
   ]
  },
  {
   "cell_type": "code",
   "execution_count": null,
   "metadata": {
    "slideshow": {
     "slide_type": "slide"
    }
   },
   "outputs": [],
   "source": [
    "Vehicle x = new Vehicle(\"s\",\"t\");\n",
    "System.out.println(x.getClass());"
   ]
  },
  {
   "cell_type": "markdown",
   "metadata": {
    "slideshow": {
     "slide_type": "slide"
    }
   },
   "source": [
    "## Multiple Inheritance\n",
    "- Once a language designer decides to include inheritance, they face a decision: How much inheritance at for each class\n",
    "- Some languages like C++ allow a class to inherit from multiple other classes\n",
    "    - This can improve modeling of the problem space\n",
    "        - i.e. A teaching assistant is a teacher and a student\n",
    "- Multiple Inheritance causes challenges\n",
    "    - What to do a method is found in more than one base class?\n",
    "        - Which do we call?\n",
    "    - What to do when two or more base classes are themselve derived from a single class (Diamond Inheritance Pattern)\n",
    "        - How many copies of members are there?\n",
    "    "
   ]
  },
  {
   "cell_type": "markdown",
   "metadata": {
    "slideshow": {
     "slide_type": "slide"
    }
   },
   "source": [
    "## Multiple Inheritance\n",
    "- When there are multiple methods with the same name inherited, it is up to the derived class to make them unambigous\n",
    "    - Explicitly override the method in question, even if its just to call the base class method\n",
    "    ```C++\n",
    "        void doSomething(int value){\n",
    "            base1::doSomething(value);\n",
    "        }\n",
    "    ```\n",
    "    - If you still want to permit the other methods to be used, rename them\n",
    "    ```C++\n",
    "        void doAnotherThing(int value){\n",
    "            base2::doSomething(value)\n",
    "        }\n",
    "    ```"
   ]
  },
  {
   "cell_type": "markdown",
   "metadata": {
    "slideshow": {
     "slide_type": "slide"
    }
   },
   "source": [
    "## Multiple Inheritance \n",
    "\n",
    "- When two base classes are derived from the same class, there is nothing the programmer of the new derived class can do   \n",
    "- Proper behavoir depends on how the base classes were implemented  \n",
    " - In C++, inheriting a class as __virtual__ prevents multiple copies of member variables being made\n"
   ]
  },
  {
   "cell_type": "markdown",
   "metadata": {
    "slideshow": {
     "slide_type": "slide"
    }
   },
   "source": [
    "- Example from _An Introduction to Object Oriented Programming_ ,Timothy Budd, 1991\n",
    " \n",
    "```C++ \n",
    "            class Stream{\n",
    "                File *fp;\n",
    "            };\n",
    "\n",
    "            class InStream : public virtual Stream{\n",
    "                int open(File *);\n",
    "            };\n",
    "\n",
    "            class OutStream : public virtual Stream{\n",
    "                int open(File *);\n",
    "            };\n",
    "\n",
    "            class InOutStream : public InStream, public OutStream\n",
    "            {\n",
    "            };\n",
    "```"
   ]
  },
  {
   "cell_type": "markdown",
   "metadata": {
    "slideshow": {
     "slide_type": "slide"
    }
   },
   "source": [
    "## Abstract Classes\n",
    "- It is often useful to only define method names and return types, rather than any implementation\n",
    "- In Java we define an asbtract method in the base class, which enforces that it must be overridden\n",
    "- In order to have an abstract method, a class must be declared as abstract\n",
    "- An abstract class can never be instantiated\n",
    "\n",
    "```java\n",
    "    public abstract class SomeAbstract{\n",
    "\n",
    "      public int i = 0;\n",
    "      public int aMethod(){\n",
    "          return i;\n",
    "      }\n",
    "      \n",
    "      public abstract void abstractMethod();\n",
    "  }\n",
    "```"
   ]
  },
  {
   "cell_type": "markdown",
   "metadata": {
    "slideshow": {
     "slide_type": "slide"
    }
   },
   "source": [
    "## Abstract Class Example\n",
    "- Convert the base class to an abstract class and add the abstract method `getVolume` which returns a double"
   ]
  },
  {
   "cell_type": "code",
   "execution_count": null,
   "metadata": {
    "slideshow": {
     "slide_type": "slide"
    }
   },
   "outputs": [],
   "source": []
  },
  {
   "cell_type": "markdown",
   "metadata": {
    "slideshow": {
     "slide_type": "slide"
    }
   },
   "source": [
    "## Interfaces\n",
    "\n",
    "- Java doesn't allow multiple inheritance, but it does have a compromise solution avaliable, called _interfaces_\n",
    "- An interface in Java has no members, and no method definitions, only declerations.\n",
    "- Any class can __implement__ multiple interfaces\n",
    "- Because there is no method definitions, it is ok if multiple interfaces require the same method\n"
   ]
  },
  {
   "cell_type": "markdown",
   "metadata": {
    "slideshow": {
     "slide_type": "slide"
    }
   },
   "source": [
    "\n",
    "```java\n",
    "public interface anInterface{\n",
    "    public void aRequiredMethod();\n",
    "    public void anotherOne();\n",
    "}\n",
    "\n",
    "public class Implementation implements anInterface, anotherInterface{\n",
    "\n",
    "        public void aRequiredMethod(){...}\n",
    "        public void anotherOne(){...}\n",
    "}\n",
    "```"
   ]
  },
  {
   "cell_type": "markdown",
   "metadata": {
    "slideshow": {
     "slide_type": "slide"
    }
   },
   "source": [
    "## Interface Example\n",
    "- Create an interface Spins that forces all classes that implement it to have a method `getDayLength`"
   ]
  },
  {
   "cell_type": "code",
   "execution_count": null,
   "metadata": {
    "slideshow": {
     "slide_type": "slide"
    }
   },
   "outputs": [],
   "source": []
  },
  {
   "cell_type": "markdown",
   "metadata": {
    "slideshow": {
     "slide_type": "slide"
    }
   },
   "source": [
    "## Interface Practice\n",
    "- Create an interface Atmospheric that forces all classes that implement it to have a method `getPressure`\n",
    "- Update the Planet class to implement both interfaces"
   ]
  },
  {
   "cell_type": "code",
   "execution_count": null,
   "metadata": {
    "slideshow": {
     "slide_type": "slide"
    }
   },
   "outputs": [],
   "source": []
  },
  {
   "cell_type": "markdown",
   "metadata": {
    "slideshow": {
     "slide_type": "slide"
    }
   },
   "source": [
    "## Interfaces vs Abstract Classes\n",
    "- Interfaces and Abstract classes seem pretty similar, why does Java have both\n",
    "- Abstract classes are useful to enforce overidding of particular methods\n",
    "    - They can still have some methods defined\n",
    "    - They can still have members\n",
    "- Interfaces enforce more constraints that allow them to be used more like multiple inheritance"
   ]
  },
  {
   "cell_type": "markdown",
   "metadata": {
    "slideshow": {
     "slide_type": "slide"
    }
   },
   "source": [
    "## The Square and the Rectangle\n",
    "The following summarizes the excellent discussion found in _Object-Oriented Design Using Java_ , Dale Skrien, 2009\n",
    "- In Geometry a square **_is a_** rectangle\n",
    "- We might be tempted to make a class square inherit from rectangle\n",
    "    - What happens when we want to change the size of the square, but rectangle allows us to change height and width independently\n",
    "- When mapping the problem space to classes, it is important to pay attention to the assumptions that are made in the problem space"
   ]
  },
  {
   "cell_type": "markdown",
   "metadata": {
    "slideshow": {
     "slide_type": "slide"
    }
   },
   "source": [
    "## Negatives of Inheritance?\n",
    "- At one time, memory space was an issue, but this is no longer a concern\n",
    "- The real cost is in the complexity of the code\n",
    "    - The more ancestor classes a class inherits from, the further segmented its code base is.\n",
    "    - This can be good for code-reuse, but can make debugging very difficult\n",
    "- Can be overused when it doesn't fit the problem clearly"
   ]
  },
  {
   "cell_type": "markdown",
   "metadata": {
    "slideshow": {
     "slide_type": "slide"
    }
   },
   "source": [
    "## Additional Sources Used \n",
    "\n",
    "*Object-Oriented Design Using Java*, Dale Skrien, 2009  \n",
    "*An Introduction to Object-Oriented Programming*, Timothy Budd, 1991"
   ]
  }
 ],
 "metadata": {
  "celltoolbar": "Slideshow",
  "kernelspec": {
   "display_name": "Java",
   "language": "java",
   "name": "java"
  },
  "language_info": {
   "codemirror_mode": "text/x-java",
   "file_extension": ".java",
   "mimetype": "",
   "name": "Java",
   "nbconverter_exporter": "",
   "version": "1.8.0_151"
  }
 },
 "nbformat": 4,
 "nbformat_minor": 1
}
