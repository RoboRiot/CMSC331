{
 "cells": [
  {
   "cell_type": "markdown",
   "metadata": {
    "slideshow": {
     "slide_type": "slide"
    }
   },
   "source": [
    "# Final Review"
   ]
  },
  {
   "cell_type": "markdown",
   "metadata": {
    "slideshow": {
     "slide_type": "slide"
    }
   },
   "source": [
    "## Disclaimer:\n",
    "- Appearing on this page does not mean something will be on the test\n",
    "- Not appearing on this page does not mean something won't be on the test"
   ]
  },
  {
   "cell_type": "markdown",
   "metadata": {
    "slideshow": {
     "slide_type": "slide"
    }
   },
   "source": [
    "## Syntax\n",
    "- Backus-Naur Form\n",
    "    - Derivations\n",
    "    - Parse Trees\n",
    "- Ambiguity\n",
    "    - Precedence"
   ]
  },
  {
   "cell_type": "markdown",
   "metadata": {
    "slideshow": {
     "slide_type": "slide"
    }
   },
   "source": [
    "## Parse Tree Practice:\n",
    "<div stlye=\"width:100%\">\n",
    "<div style=\"float:left;width:50%\">\n",
    "<p>Given the following grammar: </p>\n",
    "<ul style=\"list-style-type:none\">\n",
    "<li>$< assign > \\to < id > = < expr > $ </li>\n",
    "<li>$< id > \\to A \\, | \\, B \\, | \\, C $ </li>\n",
    "<li>$< expr > \\to < expr > + < expr> $ </li>\n",
    "<li>$\\qquad \\qquad | < expr > * < expr> $ </li>\n",
    "<li>$\\qquad \\qquad | \\, ( < expr> ) $ </li>\n",
    "<li>$\\qquad \\qquad | < id > $ </li>\n",
    "</ul>\n",
    "</div>\n",
    "\n",
    "\n",
    "<div style=\"float:left;width:50%;\">\n",
    "<p>Derive and give the parse trees for:</p>\n",
    "<ul>\n",
    "<li>A = B * B</li>\n",
    "</ul>\n",
    "</div>\n",
    "</div>"
   ]
  },
  {
   "cell_type": "markdown",
   "metadata": {
    "slideshow": {
     "slide_type": "slide"
    }
   },
   "source": [
    "## Semantics\n",
    "- What is it\n",
    "- What are the three major proposed ways to describe it\n",
    "    - Operational Semantics\n",
    "    - Denotational Semantics\n",
    "    - Axiomatic Semantics\n"
   ]
  },
  {
   "cell_type": "markdown",
   "metadata": {
    "slideshow": {
     "slide_type": "slide"
    }
   },
   "source": [
    "## Lexical Analysis\n",
    "- The first step in parsing, how a compilier or interpreter segments the code\n",
    "- Uses Regular Expressions and Deterministic Finite State Machines\n",
    "    - They both describe the same thing\n",
    "    - Know how to read both"
   ]
  },
  {
   "cell_type": "markdown",
   "metadata": {
    "slideshow": {
     "slide_type": "slide"
    }
   },
   "source": [
    "## Regex Practice\n",
    "- Given the following regular expression:\n",
    "```\n",
    "x ( (xy) | (xz) )* z\n",
    "```\n",
    "- Are the following in or out of the langaue described\n",
    "    - xxzz\n",
    "    - xyxz\n",
    "    - xz\n",
    "    - xxyxzz"
   ]
  },
  {
   "cell_type": "markdown",
   "metadata": {
    "slideshow": {
     "slide_type": "slide"
    }
   },
   "source": [
    "## Parsing\n",
    "- Two stratagies\n",
    "    - Top Down\n",
    "        - What can't it handle\n",
    "        - Uses a predictive parse table when grammar is in right format\n",
    "    - Bottom Up\n",
    "        - Uses a parse table with goto"
   ]
  },
  {
   "cell_type": "markdown",
   "metadata": {
    "slideshow": {
     "slide_type": "slide"
    }
   },
   "source": [
    "## Imperative Languages\n",
    "- What are they?\n",
    "- Lua is the example we learned in this class\n",
    "    - Simple type system makes parsing and interpretation faster\n",
    "    - Only one data structure: table\n",
    "    - Functions can return multiple variables"
   ]
  },
  {
   "cell_type": "markdown",
   "metadata": {
    "slideshow": {
     "slide_type": "slide"
    }
   },
   "source": [
    "## Example Lua Code\n",
    "- Given a string of numbers separated by commas, find their average"
   ]
  },
  {
   "cell_type": "code",
   "execution_count": 15,
   "metadata": {
    "slideshow": {
     "slide_type": "slide"
    }
   },
   "outputs": [],
   "source": [
    "function avg(str)\n",
    "    total = 0\n",
    "    len = 0\n",
    "    for i in string.gmatch(str, \"%d+\") do\n",
    "      total = total + tonumber(i)\n",
    "      len = len + 1\n",
    "    end\n",
    "    return total/len\n",
    "end"
   ]
  },
  {
   "cell_type": "markdown",
   "metadata": {
    "slideshow": {
     "slide_type": "slide"
    }
   },
   "source": [
    "## Functional Languages\n",
    "- Functions don't have side effects\n",
    "    - Not 100% true in Scheme, but still a good guiding principle\n",
    "- Code and Data are the same\n",
    "    - Quoting indicates if an expression is code or data\n",
    "    - Eval will execute data as code\n"
   ]
  },
  {
   "cell_type": "markdown",
   "metadata": {
    "slideshow": {
     "slide_type": "slide"
    }
   },
   "source": [
    "## Common Functional Idioms\n",
    "- Apply a function to a list of parameters\n",
    "     - `(apply + '(1 2 3))`\n",
    "- Apply a function to every item in a list \n",
    "    - `(map - '(1 2 3))`\n",
    "- Car and Cdr\n",
    "- Recursion\n",
    "    - Benefits of Tail Recursion"
   ]
  },
  {
   "cell_type": "markdown",
   "metadata": {
    "slideshow": {
     "slide_type": "slide"
    }
   },
   "source": [
    "## Scheme Practice\n",
    "- Write a function that returns the volume of a right angle cylinder\n",
    "- The mathematical formula is given by V = π$r^2h$."
   ]
  },
  {
   "cell_type": "markdown",
   "metadata": {
    "slideshow": {
     "slide_type": "slide"
    }
   },
   "source": [
    "## Scheme Practice\n",
    "- What does the following code do?\n",
    "\n",
    "```scheme\n",
    "    (define secret\n",
    "      (lambda (l)\n",
    "        (append (list (cadr l)) (list (car l)) (cddr l))\n",
    "      )\n",
    "     )\n",
    "```"
   ]
  },
  {
   "cell_type": "markdown",
   "metadata": {
    "slideshow": {
     "slide_type": "slide"
    }
   },
   "source": [
    "## Recursion\n",
    "- Recursion is the standard way of processing a list\n",
    "\n",
    "```scheme\n",
    "    (define foo (lambda (x)\n",
    "        (\n",
    "            (doSomething (car x)) \n",
    "            (foo (cdr x))\n",
    "        \n",
    "        )\n",
    "    ) \n",
    "```"
   ]
  },
  {
   "cell_type": "markdown",
   "metadata": {
    "slideshow": {
     "slide_type": "slide"
    }
   },
   "source": [
    "## Scheme Practice\n",
    "- What does the following code do?\n",
    "\n",
    "```scheme\n",
    "(define element?\n",
    "  (lambda (a lst)\n",
    "  (and (not (null? lst))\n",
    "       (or (eq? a (car lst))\n",
    "\t   (element? a (cdr lst))))))\n",
    "\n",
    "(define mystery\n",
    "  (lambda (a b)\n",
    "  (if (null? a) \n",
    "    b\n",
    "    (mystery (cdr a)\n",
    "\t   (if (element? (car a) b)\n",
    "\t     b\n",
    "\t     (cons (car a) b))))))\n",
    "```"
   ]
  },
  {
   "cell_type": "markdown",
   "metadata": {
    "slideshow": {
     "slide_type": "slide"
    }
   },
   "source": [
    "## Object Oriented Languages\n",
    "- Object Oriented Languages display 3 main properties\n",
    "    - Polymorphism\n",
    "    - Inheritance\n",
    "    - Encapsulation\n",
    "- In this course we looked at Java\n",
    "    - Java is not purely object oriented\n",
    "        - int, float, char, bool, etc. are primitive types and not objects"
   ]
  },
  {
   "cell_type": "markdown",
   "metadata": {
    "slideshow": {
     "slide_type": "slide"
    }
   },
   "source": [
    "##  Java Examples\n",
    "\n",
    "What feature is the following code showing, and what is it meant as a compromise to?\n",
    "\n",
    "```java\n",
    "public interface Camera{\n",
    "   //functions here with no definition...\n",
    "   //ex:\n",
    "   //public void takePicture();\n",
    "}\n",
    "public interface MobilePhone{\n",
    "   //functions here with no definition...\n",
    "   //ex:\n",
    "   //public void makeCall();\n",
    "}\n",
    "public class CameraPhone implements Camera, MobilePhone{\n",
    "   //functions here...\n",
    "}\n",
    "```"
   ]
  },
  {
   "cell_type": "markdown",
   "metadata": {
    "slideshow": {
     "slide_type": "slide"
    }
   },
   "source": [
    "## Example Java Code\n",
    "- Given a string of numbers separated by commas, find their average"
   ]
  },
  {
   "cell_type": "markdown",
   "metadata": {
    "slideshow": {
     "slide_type": "slide"
    }
   },
   "source": [
    "## Java Examples\n",
    "\n",
    "What technique is being shown below and what is the output of main?\n",
    "```java\n",
    "class Point {\n",
    "   protected int x, y;\n",
    "   public Point() { this(0); }\n",
    "   public Point(int x0) { this(x0, 0); }\n",
    "   public Point(int x0, int y0) { x = x0; y = y0; }\n",
    "   public Point(Point p) { this(p.x, p.y); }\n",
    "   public int getX() { return x; }\n",
    "   public int getY() { return y; }\n",
    "   public int setX(int x0) { x = x0; }\n",
    "   public int setY(int y0) { y = y0; }\n",
    "   public void print() { System.out.println(\"Point\"); }\n",
    "}\n",
    "\n",
    "public class Circle extends Point {\n",
    "   private int r;\n",
    "   public Circle(Point p) { this(p, 0); }\n",
    "   public Circle(Point p, int r0) { super(p); r = r0; }\n",
    "   public Circle() { this(0); }\n",
    "   public Circle(int x0) { this(x0, 0); }\n",
    "   public Circle(int x0, int y0) { this(x0, y0, 0); }\n",
    "   public Circle(int x0, int y0, int r0) { super(x0, y0); r = r0; }\n",
    "   public Circle(Circle c) { this(c.x, c.y, c.r); }\n",
    "   public int getR() { return r; }\n",
    "   public int setR(int r0) { r = r0; }\n",
    "   public void print() { System.out.println(\"Circle\"); }\n",
    "\n",
    "   public static void main(String args[]) {\n",
    "      Point p = new Point();\n",
    "      Point c = new Circle();\n",
    "      p.print();\n",
    "      c.print();     \n",
    "   }\n",
    "}\n",
    "```"
   ]
  },
  {
   "cell_type": "markdown",
   "metadata": {
    "slideshow": {
     "slide_type": "slide"
    }
   },
   "source": [
    "## Java Examples\n",
    "\n",
    "Write a function that takes in an ArrayList or a LinkedList of any numeric type and returns the mean.\n"
   ]
  },
  {
   "cell_type": "markdown",
   "metadata": {
    "slideshow": {
     "slide_type": "slide"
    }
   },
   "source": [
    "## Programming for Mobile\n",
    "- Programming for mobile is not a different paradigm, but has many unique elements\n",
    "    - The execution of programs is more tightly controlled\n",
    "    - The access to resources is more tightly controlled\n",
    "    - Is more event-based that many desktop programs"
   ]
  },
  {
   "cell_type": "markdown",
   "metadata": {
    "slideshow": {
     "slide_type": "slide"
    }
   },
   "source": [
    "## Events in Android\n",
    "- As Android is based on Java, event handlers cannot simply be functions passed to a method\n",
    "    - Android gets around this by having an interface for each event type, which contains one to two methods that are the handlers\n",
    "    - An object that implements that event can then be passed to the event listener"
   ]
  },
  {
   "cell_type": "markdown",
   "metadata": {
    "slideshow": {
     "slide_type": "slide"
    }
   },
   "source": [
    "## Events in Android\n",
    "- Event listeners are attached in different ways in Android depending on the type of event\n",
    "    - UI Events are attached through a method on the UI Object\n",
    "    - Sensor Events are attached through a method of a SensorManager object\n",
    "    - Location events are attched using a CallBack"
   ]
  },
  {
   "cell_type": "markdown",
   "metadata": {
    "slideshow": {
     "slide_type": "slide"
    }
   },
   "source": [
    "## Android Example\n",
    "- What is the following code snippet doing?\n",
    "```java\n",
    "TextView tv = (TextView) findViewById(R.id.myText);\n",
    "Button b = (Button) findViewById(R.id.myButton);\n",
    "b.setOnClickListener(new View.OnClickListner(){\n",
    "            public void onClick(View view){\n",
    "                tv.setText(b.getText().toString());\n",
    "            }\n",
    "  });\n",
    "```"
   ]
  },
  {
   "cell_type": "markdown",
   "metadata": {
    "slideshow": {
     "slide_type": "slide"
    }
   },
   "source": [
    "## Intents\n",
    "- The other major aspect of Android we covered was intents\n",
    "- Intents are used to launch other activities, services, or send broadcasts\n",
    "- There are two types of intents, explicit and implicit"
   ]
  },
  {
   "cell_type": "markdown",
   "metadata": {
    "slideshow": {
     "slide_type": "slide"
    }
   },
   "source": [
    "## Android Example\n",
    "- What is the following code doing, what type of intent is it?\n",
    "```java\n",
    "Intent mysteryI = new Intent(this, CollectInformation.class);\n",
    "startActivityForResult(mysterI);\n",
    "```"
   ]
  },
  {
   "cell_type": "markdown",
   "metadata": {
    "slideshow": {
     "slide_type": "slide"
    }
   },
   "source": [
    "## Android Example\n",
    "- What is the following code doing, what type of intent is it?\n",
    "```java\n",
    "Intent mysteryI = new Intent(Intent.ACTION_CALL);\n",
    "mysteryI.setData(Uri.parse(\"tel:4104551000\"));\n",
    "```"
   ]
  },
  {
   "cell_type": "markdown",
   "metadata": {
    "slideshow": {
     "slide_type": "slide"
    }
   },
   "source": [
    "## Logic Programming\n",
    "- Logic programming was originally intended to prove thereoms\n",
    "- It is made up of facts and rules that can then be queried \n",
    "    - This uses logical inference\n",
    "- In Proglog, capitalization matters\n",
    "    - Captialized strings are variables\n",
    "    - Lower-cased strings are atoms"
   ]
  },
  {
   "cell_type": "markdown",
   "metadata": {
    "slideshow": {
     "slide_type": "slide"
    }
   },
   "source": [
    "## Prolog Practice\n",
    "- Write a prolog rule that describes the relationship uncle , where uncle is defined as either someones mother's brother, or someone's father's brother.\n",
    "    - Assume facts about mothers, fathers, and brothers"
   ]
  },
  {
   "cell_type": "markdown",
   "metadata": {
    "slideshow": {
     "slide_type": "slide"
    }
   },
   "source": [
    "## Prolog Practice\n",
    "- What are the following proglog rules possibly describing\n",
    "```prolog\n",
    "hmm([],0).\n",
    "hmm([_|T],N)  :-  hmm(T,X),  N  is  X+1. \n",
    "```"
   ]
  },
  {
   "cell_type": "markdown",
   "metadata": {
    "slideshow": {
     "slide_type": "slide"
    }
   },
   "source": [
    "## Comparing Languages: Syntax\n",
    "\n",
    "| Language | Statement Ender| Line Comment Character|\n",
    "|----------|----------------|------------------|\n",
    "| Lua      |   Whitespace   |  **--**            |\n",
    "| Java     |   **;** (Semicolon)|  **//**  |\n",
    "| Scheme   | **)** (Right Parentheses) |  **;** (Semicolon) |\n",
    "| Prolog   | **.** | **%**  |\n"
   ]
  },
  {
   "cell_type": "markdown",
   "metadata": {
    "slideshow": {
     "slide_type": "slide"
    }
   },
   "source": [
    "## Comparing Languages: Variables\n",
    "\n",
    "| Language | Variable Declaration | Default Scope|\n",
    "|----------|----------------|------------------|\n",
    "| Lua      |  ` varName = val`  |  Global            |\n",
    "| Java     | `type varName = val;` |  Package-Private  |\n",
    "| Scheme   | `(let ((varName val)) ...)` | N/A (Has to be define or let)|\n",
    "\n",
    "\n",
    "\n"
   ]
  },
  {
   "cell_type": "markdown",
   "metadata": {
    "slideshow": {
     "slide_type": "slide"
    }
   },
   "source": [
    "## Comparing Languages: Control Statements\n",
    "\n",
    "| Language | If | for-each|\n",
    "|----------|----------------|------------------|\n",
    "| Lua      |  `if condition then expression end`  |  `for key,value in pairs(table) do doSomething(table[key]) end`           |\n",
    "| Java     | `if(condition){ expression; }` |  `for( type t: Collection<type> c){ doSeomthing(t); }`  |\n",
    "| Scheme   | `(if (condition) (expression))` | `(map function list)`|\n"
   ]
  },
  {
   "cell_type": "markdown",
   "metadata": {
    "slideshow": {
     "slide_type": "slide"
    }
   },
   "source": [
    "## Comparing Languages: Functions\n",
    "\n",
    "| Language | Defining a Function | Calling a Function|\n",
    "|----------|----------------|------------------|\n",
    "| Lua      |  `function f(x) functionBody end`  |  `f(x)`           |\n",
    "| Java     | `returnType functionName(x) { }` |  `instance.functionName(x)`  |\n",
    "| Scheme   | `(define f (lambda (x) functionBody))` | `(f x)`|\n"
   ]
  },
  {
   "cell_type": "markdown",
   "metadata": {
    "slideshow": {
     "slide_type": "slide"
    }
   },
   "source": [
    "## Comparing Languages: Strings\n",
    "- This chart shows how to explicitly cast a string to a number, some of the langauges perform type coercion with out a cast\n",
    "\n",
    "| Language | String->Int | Print| String Concatentation|\n",
    "|----------|----------------|------------------|\n",
    "| Lua      |  `tonumber(str)`  |  `print(str)` | `..` |\n",
    "| Java     | `Integer.parseInt(str);` |  `System.out.println(str);`| ` + `|\n",
    "| Scheme   | `(string->number str)` | `(display str)`| `str-join` |\n"
   ]
  },
  {
   "cell_type": "markdown",
   "metadata": {
    "slideshow": {
     "slide_type": "slide"
    }
   },
   "source": [
    "## Comparing Languages: Arrays\n",
    "- In this chart we use array to mean a list of objects with numerical index\n",
    "\n",
    "| Language | Array Length| Index | Multidimensional Array|\n",
    "|----------|----------------|------------------|\n",
    "| Lua      |  `#array`  |  `array[i]` | `a = {} for i,k in pairs(a) do a[i] = {} ` |\n",
    "| Java     | `array.length` |  `array[i]`| `a = new type[len1][]`|\n",
    "| Scheme   | `(length list)` | `(list-ref list i)`| `(list (list ) ... (list ) )` |\n"
   ]
  },
  {
   "cell_type": "markdown",
   "metadata": {
    "slideshow": {
     "slide_type": "slide"
    }
   },
   "source": [
    "## References\n",
    "- Comparisons adapted from http://www.wikiwand.com/en/Comparison_of_programming_languages and linked pages\n",
    "- Some example programs taken from Rosetta Code"
   ]
  },
  {
   "cell_type": "markdown",
   "metadata": {
    "slideshow": {
     "slide_type": "slide"
    }
   },
   "source": [
    "# Thanks for a Great Semester!"
   ]
  }
 ],
 "metadata": {
  "celltoolbar": "Slideshow",
  "kernelspec": {
   "display_name": "Python 3",
   "language": "python",
   "name": "python3"
  },
  "language_info": {
   "codemirror_mode": {
    "name": "ipython",
    "version": 3
   },
   "file_extension": ".py",
   "mimetype": "text/x-python",
   "name": "python",
   "nbconvert_exporter": "python",
   "pygments_lexer": "ipython3",
   "version": "3.5.2"
  }
 },
 "nbformat": 4,
 "nbformat_minor": 1
}
