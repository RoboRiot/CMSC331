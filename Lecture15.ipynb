{
 "cells": [
  {
   "cell_type": "markdown",
   "metadata": {
    "slideshow": {
     "slide_type": "slide"
    }
   },
   "source": [
    "# Scheme IV "
   ]
  },
  {
   "cell_type": "markdown",
   "metadata": {
    "slideshow": {
     "slide_type": "slide"
    }
   },
   "source": [
    "## Warm Up\n",
    "- Write a function `count` that takes two parameters, a list and an s-expression, and returns how many times the s-expression occurs in the list. \n",
    "    - Use recursion"
   ]
  },
  {
   "cell_type": "code",
   "execution_count": null,
   "metadata": {},
   "outputs": [],
   "source": []
  },
  {
   "cell_type": "markdown",
   "metadata": {
    "slideshow": {
     "slide_type": "slide"
    }
   },
   "source": [
    "## Letrec\n",
    "- The scope of variables in a __let__ statement is the body of the statement\n",
    "- What if we want to define a function in a __let__ statement recursively?\n",
    "    - __letrec__ expands the scope slightly to include the value of the variable"
   ]
  },
  {
   "cell_type": "code",
   "execution_count": null,
   "metadata": {
    "slideshow": {
     "slide_type": "slide"
    }
   },
   "outputs": [],
   "source": [
    "(letrec (\n",
    "          (sum (lambda (ls)\n",
    "                (if (null? ls)\n",
    "                    0\n",
    "                    (+ (car ls) (sum (cdr ls)))\n",
    "                 )\n",
    "               )\n",
    "          )\n",
    "         )\n",
    "  (sum '(1 2 3 4 5))\n",
    ")"
   ]
  },
  {
   "cell_type": "markdown",
   "metadata": {
    "slideshow": {
     "slide_type": "slide"
    }
   },
   "source": [
    "## Let*\n",
    "- Another variation of let is `let*`\n",
    "    - This forces the evaluation of the variables in let in the order they are declared in\n",
    "- `let*` allows variables declared earlier in the let block to be used when declared further variables\n",
    "```scheme\n",
    "(let*\n",
    "      (\n",
    "       (var1 value1)\n",
    "       (var2 var1)\n",
    "      )\n",
    "      body\n",
    " )\n",
    "```"
   ]
  },
  {
   "cell_type": "code",
   "execution_count": null,
   "metadata": {
    "slideshow": {
     "slide_type": "slide"
    }
   },
   "outputs": [],
   "source": [
    "(let*\n",
    "    ( \n",
    "      (n 10)\n",
    "      (n_squared (* n n))\n",
    "    )\n",
    "   (display n_squared)\n",
    ")"
   ]
  },
  {
   "cell_type": "markdown",
   "metadata": {
    "slideshow": {
     "slide_type": "slide"
    }
   },
   "source": [
    "## Assignment\n",
    "- Assignment is possible in Scheme, but there usually isn't a need for it\n",
    "- __set!__ is used to update a variable"
   ]
  },
  {
   "cell_type": "code",
   "execution_count": null,
   "metadata": {},
   "outputs": [],
   "source": [
    "(define old+ +)\n",
    "(set! + -)\n",
    ";(display (+ 2 4))\n",
    ";(set! + old+)\n",
    ";(display (old+ 2 4))"
   ]
  },
  {
   "cell_type": "markdown",
   "metadata": {
    "slideshow": {
     "slide_type": "slide"
    }
   },
   "source": [
    "## Assignment Practice\n",
    "Rewrite the function below to not use __set!__"
   ]
  },
  {
   "cell_type": "code",
   "execution_count": null,
   "metadata": {},
   "outputs": [],
   "source": [
    "(define quadratic-formula\n",
    "  (lambda (a b c)\n",
    "    (let ((root1 0) (root2 0) (minusb 0) (radical 0) (divisor 0))\n",
    "      (set! minusb (- b))\n",
    "      (set! radical (sqrt (- (* b b) (* 4 (* a c)))))\n",
    "      (set! divisor (* 2 a))\n",
    "      (set! root1 (/ (+ minusb radical) divisor))\n",
    "      (set! root2 (/ (- minusb radical) divisor))\n",
    "      (cons root1 root2))))\n",
    "\n",
    "\n",
    "(display (quadratic-formula 1 100 3 ))"
   ]
  },
  {
   "cell_type": "code",
   "execution_count": null,
   "metadata": {},
   "outputs": [],
   "source": []
  },
  {
   "cell_type": "markdown",
   "metadata": {
    "slideshow": {
     "slide_type": "slide"
    }
   },
   "source": [
    "## Closures\n",
    "- Just like Lua, Scheme has closures\n",
    "- I think they are actually clearer in Scheme\n",
    "- General Layout:\n",
    "```scheme\n",
    "(define closureName (lambda ()\n",
    "    (let ((varToClose val))\n",
    "        (lambda ()\n",
    "            update varToClose\n",
    "        )\n",
    "    )\n",
    ")\n",
    "```"
   ]
  },
  {
   "cell_type": "code",
   "execution_count": null,
   "metadata": {
    "slideshow": {
     "slide_type": "slide"
    }
   },
   "outputs": [],
   "source": [
    "(define counter (lambda()\n",
    "  (let ((count 0))\n",
    "    (lambda ()\n",
    "      (set! count (+ count 1))\n",
    "      count\n",
    "    )\n",
    "    )\n",
    ")\n",
    ")"
   ]
  },
  {
   "cell_type": "code",
   "execution_count": null,
   "metadata": {},
   "outputs": [],
   "source": [
    "(define c1 (counter))\n",
    "(c1)"
   ]
  },
  {
   "cell_type": "code",
   "execution_count": null,
   "metadata": {},
   "outputs": [],
   "source": [
    "(c1)"
   ]
  },
  {
   "cell_type": "markdown",
   "metadata": {
    "slideshow": {
     "slide_type": "slide"
    }
   },
   "source": [
    "## Closure Practice\n",
    "- Write a closure that takes in a variable, and returns a function that takes another variable \n",
    "    - This function will return greeting + name.\n",
    "    - (define hi (closure \"hello\"))\n",
    "    - (hi \" world\") results in \"hello world\""
   ]
  },
  {
   "cell_type": "code",
   "execution_count": null,
   "metadata": {},
   "outputs": [],
   "source": []
  },
  {
   "cell_type": "markdown",
   "metadata": {
    "slideshow": {
     "slide_type": "slide"
    }
   },
   "source": [
    "## Apply\n",
    "Previously to pass a list as the parameters to a function I used this trick\n",
    "```scheme\n",
    "(eval (append `(+) x) )\n",
    "```\n",
    "\n",
    "This is a common need, so there is a function than handles this, __apply__\n",
    "\n",
    "The general syntax is\n",
    "\n",
    "```scheme\n",
    "(apply function list)\n",
    "```\n"
   ]
  },
  {
   "cell_type": "code",
   "execution_count": null,
   "metadata": {
    "slideshow": {
     "slide_type": "slide"
    }
   },
   "outputs": [],
   "source": [
    "(apply + `(1 2 3 4 5)); (+ 1 2 3 4 5)"
   ]
  },
  {
   "cell_type": "code",
   "execution_count": null,
   "metadata": {},
   "outputs": [],
   "source": [
    "(apply * `(1 2 3 4 5)) ; (* 1 2 3 4 5)"
   ]
  },
  {
   "cell_type": "code",
   "execution_count": null,
   "metadata": {},
   "outputs": [],
   "source": [
    "(apply string-append `(\"This\" \"is\" \"one\"))"
   ]
  },
  {
   "cell_type": "markdown",
   "metadata": {
    "slideshow": {
     "slide_type": "slide"
    }
   },
   "source": [
    "## Apply Practice\n",
    "\n",
    "- Write a function to find the average of a list of numbers\n"
   ]
  },
  {
   "cell_type": "code",
   "execution_count": null,
   "metadata": {},
   "outputs": [],
   "source": []
  },
  {
   "cell_type": "markdown",
   "metadata": {
    "slideshow": {
     "slide_type": "slide"
    }
   },
   "source": [
    "## Map\n",
    "- What if instead of passing a list as parameters, we wanted to apply a function to each element in the list?\n",
    "\n",
    "    - __map__ allows us to do this, returning a list of values from applying the function to each element\n",
    "\n",
    "- The geneneral syntax of map is \n",
    "\n",
    "```scheme\n",
    "(map function list1 list2 ... listn)\n",
    "```"
   ]
  },
  {
   "cell_type": "code",
   "execution_count": null,
   "metadata": {
    "slideshow": {
     "slide_type": "slide"
    }
   },
   "outputs": [],
   "source": [
    "(map abs '(1 2 -3 -4 -5))"
   ]
  },
  {
   "cell_type": "code",
   "execution_count": null,
   "metadata": {},
   "outputs": [],
   "source": [
    "(map + '(4 10 7) '(3 2 1) `(1 1 1))"
   ]
  },
  {
   "cell_type": "code",
   "execution_count": null,
   "metadata": {},
   "outputs": [],
   "source": [
    "(map (lambda(x) (* x x)) `(1 2 3 4 5))"
   ]
  },
  {
   "cell_type": "markdown",
   "metadata": {
    "slideshow": {
     "slide_type": "slide"
    }
   },
   "source": [
    "## Map Practice\n",
    "\n",
    "- Use a combination of map and apply to concatenate a list of strings seperated by a given character\n",
    "    - Hint: string-append will put two strings together\n",
    "\n"
   ]
  },
  {
   "cell_type": "code",
   "execution_count": null,
   "metadata": {
    "slideshow": {
     "slide_type": "slide"
    }
   },
   "outputs": [],
   "source": []
  },
  {
   "cell_type": "markdown",
   "metadata": {
    "slideshow": {
     "slide_type": "slide"
    }
   },
   "source": [
    "## Filtering\n",
    "\n",
    "- Filter is like a special type of map. \n",
    "    - Filter is passed a predicate and a list\n",
    "    - Given a list, returns the elements of that list that the predicate evaluates for true for\n",
    "- General syntax is\n",
    "```scheme\n",
    "(filter predicate list)\n",
    "```"
   ]
  },
  {
   "cell_type": "code",
   "execution_count": null,
   "metadata": {
    "slideshow": {
     "slide_type": "slide"
    }
   },
   "outputs": [],
   "source": [
    "(filter odd? `(1 2 3 4))"
   ]
  },
  {
   "cell_type": "code",
   "execution_count": null,
   "metadata": {},
   "outputs": [],
   "source": [
    "(filter (lambda (x) \n",
    "          (string=? (substring x 0 1) \"A\")) \n",
    "        `(\"Alamo\" \"alaska\" \"Baltimore\"\n",
    "                  \"Austin\" \"boston\" \"Alabama\"))"
   ]
  },
  {
   "cell_type": "markdown",
   "metadata": {
    "slideshow": {
     "slide_type": "slide"
    }
   },
   "source": [
    "## Filter Practice\n",
    "- Write a function that checks if all elements in a list are positive\n"
   ]
  },
  {
   "cell_type": "code",
   "execution_count": null,
   "metadata": {
    "slideshow": {
     "slide_type": "slide"
    }
   },
   "outputs": [],
   "source": []
  },
  {
   "cell_type": "markdown",
   "metadata": {
    "slideshow": {
     "slide_type": "slide"
    }
   },
   "source": [
    "## Folding\n",
    "- Folding, also known as reducing, is a common operation in functional languages\n",
    "- The goal of folding is to take in a list, and reduce it, using some operation, to a single atom\n",
    "    - This is actually recursively going over the list provided to it\n",
    "- Most scheme implementations offer two folds\n",
    "    - fold-left (foldl on GL)\n",
    "    - fold-right (foldr on GL)\n",
    "```scheme\n",
    "(fold-left FUNCTION INIT LIST)\n",
    "```"
   ]
  },
  {
   "cell_type": "code",
   "execution_count": null,
   "metadata": {
    "slideshow": {
     "slide_type": "slide"
    }
   },
   "outputs": [],
   "source": [
    "(fold-left string-append \"\" `(\"A\" \"B\" \"C\"))"
   ]
  },
  {
   "cell_type": "code",
   "execution_count": null,
   "metadata": {},
   "outputs": [],
   "source": [
    "(fold-left / 1 `( 1 2 3 4))"
   ]
  },
  {
   "cell_type": "code",
   "execution_count": null,
   "metadata": {},
   "outputs": [],
   "source": [
    "(fold-right string-append \"\" `(\"A\" \"B\" \"C\"))"
   ]
  },
  {
   "cell_type": "code",
   "execution_count": null,
   "metadata": {},
   "outputs": [],
   "source": [
    "(fold-right / 1 `( 1 2 3 4))"
   ]
  },
  {
   "cell_type": "markdown",
   "metadata": {
    "slideshow": {
     "slide_type": "slide"
    }
   },
   "source": [
    "## Input\n",
    "- A file is opened for reading with __(open-input-file filename)__, which returns a handle (called a port in Scheme) to the file\n",
    "- To read a file use __(read handle)__\n",
    "    - Reads one datum at a time, essentially one thing that could be an atom\n",
    "- Reading is also done recusivley"
   ]
  },
  {
   "cell_type": "code",
   "execution_count": null,
   "metadata": {
    "slideshow": {
     "slide_type": "slide"
    }
   },
   "outputs": [],
   "source": [
    "(define file (open-input-file \n",
    "              \"/home/bryan/CMSC331/turing.txt\"))\n",
    "(define readFile\n",
    "  (lambda (p)\n",
    "    (let f ((x (read p)))\n",
    "      (if (eof-object? x)\n",
    "          '()\n",
    "          (cons x (f (read p)))))))\n",
    "\n",
    "(readFile file)"
   ]
  },
  {
   "cell_type": "code",
   "execution_count": null,
   "metadata": {
    "slideshow": {
     "slide_type": "slide"
    }
   },
   "outputs": [],
   "source": [
    "(define file (open-input-file \n",
    "              \"/home/bryan/CMSC331/turing.txt\"))\n",
    "(define readFile\n",
    "  (lambda (p)\n",
    "    (let f ((x (read-line p)))\n",
    "      (if (eof-object? x)\n",
    "          '()\n",
    "          (cons x (f (read-line p)))))))\n",
    "\n",
    "(readFile file)"
   ]
  },
  {
   "cell_type": "markdown",
   "metadata": {
    "slideshow": {
     "slide_type": "slide"
    }
   },
   "source": [
    "## Output\n",
    "- A file is opened for writing with __(open-output-file filename)__, which returns a handle\n",
    "    - If the file exists, it returns an error, rather than overwriting it\n",
    "- To write to a file use __(write object handle)__\n",
    "- Writing to a file isn't quite as messy\n",
    "- Formatted output (ie printf) isn't part of the language, many dialects implement some form of it"
   ]
  },
  {
   "cell_type": "code",
   "execution_count": null,
   "metadata": {
    "slideshow": {
     "slide_type": "slide"
    }
   },
   "outputs": [],
   "source": [
    "(define file (open-output-file \n",
    "              \"/home/bryan/CMSC331/schemeOut.txt\"))\n",
    "(write `(\"A\" \"small\" \"little\" \"text\" \"file\") file)\n",
    "(flush-output file)"
   ]
  },
  {
   "cell_type": "code",
   "execution_count": null,
   "metadata": {},
   "outputs": [],
   "source": [
    "(define file (open-output-file\n",
    "              \"/home/bryan/CMSC331/schemeOut2.txt\"))\n",
    "(map (lambda (x) (write x file)) \n",
    "     `(\"A\" \"small\" \"little\" \"text\" \"file\"))\n",
    "(flush-output file)"
   ]
  },
  {
   "cell_type": "code",
   "execution_count": null,
   "metadata": {},
   "outputs": [],
   "source": [
    "(define file (open-output-file \n",
    "              \"/home/bryan/CMSC331/schemeOut3.txt\"))\n",
    "(map (lambda (x) (display x file)) \n",
    "     `(\"A\" \"small\" \"little\" \"text\" \"file\"))\n",
    "(flush-output file)"
   ]
  },
  {
   "cell_type": "markdown",
   "metadata": {
    "slideshow": {
     "slide_type": "slide"
    }
   },
   "source": [
    "## Sorting\n",
    "- Like the other languages we have looked at, Scheme _usually_ provides a built in sort\n",
    " - It is not part of the official language, but is very commmon in the different dialects\n",
    " - Beacuse of this however, there is no standard syntax for it\n",
    "- The Scheme installed in GL uses the following syntax:\n",
    "```scheme\n",
    "(sort listToBeSorted sortFunction) \n",
    "```"
   ]
  },
  {
   "cell_type": "code",
   "execution_count": null,
   "metadata": {
    "slideshow": {
     "slide_type": "slide"
    }
   },
   "outputs": [],
   "source": [
    "(sort `(2 48 1 0 -1 100) <)"
   ]
  },
  {
   "cell_type": "code",
   "execution_count": null,
   "metadata": {},
   "outputs": [],
   "source": [
    "(sort `((1 3 4) (2 49 0) (0 1 2)) \n",
    "      (lambda (x y) (< (cadr x) (cadr y))))"
   ]
  },
  {
   "cell_type": "markdown",
   "metadata": {
    "slideshow": {
     "slide_type": "slide"
    }
   },
   "source": [
    "## Scheme Example Application\n",
    "- From http://exercism.io/exercises/lua/matrix/readme\n",
    "- Write a function to convert a string representation of a matrix into an list\n",
    "- Write functions that take a list and \n",
    "    - Return a given row\n",
    "    - Return a given column\n",
    "    - Return the shape of the matrix\n",
    "    - Printing the matrix as a string (if time permits, solution will be posted either way)\n"
   ]
  }
 ],
 "metadata": {
  "celltoolbar": "Slideshow",
  "kernelspec": {
   "display_name": "MIT Scheme",
   "language": "scheme",
   "name": "mit-scheme"
  },
  "language_info": {
   "codemirror_mode": "scheme",
   "file_extension": ".scm",
   "mimetype": "application/x-scheme",
   "name": "MIT Scheme",
   "pygments_lexer": "scheme",
   "version": "9.2.1"
  }
 },
 "nbformat": 4,
 "nbformat_minor": 1
}
