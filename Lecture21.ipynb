{
 "cells": [
  {
   "cell_type": "markdown",
   "metadata": {
    "slideshow": {
     "slide_type": "slide"
    }
   },
   "source": [
    "# Programming for Mobile I"
   ]
  },
  {
   "cell_type": "markdown",
   "metadata": {
    "slideshow": {
     "slide_type": "slide"
    }
   },
   "source": [
    "## Why Look at Mobile Programming in This Course?\n",
    "- A great example of a rapidly changing area\n",
    "- To get exposure to programming with more hardware constraints (although this is quickly changing as well)\n",
    "- It is another example of event-based programming"
   ]
  },
  {
   "cell_type": "markdown",
   "metadata": {
    "slideshow": {
     "slide_type": "slide"
    }
   },
   "source": [
    "## The Current State of Programming for Mobile\n",
    "- iOS\n",
    "    - Programming was primarily in Objective-C until 2014\n",
    "    - Apple introduced its own language to replace Objective-C called Swift in 2014\n",
    "- Android\n",
    "    - Programming is primarily done in Java\\*\n",
    "    - What we will look at in this course\n",
    "- Everything else\n",
    "    - Windows - C#, C++ and related langauges\n",
    "    - Blackberry - C, C++ traditionally, have released one Android phone so far..."
   ]
  },
  {
   "cell_type": "markdown",
   "metadata": {
    "slideshow": {
     "slide_type": "slide"
    }
   },
   "source": [
    "## Android\n",
    "- Android is an open source operating system whose development is shepareded by Google\n",
    "- The core of the operating system is based on Linux (C and C++)\n",
    "- The primary language for development is Java\n",
    " - Android also allows code to be written in other languages, and while it is theoretically possible to write an entire application in another language, the intent is to write at least the GUI code in Java"
   ]
  },
  {
   "cell_type": "markdown",
   "metadata": {
    "slideshow": {
     "slide_type": "slide"
    }
   },
   "source": [
    "## Resources\n",
    "\n",
    "- A general guide and walkthrough of developing for Android can be found at http://developer.android.com/guide/index.html\n",
    "- The detailed API documentation is available at http://developer.android.com/reference/packages.html\n",
    "- Note: Many Examples will be given in class through demonstrations not available in the slides\n"
   ]
  },
  {
   "cell_type": "markdown",
   "metadata": {
    "slideshow": {
     "slide_type": "slide"
    }
   },
   "source": [
    "## Java on Android\n",
    "- While programming for Android uses Java, and its syntax, there are some notable differences\n",
    "- The byte code generated during compilation is different\n",
    "    - The Dalvik byte code has different instructions then standard Java byte code\n",
    "    - The architecture of the virtual hardware in the virtual machine is different\n",
    "- In the most recent Android versions, the byte code is compiled to phone-dependent native code upon installation "
   ]
  },
  {
   "cell_type": "markdown",
   "metadata": {
    "slideshow": {
     "slide_type": "slide"
    }
   },
   "source": [
    "## Developing for Android\n",
    "- The Google sanctioned enviroment for creating Android applications is [Android Studio](http://developer.android.com/sdk/index.html)\n",
    "    - Free\n",
    "    - Based on the IntelliJ IDE\n",
    "    - Includes Android Emulators\n",
    "- Generates the file structure of an application for you"
   ]
  },
  {
   "cell_type": "markdown",
   "metadata": {
    "slideshow": {
     "slide_type": "slide"
    }
   },
   "source": [
    "## Android Program Basics\n",
    "- The GUI is defined in an XML file\n",
    "- The Java Code is used to define how interactions happen and the logic of the program\n",
    "- Sound Familiar?\n",
    "    - Why use XML?\n"
   ]
  },
  {
   "cell_type": "markdown",
   "metadata": {
    "slideshow": {
     "slide_type": "slide"
    }
   },
   "source": [
    "## Android App Layout\n",
    "- Can be created through drag and drop in Android Studio or by coding the XML\n",
    "- We will be focusing on the XML today\n",
    "- A single screen the user sees is called an __Activity__ in Android\n"
   ]
  },
  {
   "cell_type": "markdown",
   "metadata": {
    "slideshow": {
     "slide_type": "slide"
    }
   },
   "source": [
    "## Layout\n",
    "- In the simplest android applications, the top level element in the XML will be a Layout tag\n",
    "    - In addition to grouping the widgets on the screen together, the Layout tag tells the application how the widget should be laid out\n",
    "- Main Layouts\n",
    "    - LinearLayout\n",
    "    - RelativeLayout\n",
    "    - GridLayout"
   ]
  },
  {
   "cell_type": "markdown",
   "metadata": {
    "slideshow": {
     "slide_type": "slide"
    }
   },
   "source": [
    "## ID Attribute Syntax\n",
    "- Android uses special syntax in the attributes of elements to save typing\n",
    "- One of the attributes that uses some shortcuts is android:id\n",
    "    - Internally the ID is a number, so by prefixing it with an __@__ sign, we letting the XML parser know this is a string placeholder that needs to essentially be dereferenced\n",
    "    - To declare a new id, place the __+__ after the __@__ sybol\n",
    "    - When referencing, don't use the __+__\n",
    "    \n",
    "```xml\n",
    "<TextView android:id=\"@+id/anID\" />\n",
    "<TextView android:layout_below=\"@id/anID\" />\n",
    "```"
   ]
  },
  {
   "cell_type": "markdown",
   "metadata": {
    "slideshow": {
     "slide_type": "slide"
    }
   },
   "source": [
    "## Buttons \n",
    "- There are two main types of buttons in Android\n",
    "    - Button which is used for text buttons and text and image combination buttons\n",
    "    - ImageButton which is used for a button consisting of only an image\n",
    "    - The button's main event is __onclick__\n",
    "- For an image button, the __src__ attribute indicates where in the projects _res_ folder the image is found\n",
    "\n",
    "```xml\n",
    "            <Button\n",
    "                android:text=\"New Button\"\n",
    "                android:id=\"@+id/button\"/>\n",
    "```\n",
    "\n",
    "\n",
    "```xml\n",
    "            <ImageButton\n",
    "                android:src=\"@drawable/IMAGE\"\n",
    "            />\n",
    "```"
   ]
  },
  {
   "cell_type": "markdown",
   "metadata": {
    "slideshow": {
     "slide_type": "slide"
    }
   },
   "source": [
    "## EditText\n",
    "- The __EditText__ element is used for all types of text input\n",
    "- The specific type of input is set with the __android:inputType__ attribute\n",
    "- Specifying the type of input is perhaps more important on mobile than the web\n",
    "    - The user does not have a full keyboard available\n",
    "    - The input type will help indicate the default type of keyboard for that input\n",
    "- By default, there are no events for EditText, but you can add a button to be displayed when the text field is opened"
   ]
  },
  {
   "cell_type": "markdown",
   "metadata": {
    "slideshow": {
     "slide_type": "slide"
    }
   },
   "source": [
    "## CheckBox\n",
    "- CheckBox is used to creat a checkbox\n",
    "- A user can select any number of checkboxes\n",
    "    - In Android they are not formally grouped because of this\n",
    "- Each checkbox specifies an __onClick__ handler, but multiple checkboxes can use the same one\n",
    "    \n",
    "```xml\n",
    "    <CheckBox\n",
    "        android:text=\"Checkbox Text\"\n",
    "    />\n",
    "    ```"
   ]
  },
  {
   "cell_type": "markdown",
   "metadata": {
    "slideshow": {
     "slide_type": "slide"
    }
   },
   "source": [
    "## RadioButton\n",
    "- Radio buttons represent a question where once choice may be selected\n",
    "- Because multiple radio buttons represent a choice for the same question, they are grouped together in a __RadioGroup__\n",
    "- The element that holds the radio button itself is __RadioButton__\n",
    "- Just like __CheckBox__ each radio button has its own __onClick__ attribute\n",
    "\n",
    "```xml\n",
    "<RadioGroup>\n",
    "    <RadioButton android:text=\"Radio Button 1\"/>\n",
    "    <RadioButton android:text=\"Radio Button 2\"/>\n",
    "</RadioGroup>\n",
    "```"
   ]
  },
  {
   "cell_type": "markdown",
   "metadata": {
    "slideshow": {
     "slide_type": "slide"
    }
   },
   "source": [
    "## ToggleButton / Switch\n",
    "- __ToggleButton__ ans __Switch__ both represent something that can be on or off\n",
    "- A __ToggleButton__ looks like a regular button, but can either be depressed(on) or not depressed(off)\n",
    "- In Android 4, __Switch__ was introduced, which uses a slider to show both options at once, and which is currently selected\n",
    "\n",
    "```xml\n",
    "<ToggleButton\n",
    "    android:textOff=\"OFF\"\n",
    "    android:textOn=\"ON\" />\n",
    "    \n",
    "<Switch \n",
    "    android:text=\"Switch Label\" />\n",
    "```"
   ]
  }
 ],
 "metadata": {
  "celltoolbar": "Slideshow",
  "kernelspec": {
   "display_name": "Python 2",
   "language": "python",
   "name": "python2"
  },
  "language_info": {
   "codemirror_mode": {
    "name": "ipython",
    "version": 2
   },
   "file_extension": ".py",
   "mimetype": "text/x-python",
   "name": "python",
   "nbconvert_exporter": "python",
   "pygments_lexer": "ipython2",
   "version": "2.7.6"
  }
 },
 "nbformat": 4,
 "nbformat_minor": 0
}
