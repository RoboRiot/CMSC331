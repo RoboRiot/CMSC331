{
 "cells": [
  {
   "cell_type": "markdown",
   "metadata": {
    "slideshow": {
     "slide_type": "slide"
    }
   },
   "source": [
    "# Programming for Mobile I"
   ]
  },
  {
   "cell_type": "markdown",
   "metadata": {
    "slideshow": {
     "slide_type": "slide"
    }
   },
   "source": [
    "## Why Look at Mobile Programming in This Course?\n",
    "- A great example of a rapidly changing area\n",
    "- To get exposure to programming with more hardware constraints (although this is quickly changing as well)\n",
    "- It is an example of event-based programming"
   ]
  },
  {
   "cell_type": "markdown",
   "metadata": {
    "slideshow": {
     "slide_type": "slide"
    }
   },
   "source": [
    "## Event Based Programming\n",
    "- So far the programming we have been doing has focused on a set of instructions to be executed roughly in sequence\n",
    "- Instead of providing the order to execution when programming, we can define handlers that will be executed in response to a specific event\n",
    "- Events are sent from a dispatcher\n",
    "    - In the case of web programming, the dispatcher is the web browser\n",
    "    - In the case of mobile programming, the dispatcher is part of the mobile OS\n",
    "    - The dispatcher could be hardware based too, like a sensor ( see NodeBots ) \n",
    "- The alternative to using events would be to program an instruction to check the status of something through out your code\n"
   ]
  },
  {
   "cell_type": "markdown",
   "metadata": {
    "slideshow": {
     "slide_type": "slide"
    }
   },
   "source": [
    "## The Current State of Programming for Mobile\n",
    "- iOS\n",
    "    - Programming was primarily in Objective-C until 2014\n",
    "    - Apple introduced its own language to replace Objective-C called Swift in 2014\n",
    "- Android\n",
    "    - Programming is primarily done in Java\\*\n",
    "        - [Kotlin](https://fabiomsr.github.io/from-java-to-kotlin/)\n",
    "        - [Dart](https://hackernoon.com/why-i-moved-from-java-to-dart-8f3802b1d652)\n",
    "    - What we will look at in this course\n",
    "- Everything else\n",
    "    - Windows - C#, C++ and related langauges\n",
    "    - Blackberry - C, C++ traditionally, have released a few Android phones so far..."
   ]
  },
  {
   "cell_type": "markdown",
   "metadata": {
    "slideshow": {
     "slide_type": "slide"
    }
   },
   "source": [
    "## Android\n",
    "- Android is an open source operating system whose development is shepareded by Google\n",
    "- The core of the operating system is based on Linux (C and C++)\n",
    "- The primary language for development is Java\n",
    " - Android also allows code to be written in other languages, and while it is theoretically possible to write an entire application in another language, the intent is to write at least the GUI code in Java"
   ]
  },
  {
   "cell_type": "markdown",
   "metadata": {
    "slideshow": {
     "slide_type": "slide"
    }
   },
   "source": [
    "## Resources\n",
    "\n",
    "- A general guide and walkthrough of developing for Android can be found at http://developer.android.com/guide/index.html\n",
    "- The detailed API documentation is available at http://developer.android.com/reference/packages.html\n",
    "- Note: Many Examples will be given in class through demonstrations not available in the slides\n"
   ]
  },
  {
   "cell_type": "markdown",
   "metadata": {
    "slideshow": {
     "slide_type": "slide"
    }
   },
   "source": [
    "## Java on Android\n",
    "- While programming for Android uses Java, and its syntax, there are some notable differences\n",
    "- The byte code generated during compilation is different\n",
    "    - The Dalvik byte code has different instructions then standard Java byte code\n",
    "    - The architecture of the virtual hardware in the virtual machine is different\n",
    "- In the most recent Android versions, the byte code is compiled to phone-dependent native code upon installation \n",
    "    - Known as [Android runtime (ART)](https://source.android.com/devices/tech/dalvik/)"
   ]
  },
  {
   "cell_type": "markdown",
   "metadata": {
    "slideshow": {
     "slide_type": "slide"
    }
   },
   "source": [
    "## Developing for Android\n",
    "- The Google sanctioned enviroment for creating Android applications is [Android Studio](http://developer.android.com/sdk/index.html)\n",
    "    - Free\n",
    "    - Based on the IntelliJ IDE\n",
    "    - Includes Android Emulators\n",
    "- Generates the file structure of an application for you"
   ]
  },
  {
   "cell_type": "markdown",
   "metadata": {
    "slideshow": {
     "slide_type": "slide"
    }
   },
   "source": [
    "## Android Program Basics\n",
    "- The GUI is defined in an XML file\n",
    "- The Java Code is used to define how interactions happen and the logic of the program\n",
    "- Is this similar to any other setup?\n",
    "    - Why use XML?\n"
   ]
  },
  {
   "cell_type": "markdown",
   "metadata": {
    "slideshow": {
     "slide_type": "slide"
    }
   },
   "source": [
    "## Android App Layout\n",
    "- Can be created through drag and drop in Android Studio or by coding the XML\n",
    "- We will be focusing on the XML today\n",
    "- A single screen the user sees is called an __Activity__ in Android\n"
   ]
  },
  {
   "cell_type": "markdown",
   "metadata": {
    "slideshow": {
     "slide_type": "slide"
    }
   },
   "source": [
    "## Layout\n",
    "- In the simplest android applications, the top level element in the XML will be a Layout tag\n",
    "    - In addition to grouping the widgets on the screen together, the Layout tag tells the application how the widget should be laid out\n",
    "- Main Layouts\n",
    "    - LinearLayout\n",
    "    - RelativeLayout\n",
    "    - GridLayout"
   ]
  },
  {
   "cell_type": "markdown",
   "metadata": {
    "slideshow": {
     "slide_type": "slide"
    }
   },
   "source": [
    "## ID Attribute Syntax\n",
    "- Android uses special syntax in the attributes of elements to save typing\n",
    "- One of the attributes that uses some shortcuts is android:id\n",
    "    - Internally the ID is a number, so by prefixing it with an __@__ sign, we letting the XML parser know this is a string placeholder that needs to essentially be dereferenced\n",
    "    - To declare a new id, place the __+__ after the __@__ sybol\n",
    "    - When referencing, don't use the __+__\n",
    "    \n",
    "```xml\n",
    "<TextView android:id=\"@+id/anID\" />\n",
    "<TextView android:layout_below=\"@id/anID\" />\n",
    "```"
   ]
  },
  {
   "cell_type": "markdown",
   "metadata": {
    "slideshow": {
     "slide_type": "slide"
    }
   },
   "source": [
    "## Buttons \n",
    "- There are two main types of buttons in Android\n",
    "    - Button which is used for text buttons and text and image combination buttons\n",
    "    - ImageButton which is used for a button consisting of only an image\n",
    "    - The button's main event is __onclick__\n",
    "- For an image button, the __src__ attribute indicates where in the projects _res_ folder the image is found\n",
    "\n",
    "```xml\n",
    "            <Button\n",
    "                android:text=\"New Button\"\n",
    "                android:id=\"@+id/button\"/>\n",
    "```\n",
    "\n",
    "\n",
    "```xml\n",
    "            <ImageButton\n",
    "                android:src=\"@drawable/IMAGE\"\n",
    "            />\n",
    "```"
   ]
  },
  {
   "cell_type": "markdown",
   "metadata": {
    "slideshow": {
     "slide_type": "slide"
    }
   },
   "source": [
    "## EditText\n",
    "- The __EditText__ element is used for all types of text input\n",
    "- The specific type of input is set with the __android:inputType__ attribute\n",
    "- Specifying the type of input is perhaps more important on mobile than the web\n",
    "    - The user does not have a full keyboard available\n",
    "    - The input type will help indicate the default type of keyboard for that input\n",
    "- By default, there are no events for EditText, but you can add a button to be displayed when the text field is opened"
   ]
  },
  {
   "cell_type": "markdown",
   "metadata": {
    "slideshow": {
     "slide_type": "slide"
    }
   },
   "source": [
    "## Common inputTypes for EditText\n",
    "- Android comes with [many many different](https://developer.android.com/reference/android/widget/TextView.html#attr_android:inputType) inputTypes\n",
    "- Common ones:\n",
    "    - text - Plain text\n",
    "    - textAutoCorrect- Text that autocorrects\n",
    "    - textPostalAddress - A postal address\n",
    "    - phone - A phone number\n",
    "    - number - Any number"
   ]
  },
  {
   "cell_type": "markdown",
   "metadata": {
    "slideshow": {
     "slide_type": "slide"
    }
   },
   "source": [
    "## CheckBox\n",
    "- CheckBox is used to creat a checkbox\n",
    "- A user can select any number of checkboxes\n",
    "    - In Android they are not formally grouped because of this\n",
    "- Each checkbox specifies an __onClick__ handler, but multiple checkboxes can use the same one\n",
    "    \n",
    "```xml\n",
    "    <CheckBox\n",
    "        android:text=\"Checkbox Text\"\n",
    "    />\n",
    "    ```"
   ]
  },
  {
   "cell_type": "markdown",
   "metadata": {
    "slideshow": {
     "slide_type": "slide"
    }
   },
   "source": [
    "## RadioButton\n",
    "- Radio buttons represent a question where once choice may be selected\n",
    "- Because multiple radio buttons represent a choice for the same question, they are grouped together in a __RadioGroup__\n",
    "- The element that holds the radio button itself is __RadioButton__\n",
    "- Just like __CheckBox__ each radio button has its own __onClick__ attribute\n",
    "\n",
    "```xml\n",
    "<RadioGroup>\n",
    "    <RadioButton android:text=\"Radio Button 1\"/>\n",
    "    <RadioButton android:text=\"Radio Button 2\"/>\n",
    "</RadioGroup>\n",
    "```"
   ]
  },
  {
   "cell_type": "markdown",
   "metadata": {
    "slideshow": {
     "slide_type": "slide"
    }
   },
   "source": [
    "## ToggleButton / Switch\n",
    "- __ToggleButton__ ans __Switch__ both represent something that can be on or off\n",
    "- A __ToggleButton__ looks like a regular button, but can either be depressed(on) or not depressed(off)\n",
    "- In Android 4, __Switch__ was introduced, which uses a slider to show both options at once, and which is currently selected\n",
    "\n",
    "```xml\n",
    "<ToggleButton\n",
    "    android:textOff=\"OFF\"\n",
    "    android:textOn=\"ON\" />\n",
    "    \n",
    "<Switch \n",
    "    android:text=\"Switch Label\" />\n",
    "```"
   ]
  },
  {
   "cell_type": "markdown",
   "metadata": {
    "slideshow": {
     "slide_type": "slide"
    }
   },
   "source": [
    "## Spinner (Dropdown)\n",
    "- A __Spinner__ is the Android term for a dropdown interface, like select in HTML\n",
    "- The Android documentation recomends if you have more choices than can fit on a screen horizonitally, to use a __Spinner__ rather than a __CheckBox__\n",
    "- The entries for a __Spinner__ are defined either programatically or through a seperate XML file with the choices\n",
    "```xml\n",
    "<Spinner\n",
    "  android:entries=\"@array/ChoicesFromFile\" />\n",
    "```"
   ]
  },
  {
   "cell_type": "markdown",
   "metadata": {
    "slideshow": {
     "slide_type": "slide"
    }
   },
   "source": [
    "## Images\n",
    "- To display an image, the XML is almost idenctical to an __ImageButton__\n",
    "- The element is named __ImageView__\n",
    "- Once again, the location of the image it defined by the __android:src__ attribute\n",
    "\n",
    "```xml\n",
    "    <ImageView\n",
    "        android:src=\"@drawable/ImageFile\" />\n",
    "```       "
   ]
  },
  {
   "cell_type": "markdown",
   "metadata": {
    "slideshow": {
     "slide_type": "slide"
    }
   },
   "source": [
    "## The Static Class R\n",
    "- As part of the building process, a static class known as __R__ is dynamically created\n",
    "- This class holds constants that refer to all the resources specified in the _res_ directory\n",
    "- For example, to get the numerical id associated with the id string \"myId\" \n",
    "```java\n",
    "   int numericalId = R.id.myId;\n",
    "```"
   ]
  },
  {
   "cell_type": "markdown",
   "metadata": {
    "slideshow": {
     "slide_type": "slide"
    }
   },
   "source": [
    "## The Activity Class\n",
    "- As mentioned last class, each screen in an application is known as an __activity__\n",
    "- All activities have their own class, which inherits from __Activity__ or one of __Activity__'s subclasses\n",
    "- There are several methods that should be overridden, the most important being __onCreate__\n",
    "    - This is the first method called when the Activity starts up\n",
    "    - This method is responsible for specifiying the layout file and setting up any event listeners usually.\n",
    " "
   ]
  },
  {
   "cell_type": "markdown",
   "metadata": {
    "slideshow": {
     "slide_type": "slide"
    }
   },
   "source": [
    "```java\n",
    "public class MainActivity extends AppCompatActivity {\n",
    "   @Override\n",
    "   protected void onCreate(Bundle savedInstanceState) {\n",
    "       super.onCreate(savedInstanceState);\n",
    "       setContentView(R.layout.activity_main);\n",
    "   }\n",
    "}\n",
    "```"
   ]
  },
  {
   "cell_type": "markdown",
   "metadata": {
    "slideshow": {
     "slide_type": "slide"
    }
   },
   "source": [
    "## Acessing Elements\n",
    "- Another method inherited from the __Activity__ class is __findViewById__\n",
    "    - This method takes an integer id and returns the __View__ object coressponding to the UI element\n",
    "    - Use the __R__ class to get the interger Id\n",
    "- This method returns a __View__ object, but the element we are getting is usually a subclass of __View__\n",
    "    - The return value should be casted to the appropriate subclass"
   ]
  },
  {
   "cell_type": "markdown",
   "metadata": {
    "slideshow": {
     "slide_type": "slide"
    }
   },
   "source": [
    "## Input Events\n",
    "- Android provides two ways to attach __event handlers__\n",
    "    - The attachment method dictates how the event handler is implemented\n",
    "- The event handler is always passed an object of the __View__ class, which is the base class for all UI elements\n",
    "    - This object represents the specific UI element that the event was triggered from\n",
    "- Common events for input are __onClick__, __onLongClick__, __onKey__, and __onFocusChanged__"
   ]
  },
  {
   "cell_type": "markdown",
   "metadata": {
    "slideshow": {
     "slide_type": "slide"
    }
   },
   "source": [
    "## Attaching Events in the XML\n",
    "- The simplest way to attach event handlers is through use on an XML attribute\n",
    "- To attach the handler for the onClick event to a button, use the following:\n",
    "```xml\n",
    "            <Button\n",
    "                android:text=\"New Button\"\n",
    "                android:id=\"@+id/button\"\n",
    "                android:onClick=\"aMethod\"/>\n",
    "```\n",
    "- The value of __android:onClick__ is the name of a method located in the activity class \n",
    "    - The method must be public and return void\n",
    "    - The method must take one parameter, a View object"
   ]
  },
  {
   "cell_type": "markdown",
   "metadata": {
    "slideshow": {
     "slide_type": "slide"
    }
   },
   "source": [
    "## Attaching Events Programatically\n",
    "- Attaching events in XML is convient, but quickly becomes hard to manage\n",
    "- It is also necesarry sometimes to change the event handlers dynamically\n",
    "- Android offers methods to attach events programatically\n",
    "```java\n",
    "Button myButton = (Button) getViewById('myButtonId');\n",
    "myButton.setOnClickListener(new MyListenerObject());\n",
    "```"
   ]
  },
  {
   "cell_type": "markdown",
   "metadata": {
    "slideshow": {
     "slide_type": "slide"
    }
   },
   "source": [
    "## Listener Classes\n",
    "- The __MyListenerObject__ in the previous code is a class created by the programmer\n",
    "- The class must implement the approriate __Listener__ interface.\n",
    "    - For an __onClick__ event, the class will implement __OnClickListener__\n",
    "    - Each interface only has one method to override, which is named after the event, ie __onCLick__\n",
    "```java\n",
    "    class MyListenerObject implements OnClickListener{\n",
    "            public void onClick(View v) {\n",
    "                \\\\Respond to event\n",
    "            }\n",
    "    }\n",
    "```"
   ]
  },
  {
   "cell_type": "markdown",
   "metadata": {
    "slideshow": {
     "slide_type": "slide"
    }
   },
   "source": [
    "## Events on the Activity Itself\n",
    "- Sometimes it is useful to list to events on the activity\n",
    "- These can serve as default events\n",
    "    - ie __onTouchEvent__ will handle all clicks,etc not handled by the UI elements themselves\n",
    "- Some events are to enable your program to be a \"good citizen\" in the OS enviroment\n",
    "    - The __onLowMemory__ event is triggered when the OS is low on memory and all applications should evaluate their memory and free any unneeded memory.\n",
    "- All events on the Activity are methods implemented directly in the activity class\n",
    "    "
   ]
  }
 ],
 "metadata": {
  "celltoolbar": "Slideshow",
  "kernelspec": {
   "display_name": "Python 2",
   "language": "python",
   "name": "python2"
  },
  "language_info": {
   "codemirror_mode": {
    "name": "ipython",
    "version": 3
   },
   "file_extension": ".py",
   "mimetype": "text/x-python",
   "name": "python",
   "nbconvert_exporter": "python",
   "pygments_lexer": "ipython3",
   "version": "3.5.2"
  }
 },
 "nbformat": 4,
 "nbformat_minor": 1
}
