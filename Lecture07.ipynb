{
 "cells": [
  {
   "cell_type": "markdown",
   "metadata": {
    "slideshow": {
     "slide_type": "slide"
    }
   },
   "source": [
    "# Properties of Programming Languages"
   ]
  },
  {
   "cell_type": "markdown",
   "metadata": {
    "slideshow": {
     "slide_type": "slide"
    }
   },
   "source": [
    "## How We Evaluate Languages\n",
    "- Readability\n",
    "- Writability\n",
    "- Reliability\n",
    "- Cost (Won't talk about much today)"
   ]
  },
  {
   "cell_type": "markdown",
   "metadata": {
    "slideshow": {
     "slide_type": "slide"
    }
   },
   "source": [
    "## Properties that Influence These\n",
    "- Names and Binding (Chapter 5)\n",
    "- Data Types (Chapter 6)\n",
    "- Assignments and Expressions (Chapter 7)\n",
    "- Control Structures (Chapter 8)\n",
    "- Subprograms (Chapter 9)\n"
   ]
  },
  {
   "cell_type": "markdown",
   "metadata": {
    "slideshow": {
     "slide_type": "slide"
    }
   },
   "source": [
    "## Plan for the Rest of the Course\n",
    "- Learn the basics of many different types of languages\n",
    "    - Imperative Scripting Language (Lua)\n",
    "    - Functional Language (Scheme)\n",
    "    - Object-Oriented Compiled Language (Java)\n",
    "    - Event-Based Programming (Java for Android)\n",
    "- We will try to discuss and keep these properties in mind as we learn each language"
   ]
  },
  {
   "cell_type": "markdown",
   "metadata": {
    "slideshow": {
     "slide_type": "slide"
    }
   },
   "source": [
    "## Names\n",
    "- Names, also referred to as identifiers, are what allow us as programmers to refer to digital entities in a convenient way\n",
    "- Design Issues for Names\n",
    "    - Name Form\n",
    "    - Case Sensitivity\n",
    "    - Reserved Words vs Keywords"
   ]
  },
  {
   "cell_type": "markdown",
   "metadata": {
    "slideshow": {
     "slide_type": "slide"
    }
   },
   "source": [
    "## Name Form\n",
    "- In earlier languages, the length of the name was often constrained\n",
    "    - Languages with a hard limit on names would have a syntax error if the name was longer than the maximum length\n",
    "    - Languages with a soft limit would allow any length names, but only use the first $k$ characters\n",
    "- Some languages require names to start with certain characters, ie Perl\n",
    "    - Must start with a `$`, `@`, or `%`"
   ]
  },
  {
   "cell_type": "markdown",
   "metadata": {
    "slideshow": {
     "slide_type": "slide"
    }
   },
   "source": [
    "## Case Sensitivity\n",
    "- Most languages you are familiar with are case-sensitive\n",
    "    - `var` is a different name than `VAR` or even `Var`\n",
    "- Some languages do not make this distinction\n",
    "    - SQL is an example of one"
   ]
  },
  {
   "cell_type": "markdown",
   "metadata": {
    "slideshow": {
     "slide_type": "slide"
    }
   },
   "source": [
    "## Special Words\n",
    "- All programming languages contain special words\n",
    "- We can define two types of special words\n",
    "    - Reserved Word - can never be used a name, \n",
    "    - Keywords - can be redefined"
   ]
  },
  {
   "cell_type": "markdown",
   "metadata": {
    "slideshow": {
     "slide_type": "slide"
    }
   },
   "source": [
    "## Attributes of Variables\n",
    "- Variables can be thought of as being a collection of 6 attributes\n",
    " - Name\n",
    " - Address\n",
    " - Value\n",
    " - Type\n",
    " - Lifetime\n",
    " - Scope\n"
   ]
  },
  {
   "cell_type": "markdown",
   "metadata": {
    "slideshow": {
     "slide_type": "slide"
    }
   },
   "source": [
    "## Binding\n",
    "- Binding refers to the act of setting the attribute of some entity, commonly a variable or operator\n",
    "- The time that binding occurs is more important that how, and is known as binding time\n",
    "- Possible binding times\n",
    "    - Language/Compiler Design Time\n",
    "    - Compile Time\n",
    "    - Link Time\n",
    "    - Runtime"
   ]
  },
  {
   "cell_type": "markdown",
   "metadata": {
    "slideshow": {
     "slide_type": "slide"
    }
   },
   "source": [
    "## Type Bindings\n",
    "- The time that the type attribute of a variable is bound is one of the most variable properties across languages\n",
    "- Static type binding assigns variables a type before the code is run, and cannot be changed after it is first assigned\n",
    "    - Explicit declaration relies on the programmer to assign the type\n",
    "    - Implicit declaration relies on the first use of the variable to assign the type\n",
    "- Dynamic Type Binding occurs when a value is assigned to a variable, and can be changed throughout the course of the program"
   ]
  },
  {
   "cell_type": "code",
   "execution_count": null,
   "metadata": {
    "slideshow": {
     "slide_type": "slide"
    }
   },
   "outputs": [],
   "source": [
    "li = ['a', 'b', 'c', 'd', 'e']\n",
    "print \", \".join(li)\n",
    "li = 27\n",
    "print \", \".join(li)"
   ]
  },
  {
   "cell_type": "markdown",
   "metadata": {
    "slideshow": {
     "slide_type": "slide"
    }
   },
   "source": [
    "## Scope\n",
    "- Unlike type, the scope binding of a variable is one of the most consistent properties across languages\n",
    "- The scope of a variable is where a variable is visible\n",
    "    - In a static scoped, or lexically scoped, language, the visibility of a variable can be determined by looking at (analyzing) a program.\n",
    "    - In a dynamically scoped language, the scope of the variable cannot be determined until run time"
   ]
  },
  {
   "cell_type": "code",
   "execution_count": null,
   "metadata": {
    "slideshow": {
     "slide_type": "slide"
    }
   },
   "outputs": [],
   "source": [
    "def messy():\n",
    "    def sub1():\n",
    "        x = 7\n",
    "        sub2()\n",
    "    \n",
    "    def sub2():\n",
    "        print x\n",
    "    \n",
    "    x=3\n",
    "    sub2()\n",
    "    sub1()\n",
    "    sub2()\n",
    "    \n",
    "messy()"
   ]
  },
  {
   "cell_type": "code",
   "execution_count": null,
   "metadata": {
    "slideshow": {
     "slide_type": "slide"
    }
   },
   "outputs": [],
   "source": [
    "%%bash\n",
    "messy(){\n",
    "    sub1(){\n",
    "        local x=7\n",
    "        sub2\n",
    "    }\n",
    "    \n",
    "    sub2(){\n",
    "        echo $x\n",
    "    }\n",
    "    x=3\n",
    "    sub2\n",
    "    sub1\n",
    "    sub2\n",
    "} \n",
    "messy"
   ]
  },
  {
   "cell_type": "markdown",
   "metadata": {
    "slideshow": {
     "slide_type": "slide"
    }
   },
   "source": [
    "## Named Constants\n",
    "- A named constant is a value that once set, can never be changed again\n",
    "- A named constant can either be dynamically or static bound\n",
    "    - A constant in C declared using #DEF macros is static bound\n",
    "    - A constant in C++ declared using the `const` reserved word is dynamically bound"
   ]
  },
  {
   "cell_type": "markdown",
   "metadata": {
    "slideshow": {
     "slide_type": "slide"
    }
   },
   "source": [
    "## Data Types\n",
    "- All variables have data types\n",
    "- Data types allow for\n",
    "    - Error checking\n",
    "    - Modularization\n",
    "    - Documentation"
   ]
  },
  {
   "cell_type": "markdown",
   "metadata": {
    "slideshow": {
     "slide_type": "slide"
    }
   },
   "source": [
    "## Numeric Types\n",
    "- Integer\n",
    "     - One integer or variable precision integers?\n",
    "- Floating Point\n",
    "- Complex\n",
    "    - Should the language natively support imaginary numbers?\n",
    "- Decimal\n",
    "    - Is precision important, eg for financial systems?"
   ]
  },
  {
   "cell_type": "markdown",
   "metadata": {
    "slideshow": {
     "slide_type": "slide"
    }
   },
   "source": [
    "## Characters and Strings\n",
    "- Should the language have a special type for characters?\n",
    "    - How many bytes is a character?\n",
    "- Should a string be an array of character or its own primitive type?\n",
    "    - Should the length be dynamic or static?\n",
    "- If a string is a primitive, which operations should be permitted/provided?"
   ]
  },
  {
   "cell_type": "markdown",
   "metadata": {
    "slideshow": {
     "slide_type": "slide"
    }
   },
   "source": [
    "## Enumerations\n",
    "- Enumerations allow all possible values of a user-defined type to be listed\n",
    "```C++\n",
    "enum Suit { Clubs, Diamonds, Hearts, Spades }; \n",
    "```\n",
    "- Usually assigned integer values behind the scene\n",
    "- Leads to better type checking\n"
   ]
  },
  {
   "cell_type": "markdown",
   "metadata": {
    "slideshow": {
     "slide_type": "slide"
    }
   },
   "source": [
    "## Enumeration Design Questions\n",
    "- Can a constant appear in more than one enumeration?\n",
    "```C++\n",
    "enum Suit { Clubs, Diamonds, Hearts, Spades }; \n",
    "enum Shapes { Diamonds, Circles, Squares, Triangles };\n",
    "```\n",
    "- Can they be coerced to an integer\n",
    "```C++\n",
    "Suit s = Suit::Clubs;\n",
    "s++;\n",
    "```"
   ]
  },
  {
   "cell_type": "markdown",
   "metadata": {
    "slideshow": {
     "slide_type": "slide"
    }
   },
   "source": [
    "## Arrays\n",
    "- Are arrays primitive types?\n",
    "    - Arrays up to what dimension?\n",
    "- What are the legal types for subscripts\n",
    "- Are mutli-dimensional arrays jagged or rectangular?"
   ]
  },
  {
   "cell_type": "markdown",
   "metadata": {
    "slideshow": {
     "slide_type": "slide"
    }
   },
   "source": [
    "## Jagged vs Rectangular\n",
    "- If an array is jagged, each dimension is an array of arrays, and each dimension can have a different number of entries\n",
    "    - Usually accessed like `array[dim1][dim2]`\n",
    "- If an array is rectangular, each array has the exact same length\n",
    "    - Commonly accessed like `array[dim1,dim2]`"
   ]
  },
  {
   "cell_type": "markdown",
   "metadata": {
    "slideshow": {
     "slide_type": "slide"
    }
   },
   "source": [
    "## Associative Arrays\n",
    "- Commonly known as hashes, dictionaries, etc\n",
    "    - Don't rely on integer indexing\n",
    "- What are the valid types for keys\n",
    "- How is this additional information stored"
   ]
  },
  {
   "cell_type": "markdown",
   "metadata": {
    "slideshow": {
     "slide_type": "slide"
    }
   },
   "source": [
    "## Records and Tuples\n",
    "- A record is a user defined data-type that is simply a collection of other data-types\n",
    "    - C++'s `struct`\n",
    "    - Every field is named\n",
    "- A tuple is an unnamed collection of information\n",
    "    - Use indexing to access each field"
   ]
  },
  {
   "cell_type": "markdown",
   "metadata": {
    "slideshow": {
     "slide_type": "slide"
    }
   },
   "source": [
    "## Type Checking\n",
    "- Which types can be coerced to others\n",
    "    - Is an `int` coerced to a `float` when needed?\n",
    "- When is type checking performed?\n",
    "    - When is it even possible to perform?"
   ]
  },
  {
   "cell_type": "markdown",
   "metadata": {
    "slideshow": {
     "slide_type": "slide"
    }
   },
   "source": [
    "## Strongly Typed Language\n",
    "- A language is strongly typed if all type errors are always detected\n",
    "- Most languages are almost strongly typed, but have some edge cases\n",
    "    - C allows union types which aren't type chcked\n",
    "    - Java requires type casting, which might cause a run-time error\n",
    "    "
   ]
  },
  {
   "cell_type": "markdown",
   "metadata": {
    "slideshow": {
     "slide_type": "slide"
    }
   },
   "source": [
    "## Expressions\n",
    "- Are the operators infix or prefix styled?\n",
    "    - Most languages use infix notation\n",
    "- Are standard operators, like `+` and `-` allowed to be overloaded?\n",
    "- What is the precedence?\n",
    "- What operators cause type conversion?"
   ]
  },
  {
   "cell_type": "markdown",
   "metadata": {
    "slideshow": {
     "slide_type": "slide"
    }
   },
   "source": [
    "## Assignment\n",
    "- What can be on the left hand side of an assignment operator?\n",
    "```sh\n",
    "($flag ? $count1: $count2) = 0;\n",
    "```\n",
    "- Are compound assignment operators permitted?\n",
    "```C\n",
    "    sum += val;\n",
    "```"
   ]
  },
  {
   "cell_type": "markdown",
   "metadata": {
    "slideshow": {
     "slide_type": "slide"
    }
   },
   "source": [
    "## Assignment\n",
    "- Does the assignment operator return anything?\n",
    "```c\n",
    "while ((ch=getchar()) != EOF){\n",
    "```\n",
    "- Is multiple assignment permitted?\n",
    "```lua\n",
    "a,b,c = 1,2,3\n",
    "```"
   ]
  },
  {
   "cell_type": "code",
   "execution_count": 5,
   "metadata": {
    "slideshow": {
     "slide_type": "slide"
    }
   },
   "outputs": [
    {
     "ename": "ValueError",
     "evalue": "too many values to unpack",
     "output_type": "error",
     "traceback": [
      "\u001b[0;31m\u001b[0m",
      "\u001b[0;31mValueError\u001b[0mTraceback (most recent call last)",
      "\u001b[0;32m<ipython-input-5-6b644e00ae5e>\u001b[0m in \u001b[0;36m<module>\u001b[0;34m()\u001b[0m\n\u001b[0;32m----> 1\u001b[0;31m \u001b[0ma\u001b[0m\u001b[0;34m,\u001b[0m \u001b[0mb\u001b[0m \u001b[0;34m=\u001b[0m \u001b[0;36m1\u001b[0m\u001b[0;34m,\u001b[0m\u001b[0;36m2\u001b[0m\u001b[0;34m,\u001b[0m\u001b[0;36m3\u001b[0m\u001b[0;34m\u001b[0m\u001b[0m\n\u001b[0m",
      "\u001b[0;31mValueError\u001b[0m: too many values to unpack"
     ]
    }
   ],
   "source": [
    "a, b = 1,2,3"
   ]
  },
  {
   "cell_type": "code",
   "execution_count": 2,
   "metadata": {},
   "outputs": [
    {
     "name": "stdout",
     "output_type": "stream",
     "text": [
      "1\n",
      "2\n"
     ]
    }
   ],
   "source": [
    "print a\n",
    "print b"
   ]
  },
  {
   "cell_type": "markdown",
   "metadata": {
    "slideshow": {
     "slide_type": "slide"
    }
   },
   "source": [
    "## Control Structures\n",
    "- Almost all languages follow the same general syntax for a two way selection statement (`if` statement)\n",
    "- How are the `then` and `else` clauses specified?\n",
    "- How is nesting done?\n",
    "    - Braces?\n",
    "    - Explicitly ended the if?\n",
    " "
   ]
  },
  {
   "cell_type": "code",
   "execution_count": 6,
   "metadata": {
    "slideshow": {
     "slide_type": "slide"
    }
   },
   "outputs": [
    {
     "name": "stdout",
     "output_type": "stream",
     "text": [
      "One isn't 1\n"
     ]
    }
   ],
   "source": [
    "%%bash\n",
    "a=1\n",
    "b=2\n",
    "if [[ $a -eq 1 ]]; then\n",
    "    if [[ $b -eq 1 ]]; then\n",
    "        echo \"The variables are both one\"\n",
    "    \n",
    "    else \n",
    "    echo \"One isn't 1\"\n",
    "    fi\n",
    "fi;"
   ]
  },
  {
   "cell_type": "markdown",
   "metadata": {
    "slideshow": {
     "slide_type": "slide"
    }
   },
   "source": [
    "## Multiple Select \n",
    "- Is `switch` supported?\n",
    "    - What type of comparison is used?\n",
    "- Can you have an `if` with multiple elses?"
   ]
  },
  {
   "cell_type": "code",
   "execution_count": 7,
   "metadata": {
    "slideshow": {
     "slide_type": "slide"
    }
   },
   "outputs": [
    {
     "name": "stdout",
     "output_type": "stream",
     "text": [
      "First case\n"
     ]
    }
   ],
   "source": [
    "%%bash\n",
    "str=\"A string\"\n",
    "case $str in\n",
    "    *ng)\n",
    "        echo \"First case\"\n",
    "        ;;\n",
    "    \"A string\")\n",
    "        echo \"Second case\"\n",
    "        ;;\n",
    "esac"
   ]
  },
  {
   "cell_type": "markdown",
   "metadata": {
    "slideshow": {
     "slide_type": "slide"
    }
   },
   "source": [
    "## Iterative Statements (Loops)\n",
    "- Counter controlled loops\n",
    "    - What is the scope of the loop variable\n",
    "    - Can the loop variable be changed?\n",
    "    - When are the loop parameters evaluated"
   ]
  },
  {
   "cell_type": "code",
   "execution_count": 8,
   "metadata": {
    "slideshow": {
     "slide_type": "slide"
    }
   },
   "outputs": [
    {
     "name": "stdout",
     "output_type": "stream",
     "text": [
      "0\n",
      "1\n",
      "2\n",
      "3\n",
      "4\n",
      "5\n",
      "6\n",
      "7\n",
      "8\n",
      "9\n"
     ]
    }
   ],
   "source": [
    "x = 10\n",
    "for a in range(0,x):\n",
    "    print a\n",
    "    x = 1"
   ]
  },
  {
   "cell_type": "markdown",
   "metadata": {
    "slideshow": {
     "slide_type": "slide"
    }
   },
   "source": [
    "## Iterative Statements (Loops)\n",
    "- Logic controlled loops\n",
    "    - Is the test done before or after the loop?\n",
    "    - Is it really just a count loop in the background?\n",
    "    - Should the programmer be able to exit early?"
   ]
  },
  {
   "cell_type": "code",
   "execution_count": 9,
   "metadata": {
    "slideshow": {
     "slide_type": "slide"
    }
   },
   "outputs": [
    {
     "name": "stdout",
     "output_type": "stream",
     "text": [
      "101\n"
     ]
    }
   ],
   "source": [
    "sum = 0\n",
    "while True:\n",
    "    sum = sum + 1\n",
    "    if sum > 100:\n",
    "        break\n",
    "print sum"
   ]
  },
  {
   "cell_type": "markdown",
   "metadata": {
    "slideshow": {
     "slide_type": "slide"
    }
   },
   "source": [
    "## Subprograms\n",
    "- Subprograms are the generic name for segments of code that can be referred back to\n",
    "    - A subprogram has a single entry point\n",
    "    - The program is suspended while a subprogram executes\n",
    "    - Control always returns to the code that called the subprogram"
   ]
  },
  {
   "cell_type": "markdown",
   "metadata": {
    "slideshow": {
     "slide_type": "slide"
    }
   },
   "source": [
    "## Subprogram Design Issues\n",
    "- What is the signature of the subprogram?\n",
    "- Are keyword based parameters supported?\n",
    "    - Are default values supported?\n",
    "- There is a different between a procedure and a function?\n",
    "    - Procedure doesn't not return a value\n",
    "    - Function does\n"
   ]
  },
  {
   "cell_type": "markdown",
   "metadata": {
    "slideshow": {
     "slide_type": "slide"
    }
   },
   "source": [
    "## Subprogram Design Issues\n",
    "- Can local variables be specified?\n",
    "- How are parameters passed?\n",
    "- Can subprograms be passed to other subprograms as parameters?\n",
    "- Are closures permitted?"
   ]
  },
  {
   "cell_type": "markdown",
   "metadata": {
    "slideshow": {
     "slide_type": "slide"
    }
   },
   "source": [
    "## How can parameters be passed?"
   ]
  },
  {
   "cell_type": "code",
   "execution_count": 10,
   "metadata": {},
   "outputs": [
    {
     "name": "stdout",
     "output_type": "stream",
     "text": [
      "[0, 1, 2, 3, 4, 5, 6, 7, 8, 9]\n",
      "['Surprise', 1, 2, 3, 4, 5, 6, 7, 8, 9]\n"
     ]
    }
   ],
   "source": [
    "def change_list(a_list):\n",
    "    a_list[0] = \"Surprise\"\n",
    "    \n",
    "li = range(0,10)\n",
    "print li\n",
    "change_list(li)\n",
    "print li"
   ]
  },
  {
   "cell_type": "markdown",
   "metadata": {
    "slideshow": {
     "slide_type": "slide"
    }
   },
   "source": [
    "## How can parameters be passed?"
   ]
  },
  {
   "cell_type": "code",
   "execution_count": 11,
   "metadata": {},
   "outputs": [
    {
     "name": "stdout",
     "output_type": "stream",
     "text": [
      "0 1 2 3 4 5 6 7 8 9\n",
      "0 1 2 3 4 5 6 7 8 9\n",
      "Surprise 1 2 3 4 5 6 7 8 9\n",
      "0 1 2 3 4 5 6 7 8 9\n"
     ]
    }
   ],
   "source": [
    "%%bash\n",
    "change_list(){\n",
    "    a=(\"$@\")\n",
    "    echo ${a[@]}\n",
    "    a[0]='Surprise'\n",
    "    echo ${a[*]}\n",
    "}\n",
    "li=(0 1 2 3 4 5 6 7 8 9)\n",
    "echo ${li[*]}\n",
    "change_list \"${li[@]}\"\n",
    "echo ${li[*]}"
   ]
  },
  {
   "cell_type": "markdown",
   "metadata": {
    "slideshow": {
     "slide_type": "slide"
    }
   },
   "source": [
    "## Can subprograms be passed as parameters?"
   ]
  },
  {
   "cell_type": "code",
   "execution_count": 12,
   "metadata": {},
   "outputs": [
    {
     "name": "stdout",
     "output_type": "stream",
     "text": [
      "Hello UMBC!\n",
      "Hello Maryland!\n",
      "Hello Wisconsin!\n"
     ]
    },
    {
     "data": {
      "text/plain": [
       "[None, None, None]"
      ]
     },
     "execution_count": 12,
     "metadata": {},
     "output_type": "execute_result"
    }
   ],
   "source": [
    "def say_hello(name):\n",
    "    print \"Hello \" + name + \"!\"\n",
    "map(say_hello,[\"UMBC\",\"Maryland\",\"Wisconsin\"])"
   ]
  },
  {
   "cell_type": "markdown",
   "metadata": {
    "slideshow": {
     "slide_type": "slide"
    }
   },
   "source": [
    "## Can subprograms be passed as parameters?"
   ]
  },
  {
   "cell_type": "code",
   "execution_count": 13,
   "metadata": {},
   "outputs": [
    {
     "name": "stdout",
     "output_type": "stream",
     "text": [
      "Hello UMBC!\n",
      "Hello UMBC!\n",
      "Hello UMBC!\n",
      "Hello UMBC!\n",
      "Hello UMBC!\n",
      "Hello UMBC!\n",
      "Hello UMBC!\n",
      "Hello UMBC!\n",
      "Hello UMBC!\n",
      "Hello UMBC!\n"
     ]
    }
   ],
   "source": [
    "def repeat_function(function, param, times):\n",
    "    for i in range(times):\n",
    "        function(param)\n",
    "\n",
    "repeat_function(say_hello, \"UMBC\", 10)"
   ]
  },
  {
   "cell_type": "markdown",
   "metadata": {
    "slideshow": {
     "slide_type": "slide"
    }
   },
   "source": [
    "## Are Closures Supported?"
   ]
  },
  {
   "cell_type": "code",
   "execution_count": 14,
   "metadata": {},
   "outputs": [
    {
     "name": "stdout",
     "output_type": "stream",
     "text": [
      "22\n",
      "13\n"
     ]
    }
   ],
   "source": [
    "def addN(x):\n",
    "    return lambda y: y + x\n",
    "\n",
    "add10 = addN(10)\n",
    "add20 = addN(20)\n",
    "\n",
    "print add20(2)\n",
    "print add10(3)"
   ]
  }
 ],
 "metadata": {
  "celltoolbar": "Slideshow",
  "kernelspec": {
   "display_name": "Python 2",
   "language": "python",
   "name": "python2"
  },
  "language_info": {
   "codemirror_mode": {
    "name": "ipython",
    "version": 2
   },
   "file_extension": ".py",
   "mimetype": "text/x-python",
   "name": "python",
   "nbconvert_exporter": "python",
   "pygments_lexer": "ipython2",
   "version": "2.7.9"
  }
 },
 "nbformat": 4,
 "nbformat_minor": 2
}
