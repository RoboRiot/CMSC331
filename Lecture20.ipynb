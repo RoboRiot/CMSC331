{
 "cells": [
  {
   "cell_type": "markdown",
   "metadata": {
    "slideshow": {
     "slide_type": "slide"
    }
   },
   "source": [
    "## Java IV"
   ]
  },
  {
   "cell_type": "markdown",
   "metadata": {
    "slideshow": {
     "slide_type": "slide"
    }
   },
   "source": [
    "## Warm Up\n",
    "\n",
    "- Suppose we have a class Building, and an Interface SeatsPeople defined as follows:\n",
    "\n",
    "```java\n",
    "public class Building{\n",
    "    private String address;\n",
    "    private double height;\n",
    "    private double area;\n",
    "    \n",
    "    public Building(String addr, double h, double a){\n",
    "        this.address = addr;\n",
    "        this.height = h;\n",
    "        this.area = a;\n",
    "    }\n",
    "}\n",
    "\n",
    "public interface SeatsPeople{\n",
    "    public int getNumSeats();\n",
    "}\n",
    "```\n",
    "\n",
    "Write a class Stadium that inherits from Building and uses SeatsPeople"
   ]
  },
  {
   "cell_type": "code",
   "execution_count": null,
   "metadata": {},
   "outputs": [],
   "source": []
  },
  {
   "cell_type": "markdown",
   "metadata": {
    "slideshow": {
     "slide_type": "slide"
    }
   },
   "source": [
    "## Polymorphism\n",
    "\n",
    "- Polymorphism is often considered the third principal part of OOP along with _encapsulation_ and _inheritance_\n",
    " - It builds upon both these ideas\n",
    " - Uses dynamic type binding\n"
   ]
  },
  {
   "cell_type": "markdown",
   "metadata": {
    "slideshow": {
     "slide_type": "slide"
    }
   },
   "source": [
    "## Polymorphism\n",
    "- When creating a new object that is a derived type, we can store it in a variable that is the same type as its base class, or a interface it implements\n",
    "    - ArrayList and LinkedList both implement the List interface\n",
    "    \n",
    "```java\n",
    "            List list = new LinkedList();\n",
    "```\n",
    " \n",
    "```java\n",
    "            List list = new ArrayList();\n",
    "```\n",
    "   \n",
    "- When the following code is executed, the correct method is chosen at runtime.\n",
    "    \n",
    "```java\n",
    "        list.clear();\n",
    "```"
   ]
  },
  {
   "cell_type": "markdown",
   "metadata": {
    "slideshow": {
     "slide_type": "slide"
    }
   },
   "source": [
    "## How `toString` Uses Polymorphism\n",
    "- There are actually multiple different definitions of `System.out.println`\n",
    "    - One of them expects a single parameter of type `Object`\n",
    "- This was programmed, and compiled a long time ago, before we ever wrote our class\n",
    "    - By using polymorphism, when passed an object, it will call the `toString` method of that ojbect"
   ]
  },
  {
   "cell_type": "code",
   "execution_count": null,
   "metadata": {
    "slideshow": {
     "slide_type": "slide"
    }
   },
   "outputs": [],
   "source": [
    "package example;\n",
    "\n",
    "public class Vehicle{\n",
    "    public void sayHello(){\n",
    "        System.out.println(\"I am a Vehicle!\");\n",
    "    }\n",
    "}"
   ]
  },
  {
   "cell_type": "code",
   "execution_count": null,
   "metadata": {
    "slideshow": {
     "slide_type": "slide"
    }
   },
   "outputs": [],
   "source": [
    "package example;\n",
    "\n",
    "public class Car extends Vehicle{\n",
    "    public void sayHello(){\n",
    "        System.out.println(\"I am a Car!\");\n",
    "    }\n",
    "}"
   ]
  },
  {
   "cell_type": "code",
   "execution_count": null,
   "metadata": {
    "slideshow": {
     "slide_type": "slide"
    }
   },
   "outputs": [],
   "source": [
    "package example;\n",
    "\n",
    "public class Airplane extends Vehicle{\n",
    "    public void sayHello(){\n",
    "        System.out.println(\"I am a Airplane!\");\n",
    "    }\n",
    "}"
   ]
  },
  {
   "cell_type": "code",
   "execution_count": null,
   "metadata": {
    "slideshow": {
     "slide_type": "slide"
    }
   },
   "outputs": [],
   "source": [
    "package example;\n",
    "\n",
    "Vehicle[] vehicles = new Vehicle[3];\n",
    "vehicles[0] = new Vehicle();\n",
    "vehicles[1] = new Car();\n",
    "vehicles[2] = new Airplane();\n",
    "\n",
    "for(Vehicle v: vehicles){\n",
    "    v.sayHello();\n",
    "}"
   ]
  },
  {
   "cell_type": "markdown",
   "metadata": {
    "slideshow": {
     "slide_type": "slide"
    }
   },
   "source": [
    "## Polymorphism Example\n",
    "- We have the following abstract base class to represent a question on an exam"
   ]
  },
  {
   "cell_type": "code",
   "execution_count": null,
   "metadata": {
    "slideshow": {
     "slide_type": "-"
    }
   },
   "outputs": [],
   "source": [
    "public abstract class Question{\n",
    "    private String text;\n",
    "    private int points;\n",
    "}"
   ]
  },
  {
   "cell_type": "markdown",
   "metadata": {
    "slideshow": {
     "slide_type": "slide"
    }
   },
   "source": [
    "## Polymorphism Example\n",
    "- Make a fill in the blank question class\n",
    "    - Write a method to print the question\n",
    "    - Write a method to check the answer, assume there is more than one correct answer"
   ]
  },
  {
   "cell_type": "code",
   "execution_count": null,
   "metadata": {
    "slideshow": {
     "slide_type": "slide"
    }
   },
   "outputs": [],
   "source": []
  },
  {
   "cell_type": "markdown",
   "metadata": {
    "slideshow": {
     "slide_type": "slide"
    }
   },
   "source": [
    "## Polymorphism Practice\n",
    "- Write a multiple-choice question class\n",
    "    - Write a method to print the question\n",
    "    - Write a method to check the answer, assume there is only one correct answer"
   ]
  },
  {
   "cell_type": "code",
   "execution_count": null,
   "metadata": {
    "slideshow": {
     "slide_type": "slide"
    }
   },
   "outputs": [],
   "source": []
  },
  {
   "cell_type": "code",
   "execution_count": null,
   "metadata": {},
   "outputs": [],
   "source": []
  },
  {
   "cell_type": "markdown",
   "metadata": {
    "slideshow": {
     "slide_type": "slide"
    }
   },
   "source": [
    "## Enumerations\n",
    "- An enumeration is a group of related constants\n",
    "- It can be thought of a type where all the potential values are explicitly enumerated\n",
    "- In Java, an Enumeration is created by using the __enum__ keyword\n",
    "- This defines a class, so while enumerations can be simple like the following:\n",
    "\n",
    "```java\n",
    "    public enum Month{\n",
    "       JANUARY, FEBRUARY, MARCH, APRIL, MAY, JUNE, JULY, AUGUST, SEPTEMBER, OCTOBER, NOVEMBER, DECEMBER\n",
    "    }\n",
    "```\n"
   ]
  },
  {
   "cell_type": "markdown",
   "metadata": {
    "slideshow": {
     "slide_type": "slide"
    }
   },
   "source": [
    "## Complex Enumerations\n",
    "- Enumerations can also have their own instance variables and methods.\n",
    "\n",
    "```java\n",
    "    public enum Month{\n",
    "        JANUARY (31),\n",
    "        FEBRUARY (27),\n",
    "        MARCH (31),\n",
    "        APRIL (30),\n",
    "        MAY (31),\n",
    "        JUNE(30),\n",
    "        JULY(31),\n",
    "        AUGUST(31),\n",
    "        SEPTEMBER(30),\n",
    "        OCTOBER(31),\n",
    "        NOVEMBER(30),\n",
    "        DECEMBER(31);\n",
    "        \n",
    "        private final int numDays;\n",
    "        \n",
    "        Month(int numDays){\n",
    "            this.numDays = numDays)\n",
    "        }\n",
    "        \n",
    "        public int numberOfDays(){ return this.numDays;}\n",
    "        \n",
    "    }\n",
    "```"
   ]
  },
  {
   "cell_type": "markdown",
   "metadata": {
    "slideshow": {
     "slide_type": "slide"
    }
   },
   "source": [
    "## Containers\n",
    "\n",
    "- In Java any class that is meant to hold many objects is known as a container class.\n",
    "    - All the predefined classes of this type implement the __Collection__ interface\n",
    "- Some of the most popular are:\n",
    "    - ArrayList\n",
    "    - LinkedList\n",
    "    - HashSet\n",
    "    - HashMap\n",
    "- Originally, all container classes held any type of object, for maximum flexibility"
   ]
  },
  {
   "cell_type": "markdown",
   "metadata": {
    "slideshow": {
     "slide_type": "slide"
    }
   },
   "source": [
    "## The Problem with using Object\n",
    "- Everything Inherits from Object\n",
    "    - Even if you wanted to enforce type checking, you can't\n",
    "- Object objects are really basic and not much can be done with them\n",
    "    - Unless you cast everyrthing you return from the container\n",
    "\n",
    "From the textbook:\n",
    "```java\n",
    "    ArrayList myArray = new ArrayList();\n",
    "    myArray.add(new Integer(47));\n",
    "    Integer myInt = (Integer)myArray.get(0);\n",
    "\n",
    "```"
   ]
  },
  {
   "cell_type": "markdown",
   "metadata": {
    "slideshow": {
     "slide_type": "slide"
    }
   },
   "source": [
    "## Generics\n",
    "\n",
    "- When faced with problems like this, it would be nice if we could further parameterize the class in some way\n",
    "    - In Java the solution is generics\n",
    "    - In C++ the solution is templates\n",
    "    - This is sometimes called parameterized polymorphism\n",
    "- All the collection classes are generics as of Java 5\n",
    "\n",
    "```java\n",
    "            ArrayList<String> names = new ArrayList<String>();\n",
    "```"
   ]
  },
  {
   "cell_type": "code",
   "execution_count": null,
   "metadata": {
    "slideshow": {
     "slide_type": "slide"
    }
   },
   "outputs": [],
   "source": [
    "import java.util.ArrayList;\n",
    "\n",
    "ArrayList<String> string_array_list = new ArrayList();\n",
    "string_array_list.add(\"Hello\");\n",
    "string_array_list.add(\"World!\");\n",
    "\n",
    "System.out.println(string_array_list.get(0));\n",
    "for(String s: string_array_list){\n",
    "    System.out.println(s);\n",
    "}`"
   ]
  },
  {
   "cell_type": "markdown",
   "metadata": {
    "slideshow": {
     "slide_type": "slide"
    }
   },
   "source": [
    "## Collection Practice\n",
    "- Convert the array from our multiple choice answer to an ArrayList"
   ]
  },
  {
   "cell_type": "code",
   "execution_count": null,
   "metadata": {},
   "outputs": [],
   "source": []
  },
  {
   "cell_type": "markdown",
   "metadata": {
    "slideshow": {
     "slide_type": "slide"
    }
   },
   "source": [
    "## The Collections Class\n",
    "- The helper class [`Collections`](https://docs.oracle.com/javase/7/docs/api/java/util/Collections.html) contains many static methods that take collection classes  as parameters\n",
    "    - `sort` - Sorts any list\n",
    "    - `shuffle` - Shuffles a list in place\n",
    "    - `frequency` - Finds the number of times an element occurs in a collection\n",
    "- There is no easy way to do a \"join\" prior to Java 8"
   ]
  },
  {
   "cell_type": "code",
   "execution_count": null,
   "metadata": {
    "slideshow": {
     "slide_type": "slide"
    }
   },
   "outputs": [],
   "source": [
    "import java.util.ArrayList;\n",
    "import java.util.Collections;\n",
    "ArrayList<String> string_array_list = new ArrayList();\n",
    "string_array_list.add(\"World!\");\n",
    "string_array_list.add(\"World!\");\n",
    "string_array_list.add(\"World!\");\n",
    "string_array_list.add(\"Hello\");\n",
    "\n",
    "Collections.sort(string_array_list);\n",
    "\n",
    "for(String s: string_array_list){\n",
    "    System.out.println(s);\n",
    "}"
   ]
  },
  {
   "cell_type": "code",
   "execution_count": null,
   "metadata": {
    "slideshow": {
     "slide_type": "slide"
    }
   },
   "outputs": [],
   "source": [
    "import java.util.ArrayList;\n",
    "import java.util.Collections;\n",
    "ArrayList<String> string_array_list = new ArrayList();\n",
    "string_array_list.add(\"World!\");\n",
    "string_array_list.add(\"World!\");\n",
    "string_array_list.add(\"World!\");\n",
    "string_array_list.add(\"Hello\");\n",
    "\n",
    "Collections.shuffle(string_array_list);\n",
    "\n",
    "for(String s: string_array_list){\n",
    "    System.out.println(s);\n",
    "}"
   ]
  },
  {
   "cell_type": "code",
   "execution_count": null,
   "metadata": {
    "slideshow": {
     "slide_type": "slide"
    }
   },
   "outputs": [],
   "source": [
    "import java.util.ArrayList;\n",
    "import java.util.Collections;\n",
    "ArrayList<String> string_array_list = new ArrayList();\n",
    "string_array_list.add(\"World!\");\n",
    "string_array_list.add(\"World!\");\n",
    "string_array_list.add(\"World!\");\n",
    "string_array_list.add(\"Hello\");\n",
    "\n",
    "System.out.println(Collections.frequency(string_array_list,\n",
    "                                         \"World!\"));\n"
   ]
  },
  {
   "cell_type": "markdown",
   "metadata": {
    "slideshow": {
     "slide_type": "slide"
    }
   },
   "source": [
    "## Generic User-Defined Classes\n",
    "- Any class can be defined to use generics\n",
    "- The type in the angle brackets becomes another parameter\n",
    "    - Any name can be used, but __T__ is traditional\n",
    "    \n",
    "```java\n",
    "    public class MyClass<T> {\n",
    "        private T someVariable;\n",
    "    \n",
    "        public T getVariable()\n",
    "        {\n",
    "            return someVariable;\n",
    "        }\n",
    "    }\n",
    "```"
   ]
  },
  {
   "cell_type": "code",
   "execution_count": null,
   "metadata": {
    "slideshow": {
     "slide_type": "slide"
    }
   },
   "outputs": [],
   "source": [
    "public class MyClass<T> {\n",
    "        private T someVariable;\n",
    "    \n",
    "        public MyClass(T sV){\n",
    "            this.someVariable = sV;\n",
    "        }\n",
    "    \n",
    "        public T getVariable()\n",
    "        {\n",
    "            return someVariable;\n",
    "        }\n",
    "    }\n"
   ]
  },
  {
   "cell_type": "code",
   "execution_count": null,
   "metadata": {
    "slideshow": {
     "slide_type": "slide"
    }
   },
   "outputs": [],
   "source": [
    "MyClass<String> mc = new MyClass(\"Hello\");\n",
    "System.out.println(mc.getVariable());"
   ]
  },
  {
   "cell_type": "code",
   "execution_count": null,
   "metadata": {},
   "outputs": [],
   "source": [
    "MyClass<Integer> mc = new MyClass(190);\n",
    "System.out.println(mc.getVariable());"
   ]
  },
  {
   "cell_type": "markdown",
   "metadata": {
    "slideshow": {
     "slide_type": "slide"
    }
   },
   "source": [
    "## Generics Example\n",
    "- Make a generic class Repository, that can keep a list(map) of any type as well as do the following:\n",
    "    - Add and \"remove\" items, using a string identifier\n",
    "    - Update items\n",
    "    - Each item is never truly removed or updated, we just keep the latest version of it\n",
    "    - A method getVersion that takes a parameter of type T and tells us what version of that item we are on"
   ]
  },
  {
   "cell_type": "code",
   "execution_count": null,
   "metadata": {
    "slideshow": {
     "slide_type": "slide"
    }
   },
   "outputs": [],
   "source": []
  },
  {
   "cell_type": "code",
   "execution_count": null,
   "metadata": {
    "slideshow": {
     "slide_type": "slide"
    }
   },
   "outputs": [],
   "source": [
    "// Use Generic Class Here"
   ]
  },
  {
   "cell_type": "markdown",
   "metadata": {
    "slideshow": {
     "slide_type": "slide"
    }
   },
   "source": [
    "## Generics Practice\n",
    "- Design a Box class that can hold anything in it, \n",
    "    - Has a name and a maximum capacity\n",
    "    - Can add items to the box\n",
    "    - Can print out the contents of the box"
   ]
  },
  {
   "cell_type": "code",
   "execution_count": null,
   "metadata": {
    "slideshow": {
     "slide_type": "slide"
    }
   },
   "outputs": [],
   "source": []
  },
  {
   "cell_type": "code",
   "execution_count": null,
   "metadata": {
    "slideshow": {
     "slide_type": "slide"
    }
   },
   "outputs": [],
   "source": [
    "//Use Generic Class Here"
   ]
  },
  {
   "cell_type": "markdown",
   "metadata": {
    "slideshow": {
     "slide_type": "slide"
    }
   },
   "source": [
    "## Putting Restrictions on the Type\n",
    "- Just using generics allows any class to be used as the parameterized type\n",
    "    - This is useful in some situations, but limits the methods you can call\n",
    "- In Java we can fix this by specifiying the interface or base class required\n",
    "    - The `extends` keyword is **always** used in this context\n",
    "```java\n",
    "public class MyClass<T extends BaseClass>{\n",
    "}\n",
    "```\n",
    "or\n",
    "```java\n",
    "public class MyClass<T extends Interface>{\n",
    "}\n",
    "```"
   ]
  },
  {
   "cell_type": "code",
   "execution_count": null,
   "metadata": {
    "slideshow": {
     "slide_type": "slide"
    }
   },
   "outputs": [],
   "source": [
    "import java.util.List;\n",
    "public class MyRestrictedClass<T extends List> {\n",
    "        private T someList;\n",
    "    \n",
    "        public MyRestrictedClass(T sL){\n",
    "            this.someList = sL;\n",
    "        }\n",
    "    \n",
    "        public void emptyList(){\n",
    "            someList.clear();\n",
    "        }\n",
    "    \n",
    "        public T getVariable()\n",
    "        {\n",
    "            return someList;\n",
    "        }\n",
    "    }\n"
   ]
  },
  {
   "cell_type": "code",
   "execution_count": null,
   "metadata": {
    "slideshow": {
     "slide_type": "slide"
    }
   },
   "outputs": [],
   "source": [
    "import java.util.ArrayList;\n",
    "ArrayList<String> al = new ArrayList<String>();\n",
    "al.add(\"One\");\n",
    "al.add(\"Two\");\n",
    "al.add(\"Three\");\n",
    "MyRestrictedClass<ArrayList<String>> mrc =\n",
    "    new MyRestrictedClass(al);\n",
    "for(String s: mrc.getVariable()){\n",
    "    System.out.println(s);\n",
    "}\n",
    "mrc.emptyList();\n",
    "for(String s: mrc.getVariable()){\n",
    "    System.out.println(\"AGAIN: \" + s);\n",
    "}"
   ]
  },
  {
   "cell_type": "markdown",
   "metadata": {
    "slideshow": {
     "slide_type": "slide"
    }
   },
   "source": [
    "## Wildcards\n",
    "- When using a generic class as a parameter to a method, the type parameter might not be known\n",
    "    - The __?__ wildcard can be used in its place.\n",
    "    \n",
    "```java\n",
    "        public boolean allTheSame( ArrayList<?> list){\n",
    "            ...\n",
    "        }\n",
    "```\n",
    "- Using __?__ allows an __ArrayList__ of any object to be used as a parameter\n",
    "    - If more restrictions are needed, __? extends CLASS__ can be used\n",
    "    \n",
    "```java\n",
    "        public boolean allTheSame2(ArrayList<? extends Number> list){\n",
    "            ...\n",
    "        }\n",
    "```\n",
    "    \n"
   ]
  },
  {
   "cell_type": "markdown",
   "metadata": {
    "slideshow": {
     "slide_type": "slide"
    }
   },
   "source": [
    "## Restrictions with Generics\n",
    "- There are a few things that can't be done with the type parameter\n",
    "- A new object to type __T__ can't be created\n",
    "     - T object = new T() is invalid\n",
    "     - There is never any real need for this\n",
    "- An array of type __T__ cannot be created \n",
    "    - T[] arr = new T[100] is invalid\n",
    "    - An existing container class like ArrayList can be used in its place"
   ]
  },
  {
   "cell_type": "markdown",
   "metadata": {
    "slideshow": {
     "slide_type": "slide"
    }
   },
   "source": [
    "## Exceptions\n",
    "\n",
    "- Java uses exceptions to indicate and handle errors\n",
    "- An exception is a class that __extends__ the class __Exception__ (or another class derived from it)\n",
    "    - Should always have two constructors , an empty one and one that takes a String\n",
    "    - The __getMessage__ function should be overridden to provide a programmer relevant information\n",
    "- To throw an exception use the keyword __throw__\n",
    "    - Because an exception is an object, when __throw__ is used, a new object must be created\n",
    "    - `throw new Exception();`"
   ]
  },
  {
   "cell_type": "markdown",
   "metadata": {
    "slideshow": {
     "slide_type": "slide"
    }
   },
   "source": [
    "## Exception Examples\n",
    "```java\n",
    "public void aMethod() throws Exception\n",
    "{\n",
    "    ...\n",
    "    //Something went wrong!\n",
    "    throw new Exception();\n",
    "    ...\n",
    "}\n",
    "\n",
    "```\n",
    "\n",
    "```java\n",
    "\n",
    "public static void main(String [] args){\n",
    "    ...\n",
    "    try{\n",
    "        aMethod();\n",
    "    }\n",
    "    catch(Exception e)\n",
    "    {\n",
    "        System.err.println(e.getMessage());\n",
    "    }\n",
    "    \n",
    "    ...\n",
    "}\n",
    "```"
   ]
  },
  {
   "cell_type": "markdown",
   "metadata": {
    "slideshow": {
     "slide_type": "slide"
    }
   },
   "source": [
    "## Reflection\n",
    "- Methods in Java are not first class objects, they cannot be stored in variables\n",
    "- To get around some of the limitations of this, we can use the reflections library in Java\n",
    "- This is a large library that can be used to do many things, I will be highlighting how to call a method\n",
    "- The first step is to get an object of type __Class__ for the class we are interested in\n",
    "```java\n",
    "Class string = String.class\n",
    "```"
   ]
  },
  {
   "cell_type": "markdown",
   "metadata": {
    "slideshow": {
     "slide_type": "slide"
    }
   },
   "source": [
    "## Reflection \n",
    "- After having an object representation of the class, we can get an object representing the method\n",
    "- We use the method name and parameters for the method to get it (the method signature)\n",
    "```java\n",
    "Method length = string.getMethod(\"length\", null)\n",
    "```\n",
    "- Now that we have an object representation of the method we an run it on an instance of the class\n",
    "```java\n",
    "    String s = \"This is a string\";\n",
    "    Object stringLength = length.invoke(s,null);\n",
    "```"
   ]
  },
  {
   "cell_type": "code",
   "execution_count": null,
   "metadata": {
    "slideshow": {
     "slide_type": "slide"
    }
   },
   "outputs": [],
   "source": [
    "import java.lang.reflect.Method;\n",
    "Class string = String.class;\n",
    "Method length = string.getMethod(\"length\", null);\n",
    "String s = \"This is a string\";\n",
    "Object stringLength = length.invoke(s,null);\n",
    "System.out.println(stringLength);"
   ]
  },
  {
   "cell_type": "code",
   "execution_count": null,
   "metadata": {
    "slideshow": {
     "slide_type": "slide"
    }
   },
   "outputs": [],
   "source": [
    "import java.lang.reflect.Method;\n",
    "Class string = \"Helloooo\".getClass();\n",
    "Method length = string.getMethod(\"length\", null);\n",
    "String s = \"This is a string\";\n",
    "Object stringLength = length.invoke(s,null);\n",
    "System.out.println(stringLength);"
   ]
  },
  {
   "cell_type": "code",
   "execution_count": null,
   "metadata": {
    "slideshow": {
     "slide_type": "slide"
    }
   },
   "outputs": [],
   "source": [
    "import java.lang.reflect.Method;\n",
    "Class string = \"Helloooo\".getClass();\n",
    "//Is there a indexOf()?\n",
    "Method length = string.getMethod(\"indexOf\", String.class);\n",
    "String s = \"This is a string\";\n",
    "Object stringLength = length.invoke(s,\"is\");\n",
    "//s.indexOf(\"is\");\n",
    "System.out.println(stringLength);"
   ]
  },
  {
   "cell_type": "markdown",
   "metadata": {
    "slideshow": {
     "slide_type": "slide"
    }
   },
   "source": [
    "## Closures\n",
    "- Starting in Java 8, there is better support for closures and anonymous functions\n",
    "- It is still done in an Object Oriented manner\n",
    "- For this class you don't need to know how to write a Java closure, just that they exist"
   ]
  },
  {
   "cell_type": "markdown",
   "metadata": {
    "slideshow": {
     "slide_type": "slide"
    }
   },
   "source": [
    "## Closures Example\n",
    "- For the sake of completeness, here is an example from the Java 8 Tutorial (https://docs.oracle.com/javase/tutorial/java/javaOO/lambdaexpressions.html)\n",
    "\n",
    "```java\n",
    "import java.util.function.Consumer;\n",
    "\n",
    "public class LambdaScopeTest {\n",
    "\n",
    "    public int x = 0;\n",
    "\n",
    "    class FirstLevel {\n",
    "\n",
    "        public int x = 1;\n",
    "\n",
    "        void methodInFirstLevel(int x) {\n",
    "            \n",
    "            // The following statement causes the compiler to generate\n",
    "            // the error \"local variables referenced from a lambda expression\n",
    "            // must be final or effectively final\" in statement A:\n",
    "            //\n",
    "            // x = 99;\n",
    "            \n",
    "            Consumer<Integer> myConsumer = (y) -> \n",
    "            {\n",
    "                System.out.println(\"x = \" + x); // Statement A\n",
    "                System.out.println(\"y = \" + y);\n",
    "                System.out.println(\"this.x = \" + this.x);\n",
    "                System.out.println(\"LambdaScopeTest.this.x = \" +\n",
    "                    LambdaScopeTest.this.x);\n",
    "            };\n",
    "\n",
    "            myConsumer.accept(x);\n",
    "\n",
    "        }\n",
    "    }\n",
    "\n",
    "    public static void main(String... args) {\n",
    "        LambdaScopeTest st = new LambdaScopeTest();\n",
    "        LambdaScopeTest.FirstLevel fl = st.new FirstLevel();\n",
    "        fl.methodInFirstLevel(23);\n",
    "    }\n",
    "}\n",
    "\n",
    "```"
   ]
  },
  {
   "cell_type": "markdown",
   "metadata": {
    "slideshow": {
     "slide_type": "slide"
    }
   },
   "source": [
    "\n",
    "## Java Example Application\n",
    "- From http://exercism.io/exercises/lua/matrix/readme\n",
    "    - Make a Matrix Class\n",
    "        - The constructor should convert a string into the matrix object\n",
    "    - Write methods that\n",
    "        Return a given row\n",
    "        Return a given column\n",
    "        Return the shape of the matrix\n",
    "        Printing the matrix as a string\n",
    "\n"
   ]
  }
 ],
 "metadata": {
  "celltoolbar": "Slideshow",
  "kernelspec": {
   "display_name": "Java",
   "language": "java",
   "name": "java"
  },
  "language_info": {
   "codemirror_mode": "text/x-java",
   "file_extension": ".java",
   "mimetype": "",
   "name": "Java",
   "nbconverter_exporter": "",
   "version": "1.8.0_151"
  }
 },
 "nbformat": 4,
 "nbformat_minor": 1
}
