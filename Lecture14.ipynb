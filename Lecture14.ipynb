{
 "cells": [
  {
   "cell_type": "markdown",
   "metadata": {
    "slideshow": {
     "slide_type": "slide"
    }
   },
   "source": [
    "# Scheme II"
   ]
  },
  {
   "cell_type": "markdown",
   "metadata": {
    "slideshow": {
     "slide_type": "slide"
    }
   },
   "source": [
    "## Variables in Scheme\n",
    "- Variables in scheme have two basic scopes\n",
    "    - Local scope set with the __let__ command\n",
    "    - Global scope set with the __define__ command\n",
    "    - There are a few other variations of let that have slightly different scope\n",
    "        - We will talk about these when we talk about recursion"
   ]
  },
  {
   "cell_type": "markdown",
   "metadata": {
    "slideshow": {
     "slide_type": "slide"
    }
   },
   "source": [
    "## Let\n",
    "The general syntax of __let__ is\n",
    "\n",
    "```scheme\n",
    "(let\n",
    "    ( (var1 val1) (var2 val2) ... (var_n val_n) )\n",
    "    (function1)\n",
    "    (function2)\n",
    "    .\n",
    "    .\n",
    "    .\n",
    "    (function_n)\n",
    ")\n",
    "```"
   ]
  },
  {
   "cell_type": "code",
   "execution_count": 1,
   "metadata": {
    "slideshow": {
     "slide_type": "slide"
    }
   },
   "outputs": [
    {
     "data": {
      "text/plain": [
       "30"
      ]
     },
     "execution_count": 1,
     "metadata": {},
     "output_type": "execute_result"
    }
   ],
   "source": [
    "(let \n",
    "  (\n",
    "   (a 10)\n",
    "   (b 20)\n",
    "  )\n",
    "  (+ a b)\n",
    ")"
   ]
  },
  {
   "cell_type": "code",
   "execution_count": 2,
   "metadata": {
    "slideshow": {
     "slide_type": "slide"
    }
   },
   "outputs": [
    {
     "data": {
      "text/plain": [
       "200"
      ]
     },
     "execution_count": 2,
     "metadata": {},
     "output_type": "execute_result"
    }
   ],
   "source": [
    "(let\n",
    "  ((a 10) (b 20) (+ *))\n",
    "  (+ a b)\n",
    ")"
   ]
  },
  {
   "cell_type": "code",
   "execution_count": 10,
   "metadata": {
    "slideshow": {
     "slide_type": "slide"
    }
   },
   "outputs": [
    {
     "ename": "unbound-variable",
     "evalue": "Unbound variable: b",
     "output_type": "error",
     "traceback": [
      "\u001b[31mUnbound variable: b\u001b[0m"
     ]
    }
   ],
   "source": [
    "(let\n",
    "  ((a 10) (b 20) (+ *))\n",
    "  (+ a b)\n",
    ")\n",
    "(+ a b)"
   ]
  },
  {
   "cell_type": "code",
   "execution_count": 11,
   "metadata": {
    "slideshow": {
     "slide_type": "slide"
    }
   },
   "outputs": [
    {
     "name": "stdout",
     "output_type": "stream",
     "text": [
      "200\n",
      "30"
     ]
    }
   ],
   "source": [
    "(let\n",
    "  ((a 10) (b 20) (+ *))\n",
    "  (display (+ a b))\n",
    " (newline)\n",
    ")\n",
    "(display (+ 10 20))"
   ]
  },
  {
   "cell_type": "markdown",
   "metadata": {
    "slideshow": {
     "slide_type": "slide"
    }
   },
   "source": [
    "## Nested Let\n",
    "- When __let__ is nested inside another __let__ the variable can be redefined"
   ]
  },
  {
   "cell_type": "code",
   "execution_count": 12,
   "metadata": {},
   "outputs": [
    {
     "name": "stdout",
     "output_type": "stream",
     "text": [
      "40\n",
      "0"
     ]
    }
   ],
   "source": [
    "(let\n",
    "  ((a 10) (b 20))\n",
    "  (let ((b 30))\n",
    "    (display (+ a b))\n",
    "    (display \n",
    "    \"\\n\")\n",
    "  )\n",
    "  (let ((a 20))\n",
    "    (display (- a b))\n",
    "  )\n",
    ")"
   ]
  },
  {
   "cell_type": "markdown",
   "metadata": {
    "slideshow": {
     "slide_type": "slide"
    }
   },
   "source": [
    "## Let Practice\n",
    "From \"The Scheme Programming Language\"\n",
    "\n",
    "Use __let__ to remove common expressions from:\n",
    "```scheme\n",
    "(+ (- (* 3 a) b) (+ (* 3 a) b))\n",
    "(cons (car (list a b c)) (cdr (list a b c)))\n",
    "```"
   ]
  },
  {
   "cell_type": "code",
   "execution_count": 1,
   "metadata": {
    "slideshow": {
     "slide_type": "slide"
    }
   },
   "outputs": [
    {
     "data": {
      "text/plain": [
       "120"
      ]
     },
     "execution_count": 1,
     "metadata": {},
     "output_type": "execute_result"
    }
   ],
   "source": [
    "(define a 20)\n",
    "(define b 5)\n",
    "(+ (- (* 3 a) b) (+ (* 3 a) b))"
   ]
  },
  {
   "cell_type": "code",
   "execution_count": 10,
   "metadata": {},
   "outputs": [
    {
     "data": {
      "text/plain": [
       "6"
      ]
     },
     "execution_count": 10,
     "metadata": {},
     "output_type": "execute_result"
    }
   ],
   "source": [
    "(let\n",
    " (\n",
    "  ;(h (list n b))\n",
    "  (n (* 3 a))\n",
    "\n",
    " )\n",
    "  `\n",
    " ;(display h)\n",
    " (+ (- n b) (+ n b))\n",
    "); end let scope"
   ]
  },
  {
   "cell_type": "code",
   "execution_count": 5,
   "metadata": {
    "slideshow": {
     "slide_type": "slide"
    }
   },
   "outputs": [
    {
     "data": {
      "text/plain": [
       "(1 2 3)"
      ]
     },
     "execution_count": 5,
     "metadata": {},
     "output_type": "execute_result"
    }
   ],
   "source": [
    "(define a 1)\n",
    "(define b 2)\n",
    "(define c 3)\n",
    "(cons (car (list a b c)) (cdr (list a b c)))"
   ]
  },
  {
   "cell_type": "code",
   "execution_count": 6,
   "metadata": {},
   "outputs": [
    {
     "data": {
      "text/plain": [
       "(1 2 3)"
      ]
     },
     "execution_count": 6,
     "metadata": {},
     "output_type": "execute_result"
    }
   ],
   "source": [
    "(let\n",
    "  (\n",
    "   (l (list a b c)) \n",
    "  )\n",
    "  (cons (car l) (cdr l))\n",
    ")"
   ]
  },
  {
   "cell_type": "markdown",
   "metadata": {
    "slideshow": {
     "slide_type": "slide"
    }
   },
   "source": [
    "## Define\n",
    "- Define is used to make a variable have global scope\n",
    "- While it can be used for objects, it is most often used for functions"
   ]
  },
  {
   "cell_type": "code",
   "execution_count": 11,
   "metadata": {},
   "outputs": [
    {
     "data": {
      "text/plain": [
       "50"
      ]
     },
     "execution_count": 11,
     "metadata": {},
     "output_type": "execute_result"
    }
   ],
   "source": [
    "(define a 20)\n",
    "(define b 30)\n",
    "(+ a b)"
   ]
  },
  {
   "cell_type": "markdown",
   "metadata": {
    "slideshow": {
     "slide_type": "slide"
    }
   },
   "source": [
    "## Functions\n",
    "- In Scheme, the act of defining a function and naming a function require two separate expressions\n",
    "- To define a function, a __lambda__ expression is used\n",
    "    - The general syntax is\n",
    "```scheme\n",
    "(lambda (var1 var2 ... varN) \n",
    "         expr1 expr2 ... exprN)\n",
    "```\n",
    "    - This will return a function (often called a procedure in scheme)"
   ]
  },
  {
   "cell_type": "markdown",
   "metadata": {
    "slideshow": {
     "slide_type": "slide"
    }
   },
   "source": [
    "## Naming Functions\n",
    "- To name a function, use __let__ or __define__\n",
    "```scheme\n",
    "(define cadr\n",
    "    (lambda (x) \n",
    "        (car ( cdr x) ) \n",
    "    ) \n",
    ")\n",
    "```"
   ]
  },
  {
   "cell_type": "code",
   "execution_count": 5,
   "metadata": {
    "slideshow": {
     "slide_type": "slide"
    }
   },
   "outputs": [
    {
     "data": {
      "text/plain": [
       "mystery"
      ]
     },
     "execution_count": 5,
     "metadata": {},
     "output_type": "execute_result"
    }
   ],
   "source": [
    "(define mystery\n",
    "  (lambda(x)\n",
    "   (display (append `(+) x))\n",
    "   (/ (eval (append `(+) x) user-initial-environment )\n",
    "      ;(eval (append `(+) x)) ON GL\n",
    "      (length x) )\n",
    "  )\n",
    ")"
   ]
  },
  {
   "cell_type": "code",
   "execution_count": 7,
   "metadata": {},
   "outputs": [
    {
     "name": "stdout",
     "output_type": "stream",
     "text": [
      "(+ 1 2 3 4 5 10.01)"
     ]
    },
    {
     "data": {
      "text/plain": [
       "4.168333333333333"
      ]
     },
     "execution_count": 7,
     "metadata": {},
     "output_type": "execute_result"
    }
   ],
   "source": [
    "(mystery `(1 2 3 4 5 10.01))"
   ]
  },
  {
   "cell_type": "code",
   "execution_count": 1,
   "metadata": {
    "slideshow": {
     "slide_type": "slide"
    }
   },
   "outputs": [
    {
     "data": {
      "text/plain": [
       "compose"
      ]
     },
     "execution_count": 1,
     "metadata": {},
     "output_type": "execute_result"
    }
   ],
   "source": [
    "(define compose\n",
    "  (lambda (a b)\n",
    "    (lambda (x y) \n",
    "      (a (b x y) y)\n",
    "    )\n",
    "  )\n",
    ")"
   ]
  },
  {
   "cell_type": "code",
   "execution_count": 9,
   "metadata": {},
   "outputs": [
    {
     "data": {
      "text/plain": [
       "8"
      ]
     },
     "execution_count": 9,
     "metadata": {},
     "output_type": "execute_result"
    }
   ],
   "source": [
    "((compose + *) 3 2)"
   ]
  },
  {
   "cell_type": "code",
   "execution_count": 2,
   "metadata": {},
   "outputs": [
    {
     "data": {
      "text/plain": [
       "8"
      ]
     },
     "execution_count": 2,
     "metadata": {},
     "output_type": "execute_result"
    }
   ],
   "source": [
    "(define plusStar (compose + *))\n",
    "(plusStar 3 2)"
   ]
  },
  {
   "cell_type": "markdown",
   "metadata": {
    "slideshow": {
     "slide_type": "slide"
    }
   },
   "source": [
    "## Function Practice\n",
    "Write the following functions\n",
    "- Returns the surface area of a cube given the length of side x, $6x^2$\n",
    "- A function that converts a temperature given in farenheight to celcius ($\\frac{(F - 32) \\times 5}{9}$) "
   ]
  },
  {
   "cell_type": "code",
   "execution_count": 3,
   "metadata": {
    "slideshow": {
     "slide_type": "slide"
    }
   },
   "outputs": [
    {
     "data": {
      "text/plain": [
       "sa"
      ]
     },
     "execution_count": 3,
     "metadata": {},
     "output_type": "execute_result"
    }
   ],
   "source": [
    "(define sa\n",
    " (lambda (x)\n",
    "   (* x x 6)\n",
    " )\n",
    ")"
   ]
  },
  {
   "cell_type": "code",
   "execution_count": 4,
   "metadata": {},
   "outputs": [
    {
     "data": {
      "text/plain": [
       "24"
      ]
     },
     "execution_count": 4,
     "metadata": {},
     "output_type": "execute_result"
    }
   ],
   "source": [
    "(sa 2)"
   ]
  },
  {
   "cell_type": "code",
   "execution_count": 5,
   "metadata": {
    "slideshow": {
     "slide_type": "slide"
    }
   },
   "outputs": [
    {
     "data": {
      "text/plain": [
       "f->c"
      ]
     },
     "execution_count": 5,
     "metadata": {},
     "output_type": "execute_result"
    }
   ],
   "source": [
    "(define F->C \n",
    " (lambda (f)\n",
    "   (/\n",
    "    (*\n",
    "        (- f 32)\n",
    "        5)\n",
    "     9\n",
    "    )\n",
    "   \n",
    "   (* (- f 32)\n",
    "      (/ 5 9.0))\n",
    "   (* (- f 32)\n",
    "      5/9)\n",
    " )\n",
    ")"
   ]
  },
  {
   "cell_type": "code",
   "execution_count": 6,
   "metadata": {},
   "outputs": [
    {
     "data": {
      "text/plain": [
       "0"
      ]
     },
     "execution_count": 6,
     "metadata": {},
     "output_type": "execute_result"
    }
   ],
   "source": [
    "(f->c 32)"
   ]
  },
  {
   "cell_type": "markdown",
   "metadata": {
    "slideshow": {
     "slide_type": "slide"
    }
   },
   "source": [
    "## Variadic  Functions\n",
    "- Scheme has two ways of creating a function with a variable number of parameters\n",
    "- Lambda with one argument instead of a list\n",
    "```scheme\n",
    "    (lambda var_r\n",
    "      expr1 expr2 ... exprN\n",
    "    )\n",
    "```\n",
    "- Lambda with an improper list of arguments\n",
    "```scheme\n",
    "    (lambda (var1 var2 . var_r)\n",
    "      expr1 expr2 ... exprN\n",
    "    )\n",
    "```"
   ]
  },
  {
   "cell_type": "code",
   "execution_count": 7,
   "metadata": {
    "slideshow": {
     "slide_type": "slide"
    }
   },
   "outputs": [
    {
     "data": {
      "text/plain": [
       "vari"
      ]
     },
     "execution_count": 7,
     "metadata": {},
     "output_type": "execute_result"
    }
   ],
   "source": [
    "(define vari\n",
    "  (lambda nums\n",
    "     (display  nums)\n",
    "  )\n",
    ")"
   ]
  },
  {
   "cell_type": "code",
   "execution_count": 10,
   "metadata": {
    "slideshow": {
     "slide_type": "-"
    }
   },
   "outputs": [
    {
     "name": "stdout",
     "output_type": "stream",
     "text": [
      "((1 2 3 4) (5 6 7 8))"
     ]
    }
   ],
   "source": [
    "(vari `(1 2 3 4) `(5 6 7 8))"
   ]
  },
  {
   "cell_type": "code",
   "execution_count": 6,
   "metadata": {
    "slideshow": {
     "slide_type": "slide"
    }
   },
   "outputs": [
    {
     "data": {
      "text/plain": [
       "improper"
      ]
     },
     "execution_count": 6,
     "metadata": {},
     "output_type": "execute_result"
    }
   ],
   "source": [
    "(define improper\n",
    "  (lambda (x y . z)\n",
    "     (display  x)\n",
    "     (newline)\n",
    "     (display  y)\n",
    "     (newline)\n",
    "     (display  z)\n",
    "  )\n",
    ")"
   ]
  },
  {
   "cell_type": "code",
   "execution_count": 2,
   "metadata": {
    "slideshow": {
     "slide_type": "slide"
    }
   },
   "outputs": [
    {
     "name": "stdout",
     "output_type": "stream",
     "text": [
      "1\n",
      "2\n",
      "(3 4)"
     ]
    }
   ],
   "source": [
    "(improper 1 2 3 4)"
   ]
  },
  {
   "cell_type": "code",
   "execution_count": 3,
   "metadata": {},
   "outputs": [
    {
     "name": "stdout",
     "output_type": "stream",
     "text": [
      "1\n",
      "2\n",
      "()"
     ]
    }
   ],
   "source": [
    "(improper 1 2)"
   ]
  },
  {
   "cell_type": "code",
   "execution_count": 4,
   "metadata": {},
   "outputs": [
    {
     "ename": "wrong-number-of-arguments",
     "evalue": "The procedure #[compound-procedure 13 improper] has been called with 1 argument; it requires at least 2 arguments.",
     "output_type": "error",
     "traceback": [
      "\u001b[31mThe procedure #[compound-procedure 13 improper] has been called with 1 argument; it requires at least 2 arguments.\u001b[0m"
     ]
    }
   ],
   "source": [
    "(improper 1 )"
   ]
  },
  {
   "cell_type": "markdown",
   "metadata": {
    "slideshow": {
     "slide_type": "slide"
    }
   },
   "source": [
    "## Comparison Operators\n",
    "- The comparison operators that exist in many other languages also exist in Scheme\n",
    "    - Unlike many languages, these can take multiple arguments, returning true if the correct order is specified\n",
    "- Examples\n",
    "    - `(< )`\n",
    "    - `(string<? )`\n",
    "    - `(>= )`"
   ]
  },
  {
   "cell_type": "code",
   "execution_count": 7,
   "metadata": {
    "slideshow": {
     "slide_type": "slide"
    }
   },
   "outputs": [
    {
     "data": {
      "text/plain": [
       "#t"
      ]
     },
     "execution_count": 7,
     "metadata": {},
     "output_type": "execute_result"
    }
   ],
   "source": [
    "(< 1 2)"
   ]
  },
  {
   "cell_type": "code",
   "execution_count": 8,
   "metadata": {},
   "outputs": [
    {
     "data": {
      "text/plain": [
       "#f"
      ]
     },
     "execution_count": 8,
     "metadata": {},
     "output_type": "execute_result"
    }
   ],
   "source": [
    "(< 2 1)"
   ]
  },
  {
   "cell_type": "code",
   "execution_count": 9,
   "metadata": {},
   "outputs": [
    {
     "data": {
      "text/plain": [
       "#t"
      ]
     },
     "execution_count": 9,
     "metadata": {},
     "output_type": "execute_result"
    }
   ],
   "source": [
    "(< 1 2 3 4)"
   ]
  },
  {
   "cell_type": "code",
   "execution_count": 10,
   "metadata": {},
   "outputs": [
    {
     "data": {
      "text/plain": [
       "#f"
      ]
     },
     "execution_count": 10,
     "metadata": {},
     "output_type": "execute_result"
    }
   ],
   "source": [
    "(< 1 2 3 2)"
   ]
  },
  {
   "cell_type": "code",
   "execution_count": 11,
   "metadata": {
    "slideshow": {
     "slide_type": "slide"
    }
   },
   "outputs": [
    {
     "data": {
      "text/plain": [
       "#t"
      ]
     },
     "execution_count": 11,
     "metadata": {},
     "output_type": "execute_result"
    }
   ],
   "source": [
    "(string<? \"abba\" \"blondie\")"
   ]
  },
  {
   "cell_type": "code",
   "execution_count": 13,
   "metadata": {},
   "outputs": [
    {
     "data": {
      "text/plain": [
       "#f"
      ]
     },
     "execution_count": 13,
     "metadata": {},
     "output_type": "execute_result"
    }
   ],
   "source": [
    "(string<? \"abbaa\" \"abba\")"
   ]
  },
  {
   "cell_type": "code",
   "execution_count": null,
   "metadata": {},
   "outputs": [],
   "source": [
    "(string<? \"abba\" \"blondie\" \"carly rae jepsen\")\n",
    ";;Doesn't work in MIT-Scheme :( \n",
    ";;Works fine in MzScheme"
   ]
  },
  {
   "cell_type": "markdown",
   "metadata": {
    "slideshow": {
     "slide_type": "slide"
    }
   },
   "source": [
    "## Boolean Operators\n",
    "- Just like Lua, the boolean operators in Scheme behave like function calls, returning a value\n",
    "- `(and )` returns the first `#f` it finds, or the last element if no `#f` is found\n",
    "- `(or )` returns the first non `#f` element, returns #f if all are #f"
   ]
  },
  {
   "cell_type": "code",
   "execution_count": 1,
   "metadata": {
    "slideshow": {
     "slide_type": "slide"
    }
   },
   "outputs": [
    {
     "data": {
      "text/plain": [
       "#f"
      ]
     },
     "execution_count": 1,
     "metadata": {},
     "output_type": "execute_result"
    }
   ],
   "source": [
    "(and #f 3 1 4)"
   ]
  },
  {
   "cell_type": "code",
   "execution_count": 2,
   "metadata": {},
   "outputs": [
    {
     "data": {
      "text/plain": [
       "4"
      ]
     },
     "execution_count": 2,
     "metadata": {},
     "output_type": "execute_result"
    }
   ],
   "source": [
    "(and 3 1 4)"
   ]
  },
  {
   "cell_type": "code",
   "execution_count": 3,
   "metadata": {},
   "outputs": [
    {
     "data": {
      "text/plain": [
       "1"
      ]
     },
     "execution_count": 3,
     "metadata": {},
     "output_type": "execute_result"
    }
   ],
   "source": [
    "(or #f 1 2 3)"
   ]
  },
  {
   "cell_type": "code",
   "execution_count": 4,
   "metadata": {},
   "outputs": [
    {
     "data": {
      "text/plain": [
       "#f"
      ]
     },
     "execution_count": 4,
     "metadata": {},
     "output_type": "execute_result"
    }
   ],
   "source": [
    "(or #f #f #f)"
   ]
  },
  {
   "cell_type": "markdown",
   "metadata": {
    "slideshow": {
     "slide_type": "slide"
    }
   },
   "source": [
    "## Conditionals\n",
    "Scheme has three main conditional statements\n",
    "- An __if__ statement\n",
    "- The __cond__ statement\n",
    "- The __case__ statement\n",
    "\n",
    "All of these are functions and return something"
   ]
  },
  {
   "cell_type": "markdown",
   "metadata": {
    "slideshow": {
     "slide_type": "slide"
    }
   },
   "source": [
    "## If Statement\n",
    "The syntax of an __if__ statement is\n",
    "```scheme\n",
    "(if\n",
    "    test\n",
    "    consequent\n",
    "    alternative ; Optional\n",
    ")\n",
    "```"
   ]
  },
  {
   "cell_type": "code",
   "execution_count": 5,
   "metadata": {
    "slideshow": {
     "slide_type": "slide"
    }
   },
   "outputs": [
    {
     "data": {
      "text/plain": [
       "max"
      ]
     },
     "execution_count": 5,
     "metadata": {},
     "output_type": "execute_result"
    }
   ],
   "source": [
    "(define max\n",
    "  (lambda (x y)\n",
    "    (if (> x y)\n",
    "        x\n",
    "        y\n",
    "    )\n",
    "  )\n",
    ")"
   ]
  },
  {
   "cell_type": "code",
   "execution_count": 6,
   "metadata": {},
   "outputs": [
    {
     "data": {
      "text/plain": [
       "11"
      ]
     },
     "execution_count": 6,
     "metadata": {},
     "output_type": "execute_result"
    }
   ],
   "source": [
    "(max 10 11)"
   ]
  },
  {
   "cell_type": "code",
   "execution_count": 7,
   "metadata": {},
   "outputs": [
    {
     "data": {
      "text/plain": [
       "11"
      ]
     },
     "execution_count": 7,
     "metadata": {},
     "output_type": "execute_result"
    }
   ],
   "source": [
    "(max 11 10)"
   ]
  },
  {
   "cell_type": "code",
   "execution_count": 8,
   "metadata": {
    "slideshow": {
     "slide_type": "slide"
    }
   },
   "outputs": [
    {
     "data": {
      "text/plain": [
       "ifbigger"
      ]
     },
     "execution_count": 8,
     "metadata": {},
     "output_type": "execute_result"
    }
   ],
   "source": [
    "(define ifBigger\n",
    "  (lambda (x y)\n",
    "    (if (> x y)\n",
    "        x\n",
    "    )\n",
    "  )\n",
    ")"
   ]
  },
  {
   "cell_type": "code",
   "execution_count": 12,
   "metadata": {},
   "outputs": [],
   "source": [
    "(ifBigger 10 111)"
   ]
  },
  {
   "cell_type": "code",
   "execution_count": 10,
   "metadata": {},
   "outputs": [
    {
     "data": {
      "text/plain": [
       "10"
      ]
     },
     "execution_count": 10,
     "metadata": {},
     "output_type": "execute_result"
    }
   ],
   "source": [
    "(ifBigger 10 1)"
   ]
  },
  {
   "cell_type": "code",
   "execution_count": 13,
   "metadata": {
    "slideshow": {
     "slide_type": "slide"
    }
   },
   "outputs": [
    {
     "data": {
      "text/plain": [
       "candivide?"
      ]
     },
     "execution_count": 13,
     "metadata": {},
     "output_type": "execute_result"
    }
   ],
   "source": [
    "(define canDivide?\n",
    "  (lambda (n d)\n",
    "    (if\n",
    "      (not (= d 0))\n",
    "      #t\n",
    "      #f\n",
    "    )\n",
    "  )\n",
    ")"
   ]
  },
  {
   "cell_type": "code",
   "execution_count": 14,
   "metadata": {},
   "outputs": [
    {
     "data": {
      "text/plain": [
       "#f"
      ]
     },
     "execution_count": 14,
     "metadata": {},
     "output_type": "execute_result"
    }
   ],
   "source": [
    "(candivide? 20 0)"
   ]
  },
  {
   "cell_type": "code",
   "execution_count": 15,
   "metadata": {},
   "outputs": [
    {
     "data": {
      "text/plain": [
       "#t"
      ]
     },
     "execution_count": 15,
     "metadata": {},
     "output_type": "execute_result"
    }
   ],
   "source": [
    "(canDivide? 20 1)"
   ]
  },
  {
   "cell_type": "markdown",
   "metadata": {
    "slideshow": {
     "slide_type": "slide"
    }
   },
   "source": [
    "## Cond Statement\n",
    "The syntax of a __cond__ statement is\n",
    "```scheme\n",
    "(cond\n",
    "    (test1 expression1 expression2 ...)\n",
    "    (test2 expressiona expressionb ...)\n",
    "    .\n",
    "    .\n",
    "    .\n",
    "    (testn expressioni expressionii ...)\n",
    "    (else expressionI expresionII ....)\n",
    ")\n",
    "```"
   ]
  },
  {
   "cell_type": "code",
   "execution_count": 9,
   "metadata": {
    "slideshow": {
     "slide_type": "slide"
    }
   },
   "outputs": [
    {
     "data": {
      "text/plain": [
       "grade"
      ]
     },
     "execution_count": 9,
     "metadata": {},
     "output_type": "execute_result"
    }
   ],
   "source": [
    "(define grade\n",
    "  (lambda (score)\n",
    "    (cond\n",
    "      ( (>= score 90) \"A\")\n",
    "      ( (>= score 80) \"B\")\n",
    "      ( (>= score 70) \"C\")\n",
    "      ( (>= score 60) \"D\")\n",
    "      ( else \"F\")\n",
    "    )\n",
    "  )\n",
    ")\n"
   ]
  },
  {
   "cell_type": "code",
   "execution_count": 10,
   "metadata": {},
   "outputs": [
    {
     "data": {
      "text/plain": [
       "\"F\""
      ]
     },
     "execution_count": 10,
     "metadata": {},
     "output_type": "execute_result"
    }
   ],
   "source": [
    "(grade 20)"
   ]
  },
  {
   "cell_type": "code",
   "execution_count": 7,
   "metadata": {
    "slideshow": {
     "slide_type": "slide"
    }
   },
   "outputs": [
    {
     "data": {
      "text/plain": [
       "whattowatch"
      ]
     },
     "execution_count": 7,
     "metadata": {},
     "output_type": "execute_result"
    }
   ],
   "source": [
    "(define whatToWatch\n",
    "  (lambda (night haveNetflix )\n",
    "    (cond\n",
    "      ( (equal? night \"Saturday\") \"Watch SNL\")\n",
    "      ( (equal? night \"Tuesday\") \"Watch ABC\")\n",
    "      ( (equal? night \"Thursday\") \"Watch NBC\")\n",
    "      ( haveNetflix \"Watch Master of None\")\n",
    "      ( else \"Channel Surf\")\n",
    "    )\n",
    "  )\n",
    ")\n"
   ]
  },
  {
   "cell_type": "code",
   "execution_count": 8,
   "metadata": {},
   "outputs": [
    {
     "data": {
      "text/plain": [
       "\"Channel Surf\""
      ]
     },
     "execution_count": 8,
     "metadata": {},
     "output_type": "execute_result"
    }
   ],
   "source": [
    "(whatToWatch \"Sunday\" #f)"
   ]
  },
  {
   "cell_type": "markdown",
   "metadata": {
    "slideshow": {
     "slide_type": "slide"
    }
   },
   "source": [
    "## Case Statements\n",
    "A case statement is approximently the same as a switch statement in other langauges\n",
    "\n",
    "The basic snytax is:\n",
    "```scheme\n",
    "(case \n",
    "    (expression)\n",
    "    ( (key1 key2 ... keyn) expr1 expr2 .. exprn)\n",
    "    ( (keyA keyB ... keyN) expra exprb .. exprn)\n",
    "    ( else expri exprii ... expr_n)\n",
    ")\n",
    "```"
   ]
  },
  {
   "cell_type": "markdown",
   "metadata": {
    "slideshow": {
     "slide_type": "slide"
    }
   },
   "source": [
    "## Case Statement Example"
   ]
  },
  {
   "cell_type": "code",
   "execution_count": 12,
   "metadata": {},
   "outputs": [
    {
     "data": {
      "text/plain": [
       "\"B\""
      ]
     },
     "execution_count": 12,
     "metadata": {},
     "output_type": "execute_result"
    }
   ],
   "source": [
    "(define grade2\n",
    "  (lambda (x)\n",
    "   (case x\n",
    "     ( (100 90 91 92 93 94 95 96 97 98 99) \"A\")\n",
    "     ( (80 81 82 83 84 85 86 87 88 89) \"B\")\n",
    "     ( (70 71 72 73 74 75 76 77 88 89) \"C\")\n",
    "     ( (60 61 62 63 64 65 66 67 68 69) \"D\")\n",
    "     ( else \"F\")   \n",
    "   )\n",
    "  )\n",
    ")\n",
    "(grade2 88)"
   ]
  },
  {
   "cell_type": "markdown",
   "metadata": {
    "slideshow": {
     "slide_type": "slide"
    }
   },
   "source": [
    "## Conditionals Practice\n",
    "Write a function that does the following:\n",
    "- Returns if a number is odd or even"
   ]
  },
  {
   "cell_type": "code",
   "execution_count": 1,
   "metadata": {
    "slideshow": {
     "slide_type": "slide"
    }
   },
   "outputs": [
    {
     "data": {
      "text/plain": [
       "oddeven?"
      ]
     },
     "execution_count": 1,
     "metadata": {},
     "output_type": "execute_result"
    }
   ],
   "source": [
    "(define oddEven?\n",
    " (lambda (x)\n",
    "   (case\n",
    "        (modulo x 2)\n",
    "        ((0) \"EVEN\")\n",
    "        (else \"ODD\")\n",
    "    )\n",
    " )\n",
    ")\n",
    "\n"
   ]
  },
  {
   "cell_type": "code",
   "execution_count": 3,
   "metadata": {},
   "outputs": [
    {
     "data": {
      "text/plain": [
       "\"ODD\""
      ]
     },
     "execution_count": 3,
     "metadata": {},
     "output_type": "execute_result"
    }
   ],
   "source": [
    "(oddEven? 21)"
   ]
  },
  {
   "cell_type": "markdown",
   "metadata": {
    "slideshow": {
     "slide_type": "slide"
    }
   },
   "source": [
    "## Loops\n",
    "- Explicit looping is less commonly used in functional languages, but is still possible\n",
    "- In Scheme, the looping construct is `do`\n",
    "```scheme\n",
    "    (do ( (var1 init1 update1)\n",
    "          (var2 init2 update2))\n",
    "        ( (stop-predicate) final-value)\n",
    "        body1\n",
    "        body2\n",
    "    )\n",
    "```"
   ]
  },
  {
   "cell_type": "code",
   "execution_count": 4,
   "metadata": {
    "slideshow": {
     "slide_type": "slide"
    }
   },
   "outputs": [
    {
     "name": "stdout",
     "output_type": "stream",
     "text": [
      "0\n",
      "1\n",
      "2\n",
      "3\n",
      "4\n"
     ]
    },
    {
     "data": {
      "text/plain": [
       "\"Hello\""
      ]
     },
     "execution_count": 4,
     "metadata": {},
     "output_type": "execute_result"
    }
   ],
   "source": [
    "(do\n",
    "     (;initialization\n",
    "      (i 0 ;var and initial value\n",
    "         (+ 1 i)) ;update rule\n",
    "     )\n",
    "     (\n",
    "      (= 5 i) ; stop-condition\n",
    "      \"Hello\" ; Return when stopped\n",
    "     )\n",
    "     (display i) ;body\n",
    "     (newline) ; body\n",
    " )"
   ]
  },
  {
   "cell_type": "code",
   "execution_count": 5,
   "metadata": {
    "slideshow": {
     "slide_type": "slide"
    }
   },
   "outputs": [
    {
     "ename": "simple-error",
     "evalue": "Premature reference to reserved name: z",
     "output_type": "error",
     "traceback": [
      "\u001b[31mPremature reference to reserved name: z\u001b[0m"
     ]
    }
   ],
   "source": [
    "(define loop \n",
    "  (lambda x\n",
    "    (define z x)\n",
    "    (do\n",
    "     (;initialization\n",
    "      (i 0 ;var and initial value\n",
    "         (+ 1 i)) ;update rule\n",
    "     )\n",
    "     (\n",
    "      (= (length x) i) ; stop-condition\n",
    "     )\n",
    "     (let \n",
    "          (\n",
    "          (y (car z)) \n",
    "          )\n",
    "     (display y) ;body\n",
    "     (newline) ; body\n",
    "     )\n",
    "   )\n",
    "    (define z (cdr z))\n",
    "   \n",
    ")\n",
    ")"
   ]
  },
  {
   "cell_type": "code",
   "execution_count": null,
   "metadata": {},
   "outputs": [],
   "source": [
    "(loop 6 7 8 9 0 1 2)"
   ]
  }
 ],
 "metadata": {
  "celltoolbar": "Slideshow",
  "kernelspec": {
   "display_name": "MIT Scheme",
   "language": "scheme",
   "name": "mit-scheme"
  },
  "language_info": {
   "codemirror_mode": "scheme",
   "file_extension": ".scm",
   "mimetype": "application/x-scheme",
   "name": "MIT Scheme",
   "pygments_lexer": "scheme",
   "version": "9.2.1"
  }
 },
 "nbformat": 4,
 "nbformat_minor": 1
}
