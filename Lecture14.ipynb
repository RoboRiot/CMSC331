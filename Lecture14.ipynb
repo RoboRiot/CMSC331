{
 "cells": [
  {
   "cell_type": "markdown",
   "metadata": {
    "slideshow": {
     "slide_type": "slide"
    }
   },
   "source": [
    "# Scheme III"
   ]
  },
  {
   "cell_type": "markdown",
   "metadata": {
    "slideshow": {
     "slide_type": "slide"
    }
   },
   "source": [
    "## Warm-Up\n",
    "- Write a function that takes in two lists, and returns the one that is longer\n"
   ]
  },
  {
   "cell_type": "markdown",
   "metadata": {
    "slideshow": {
     "slide_type": "slide"
    }
   },
   "source": [
    "## Recursion Refresher\n",
    "- Borrowed from CMSC 201 Slides:\n",
    "    - Break problem into smaller pieces\n",
    "    - Have a base case that permits us to stop\n",
    "    - All smaller problems are eventually broken down in to the base case"
   ]
  },
  {
   "cell_type": "markdown",
   "metadata": {
    "slideshow": {
     "slide_type": "slide"
    }
   },
   "source": [
    "## Recursion and the Stack of Function Calls\n",
    "- Each recursive call to a function *normally* pushes another function call on the stack\n",
    "    - We will see later a way to prevent this\n",
    "- We can use this stack to trace through recursive calls"
   ]
  },
  {
   "cell_type": "markdown",
   "metadata": {
    "slideshow": {
     "slide_type": "slide"
    }
   },
   "source": [
    "## Trace Example\n",
    "```python \n",
    "def fact (n):\n",
    "    return n * fact(n -1)\n",
    "```"
   ]
  },
  {
   "cell_type": "markdown",
   "metadata": {
    "collapsed": true,
    "slideshow": {
     "slide_type": "slide"
    }
   },
   "source": [
    "## Recursion\n",
    "- Recursion is the preferred method in functional languages for processing a list element by element\n",
    "- If possible, put the recursive call at the end to cause tail recursion\n",
    "    - This allows a compiler to optimize a recursion function\n",
    " "
   ]
  },
  {
   "cell_type": "code",
   "execution_count": null,
   "metadata": {
    "slideshow": {
     "slide_type": "slide"
    }
   },
   "outputs": [],
   "source": [
    "(define member\n",
    "    (lambda (mem l)\n",
    "       (cond\n",
    "        ((null? l) #f)\n",
    "        ((eq? mem (car l)) #t)\n",
    "        (else (member mem (cdr l)))\n",
    "       )\n",
    "    )\n",
    ")"
   ]
  },
  {
   "cell_type": "code",
   "execution_count": null,
   "metadata": {
    "slideshow": {
     "slide_type": "slide"
    }
   },
   "outputs": [],
   "source": [
    "(member 3 `(1 2 3 4))"
   ]
  },
  {
   "cell_type": "code",
   "execution_count": null,
   "metadata": {},
   "outputs": [],
   "source": [
    "(member 5 `(1 2 3 4 ))"
   ]
  },
  {
   "cell_type": "code",
   "execution_count": null,
   "metadata": {
    "slideshow": {
     "slide_type": "slide"
    }
   },
   "outputs": [],
   "source": [
    "(define factorial \n",
    "      (lambda (n)\n",
    "         (if\n",
    "          (= 0 n)\n",
    "          1\n",
    "          (*\n",
    "           (factorial (- n 1))\n",
    "           n\n",
    "          )\n",
    "         )\n",
    "      )\n",
    ")"
   ]
  },
  {
   "cell_type": "code",
   "execution_count": null,
   "metadata": {
    "slideshow": {
     "slide_type": "slide"
    }
   },
   "outputs": [],
   "source": [
    "(factorial 3000)"
   ]
  },
  {
   "cell_type": "markdown",
   "metadata": {
    "slideshow": {
     "slide_type": "slide"
    }
   },
   "source": [
    "## Recursion Example\n",
    "Write a recursive function the returns the length of a list\n",
    "- Hint:\n",
    "    - `null?` returns `#t` if a list is empty"
   ]
  },
  {
   "cell_type": "code",
   "execution_count": null,
   "metadata": {
    "slideshow": {
     "slide_type": "slide"
    }
   },
   "outputs": [],
   "source": []
  },
  {
   "cell_type": "code",
   "execution_count": null,
   "metadata": {},
   "outputs": [],
   "source": [
    "(len `(1 2 3 48 0 8))"
   ]
  },
  {
   "cell_type": "markdown",
   "metadata": {
    "slideshow": {
     "slide_type": "slide"
    }
   },
   "source": [
    "## Recursion Practice\n",
    "- Write a recursive function to return the maximum number found in a list\n",
    "    - Should be called like `(max 1 2 3 4 5)`"
   ]
  },
  {
   "cell_type": "code",
   "execution_count": null,
   "metadata": {
    "slideshow": {
     "slide_type": "slide"
    }
   },
   "outputs": [],
   "source": []
  },
  {
   "cell_type": "markdown",
   "metadata": {
    "collapsed": true,
    "slideshow": {
     "slide_type": "slide"
    }
   },
   "source": [
    "## Tail Recursion\n",
    "- In traditional recursion, each recursive call causes the currently executing code to be suspending, and placed on the call stack\n",
    "    - This limits the recursion depth, and causes a stack overflow if too many recursive calls are made\n",
    "- If we make the last call of the function the recursive call, we are effectively done with the calling function, and don't need to suspend it\n",
    "    - Languages like Scheme take advantage of this, and keep a constant call stack of 1\n",
    "    - Makes tail recursion equivalent to iteration in terms of speed and space"
   ]
  },
  {
   "cell_type": "code",
   "execution_count": null,
   "metadata": {
    "slideshow": {
     "slide_type": "slide"
    }
   },
   "outputs": [],
   "source": [
    "(define tail_factorial\n",
    "      (lambda (n result)\n",
    "        (if (= n 0)\n",
    "            result\n",
    "            (tail_factorial (- n 1) (* n result))\n",
    "         )\n",
    "      )\n",
    ")"
   ]
  },
  {
   "cell_type": "code",
   "execution_count": null,
   "metadata": {
    "slideshow": {
     "slide_type": "slide"
    }
   },
   "outputs": [],
   "source": [
    "(define good_factorial\n",
    "  (lambda (n)\n",
    "    (tail_factorial n 1)\n",
    "  )\n",
    ")\n",
    "(good_factorial 10)"
   ]
  },
  {
   "cell_type": "markdown",
   "metadata": {
    "slideshow": {
     "slide_type": "slide"
    }
   },
   "source": [
    "## Tracing Tail Recursion\n",
    "- Trace the `good_factorial` function with an input of 4"
   ]
  },
  {
   "cell_type": "markdown",
   "metadata": {
    "slideshow": {
     "slide_type": "slide"
    }
   },
   "source": [
    "## Tail Recursion Example\n",
    "- Write the following function using tail recursion\n",
    "    - A function `range` that returns all the numbers between the two parameters, a and b"
   ]
  },
  {
   "cell_type": "code",
   "execution_count": null,
   "metadata": {},
   "outputs": [],
   "source": []
  },
  {
   "cell_type": "code",
   "execution_count": null,
   "metadata": {
    "slideshow": {
     "slide_type": "slide"
    }
   },
   "outputs": [],
   "source": []
  },
  {
   "cell_type": "markdown",
   "metadata": {
    "slideshow": {
     "slide_type": "slide"
    }
   },
   "source": [
    "## Tail Recursion Example\n",
    "- Write the following function using tail recursion\n",
    "    - A function `rev` that returns a reversed version of the list passed to it"
   ]
  },
  {
   "cell_type": "code",
   "execution_count": null,
   "metadata": {},
   "outputs": [],
   "source": []
  },
  {
   "cell_type": "code",
   "execution_count": null,
   "metadata": {
    "slideshow": {
     "slide_type": "slide"
    }
   },
   "outputs": [],
   "source": []
  },
  {
   "cell_type": "markdown",
   "metadata": {
    "slideshow": {
     "slide_type": "slide"
    }
   },
   "source": [
    "## Tail Recursion Practice\n",
    "- Write the following function using tail recursion\n",
    "    - A function `sum` that adds all the numbers in a list together"
   ]
  },
  {
   "cell_type": "code",
   "execution_count": null,
   "metadata": {},
   "outputs": [],
   "source": []
  },
  {
   "cell_type": "code",
   "execution_count": null,
   "metadata": {
    "slideshow": {
     "slide_type": "slide"
    }
   },
   "outputs": [],
   "source": []
  },
  {
   "cell_type": "markdown",
   "metadata": {
    "slideshow": {
     "slide_type": "slide"
    }
   },
   "source": [
    "## Tail Recursion Practice\n",
    "- Write the following function using tail recursion\n",
    "    - A function `len` that finds the length of a list"
   ]
  },
  {
   "cell_type": "code",
   "execution_count": null,
   "metadata": {},
   "outputs": [],
   "source": []
  },
  {
   "cell_type": "code",
   "execution_count": null,
   "metadata": {
    "slideshow": {
     "slide_type": "slide"
    }
   },
   "outputs": [],
   "source": []
  },
  {
   "cell_type": "markdown",
   "metadata": {
    "slideshow": {
     "slide_type": "slide"
    }
   },
   "source": [
    "## Letrec\n",
    "- The scope of variables in a __let__ statement is the body of the statement\n",
    "- What if we want to define a function in a __let__ statement recursively?\n",
    "    - __letrec__ expands the scope slightly to include the value of the variable"
   ]
  },
  {
   "cell_type": "code",
   "execution_count": null,
   "metadata": {
    "slideshow": {
     "slide_type": "slide"
    }
   },
   "outputs": [],
   "source": [
    "(letrec (\n",
    "          (sum (lambda (ls)\n",
    "                (if (null? ls)\n",
    "                    0\n",
    "                    (+ (car ls) (sum (cdr ls)))\n",
    "                 )\n",
    "               )\n",
    "          )\n",
    "         )\n",
    "  (sum '(1 2 3 4 5))\n",
    ")"
   ]
  },
  {
   "cell_type": "markdown",
   "metadata": {
    "slideshow": {
     "slide_type": "slide"
    }
   },
   "source": [
    "## Let*\n",
    "- Another variation of let is `let*`\n",
    "    - This forces the evaluation of the variables in let in the order they are declared in\n",
    "- `let*` allows variables declared earlier in the let block to be used when declared further variables\n",
    "```scheme\n",
    "(let*\n",
    "      (\n",
    "       (var1 value1)\n",
    "       (var2 var1)\n",
    "      )\n",
    "      body\n",
    " )\n",
    "```"
   ]
  },
  {
   "cell_type": "code",
   "execution_count": null,
   "metadata": {
    "slideshow": {
     "slide_type": "slide"
    }
   },
   "outputs": [],
   "source": [
    "(let*\n",
    "    ( \n",
    "      (n 10)\n",
    "      (n_squared (* n n))\n",
    "    )\n",
    "   (display n_squared)\n",
    ")"
   ]
  },
  {
   "cell_type": "markdown",
   "metadata": {
    "slideshow": {
     "slide_type": "slide"
    }
   },
   "source": [
    "## Assignment\n",
    "- Assignment is possible in Scheme, but there usually isn't a need for it\n",
    "- __set!__ is used to update a variable"
   ]
  },
  {
   "cell_type": "code",
   "execution_count": null,
   "metadata": {},
   "outputs": [],
   "source": [
    "(define old+ +)\n",
    "(set! + -)\n",
    ";(display (+ 2 4))\n",
    ";(set! + old+)\n",
    ";(display (old+ 2 4))"
   ]
  },
  {
   "cell_type": "markdown",
   "metadata": {
    "slideshow": {
     "slide_type": "slide"
    }
   },
   "source": [
    "## Assignment Practice\n",
    "Rewrite the function below to not use __set!__"
   ]
  },
  {
   "cell_type": "code",
   "execution_count": null,
   "metadata": {
    "slideshow": {
     "slide_type": "-"
    }
   },
   "outputs": [],
   "source": [
    "(define quadratic-formula\n",
    "  (lambda (a b c)\n",
    "    (let ((root1 0) (root2 0) (minusb 0) (radical 0) (divisor 0))\n",
    "      (set! minusb (- b))\n",
    "      (set! radical (sqrt (- (* b b) (* 4 (* a c)))))\n",
    "      (set! divisor (* 2 a))\n",
    "      (set! root1 (/ (+ minusb radical) divisor))\n",
    "      (set! root2 (/ (- minusb radical) divisor))\n",
    "      (cons root1 root2))))\n",
    "\n",
    "\n",
    "(display (quadratic-formula 1 100 3 ))"
   ]
  },
  {
   "cell_type": "code",
   "execution_count": null,
   "metadata": {
    "slideshow": {
     "slide_type": "slide"
    }
   },
   "outputs": [],
   "source": []
  },
  {
   "cell_type": "markdown",
   "metadata": {
    "slideshow": {
     "slide_type": "slide"
    }
   },
   "source": [
    "## Closures\n",
    "- Just like Lua, Scheme has closures\n",
    "- I think they are actually clearer in Scheme\n",
    "- General Layout:\n",
    "```scheme\n",
    "(define closureName (lambda ()\n",
    "    (let ((varToClose val))\n",
    "        (lambda ()\n",
    "            update varToClose\n",
    "        )\n",
    "    )\n",
    ")\n",
    "```"
   ]
  },
  {
   "cell_type": "markdown",
   "metadata": {
    "slideshow": {
     "slide_type": "slide"
    }
   },
   "source": [
    "## Closure Examples"
   ]
  },
  {
   "cell_type": "code",
   "execution_count": null,
   "metadata": {},
   "outputs": [],
   "source": [
    "(define counter (lambda()\n",
    "  (let ((count 0))\n",
    "    (lambda ()\n",
    "      (set! count (+ count 1))\n",
    "      count\n",
    "    )\n",
    "    )\n",
    ")\n",
    ")"
   ]
  },
  {
   "cell_type": "code",
   "execution_count": null,
   "metadata": {},
   "outputs": [],
   "source": [
    "(define c1 (counter))\n",
    "(c1)"
   ]
  },
  {
   "cell_type": "code",
   "execution_count": null,
   "metadata": {},
   "outputs": [],
   "source": [
    "(c1)"
   ]
  },
  {
   "cell_type": "markdown",
   "metadata": {
    "slideshow": {
     "slide_type": "slide"
    }
   },
   "source": [
    "## Closure Practice\n",
    "- Write a closure that takes in a variable, and returns a function that takes another variable \n",
    "    - This function will return greeting + name.\n",
    "    - (define hi (closure \"hello\"))\n",
    "    - (hi \" world\") results in \"hello world\""
   ]
  },
  {
   "cell_type": "code",
   "execution_count": null,
   "metadata": {},
   "outputs": [],
   "source": []
  },
  {
   "cell_type": "markdown",
   "metadata": {
    "slideshow": {
     "slide_type": "slide"
    }
   },
   "source": [
    "## Objects\n",
    "<small>From http://people.cs.aau.dk/~normark/prog3-03/html/notes/oop-scheme_themes-classes-objects-sec.html</small>"
   ]
  },
  {
   "cell_type": "code",
   "execution_count": null,
   "metadata": {
    "slideshow": {
     "slide_type": "-"
    }
   },
   "outputs": [],
   "source": [
    "(define (send message obj . par)\n",
    "  (let ((method (obj message)))\n",
    "    (apply method par)))\n",
    "\n",
    "(define point (lambda(x y)\n",
    "  (letrec ((getx    (lambda () x))\n",
    "           (gety    (lambda () y))\n",
    "           (add     (lambda (p) \n",
    "                      (point \n",
    "                       (+ x (send 'getx p))\n",
    "                       (+ y (send 'gety p)))))\n",
    "           (type-of (lambda () 'point))\n",
    "          )\n",
    "    (lambda (message)\n",
    "      (cond ((eq? message 'getx) getx)\n",
    "            ((eq? message 'gety) gety)\n",
    "            ((eq? message 'add)  add)\n",
    "            ((eq? message 'type-of) type-of)\n",
    "            (else (error \"Message not understood\")))))))"
   ]
  },
  {
   "cell_type": "code",
   "execution_count": null,
   "metadata": {
    "slideshow": {
     "slide_type": "slide"
    }
   },
   "outputs": [],
   "source": [
    "(define p1 (point 10 20))\n",
    "(define p2 (point 1  2))\n",
    "(display (send 'gety p1))\n",
    "(newline)\n",
    "(display (send 'getx p2))\n",
    "(newline)\n",
    "\n",
    "(define result (send 'add p1 p2))\n",
    "(display (send 'gety result))\n",
    "(newline)\n",
    "(display (send 'getx result))"
   ]
  },
  {
   "cell_type": "code",
   "execution_count": null,
   "metadata": {},
   "outputs": [],
   "source": []
  }
 ],
 "metadata": {
  "celltoolbar": "Slideshow",
  "kernelspec": {
   "display_name": "MIT Scheme",
   "language": "scheme",
   "name": "mit-scheme"
  },
  "language_info": {
   "codemirror_mode": "scheme",
   "file_extension": ".scm",
   "mimetype": "application/x-scheme",
   "name": "MIT Scheme",
   "pygments_lexer": "scheme",
   "version": "9.2.1"
  }
 },
 "nbformat": 4,
 "nbformat_minor": 1
}
