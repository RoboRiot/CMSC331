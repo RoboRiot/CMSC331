{
 "cells": [
  {
   "cell_type": "markdown",
   "metadata": {
    "slideshow": {
     "slide_type": "slide"
    }
   },
   "source": [
    "# Syntax"
   ]
  },
  {
   "cell_type": "markdown",
   "metadata": {
    "slideshow": {
     "slide_type": "slide"
    }
   },
   "source": [
    "## Definition\n",
    "Adopted from *Syntactic Theory* 1999. Ivan A Sag & Thomas Wasow. pg 3\n",
    "\n",
    ">*__Syntax__* is the study of the ways in which variables, functions, expressions, and other parts of programming languages combine into statements, and statements into programs- the form or structure of *well formed* statements in a language."
   ]
  },
  {
   "cell_type": "markdown",
   "metadata": {
    "slideshow": {
     "slide_type": "slide"
    }
   },
   "source": [
    "From *Syntactic Structure*. 1957. Noam Chomsky\n",
    "\n",
    "* Colorless green ideas sleep furiously  \n",
    "* Furiously sleep ideas green colorless \n",
    "\n",
    "\n"
   ]
  },
  {
   "cell_type": "markdown",
   "metadata": {
    "slideshow": {
     "slide_type": "slide"
    }
   },
   "source": [
    "## Mathematical Description of a Language\n",
    "\n",
    "An Alphabet ,$\\Sigma$, is a set of characters  \n",
    "A Sentence is a a string from $\\Sigma$  \n",
    "A Language ,*L*, is the set of all valid sentences.   \n",
    "\n",
    "Lexeme is the smallest syntactic unit. Approximates to a word in a natural language.  \n",
    "A Token is a category of lexemes. Approximates to a part of speech in a natural language.\n",
    "\n"
   ]
  },
  {
   "cell_type": "markdown",
   "metadata": {
    "slideshow": {
     "slide_type": "slide"
    }
   },
   "source": [
    "## A Simple Language\n",
    "- $ \\Sigma = \\{a\\} $\n",
    "- Example Sentences\n",
    "   - a\n",
    "   - aaaaa\n",
    "   - aaaaaaaa\n",
    "- $L = \\{a, aa, aaa, aaaa, ....\\}$"
   ]
  },
  {
   "cell_type": "markdown",
   "metadata": {
    "slideshow": {
     "slide_type": "slide"
    }
   },
   "source": [
    "## A Language of Binary Numbers\n",
    "- $\\Sigma = \\{0,1\\}$\n",
    "- Example Sentences\n",
    "   - 000\n",
    "   - 111\n",
    "   - 10101010\n",
    "- $L = \\{0, 1, 01, 10, 11, 101, ...\\}$"
   ]
  },
  {
   "cell_type": "markdown",
   "metadata": {
    "slideshow": {
     "slide_type": "slide"
    }
   },
   "source": [
    "## A Language English Words\n",
    "- $\\Sigma = \\{a, b, c, d, e, f, g, h, i, j, k, l, m, n, o, p, q, r, s, t, u, v, w, x, y, z\\}$\n",
    "- Example Sentences\n",
    "    - the\n",
    "    - a\n",
    "    - something\n",
    "- $L= \\{the, a, something, anything, any, almost, ...\\}$"
   ]
  },
  {
   "cell_type": "markdown",
   "metadata": {
    "slideshow": {
     "slide_type": "slide"
    }
   },
   "source": [
    "## Recognizers\n",
    "\n",
    "One way to define a language L.\n",
    "\n",
    "If we can build a machine, *R*, that has as input a string from *$\\Sigma$* and outputs if that string in is *L*, than *R* is a recognizer and is a complete description of *L*.\n",
    "\n",
    "Compiliers use recognizers to anaylze a program and return if its valid for the language or contains errors. We will cover these a little bit more in a few weeks.\n",
    "\n"
   ]
  },
  {
   "cell_type": "markdown",
   "metadata": {
    "slideshow": {
     "slide_type": "slide"
    }
   },
   "source": [
    "## Recognizers Visualized\n",
    "![A box marked R taking input \"string\" and producing output \"yes\" or \"no\"](img/recognizer.svg)"
   ]
  },
  {
   "cell_type": "markdown",
   "metadata": {
    "slideshow": {
     "slide_type": "slide"
    }
   },
   "source": [
    "## A Recognizer of Binary Strings in Python\n",
    "- While string is not empty, for each character in the string\n",
    "    - If the character is not 0 or 1, return False\n",
    "- If end of string is reached, return True"
   ]
  },
  {
   "cell_type": "code",
   "execution_count": 9,
   "metadata": {
    "slideshow": {
     "slide_type": "slide"
    }
   },
   "outputs": [],
   "source": [
    "def recognize(string):\n",
    "    if not string:\n",
    "        return False\n",
    "    for character in string:\n",
    "            if character != '0' and character != '1':\n",
    "                return False\n",
    "    return True"
   ]
  },
  {
   "cell_type": "code",
   "execution_count": 12,
   "metadata": {
    "slideshow": {
     "slide_type": "slide"
    }
   },
   "outputs": [
    {
     "data": {
      "text/plain": [
       "True"
      ]
     },
     "execution_count": 12,
     "metadata": {},
     "output_type": "execute_result"
    }
   ],
   "source": [
    "recognize('1001010101')"
   ]
  },
  {
   "cell_type": "markdown",
   "metadata": {
    "slideshow": {
     "slide_type": "slide"
    }
   },
   "source": [
    "## Generators\n",
    "\n",
    "A hypothetical machine that returns a sentence for a given language *L*.\n",
    "\n",
    "We actually care more about the structure of a generator than the output it can generate."
   ]
  },
  {
   "cell_type": "markdown",
   "metadata": {
    "slideshow": {
     "slide_type": "slide"
    }
   },
   "source": [
    "## Generators Visualized\n",
    "![A box labeled R with one output coming out of it, 'sentence in language L'](img/generator.svg)"
   ]
  },
  {
   "cell_type": "markdown",
   "metadata": {
    "slideshow": {
     "slide_type": "slide"
    }
   },
   "source": [
    "## Backus-Naur Form (BNF)\n",
    "\n",
    "* Primary method of syntax description in Computer Science\n",
    "* Equivalent to Context Free grammars\n",
    "    - A class of formal languages \n",
    "    - Has well understood properties \n",
    "* Is a metalanguage\n"
   ]
  },
  {
   "cell_type": "markdown",
   "metadata": {
    "slideshow": {
     "slide_type": "slide"
    }
   },
   "source": [
    "## BNF Basics\n",
    "\n",
    "The definition of the syntax of a particular part of a languge is called a *rule* or *production*.  \n",
    "\n",
    "Takes the form\n",
    "* LHS $\\to$ RHS\n",
    "\n",
    "LHS contains one *nonterminal* which represents a class of syntactic structures.  \n",
    "RHS contains both *nonterminals* and *terminals* - the lexemes and tokens of a language.  \n",
    "\n",
    "A *grammar* is a collection of rules.\n"
   ]
  },
  {
   "cell_type": "markdown",
   "metadata": {
    "slideshow": {
     "slide_type": "slide"
    }
   },
   "source": [
    "## A First BNF Example\n",
    "$ <assign> \\to <var> = <expr>$\n",
    "- $<assign>$, $<var>$, and $<expr>$ are nonterminals\n",
    "    - Enclosing in angle brackets is one notation we will use to denote this\n",
    "- $=$ is a terminal symbol\n"
   ]
  },
  {
   "cell_type": "markdown",
   "metadata": {
    "slideshow": {
     "slide_type": "slide"
    }
   },
   "source": [
    "## BNF Example\n",
    "-The following two grammars are equivalent: \n",
    "\n",
    "$ < if\\_stmt > \\to$ **if** $ ( < logic\\_expr >) < stmt > $  \n",
    "$ < if\\_stmt > \\to$ **if** $ ( < logic\\_expr >) < stmt > $ **else**  $< stmt >$\n",
    "\n",
    "$< if\\_stmt > \\to$ **if** $ ( < logic\\_expr >) < stmt > $ | **if** $ ( < logic\\_expr >) < stmt > $ **else**  $< stmt >$\n",
    "               "
   ]
  },
  {
   "cell_type": "markdown",
   "metadata": {
    "slideshow": {
     "slide_type": "slide"
    }
   },
   "source": [
    "## A more expressive grammar\n",
    "- BNF as we have shown it can write many powerful and complex grammars\n",
    "- It cannot, however, write a grammar to generate either of our two simple languages from before\n",
    "    - Binary Numbers\n",
    "    - A string of infinitely many A's\n",
    "- Applied to programming languages, we can't define a syntax for a program of unlimited length"
   ]
  },
  {
   "cell_type": "markdown",
   "metadata": {
    "slideshow": {
     "slide_type": "slide"
    }
   },
   "source": [
    "## Simple Recursion\n",
    "- The basic format of a recursive rule is to include the nonterminal from the left-hand side of the rule somewhere on the right-hand side of the rule\n",
    "    - One expansion of the left-hand side must not be recursive, this is equivalent to our stopping condition in programming\n",
    "- To make a generic binary number, the following rule is sufficient\n",
    "\n",
    "$<binary> \\to 0 \\,|\\, 1 \\,|\\, 0 <binary> |\\, 1<binary>$"
   ]
  },
  {
   "cell_type": "markdown",
   "metadata": {
    "slideshow": {
     "slide_type": "slide"
    }
   },
   "source": [
    "## Recursion for Math\n",
    "- A more involved recursive expression is needed to allow infinite mathematical expressions\n",
    "\n",
    "    * 4 + 2\n",
    "    * 4 + 2 / 5\n",
    "    * 4 + 2 / 5 * 4\n",
    "\n",
    "$< expr > \\to < id > + < expr > | < id > * < expr >$ <br/> $ \\qquad \\qquad | \\,(< expr >) | < id > $"
   ]
  },
  {
   "cell_type": "markdown",
   "metadata": {
    "slideshow": {
     "slide_type": "slide"
    }
   },
   "source": [
    "## BNF Example\n",
    "- As a class, write a BNF grammar for a date\n",
    "- Some Examples are\n",
    "    - January 29, 2018\n",
    "    - July 4, 1776\n",
    "    - October 31, 2001\n",
    "    \n",
    "Potential Solution:\n",
    "\n",
    "$\\begin{align} \\textrm{DATE}&\\to \\textrm{ MONTH DAY}, \\textrm{YEAR}\\\\ \\textrm{MONTH} &\\to \\textrm{ January } | \\textrm{ February }| \\textrm{ March }| \\textrm{ April } | \\\\  &  \\,\\,\\quad \\textrm{ May } | \\textrm{ June }| \\textrm{ July }| \\textrm{ August} \\\\ & \\,\\,\\quad \\textrm{ September } | \\textrm{ October } | \\textrm{ November } | \\textrm{ December } \\\\ \\textrm{DAY} &\\to \\textrm{ NUM  }| \\textrm{ 1 NUM } | \\textrm{ 2 NUM } | \\textrm{ 10 }| \\textrm{ 20 } | \\textrm{ 30 }| \\textrm{ 31  }\\\\ \\textrm{ NUM }&\\to \\textrm{ 1 } | \\textrm{ 2 }| \\,...\\, | \\textrm{ 9 } \\\\ \\textrm{ YEAR } &\\to \\textrm{ NUM } | \\textrm{ NUM YEAR }| \\textrm{ 0 } | \\textrm{ 0 YEAR } \\\\ \\end{align} $\n"
   ]
  },
  {
   "cell_type": "markdown",
   "metadata": {
    "slideshow": {
     "slide_type": "slide"
    }
   },
   "source": [
    "## BNF Example\n",
    "- As a class, write a BNF grammar for palindromes of lowercase letters\n",
    "- Some Examples are\n",
    "    - abba\n",
    "    - civic\n",
    "    - mom\n",
    "    - rotator\n",
    "    \n",
    "Possible Solution:\n",
    "    \n",
    "$\\begin{align} PAL \\to& \\textrm{ aPALa } | \\textrm{ bPALb } | \\,...\\,| \\textrm{ zPALz } | \\\\ & \\textrm{ aa } | \\textrm{ bb }  | \\,...\\, |  \\textrm{ zz } | \\textrm{ a } | \\textrm{ b } | ... | \\textrm{ z }\\end{align}$"
   ]
  },
  {
   "cell_type": "markdown",
   "metadata": {
    "slideshow": {
     "slide_type": "slide"
    }
   },
   "source": [
    "## BNF Practice\n",
    "\n",
    "* Write a BNF rule for the first line of an address\n",
    " * 1000 Hilltop Circle\n",
    " * 1600 Pennsylvania Ave\n",
    " * 10 Downing Street\n",
    " \n",
    " \n",
    " Possible Solution\n",
    " \n",
    " $\\begin{align} \\textrm{<addr>} \\to& \\textrm{ <num> <street> <type> } \\\\ \\textrm{<num>} \\to& \\textrm{ 0 } | \\textrm{ 1 } | \\textrm{ 2 } | \\, ...\\, | 9 | \\textrm{ <num><num> }\\\\ \\textrm{<street>} \\to& \\textrm{ <letter><street> } | \\textrm{ <letter> }\\\\ \\textrm{<letter>} \\to& \\textrm{ a } | \\textrm{ b } | \\,...\\, | \\textrm{ z } \\\\ \\textrm{ <type> } \\to& \\textrm{  Circle } | \\textrm{ Street } | \\textrm{ Ave } | \\textrm{ Blvd } | \\,...\\, | \\textrm{ Parkway} \\end{align}$"
   ]
  },
  {
   "cell_type": "markdown",
   "metadata": {
    "slideshow": {
     "slide_type": "slide"
    }
   },
   "source": [
    "## BNF Practice\n",
    "\n",
    "* Write a BNF rule for the indexing into a list in python. As a reminder they can look like this\n",
    "```python \n",
    "     scores[0]\n",
    "     scores[3:]\n",
    "     scores[:2]\n",
    "     scores[1:4]\n",
    "```\n",
    "Possible Solution: \n",
    "\n",
    "$\\begin{align} \\textrm{ < array_access > } \\to& \\textrm{ <variable> }[ \\textrm{ <index> } ] \\\\ \\textrm{ <index> } \\to& \\textrm{ <num> } | \\textrm{ <num>: } | \\textrm{ :<num> } | \\textrm{ <num>:<num>} \\\\ \\textrm{<num>} \\to& ...\\,|\\,\\textrm{-1}\\,|\\,0 \\, | \\, 1 \\, |\\, .... \\end{align}$\n"
   ]
  },
  {
   "cell_type": "markdown",
   "metadata": {
    "slideshow": {
     "slide_type": "slide"
    }
   },
   "source": [
    "\n",
    "## Derivation\n",
    "  \n",
    "A sequence of rule applications from the *start symbol* to a string in the language.  \n",
    "\n",
    "At each step in the sequence, replace a *non-terminal* with its *RHS*  \n",
    "\n",
    "We will use this grammar in the following example:\n",
    "\n",
    "$< assign > \\to < id > = < expr > $  \n",
    "$< id > \\to A | B | C$  \n",
    "$< expr > \\to < id > + < expr > $  \n",
    "$ \\qquad \\qquad | < id > * < expr > $  \n",
    "$ \\qquad \\qquad | \\,(\\, < expr > \\,)\\, $  \n",
    "$ \\qquad \\qquad | < id > $\n",
    "\n",
    "\n"
   ]
  },
  {
   "cell_type": "markdown",
   "metadata": {
    "slideshow": {
     "slide_type": "slide"
    }
   },
   "source": [
    "## Derivation (Cont'd)\n",
    "\n",
    "Derivation for the string _A = B * ( A + C) _\n",
    "\n",
    "$< assign > \\Rightarrow < id > = < expr > $  \n",
    "$ \\qquad  \\qquad \\Rightarrow A = < expr > $  \n",
    "$ \\qquad  \\qquad \\Rightarrow A = < id > * < expr > $  \n",
    "$ \\qquad  \\qquad \\Rightarrow A = B * < expr > $  \n",
    "$ \\qquad  \\qquad \\Rightarrow A = B * ( < expr > ) $  \n",
    "$ \\qquad  \\qquad \\Rightarrow A = B * ( < id > + < expr > ) $  \n",
    "$ \\qquad  \\qquad \\Rightarrow A = B * ( A + < expr > ) $  \n",
    "$ \\qquad  \\qquad \\Rightarrow A = B * ( A + < id > ) $  \n",
    "$ \\qquad  \\qquad \\Rightarrow A = B * ( A + C) $ \n"
   ]
  },
  {
   "cell_type": "markdown",
   "metadata": {
    "slideshow": {
     "slide_type": "slide"
    }
   },
   "source": [
    "## Derivation Example\n",
    "- Given the following grammar:\n",
    "\n",
    "$ \\begin{align} <nombre> &\\to <title> <personal\\_name> <last\\_name>, <suffix> | \\\\     &\\qquad \\qquad \\,<personal\\_name> <last\\_name>, <suffix> |\\\\     &\\qquad \\qquad \\, <title> <personal\\_name> <last\\_name> \\\\    <title> &\\to Mr.  \\,| \\, Mrs. \\, |\\, Dr.  \\,| \\, Hon. \\, | \\, Sir \\, | \\, Dame \\\\   <personal\\_name> &\\to <first\\_name> <middle\\_initial> | <first\\_name>\\\\   <first\\_name> &\\to <letter> | \\, <first\\_name> <letter>\\\\   <middle\\_initial> &\\to <letter> . \\\\\n",
    "  <last\\_name> &\\to <letter>  | \\, <last\\_name> <letter>\\\\   <suffix> &\\to Sr. | \\, Jr. | \\, III \\, | \\, IV \\end{align} $\n",
    "- As a class, give the derivation for:\n",
    "    - Dr. Freeman A. Hrabowski, III\n",
    "    - [Dame Wendy Hall](https://en.wikipedia.org/wiki/Wendy_Hall)\n",
    "    \n",
    "    \n",
    "$ \\begin{align} <nombre> \\Rightarrow& <title> <personal\\_name> <last\\_name>, <suffix> \\\\   \\Rightarrow&\\, \\textrm{ Dr. } <personal\\_name> <last\\_name>, <suffix> \\\\ \\Rightarrow&\\, \\textrm{ Dr. } <first\\_name> <middle\\_initial> <last\\_name>, <suffix> \\\\ \\Rightarrow&\\, \\textrm{ Dr. Freeman } <middle\\_initial> <last\\_name>, <suffix> \\\\ \\Rightarrow&\\, \\textrm{ Dr. Freeman }<letter>. <last\\_name>, <suffix> \\\\ \\Rightarrow&\\, \\textrm{ Dr. Freeman A. }<last\\_name>, <suffix> \\\\ \\Rightarrow&\\, \\textrm{ Dr. Freeman A. Hrabowski, } <suffix> \\\\ \\Rightarrow&\\, \\textrm{ Dr. Freeman A. Hrabowski, III } \\end{align} $\n",
    "\n",
    "\n",
    "$ \\begin{align} <nombre> \\Rightarrow& <title> <personal\\_name> <last\\_name> \\\\   \\Rightarrow&\\, \\textrm{ Dame } <personal\\_name> <last\\_name> \\\\ \\Rightarrow&\\, \\textrm{ Dame } <first\\_name> <last\\_name> \\\\ \\Rightarrow&\\, \\textrm{ Dame Wendy } <last\\_name> \\\\  \\Rightarrow&\\, \\textrm{ Dame Wendy Hall } \\end{align} $\n"
   ]
  },
  {
   "cell_type": "markdown",
   "metadata": {
    "slideshow": {
     "slide_type": "slide"
    }
   },
   "source": [
    "## Derivation Practice\n",
    "Given the following grammar:  \n",
    "S $\\to$ a X  \n",
    "X $\\to$ S b  \n",
    "X $\\to$ b  \n",
    "\n",
    "Give a derivation for:\n",
    "* ab\n",
    "* aabb\n",
    "\n",
    "$ \\begin{align} \\textrm{S} \\Rightarrow& \\textrm{ aX} \\\\  \\Rightarrow& \\textrm{ ab} \\\\ \\end{align} $\n",
    "\n",
    "$ \\begin{align} \\textrm{S} \\Rightarrow& \\textrm{ aX} \\\\  \\Rightarrow& \\textrm{ aSb} \\\\ \\Rightarrow& \\textrm{ aaXb} \\\\  \\Rightarrow& \\textrm{ aabb} \\\\\\end{align} $"
   ]
  },
  {
   "cell_type": "markdown",
   "metadata": {
    "slideshow": {
     "slide_type": "slide"
    }
   },
   "source": [
    "## Parse Tree\n",
    "\n",
    "Graphical representation of the hierarchy generated by a derivation\n",
    "\n",
    "<div style=\"float:left;width:50%;padding-top:20px;\">$< assign > \\Rightarrow < id > = < expr > $  \n",
    "$ \\qquad  \\qquad \\Rightarrow A = < expr > $  \n",
    "$ \\qquad  \\qquad \\Rightarrow A = < id > * < expr > $  \n",
    "$ \\qquad  \\qquad \\Rightarrow A = B * < expr > $  \n",
    "$ \\qquad  \\qquad \\Rightarrow A = B * ( < expr > ) $  \n",
    "$ \\qquad  \\qquad \\Rightarrow A = B * ( < id > + < expr > ) $  \n",
    "$ \\qquad  \\qquad \\Rightarrow A = B * ( A + < expr > ) $  \n",
    "$ \\qquad  \\qquad \\Rightarrow A = B * ( A + < id > ) $  \n",
    "$ \\qquad  \\qquad \\Rightarrow A = B * ( A + C) $ \n",
    "</div>\n",
    "\n",
    "<div style=\"float:right;width:50%\"><span style=\"zoom:34%\"><img src=\"img/parsetree1.jpg\" alt=\"parse tree for phrase A = B * ( A + C)\"></span></div>\n",
    "\n"
   ]
  },
  {
   "cell_type": "markdown",
   "metadata": {
    "slideshow": {
     "slide_type": "slide"
    }
   },
   "source": [
    "## Parse Tree Example\n",
    "- Given the Grammar Below\n",
    "\n",
    "$ \\begin{align} <nombre> &\\to <title> <personal\\_name> <last\\_name> <suffix> | \\\\     &\\qquad \\qquad \\,<personal\\_name> <last\\_name> <suffix> |\\\\     &\\qquad \\qquad \\, <title> <personal\\_name> <last\\_name> \\\\    <title> &\\to Mr.  \\,| \\, Mrs. \\, |\\, Dr.  \\,| \\, Hon. \\, | \\, Sir \\, | \\, Dame \\\\   <personal\\_name> &\\to <first\\_name> <middle\\_initial> | <first\\_name>\\\\   <first\\_name> &\\to <letter> | \\, <first\\_name> <letter>\\\\   <middle\\_initial> &\\to <letter> . \\\\\n",
    "  <last\\_name> &\\to <letter>  | \\, <last\\_name> <letter>\\\\   <suffix> &\\to Sr. | \\, Jr. | \\, III \\, | \\, IV \\end{align} $\n",
    "\n",
    "- Draw the parse tree for\n",
    "    - Dame Wendy Hall\n",
    "    \n",
    "![Parse tree for wendy hall, corresponds to derivation above](img/wendy_hall.svg)"
   ]
  },
  {
   "cell_type": "markdown",
   "metadata": {
    "slideshow": {
     "slide_type": "slide"
    }
   },
   "source": [
    "## Parse Tree Example\n",
    "- Given the Grammar Below\n",
    "\n",
    "$< assign > \\to < id > = < expr > $  \n",
    "$< id > \\to A | B | C$  \n",
    "$< expr > \\to < id > + < expr > $  \n",
    "$ \\qquad \\qquad | < id > * < expr > $  \n",
    "$ \\qquad \\qquad | \\,(\\, < expr > \\,)\\, $  \n",
    "$ \\qquad \\qquad | < id > $\n",
    "\n",
    "- Draw the parse tree for \n",
    "    - C = A + B \\* (A + B)\n",
    "    \n",
    "    \n",
    "![Parse tree for C = A + B * (A + B)](img/c=a+b.svg)"
   ]
  },
  {
   "cell_type": "markdown",
   "metadata": {
    "slideshow": {
     "slide_type": "slide"
    }
   },
   "source": [
    "## Parse Tree Practice\n",
    "\n",
    "<div style=\"width:50%;float:left;padding-top:10px;\">\n",
    "$< assign > \\to < id > = < expr > $  \n",
    "$< id > \\to A | B | C$  \n",
    "$< expr > \\to < id > + < expr > $  \n",
    "$ \\qquad \\qquad | < id > * < expr > $  \n",
    "$ \\qquad \\qquad | \\,(\\, < expr > \\,)\\, $  \n",
    "$ \\qquad \\qquad | < id > $\n",
    "</div>\n",
    "\n",
    "<div style=\"width:50%;float:right\">\n",
    "Using the grammar on the left, draw the parse trees for:  \n",
    "<ul>\n",
    "<li>A = B + C</li>  \n",
    "<li>B = A * B + C </li>\n",
    "</ul>\n",
    "</div>\n",
    "\n",
    "\n",
    "![Parse tree for A = B + C](img/a=b+c.svg)\n",
    "![Parse tree for A = B + C](img/b=a_times_b+c.svg)"
   ]
  }
 ],
 "metadata": {
  "celltoolbar": "Slideshow",
  "kernelspec": {
   "display_name": "Python 2",
   "language": "python",
   "name": "python2"
  },
  "language_info": {
   "codemirror_mode": {
    "name": "ipython",
    "version": 3
   },
   "file_extension": ".py",
   "mimetype": "text/x-python",
   "name": "python",
   "nbconvert_exporter": "python",
   "pygments_lexer": "ipython3",
   "version": "3.5.2"
  },
  "toc": {
   "nav_menu": {
    "height": "499px",
    "width": "208px"
   },
   "number_sections": false,
   "sideBar": true,
   "skip_h1_title": false,
   "toc_cell": false,
   "toc_position": {},
   "toc_section_display": "none",
   "toc_window_display": false
  }
 },
 "nbformat": 4,
 "nbformat_minor": 1
}
