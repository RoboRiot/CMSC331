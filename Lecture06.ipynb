{
 "cells": [
  {
   "cell_type": "markdown",
   "metadata": {
    "slideshow": {
     "slide_type": "slide"
    }
   },
   "source": [
    "# Parsing"
   ]
  },
  {
   "cell_type": "markdown",
   "metadata": {
    "slideshow": {
     "slide_type": "slide"
    }
   },
   "source": [
    "## Bottom-Up Parsing\n",
    "- Starting with a string, we build the parse tree on top of it\n",
    " - Does right most derivation in reverse\n",
    "- Can handle left recursion\n",
    "- At each step we need to find the handle\n",
    " - The handle is portion of the mix of terminals and non-terminals that can simplified to another non-terminal\n",
    " - A handle must lead to a valid derivation\n",
    " - For the string __id__ + id \\* id, __id__ is the handle because we can simplfy to __F__ + id \\* id "
   ]
  },
  {
   "cell_type": "markdown",
   "metadata": {
    "slideshow": {
     "slide_type": "slide"
    }
   },
   "source": [
    "## Sentential Form and Phrases\n",
    "- A sentential form is any line of a derivation, that is a mix of terminals and non-terminals\n",
    "- A phrase is any set of symbols that will eventually be reduced to a single symbol\n",
    "    - All the children of one node in the parse tree\n",
    "- A simple phrase is a phrase that can be reduces to one symbol in one step, that is a subtree with a depth of 1\n",
    "- A handle is the left-most simple phrase\n",
    "    - We are pruning the parse tree as we go up it"
   ]
  },
  {
   "cell_type": "markdown",
   "metadata": {
    "slideshow": {
     "slide_type": "slide"
    }
   },
   "source": [
    "## Phrases and Handles Practice\n",
    "- Draw the parse tree and find the phrases and handles for the following right sentential form given the grammar\n",
    "- S $\\to$ AbB | bAc\n",
    "- A $\\to$ Ab | aBB\n",
    "- B $\\to$ Ac | cBb | c\n",
    "\n",
    "- Exercises\n",
    "    - aAcccbbc (as class)\n",
    "    - AbcaBccb\n",
    "    "
   ]
  },
  {
   "cell_type": "markdown",
   "metadata": {
    "slideshow": {
     "slide_type": "slide"
    }
   },
   "source": [
    "## Shift-Reduce\n",
    "\n",
    "- The general algorithm used for bottom-up parsing\n",
    "- Uses the LR parsing strategy\n",
    " - Scans strings from left-to-right\n",
    " - Uses the rightmost derivation\n",
    "- Implemented using a parsing table and a stack\n",
    "- Shift pushes a token on to the stack while reduce uses a rule of the grammar to simplify part of the stack"
   ]
  },
  {
   "cell_type": "markdown",
   "metadata": {
    "slideshow": {
     "slide_type": "slide"
    }
   },
   "source": [
    "## Parse Tables\n",
    "\n",
    "<div style=\"width:20%;float:left\">\n",
    "<p> For the grammar: </p>\n",
    "<ol>\n",
    "<li>$E \\to E \\, + \\, T$</li>\n",
    "<li>$E \\to T$</li>\n",
    "<li>$T \\to T \\, * \\, F$</li>\n",
    "<li>$T \\to F$</li>\n",
    "<li>$F \\to (\\, E \\,) T$</li>\n",
    "<li>$F \\to id$</li>\n",
    "</ol>\n",
    "</div>\n",
    "<div style=\"width:80%;float:left\">\n",
    "<p>The parsing table is: </p>\n",
    "<img style=\"width:60%\" src=\"parsetable.jpg\" />\n",
    "</div>"
   ]
  },
  {
   "cell_type": "markdown",
   "metadata": {
    "slideshow": {
     "slide_type": "slide"
    }
   },
   "source": [
    "## Shift-Reduce Algorithm\n",
    "\n",
    "- Initialize the stack with state 0\n",
    "- While not accept or error\n",
    " - Given state and next symbol, find appropriate action in table\n",
    "  - If action is shift, we shift that symbol and new state onto the stack\n",
    "  - If action is reduce:\n",
    "   - Pop handle and apply rule as indicated in table\n",
    "   - Using next state on stack, look at goto table for new symbol and that state\n",
    "   - Push non-terminal and state from goto on to stack\n"
   ]
  },
  {
   "cell_type": "markdown",
   "metadata": {
    "slideshow": {
     "slide_type": "slide"
    }
   },
   "source": [
    "## The Stack\n",
    "- In shift-reduce parsing, the stack is always of the form\n",
    "\n",
    "### $S_n$, $SYMBOL$, $S_m$, $SYMBOL$, $S_o$, ..... $S_x$\n",
    "\n",
    "- Where $S_n$ is a state and `SYMBOL` is a terminal or non-terminal from the grammar\n",
    "- This is sometimes written as \n",
    "\n",
    "###  $n$, $SYMBOL$, $m$, $SYMBOL$, $o$, ..... $x$"
   ]
  },
  {
   "cell_type": "markdown",
   "metadata": {
    "slideshow": {
     "slide_type": "slide"
    }
   },
   "source": [
    "## Shift-Reduce Algorithm Practice\n",
    "\n",
    "<div style=\"width:30%;float:left\">\n",
    "<p> Parse </p>\n",
    "<table>\n",
    "<thead>\n",
    "<tr>\n",
    "<th>Stack</th>\n",
    "<th>Input</th>\n",
    "<th>Action</th>\n",
    "</tr>\n",
    "</thead>\n",
    "<tbody>\n",
    "<tr>\n",
    "<td>0</td>\n",
    "<td>id \\* id + id \\$ </td>\n",
    "<td></td>\n",
    "</tr>\n",
    "<tr>\n",
    "<!--<td>0 id 5</td>\n",
    "<td> \\* id + id \\$ </td>\n",
    "<td>R6</td>\n",
    "</tr>\n",
    "<tr>\n",
    "<td>0 F 3</td>\n",
    "<td>\\* id + id \\$ </td>\n",
    "<td>R4</td>\n",
    "</tr>\n",
    "<tr>\n",
    "<td>0 T 2</td>\n",
    "<td>\\* id + id \\$ </td>\n",
    "<td>S7</td>\n",
    "</tr>\n",
    "<tr>\n",
    "<td>0 T 2 \\* 7</td>\n",
    "<td>id + id \\$ </td>\n",
    "<td>S5</td>\n",
    "</tr>\n",
    "<tr>\n",
    "<td>0 T 2 \\* 7 id 5</td>\n",
    "<td>+ id \\$ </td>\n",
    "<td>R6</td>\n",
    "</tr>\n",
    "<tr>\n",
    "<td>0 T 2 \\* 7 F 10</td>\n",
    "<td>+ id \\$ </td>\n",
    "<td>R3</td>\n",
    "</tr>\n",
    "<tr>\n",
    "<td>0 T 2 </td>\n",
    "<td>+ id \\$ </td>\n",
    "<td>R2</td>\n",
    "</tr>\n",
    "<tr>\n",
    "<td>0 E 1 </td>\n",
    "<td>+ id \\$ </td>\n",
    "<td>S6</td>\n",
    "</tr>\n",
    "<tr>\n",
    "<td>0 E 1  + 6</td>\n",
    "<td>id \\$ </td>\n",
    "<td>S5</td>\n",
    "</tr>\n",
    "<tr>\n",
    "<td>0 E 1  + 6 id 5</td>\n",
    "<td>\\$ </td>\n",
    "<td>R6</td>\n",
    "</tr>\n",
    "<tr>\n",
    "<td>0 E 1  + 6 F 3</td>\n",
    "<td>\\$ </td>\n",
    "<td>R4</td>\n",
    "</tr>\n",
    "<tr>\n",
    "<td>0 E 1  + 6 T 9</td>\n",
    "<td>\\$ </td>\n",
    "<td>R1</td>\n",
    "</tr>\n",
    "<tr>\n",
    "<td>0 E 1</td>\n",
    "<td>\\$ </td>\n",
    "<td>accept</td>\n",
    "</tr>-->\n",
    "\n",
    "\n",
    "</tbody>\n",
    "</table>\n",
    "</div>\n",
    "<div style=\"width:70%;float:left\">\n",
    "<p>The parsing table is: </p>\n",
    "<img style=\"width:65%\" src=\"parsetable.jpg\" />\n",
    "</div>"
   ]
  },
  {
   "cell_type": "markdown",
   "metadata": {
    "slideshow": {
     "slide_type": "slide"
    }
   },
   "source": [
    "## Shift-Reduce Practice\n",
    "\n",
    "Show the parse including the stack for __id \\* ( id + id)__  \n",
    "\n",
    "\n",
    "<div style=\"width:40%;float:left\">\n",
    "<p> Grammar: </p>\n",
    "<ol>\n",
    "<li>$E \\to E \\, + \\, T$</li>\n",
    "<li>$E \\to T$</li>\n",
    "<li>$T \\to T \\, * \\, F$</li>\n",
    "<li>$T \\to F$</li>\n",
    "<li>$F \\to (\\, E \\,) $</li>\n",
    "<li>$F \\to id$</li>\n",
    "</ol>\n",
    "</div>\n",
    "<div style=\"width:60%;float:left\">\n",
    "<p>The parsing table is: </p>\n",
    "<img style=\"width:90%\" src=\"parsetable.jpg\" />\n",
    "</div>\n",
    "<div style=\"width:35%;float:left\">\n",
    "<p>Parse:</p>\n",
    "<table>\n",
    "<thead>\n",
    "<tr>\n",
    "<th>Stack</th>\n",
    "<th>Input</th>\n",
    "<th>Action</th>\n",
    "</tr>\n",
    "</thead>\n",
    "<tbody>\n",
    "<!--<tr>\n",
    "<td>0</td>\n",
    "<td>id \\* (id + id) \\$ </td>\n",
    "<td>S5</td>\n",
    "</tr>\n",
    "<tr>\n",
    "<td>0 id 5</td>\n",
    "<td> \\* (id + id) \\$ </td>\n",
    "<td>R6</td>\n",
    "</tr>\n",
    "<tr>\n",
    "<td>0 F 3</td>\n",
    "<td>\\* (id + id) \\$ </td>\n",
    "<td>R4</td>\n",
    "</tr>\n",
    "<tr>\n",
    "<td>0 T 2</td>\n",
    "<td>\\* (id + id) \\$ </td>\n",
    "<td>S7</td>\n",
    "</tr>\n",
    "<tr>\n",
    "<td>0 T 2 \\* 7</td>\n",
    "<td>(id + id) \\$ </td>\n",
    "<td>S4</td>\n",
    "</tr>\n",
    "<tr>\n",
    "<td>0 T 2 \\* 7 ( 4</td>\n",
    "<td>id + id ) \\$ </td>\n",
    "<td>S5</td>\n",
    "</tr>\n",
    "<tr>\n",
    "<td>0 T 2 \\* 7 ( 4 id 5</td>\n",
    "<td>+ id) \\$ </td>\n",
    "<td>R6</td>\n",
    "</tr>\n",
    "<tr>\n",
    "<td>0 T 2 \\* 7 ( 4 F 3 </td>\n",
    "<td>+ id) \\$ </td>\n",
    "<td>R4</td>\n",
    "</tr>\n",
    "<tr>\n",
    "<td>0 T 2 \\* 7 ( 4 T 2  </td>\n",
    "<td>+ id )\\$ </td>\n",
    "<td>R2</td>\n",
    "</tr>\n",
    "<tr>\n",
    "<td>0 T 2 \\* 7 ( 4 E 8 </td>\n",
    "<td>+ id ) \\$ </td>\n",
    "<td>S6</td>\n",
    "</tr>\n",
    "<tr>\n",
    "<td>0 T 2 \\* 7 ( 4 E 8 + 6</td>\n",
    "<td> id )\\$ </td>\n",
    "<td>S5</td>\n",
    "</tr>\n",
    "<tr>\n",
    "<td>0 T 2 \\* 7 ( 4 E 8 + 6 id 5</td>\n",
    "<td> ) \\$ </td>\n",
    "<td>R6</td>\n",
    "</tr>\n",
    "<tr>\n",
    "<td>0 T 2 \\* 7 ( 4 E 8 + 6 F 3</td>\n",
    "<td> ) \\$ </td>\n",
    "<td>R4</td>\n",
    "</tr>\n",
    "<tr>\n",
    "<td>0 T 2 \\* 7 ( 4 E 8 + 6 T 9 </td>\n",
    "<td> ) \\$ </td>\n",
    "<td>R1</td>\n",
    "</tr>\n",
    "<tr>\n",
    "<td>0 T 2 \\* 7 ( 4 E 8</td>\n",
    "<td> ) \\$ </td>\n",
    "<td>S11</td>\n",
    "</tr>\n",
    "<tr>\n",
    "<td>0 T 2 \\* 7 ( 4 E 8 ) 11 </td>\n",
    "<td>\\$ </td>\n",
    "<td>R5</td>\n",
    "</tr>\n",
    "<tr>\n",
    "<td>0 T 2 \\* 7 F 10 </td>\n",
    "<td>\\$ </td>\n",
    "<td>R3</td>\n",
    "</tr>\n",
    "<tr>\n",
    "<td>0 T 2 </td>\n",
    "<td>\\$ </td>\n",
    "<td>R2</td>\n",
    "</tr>\n",
    "<tr>\n",
    "<td>0 E 1 </td>\n",
    "<td>\\$ </td>\n",
    "<td>accept</td>\n",
    "</tr>\n",
    "-->\n",
    "\n",
    "</tbody>\n",
    "</table>\n",
    "</div>"
   ]
  },
  {
   "cell_type": "markdown",
   "metadata": {
    "collapsed": true,
    "slideshow": {
     "slide_type": "slide"
    }
   },
   "source": [
    "## Yacc\n",
    "- Yacc stands for yet another compiler compiler, and generates the tables needed to perform shift-reduce parsing\n",
    "- Yacc is not free, but there is a free version known as `bison`\n",
    "- A modified BNF grammar of the form\n",
    "```c\n",
    "    LHS:\n",
    "        RHS\n",
    "      | RHS\n",
    "```\n",
    "\n",
    "- A bit more involved than `lex` and `flex` in the setup"
   ]
  },
  {
   "cell_type": "code",
   "execution_count": null,
   "metadata": {
    "collapsed": true
   },
   "outputs": [],
   "source": []
  }
 ],
 "metadata": {
  "celltoolbar": "Slideshow",
  "kernelspec": {
   "display_name": "Python 2",
   "language": "python",
   "name": "python2"
  },
  "language_info": {
   "codemirror_mode": {
    "name": "ipython",
    "version": 2
   },
   "file_extension": ".py",
   "mimetype": "text/x-python",
   "name": "python",
   "nbconvert_exporter": "python",
   "pygments_lexer": "ipython2",
   "version": "2.7.9"
  }
 },
 "nbformat": 4,
 "nbformat_minor": 1
}
