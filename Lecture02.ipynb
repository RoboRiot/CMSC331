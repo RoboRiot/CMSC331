{
 "cells": [
  {
   "cell_type": "markdown",
   "metadata": {
    "slideshow": {
     "slide_type": "slide"
    }
   },
   "source": [
    "\n",
    "# Syntax Part II"
   ]
  },
  {
   "cell_type": "markdown",
   "metadata": {
    "slideshow": {
     "slide_type": "slide"
    }
   },
   "source": [
    "## Common Questions about Syntax\n",
    "\n",
    "* Is there only ever one parse tree for a string?\n",
    "* How do we make sure our parse tree follows mathematical rules\n"
   ]
  },
  {
   "cell_type": "markdown",
   "metadata": {
    "slideshow": {
     "slide_type": "slide"
    }
   },
   "source": [
    "## Ambiguity  \n",
    "\n",
    "* If a grammar contains any sentence for which there are two or more legal parse trees, then that grammar is _ambiguous_. \n",
    "* I saw the man with the binoculars\n",
    "* One morning I shot an elephant in my pajamas. How he got in my pajamas, I don't know. (_Animal Crackers_.1930)\n",
    "* In programming languages, ambiguous grammars can usually be rewritten to be unambigous"
   ]
  },
  {
   "cell_type": "markdown",
   "metadata": {
    "slideshow": {
     "slide_type": "slide"
    }
   },
   "source": [
    "## Ambiguity in Parse Trees\n",
    "<div style=\"float:left;width:50%\">\n",
    "<p>Given the grammar:</p>\n",
    "<ul  style=\"list-style-type:none\">\n",
    "<li>$< assign > \\to < id > = < expr > $ </li>\n",
    "<li>$< id > \\to A \\, | \\, B \\, | \\, C $ </li>\n",
    "<li>$< expr > \\to < expr > + < expr> $ </li>\n",
    "<li>$\\qquad \\qquad | < expr > * < expr> $ </li>\n",
    "<li>$\\qquad \\qquad | \\, ( < expr> ) $ </li>\n",
    "<li>$\\qquad \\qquad | < id > $ </li>\n",
    "</ul>\n",
    "</div>\n",
    "\n",
    "<div style=\"float:right;width:50%\">\n",
    "<p>A = B + C * A is ambiguous</p>\n",
    "![Example of ambiguous parse trees](ambparse.jpg)\n",
    "</div>"
   ]
  },
  {
   "cell_type": "markdown",
   "metadata": {
    "slideshow": {
     "slide_type": "slide"
    }
   },
   "source": [
    "## Operator Precedence \n",
    "\n",
    "* One way to remove ambiguity is to design a language so that certain operators have higher precedence than others\n",
    " * This means that when the program is evaluated, this section of the parse tree will be run first\n",
    " * The lower in the parse tree an operator is, the higher precedence it has\n",
    "* Using a separate non-terminal for each precedence level achieves this\n"
   ]
  },
  {
   "cell_type": "markdown",
   "metadata": {
    "slideshow": {
     "slide_type": "slide"
    }
   },
   "source": [
    "## Ambiguous to Unambiguous\n",
    "<div stlye=\"width:100%\">\n",
    "<div style=\"float:left;width:50%\">\n",
    "<p>Ambiguous Grammar</p>\n",
    "<ul style=\"list-style-type:none\">\n",
    "<li>$< assign > \\to < id > = < expr > $ </li>\n",
    "<li>$< id > \\to A \\, | \\, B \\, | \\, C $ </li>\n",
    "<li>$< expr > \\to < expr > + < expr> $ </li>\n",
    "<li>$\\qquad \\qquad | < expr > * < expr> $ </li>\n",
    "<li>$\\qquad \\qquad | \\, ( < expr> ) $ </li>\n",
    "<li>$\\qquad \\qquad | < id > $ </li>\n",
    "</ul>\n",
    "</div>\n",
    "\n",
    "\n",
    "<div style=\"float:left;width:50%;\">\n",
    "<p>Unambiguous Grammar</p>\n",
    "<ul  style=\"list-style-type:none\">\n",
    "<li>$< assign > \\to < id > = < expr > $ </li>\n",
    "<li>$< id > \\to A \\, | \\, B \\, | \\, C $ </li>\n",
    "<li>$< expr > \\to < expr > + < term > $ </li>\n",
    "<li>$\\qquad \\qquad | < term > $ </li>\n",
    "<li>$< term > \\to  < term > * < factor > $</li>\n",
    "<li>$ \\qquad \\qquad | < factor > $ </li>\n",
    "<li>$< factor > \\to ( < expr> ) $ </li>\n",
    "<li>$\\qquad \\qquad | < id > $ </li>\n",
    "</ul>\n",
    "</div>\n",
    "</div>"
   ]
  },
  {
   "cell_type": "markdown",
   "metadata": {
    "slideshow": {
     "slide_type": "slide"
    }
   },
   "source": [
    "## Compare the derivations\n",
    "Derivations for A = B + C * A\n",
    "\n",
    "<div style=\"float:left;width:65%\">\n",
    "<div style=\"width:50%;margin:0px auto\">\n",
    "\n",
    "<ul style=\"list-style-type:none;\">\n",
    "<li>$< assign > \\Rightarrow < id > = < expr >$</li>\n",
    "<li>$\\qquad \\qquad \\Rightarrow A = < expr >$</li>\n",
    "</ul>\n",
    "</div>\n",
    "<div style=\"float:left;width:45%\">\n",
    "<ul style=\"list-style-type:none\">\n",
    "<li>$\\Rightarrow A = < expr > + < expr >$</li>\n",
    "<li>$\\Rightarrow A = < id > + < expr >$</li>\n",
    "<li>$\\Rightarrow A = B + < expr >$</li>\n",
    "<li>$\\Rightarrow A = B + < expr > * < expr >$</li>\n",
    "</ul>\n",
    "</div>\n",
    "<div style=\"float:left;width:55%\">\n",
    "<ul style=\"list-style-type:none;\">\n",
    "<li>$\\Rightarrow A = < expr > * < expr >$</li>\n",
    "<li>$\\Rightarrow A = < expr > + < expr > * < expr >$</li>\n",
    "<li>$\\Rightarrow A = < id > + < expr > * < expr >$</li>\n",
    "<li>$\\Rightarrow A = B + < expr > * < expr >$</li>\n",
    "</ul>\n",
    "</div>\n",
    "</div>\n",
    "<div style=\"float:right;width:35%\">\n",
    "<ul style=\"list-style-type:none\">\n",
    "<li>$< assign > \\Rightarrow < id > = < expr >$</li>\n",
    "<li>$\\qquad \\qquad \\Rightarrow A = < expr >$</li>\n",
    "<li>$\\qquad \\qquad \\Rightarrow A = < expr > + < term >$</li>\n",
    "<li>$\\qquad \\qquad \\Rightarrow A = < term > + < term >$</li>\n",
    "<li>$\\qquad \\, \\, \\quad \\Rightarrow A = < factor > + < term >$</li>\n",
    "<li>$\\qquad \\qquad \\Rightarrow A = < id > + < term >$</li>\n",
    "<li>$\\qquad \\qquad \\Rightarrow A = B + < term >$</li>\n",
    "</ul>\n",
    "</div>"
   ]
  },
  {
   "cell_type": "markdown",
   "metadata": {
    "slideshow": {
     "slide_type": "slide"
    }
   },
   "source": [
    "## Precedence Practice\n",
    "\n",
    "Make this grammar unambigous\n",
    "\n",
    "<ul style=\"list-style-type:none\">\n",
    "<li>$C \\to C \\, \\textrm{or} \\, C$</li>\n",
    "<li>$C \\to C \\, \\textrm{and} \\, C$</li>\n",
    "<li>$C \\to ( \\, C \\, )$</li>\n",
    "<li>$C \\to id$</li>\n",
    "</ul>"
   ]
  },
  {
   "cell_type": "markdown",
   "metadata": {
    "slideshow": {
     "slide_type": "slide"
    }
   },
   "source": [
    "## Operator Associativity\n",
    "\n",
    "* An additional type of precedence used when  a string contains multiple operators of the same precedence\n",
    " * A + B - C\n",
    " * A / B * C\n",
    " * A + B + C\n",
    "* The side of the operator the recursion occurs on determines associativity\n",
    " * $ < expr > \\to < expr > + < term > $ is left associative\n",
    " * $ < factor > \\to < expr > ** < factor> $ is right associative"
   ]
  },
  {
   "cell_type": "markdown",
   "metadata": {
    "slideshow": {
     "slide_type": "slide"
    }
   },
   "source": [
    "## Extended BNF (EBNF)\n",
    "* Does not change the type of languages we can describe\n",
    "* Square brackets are used to denote optionality\n",
    " * $< if\\_stmt > \\to < if > ( < expr > ) < stmt > [ else < stmt > ] $ \n",
    "* Curly braces are used denote repetition\n",
    " * $< ident\\_list > \\to < identifier > \\{ , < identifier > \\} $\n",
    "* Parentheses and the OR operator (|) are used to denote options\n",
    " * $< term > \\to < term > ( \\,* \\, \\bracevert \\, / \\,\\bracevert \\,\\% \\,) < factor > $"
   ]
  },
  {
   "cell_type": "markdown",
   "metadata": {
    "slideshow": {
     "slide_type": "slide"
    }
   },
   "source": [
    "\n",
    "## EBNF Practice\n",
    "\n",
    "Convert to an EBNF\n",
    "\n",
    "<ul style=\"list-style-type:none\">\n",
    "<li>$< program > \\to \\textrm{begin} < stmt\\_list > \\textrm{end}$ </li>\n",
    "<li>$< stmt\\_list > \\to < stmt > |  < stmt > ; < stmt\\_list>$ </li>\n",
    "<li>$< stmt > \\to < var > = < expression> $ </li>\n",
    "<li>$< var > \\to \\textrm{A} \\, | \\, \\textrm{B} \\, | \\, \\textrm{C} $ </li>\n",
    "<li>$< expression > \\to < var > + < var > $ </li>\n",
    "<li>$\\qquad \\qquad | < var > - < var >$</li>\n",
    "<li>$\\qquad \\qquad | < var > $ </li>\n",
    "</ul>"
   ]
  },
  {
   "cell_type": "markdown",
   "metadata": {
    "slideshow": {
     "slide_type": "slide"
    }
   },
   "source": [
    "## EBNF Practice\n",
    "\n",
    "Convert to an EBNF\n",
    "\n",
    "<ul style=\"list-style-type:none\">\n",
    "<li>$< assign > \\to < id >  = < expr >$ </li>\n",
    "<li>$< id > \\to \\textrm{A} \\, | \\, \\textrm{B} \\, | \\, \\textrm{C} $ </li>\n",
    "<li>$< expr > \\to < expr > + < expr > $</li>\n",
    "<li>$\\qquad \\qquad | < expr > * < expr > $ </li>\n",
    "<li>$\\qquad \\qquad | \\, ( \\, < expr > \\, ) \\, $</li>\n",
    "<li>$\\qquad \\qquad | < id > $</li>\n",
    "</ul>\n"
   ]
  },
  {
   "cell_type": "markdown",
   "metadata": {
    "slideshow": {
     "slide_type": "slide"
    }
   },
   "source": [
    "## Static Semantics\n",
    "\n",
    "* Covers aspects of meaning that can be checked at compile time\n",
    " * Often used for type checking in strongly typed languages\n",
    " * Knowing that both operands in < num > / < num > should be float requires knowledge of what / means \n"
   ]
  },
  {
   "cell_type": "markdown",
   "metadata": {
    "slideshow": {
     "slide_type": "slide"
    }
   },
   "source": [
    "## Attribute Grammars\n",
    "* Used to specificy static semantics\n",
    "* Consists of \n",
    " * _Attributes_ that act as variables in the grammar\n",
    " * _Attribute computation functions_ describe how the values of the attributes are computed\n",
    " * _Predicate functions_ give semantic rules that must be followed"
   ]
  },
  {
   "cell_type": "markdown",
   "metadata": {
    "slideshow": {
     "slide_type": "slide"
    }
   },
   "source": [
    "## Attribute Grammars cont'd\n",
    "* The attributes of a grammar symbol X are denoted X._attr_\n",
    "* Attribute computation functions use the attributes of either the parents or the children as inputs to get the current nodes attributes\n",
    "* Predicate functions are boolean expressions that restrict the possible derivations"
   ]
  },
  {
   "cell_type": "markdown",
   "metadata": {
    "slideshow": {
     "slide_type": "slide"
    }
   },
   "source": [
    "## Attribute Grammar Examples\n",
    "* In Ada to define a function we need the name of the procedure at both the beginning and the end of the definition\n",
    "* Syntax: $ < proc\\_def > \\to procedure < proc\\_name > [ 1 ] \n",
    "< proc\\_body > end < proc\\_name > [ 2 ] $\n",
    "* Predicate: $ < proc\\_name >[1].string == < proc\\_name > [2].string $"
   ]
  },
  {
   "cell_type": "markdown",
   "metadata": {
    "slideshow": {
     "slide_type": "slide"
    }
   },
   "source": [
    "## Attribute Grammar Practice\n",
    "Modify Grammar below into an Attribute Grammar that obeys the following rules\n",
    "* Data types cannot be mixed in expresisons\n",
    "* The assignment statement does not need to have the same type on both sides\n",
    "\n",
    "\n",
    "<ul style=\"list-style-type:none\">\n",
    "<li>$< assign > \\to < var >  = < expr >$ </li>\n",
    "<li>$< expr > \\to < var > + < var > | < var >$ </li>\n",
    "<li>$< var > \\to \\textrm{A} \\, | \\, \\textrm{B} \\, | \\, \\textrm{C} $ </li>\n",
    "</ul>"
   ]
  },
  {
   "cell_type": "code",
   "execution_count": null,
   "metadata": {
    "collapsed": true
   },
   "outputs": [],
   "source": []
  }
 ],
 "metadata": {
  "celltoolbar": "Slideshow",
  "kernelspec": {
   "display_name": "Python 2",
   "language": "python",
   "name": "python2"
  },
  "language_info": {
   "codemirror_mode": {
    "name": "ipython",
    "version": 2
   },
   "file_extension": ".py",
   "mimetype": "text/x-python",
   "name": "python",
   "nbconvert_exporter": "python",
   "pygments_lexer": "ipython2",
   "version": "2.7.9"
  }
 },
 "nbformat": 4,
 "nbformat_minor": 1
}
