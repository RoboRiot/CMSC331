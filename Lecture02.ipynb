{
 "cells": [
  {
   "cell_type": "markdown",
   "metadata": {
    "slideshow": {
     "slide_type": "slide"
    }
   },
   "source": [
    "\n",
    "# Syntax\n",
    "## Ambiguity, EBNF, and Attribute Grammars"
   ]
  },
  {
   "cell_type": "markdown",
   "metadata": {
    "slideshow": {
     "slide_type": "slide"
    }
   },
   "source": [
    "## Warm-Up\n",
    "- Given the following grammar, what is the derivation of: a[4:-2]\n",
    "\n",
    "$\\begin{align} \\textrm{ < access > } \\to& \\textrm{ <variable> }[ \\textrm{ <index> } ] \\\\ \\textrm{ <index> } \\to& \\textrm{ <num> } | \\textrm{ <num>: } | \\textrm{ :<num> } | \\textrm{ <num>:<num>} \\\\ \\textrm{<num>} \\to& ...\\,|\\,\\textrm{-1}\\,|\\,0 \\, | \\, 1 \\, |\\, .... \\\\ \\textrm{<variable>} \\to & \\textrm{a} \\, | \\, \\textrm{b} \\, | \\, \\textrm{c}\\end{align}$\n",
    "\n",
    "Answer:\n",
    "\n",
    "$\\begin{align} \\textrm{ < access > } \\Rightarrow& \\textrm{ <variable> }[ \\textrm{ <index> } ] \\\\ \\Rightarrow& \\textrm{a}[ \\textrm{ <index> } ]\\\\ \\Rightarrow& \\textrm{a}[\\textrm{ <num>:<num>}] \\\\ \\Rightarrow& \\textrm{a}[\\textrm{ 4:<num>}] \\\\ \\Rightarrow& \\textrm{a}[\\textrm{ 4:-2}]\\end{align}$"
   ]
  },
  {
   "cell_type": "markdown",
   "metadata": {
    "slideshow": {
     "slide_type": "slide"
    }
   },
   "source": [
    "## Common Questions about Syntax\n",
    "\n",
    "* Is there only ever one parse tree for a string?\n",
    "* How do we make sure our parse tree follows mathematical rules\n"
   ]
  },
  {
   "cell_type": "markdown",
   "metadata": {
    "slideshow": {
     "slide_type": "slide"
    }
   },
   "source": [
    "## Ambiguity  \n",
    "\n",
    "* If a language contains any sentence for which there are two or more legal parse trees, then that grammar is _ambiguous_. \n",
    "* Ambiguous statements in English:\n",
    "    * I saw the man with the binoculars\n",
    "    * One morning I shot an elephant in my pajamas. How he got in my pajamas, I don't know. (_Animal Crackers_.1930)"
   ]
  },
  {
   "cell_type": "markdown",
   "metadata": {
    "slideshow": {
     "slide_type": "slide"
    }
   },
   "source": [
    "## Ambiguity in Parse Trees\n",
    "\n",
    "* Given the grammar:\n",
    "\n",
    "$\\begin{align}\\textrm{<assign>} \\to& \\textrm{<id>} = \\textrm{<expr>} \\\\ \\textrm{<id>} \\to& \\textrm{A}\\,|\\,\\textrm{B}\\, |\\,\\textrm{C} \\\\ \\textrm{<expr>} \\to& \\textrm{<expr>} + \\textrm{<expr>} \\,| \\\\ & \\textrm{<expr>} * \\textrm{<expr>} \\,| \\\\ & ( \\textrm{<expr>}) \\,|\\, \\textrm{<id>} \\end{align} $ \n",
    "\n",
    "\n",
    "* A = B + C * A is ambiguous\n",
    "    * A = (B + C) * A\n",
    "    * A = B + ( C * A )\n",
    "\n"
   ]
  },
  {
   "cell_type": "markdown",
   "metadata": {
    "slideshow": {
     "slide_type": "slide"
    }
   },
   "source": [
    "![Example of ambiguous parse trees](img/ambparse.jpg)"
   ]
  },
  {
   "cell_type": "markdown",
   "metadata": {
    "slideshow": {
     "slide_type": "slide"
    }
   },
   "source": [
    "## Dangling Else\n",
    "- Another common example of potential ambiguity in a programming language is known as the \"dangling else\"\n",
    "- Consider the grammar\n",
    "\n",
    "$ \\begin{align} \\textrm{<if-stmt>} \\to & \\textbf{if } ( \\textrm{<logic>} ) \\textrm{<statement>} \\,| \\\\ &   \\textbf{if } ( \\textrm{<logic>} ) \\textrm{<statement>} \\textbf{else} \\textrm{<statement>}\\\\ \\textrm{<statement>} \\to & ...\\, |\\, \\textrm{<if-stmt>}\\,|\\,...\\end{align} $\n",
    "\n",
    "- And the sentence\n",
    "\n",
    "```java\n",
    "if (x > 0) x++; if(y > 0) y++; else x = y;\n",
    "```\n",
    "\n",
    "- What **if** does the **else** match?"
   ]
  },
  {
   "cell_type": "markdown",
   "metadata": {
    "slideshow": {
     "slide_type": "slide"
    }
   },
   "source": [
    "## Removing Ambiguity\n",
    "* In programming languages, ambiguous grammars can usually be rewritten to be unambigous\n",
    "* Ambiguity is bad in a programming language\n",
    "    - The computer won't take the time to ask what the programmer really meant when facing two choices\n",
    "* Two main ways to remove ambiguity\n",
    "    * Precedence\n",
    "    * Associativity"
   ]
  },
  {
   "cell_type": "markdown",
   "metadata": {
    "slideshow": {
     "slide_type": "slide"
    }
   },
   "source": [
    "## Operator Precedence \n",
    "\n",
    "* One way to remove ambiguity is to design a language so that certain operators have higher precedence than others\n",
    " * This means that when the program is evaluated, this section of the parse tree will be run first\n",
    " * The lower in the parse tree an operator is, the higher precedence it has\n",
    "* Using a separate non-terminal for each precedence level achieves this\n"
   ]
  },
  {
   "cell_type": "markdown",
   "metadata": {
    "slideshow": {
     "slide_type": "slide"
    }
   },
   "source": [
    "## Ambiguous to Unambiguous\n",
    "$\\begin{align}\\textrm{<assign>} \\to& \\textrm{<id>} = \\textrm{<expr>} \\\\ \\textrm{<id>} \\to& \\textrm{A}\\,|\\,\\textrm{B}\\, |\\,\\textrm{C} \\\\ \\textrm{<expr>} \\to& \\textrm{<expr>} + \\textrm{<expr>} \\,| \\\\ & \\textrm{<expr>} * \\textrm{<expr>} \\,| \\\\ & ( \\textrm{<expr>}) \\,|\\, \\textrm{<id>} \\end{align} $ \n",
    "\n",
    "\n",
    "\n",
    "$\\begin{align} \\textrm{<assign>} \\to& \\textrm{<id>} = \\textrm{<expr>}\\\\ \\textrm{<id>} \\to& \\textrm{A} \\, | \\, \\textrm{B} \\, | \\, \\textrm{C} \\\\ \\textrm{<expr>} \\to& \\textrm{<expr>} + \\textrm{<term>} \\, | \\, \\textrm{<term>} \\\\ \\textrm{<term>} \\to&  \\textrm{<term>} * \\textrm{<factor>} \\, | \\, \\textrm{<factor>} \\\\ \\textrm{<factor>} \\to& ( \\textrm{<expr>}) \\, | \\, \\textrm{<id>} \\end{align}$\n"
   ]
  },
  {
   "cell_type": "markdown",
   "metadata": {
    "slideshow": {
     "slide_type": "slide"
    }
   },
   "source": [
    "## Compare the derivations\n",
    "Derivations for A = B + C * A\n",
    "\n",
    "<div style=\"width:60%;margin:0px auto\">\n",
    "<p>\n",
    "$\\begin{align}\\textrm{<assign>} &\\Rightarrow \\textrm{<id>} = \\textrm{<expr>} \\\\ &\\Rightarrow \\textrm{A} = \\textrm{<expr>}\\end{align}$\n",
    "    </p>\n",
    "</div>\n",
    "\n",
    "<div style=\"float:left;width:42%\">\n",
    "<p>\n",
    "$\\begin{align} &\\Rightarrow \\textrm{A} = \\textrm{<expr>} + \\textrm{<expr>} \\\\ &\\Rightarrow \\textrm{A} = \\textrm{<id>} + \\textrm{<expr>} \\\\ &\\Rightarrow \\textrm{A} = \\textrm{B} + \\textrm{<expr>} \\\\ &\\Rightarrow \\textrm{A} = \\textrm{B} + \\textrm{<expr>} * \\textrm{<expr>} \\end{align}$\n",
    "    </p>\n",
    "</div>\n",
    "\n",
    "<div style=\"float:left;width:55%\">\n",
    "<p>\n",
    "$\\begin{align} &\\Rightarrow \\textrm{A} = \\textrm{<expr>} * \\textrm{<expr>} \\\\ &\\Rightarrow \\textrm{A} = \\textrm{<expr>} + \\textrm{<expr>} * \\textrm{<expr>} \\\\ &\\Rightarrow \\textrm{A} = \\textrm{<id>} + \\textrm{<expr>} * \\textrm{<expr>} \\\\ &\\Rightarrow \\textrm{A} = \\textrm{B} + \\textrm{<expr>} * \\textrm{<expr>} \\end{align}$\n",
    "    </p>\n",
    "</div>\n",
    "\n"
   ]
  },
  {
   "cell_type": "markdown",
   "metadata": {
    "slideshow": {
     "slide_type": "slide"
    }
   },
   "source": [
    "## Compare the derivations\n",
    "\n",
    "$\\begin{align} \\textrm{<assign>} &\\Rightarrow \\textrm{<id>} = \\textrm{<expr>} \\\\ &\\Rightarrow \\textrm{A} = \\textrm{<expr>} \\\\ &\\Rightarrow \\textrm{A} = \\textrm{<expr>} + \\textrm{<term>} \\\\ &\\Rightarrow \\textrm{A} = \\textrm{<term>} + \\textrm{<term>} \\\\ &\\Rightarrow \\textrm{A} = \\textrm{<factor>} + \\textrm{<term>} \\\\ & \\Rightarrow \\textrm{A} = \\textrm{<id>} + \\textrm{<term>} \\\\ & \\Rightarrow \\textrm{A} = \\textrm{B} + \\textrm{<term>} \\end{align}$\n"
   ]
  },
  {
   "cell_type": "markdown",
   "metadata": {
    "slideshow": {
     "slide_type": "slide"
    }
   },
   "source": [
    "## Precedence Example\n",
    "\n",
    "As a class, make this grammar unambiguous\n",
    "\n",
    "<ul style=\"list-style-type:none\">\n",
    "<li>$S \\to ID = C $</li>\n",
    "<li>$C \\to C + C$</li>\n",
    "<li>$C \\to *C $</li>\n",
    "<li>$C \\to ID$ </li>\n",
    "<li>$ID \\to \\textrm{a } | \\textrm{ b } | \\textrm{ c} $ </li>\n",
    "</ul>\n",
    "\n",
    "\n",
    "- What should the evaluation order be for a = *b + c\n",
    "\n",
    "- Unambiguous grammar:\n",
    "\n",
    "$\\begin{align} \\textrm{S} \\to& \\textrm{ID} = \\textrm{C} \\\\ \\textrm{C} \\to& \\textrm{D} + \\textrm{C} \\,|\\, \\textrm{D}\\\\ \\textrm{D} \\to& \\textrm{*ID} \\,|\\, \\textrm{ID} \\\\ \\textrm{ID} \\to& \\textrm{a } | \\textrm{ b } | \\textrm{ c}\\end{align}$"
   ]
  },
  {
   "cell_type": "markdown",
   "metadata": {
    "slideshow": {
     "slide_type": "slide"
    }
   },
   "source": [
    "## Precedence Example\n",
    "\n",
    "As a class, make this grammar unambiguous\n",
    "\n",
    "<ul style=\"list-style-type:none\">\n",
    "<li>$C \\to C * C$</li>\n",
    "<li>$C \\to C == C$</li>\n",
    "<li>$C \\to ID$ </li>\n",
    "<li>$ID \\to \\textrm{a } | \\textrm{ b } | \\textrm{ c} $ </li>\n",
    "</ul>\n",
    "\n",
    "- What should the evaluation order be for a == b * c?\n",
    "\n",
    "- Unambiguous grammar:\n",
    "\n",
    "$\\begin{align} \\textrm{S} \\to& \\textrm{C} \\mathrel{==} \\textrm{C} \\, | \\, \\textrm{C} \\\\ \\textrm{C} \\to& \\textrm{C} * \\textrm{C} \\,|\\, \\textrm{ID}\\\\  \\textrm{ID} \\to& \\textrm{a } | \\textrm{ b } | \\textrm{ c}\\end{align}$"
   ]
  },
  {
   "cell_type": "markdown",
   "metadata": {
    "slideshow": {
     "slide_type": "slide"
    }
   },
   "source": [
    "## Precedence Practice\n",
    "\n",
    "Make this grammar unambigous\n",
    "\n",
    "<ul style=\"list-style-type:none\">\n",
    "<li>$C \\to C \\, \\textrm{or} \\, C$</li>\n",
    "<li>$C \\to C \\, \\textrm{and} \\, C$</li>\n",
    "<li>$C \\to ( \\, C \\, )$</li>\n",
    "<li>$C \\to ID$</li>\n",
    "</ul>\n",
    "\n",
    "- Unambiguous grammar:"
   ]
  },
  {
   "cell_type": "markdown",
   "metadata": {
    "slideshow": {
     "slide_type": "slide"
    }
   },
   "source": [
    "## Operator Associativity\n",
    "\n",
    "* An additional type of precedence used when  a string contains multiple operators of the same precedence\n",
    " * A + B - C\n",
    " * A / B * C\n",
    " * A + B + C\n",
    "* The side of the operator the recursion occurs on determines associativity\n",
    " * $ < expr > \\to < expr > + < term > $ is left associative\n",
    " * $ < compound > \\to < id > *= < compound> $ is right associative"
   ]
  },
  {
   "cell_type": "markdown",
   "metadata": {
    "slideshow": {
     "slide_type": "slide"
    }
   },
   "source": [
    "## Operator Associativity Example\n",
    "- As a class, modify the grammar below so the exponent operator behaves according to our intuition\n",
    "\n",
    "$\\begin{align} \\textrm{EXP} \\to & \\textrm{EXP ** EXP} \\, | \\, \\textrm{NUM} \\\\ \\textrm{NUM} \\to & \\textrm{2 } | \\textrm{ 3 } \\end{align}$\n",
    "\n",
    "- What does $\\textrm{2 ** 2 ** 3}$ evaluate to?"
   ]
  },
  {
   "cell_type": "markdown",
   "metadata": {
    "slideshow": {
     "slide_type": "slide"
    }
   },
   "source": [
    "## Operator Associativity Practice\n",
    "- Modify the grammar below so that it has left associativity\n",
    "\n",
    "$\\begin{align} \\textrm{BOOL} \\to & \\textrm{BOOL < BOOL | BOOL == true | BOOL == false | ID} \\end{align}$\n",
    "\n",
    "- What should `1 < 2 == false` return?"
   ]
  },
  {
   "cell_type": "markdown",
   "metadata": {
    "slideshow": {
     "slide_type": "slide"
    }
   },
   "source": [
    "## Making BNF less Tedious\n",
    "- As presented, BNF involves a lot of repetition \n",
    "- Many improvments have been suggested to BNF\n",
    "    - There is no one standard\n",
    "    - Most are considered part of Extended BNF (EBNF)"
   ]
  },
  {
   "cell_type": "markdown",
   "metadata": {
    "slideshow": {
     "slide_type": "slide"
    }
   },
   "source": [
    "## Extended BNF (EBNF)\n",
    "* Does not change the type of languages we can describe\n",
    "* Square brackets are used to denote optionality\n",
    " * $< if\\_stmt > \\to if ( \\textrm{<expr>} ) \\textrm{<stmt>} [ else \\textrm{<stmt>} ] $ \n",
    "* Curly braces are used denote repetition\n",
    " * $< ident\\_list > \\to \\textrm{<identifier>} \\{ , \\textrm{<identifier>} \\} $\n",
    "* Parentheses and the OR operator (|) are used to denote options\n",
    " * $< term > \\to \\textrm{<term>} ( \\,* \\, | \\, / \\, | \\,\\% \\,) \\textrm{<factor>} $"
   ]
  },
  {
   "cell_type": "markdown",
   "metadata": {
    "slideshow": {
     "slide_type": "slide"
    }
   },
   "source": [
    "## Comparing EBNF  and BNF\n",
    "- The following grammars are equivalent\n",
    "- BNF\n",
    "\n",
    "$ \\begin{align} \\textrm{<expr>} \\to & \\textrm{<expr>} + \\textrm{<term> } |  \\textrm{ <expr>} - \\textrm{<term> } | \\textrm{ <term>} \\\\ \\textrm{<term>} \\to & \\textrm{<term>} * \\textrm{<factor> } | \\textrm{ <term>} / \\textrm{<factor> } | \\textrm{ <factor>} \\\\ \\end{align}$\n",
    "\n",
    "- EBNF\n",
    "\n",
    "$ \\begin{align} \\textrm{<expr>} \\to & \\textrm{<term>} \\{\\,(+ \\,|\\, - ) \\textrm{<term> } \\} \\\\ \\textrm{<term>} \\to & \\textrm{<factor>} \\{ (*\\,|\\,/) \\textrm{<factor> } \\} \\\\ \\end{align}$"
   ]
  },
  {
   "cell_type": "markdown",
   "metadata": {
    "slideshow": {
     "slide_type": "slide"
    }
   },
   "source": [
    "## BNF to ENBF Example\n",
    "- As a class, convert the following grammar to BNF\n",
    "\n",
    " $\\begin{align} \\textrm{<addr>} \\to& \\textrm{ <num> <street> <type> } \\\\ \\textrm{<num>} \\to& \\textrm{ 0 } | \\textrm{ 1 } | \\textrm{ 2 } | \\, ...\\, | 9 | \\textrm{ <num><num> }\\\\ \\textrm{<street>} \\to& \\textrm{ <letter><street> } | \\textrm{ <letter> }\\\\ \\textrm{<letter>} \\to& \\textrm{ a } | \\textrm{ b } | \\,...\\, | \\textrm{ z } \\\\ \\textrm{ <type> } \\to& \\textrm{  Circle } | \\textrm{ Street } | \\textrm{ Ave } | \\textrm{ Blvd } | \\,...\\, | \\textrm{ Parkway} \\end{align}$\n"
   ]
  },
  {
   "cell_type": "markdown",
   "metadata": {
    "slideshow": {
     "slide_type": "slide"
    }
   },
   "source": [
    "\n",
    "## EBNF Practice\n",
    "\n",
    "Convert to an EBNF\n",
    "\n",
    "<ul style=\"list-style-type:none\">\n",
    "<li>$< program > \\to \\textrm{begin} < stmt\\_list > \\textrm{end}$ </li>\n",
    "<li>$< stmt\\_list > \\to < stmt > |  < stmt > ; < stmt\\_list>$ </li>\n",
    "<li>$< stmt > \\to < var > = < expression> $ </li>\n",
    "<li>$< var > \\to \\textrm{A} \\, | \\, \\textrm{B} \\, | \\, \\textrm{C} $ </li>\n",
    "<li>$< expression > \\to < var > + < var > $ </li>\n",
    "<li>$\\qquad \\qquad | < var > - < var >$</li>\n",
    "<li>$\\qquad \\qquad | < var > $ </li>\n",
    "</ul>"
   ]
  },
  {
   "cell_type": "markdown",
   "metadata": {
    "slideshow": {
     "slide_type": "slide"
    }
   },
   "source": [
    "## EBNF to BNF Example\n",
    "As a class, Convert the following grammar to BNF\n",
    "\n",
    "$\\begin{align} \\textrm{<try>} \\to& \\textrm{try:} \\textrm{<stmt>} \\textrm{<exc>} \\{\\textrm{<exc>}\\}\\\\ \\textrm{<exc>} \\to & \\textrm{except} [ \\textrm{<name>} [ \\textrm{as} \\textrm{<name>} ] ] \\textrm{:} \\textrm{<stmt>}\\end{align}$"
   ]
  },
  {
   "cell_type": "markdown",
   "metadata": {
    "slideshow": {
     "slide_type": "slide"
    }
   },
   "source": [
    "## EBNF to BNF Practice\n",
    "\n",
    "Convert the following grammar to BNF\n",
    "\n",
    "$\\begin{align} \\textrm{<import>} \\to & \\textrm{import}\\,  \\textrm{<id>} \\{, \\textrm{<id>} \\} \\\\ \\textrm{<id>} \\to & \\textrm{<name>}[.\\textrm{<name>} ][ \\textrm{as} \\textrm{<name>} ] \\end{align}$"
   ]
  }
 ],
 "metadata": {
  "celltoolbar": "Slideshow",
  "kernelspec": {
   "display_name": "Python 2",
   "language": "python",
   "name": "python2"
  },
  "language_info": {
   "codemirror_mode": {
    "name": "ipython",
    "version": 3
   },
   "file_extension": ".py",
   "mimetype": "text/x-python",
   "name": "python",
   "nbconvert_exporter": "python",
   "pygments_lexer": "ipython3",
   "version": "3.5.2"
  },
  "toc": {
   "nav_menu": {},
   "number_sections": false,
   "sideBar": true,
   "skip_h1_title": false,
   "toc_cell": false,
   "toc_position": {},
   "toc_section_display": "block",
   "toc_window_display": false
  }
 },
 "nbformat": 4,
 "nbformat_minor": 1
}
