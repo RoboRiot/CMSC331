{
 "cells": [
  {
   "cell_type": "markdown",
   "metadata": {
    "slideshow": {
     "slide_type": "slide"
    }
   },
   "source": [
    "# Semantics"
   ]
  },
  {
   "cell_type": "markdown",
   "metadata": {
    "slideshow": {
     "slide_type": "slide"
    }
   },
   "source": [
    "## The Importance of Semantics\n",
    "- *Semantics* refers to the meaning of a programing language, including statements, expressions, and entire programs\n",
    "- Programmers must know the meaning of a language in order to use it\n",
    "- Compiler writers need to reflect meaning of a langauge in the implementation of compilers\n",
    "- If we had a perfect description of semantics\n",
    " - Programs could be proven correct without execution\n",
    " - Compilers could be automatically generated from langauge description"
   ]
  },
  {
   "cell_type": "markdown",
   "metadata": {
    "slideshow": {
     "slide_type": "slide"
    }
   },
   "source": [
    "## Operational Semantics\n",
    "- Describe the meaning of a statement or entire program by describing the values of memory in a machine before and after execution\n",
    "- Writing out the state of every type of memory in a modern computer is way to cumbersome\n",
    " - We use an intermediate language as a proxy\n",
    " "
   ]
  },
  {
   "cell_type": "markdown",
   "metadata": {
    "slideshow": {
     "slide_type": "slide"
    }
   },
   "source": [
    "## Operational Semantics Statements\n",
    "* The book suggests the following statements are enough to write Operational Semantics of control structures\n",
    "    * ident = var\n",
    "    * ident = ident + 1\n",
    "    * ident = ident -1\n",
    "    * **goto** label\n",
    "    * **if** var relop var **goto** label"
   ]
  },
  {
   "cell_type": "markdown",
   "metadata": {
    "slideshow": {
     "slide_type": "slide"
    }
   },
   "source": [
    "## Operational Semantics Example\n",
    "\n",
    "```c\n",
    "for (expr1;expr2;expr3) {\n",
    "    < loop_body > \n",
    "}\n",
    "```\n",
    "---\n",
    "```c\n",
    "      expr1;\n",
    "loop: if expr2 == 0 goto out\n",
    "      < loop_body>\n",
    "      expr3;\n",
    "      goto loop\n",
    "out:  ...\n",
    "```"
   ]
  },
  {
   "cell_type": "markdown",
   "metadata": {
    "slideshow": {
     "slide_type": "slide"
    }
   },
   "source": [
    "## Operational Semantics Practice\n",
    "\n",
    "Give the operational semantics description for the following:\n",
    "```java\n",
    "expr1;\n",
    "do{\n",
    "< body >\n",
    "expr2;\n",
    "}while(expr3);\n",
    "```\n",
    "\n",
    "Answer\n",
    "```c\n",
    "        expr1;\n",
    "loop:   <body>\n",
    "        expr2;\n",
    "        if expr3 == 0 goto out;\n",
    "        goto loop;    \n",
    "out:    ....\n",
    "```\n",
    "\n",
    "or\n",
    "\n",
    "```c\n",
    "        expr1;\n",
    "loop:   <body>\n",
    "        expr2;\n",
    "        if expr3 == 1 goto loop;\n",
    "        ....\n",
    "```"
   ]
  },
  {
   "cell_type": "markdown",
   "metadata": {
    "slideshow": {
     "slide_type": "slide"
    }
   },
   "source": [
    "## Operational Semantics Practice\n",
    "\n",
    "Give the operational semantics description for the following:\n",
    "```c\n",
    "switch(expr1)\n",
    "{\n",
    "    case const1:\n",
    "        < body1 >\n",
    "        break;\n",
    "    case const2:\n",
    "        < body2 >\n",
    "        break;\n",
    "    default:\n",
    "        < body3 >\n",
    "        break;\n",
    "}\n",
    "```\n",
    "\n",
    "Answer:\n",
    "\n",
    "```c\n",
    "        if expr1 == const1 goto L1;\n",
    "        if expr2 == const2 goto L2;\n",
    "        <body3>;\n",
    "        goto out;\n",
    "L1:     <body1>\n",
    "        goto out;\n",
    "L2:     <body2>\n",
    "        goto out;\n",
    "out:    ....\n",
    "```"
   ]
  },
  {
   "cell_type": "markdown",
   "metadata": {
    "slideshow": {
     "slide_type": "slide"
    }
   },
   "source": [
    "## Operational Semantics Problems\n",
    "- Intermediate language is not mathmateically rigourous\n",
    "- Can have situations with circularities\n",
    "- Can become so complex that they are not practical\n"
   ]
  },
  {
   "cell_type": "markdown",
   "metadata": {
    "slideshow": {
     "slide_type": "slide"
    }
   },
   "source": [
    "## Denotational Semantics\n",
    "\n",
    "- A mathmateical model of semantics\n",
    "- Each part of a language , usually a syntax rule is associated with:\n",
    "    - A mathmatical object, like an integer\n",
    "    - A function mapping an instance of that sytnax rule to the mathmatical object\n",
    "- The state of a program is the values of all its variables\n",
    " - A state, $s$,  can be represented as $ s = \\{ < i_1, v_1 >, < i_2, v_2 > , ... , < i_n, v_n> \\} $\n",
    " - $i_x $ is a variable and $ v_x $ is it's corresponding value\n",
    " - We define a function VARMAP($i_j,s) = v_j$"
   ]
  },
  {
   "cell_type": "markdown",
   "metadata": {
    "slideshow": {
     "slide_type": "slide"
    }
   },
   "source": [
    "## Denotational Semantics Example\n",
    "For the grammar:\n",
    "<ul style=\"list-style-type:none\" class=\"scale\">\n",
    "<li>$ < dec\\_num > \\to$ '0' | '1' | '2'| '3' | '4' | '5' | '6' | '7' | '8' | '9'</li>\n",
    "<li>$ \\qquad \\qquad \\quad \\, \\, \\,$ | $< dec\\_num>$ ('0' | '1' | '2'| '3' | '4' | '5' | '6' | '7' | '8' | '9')</li>\n",
    "</ul>\n",
    "\n",
    "The denotational mappings are:\n",
    "\n",
    "<ul style=\"list-style-type:none\" class=\"scale\">\n",
    "<li>$M_{dec}$('0') = 0, $M_{dec}$('1') = 1, $M_{dec}$('2') = 2, ... , $M_{dec}$('9') = 9</li>\n",
    "<li>$M_{dec}$( $< dec\\_num >$ '0') = 10 \\* $M_{dec}$( $< dec\\_num >$)</li>\n",
    "<li>$M_{dec}$( $< dec\\_num >$ '1') = 10 \\* $M_{dec}$( $< dec\\_num >$) + 1</li>\n",
    "<li>...</li>\n",
    "<li>$M_{dec}$( $< dec\\_num >$ '9') = 10 \\* $M_{dec}$( $< dec\\_num >$) + 9</li>\n",
    "</ul>"
   ]
  },
  {
   "cell_type": "markdown",
   "metadata": {
    "slideshow": {
     "slide_type": "slide"
    }
   },
   "source": [
    "## Denotational Semantics Example\n",
    "\n",
    "For the grammar:\n",
    "\n",
    "<ul style=\"list-style-type:none\" class=\"scale\">\n",
    "<li>$< expr > \\to < dec\\_num > | < var > | < binary\\_expr > $</li>\n",
    "<li>$< binary\\_expr > \\to < left\\_expr > < operator > < right\\_expr> $ </li>\n",
    "<li>$< left\\_expr > \\to < dec\\_num > | < var > $ </li>\n",
    "<li>$< right\\_expr > \\to < dec\\_num > | < var > $ </li>\n",
    "<li>$< operator > \\to +$ | $* $\n",
    "</ul>\n",
    "\n",
    "The denotational mapping is:\n",
    "\n",
    "<ul style=\"list-style-type:none\" class=\"scale\">\n",
    "<li>$M_e(< expr > , s) \\; \\Delta\\!\\!=$ case $< expr >$  of </li>\n",
    "<li>$\\qquad \\qquad \\qquad< dec\\_num > \\Rightarrow M_{dec}( < dec\\_num >, s)$</li>\n",
    "<li>$\\qquad \\qquad \\qquad< var > \\Rightarrow$ if VARMAP( $< var > , s $) $ == $ <strong>undef</strong></li>\n",
    "<li>$\\qquad \\qquad \\qquad \\qquad  \\qquad$ then <strong>error</strong></li>\n",
    "<li>$\\qquad \\qquad \\qquad \\qquad  \\qquad$ else VARMAP( $< var > $ , s)</li>\n",
    "<li>$\\qquad \\qquad \\qquad< binary\\_expr > \\Rightarrow$ </li>\n",
    "<li>$\\qquad \\qquad \\qquad \\quad$ if ($M_e ( < binary\\_expr >.< left\\_expr >, s) == $ <strong>undef</strong> OR </li>\n",
    "<li>$ \\qquad \\qquad \\qquad \\qquad M_e ( < binary\\_expr >.< right\\_expr >, s) == $ <strong>undef</strong>)</li>\n",
    "<li>$ \\qquad \\qquad \\qquad \\quad $ then <strong> error </strong></li>\n",
    "<li>$ \\qquad \\qquad \\qquad \\quad $ else if ($ < binary\\_expr >.< operator > == $ '+')</li>\n",
    "<li>$ \\qquad \\qquad \\qquad \\qquad $ then $M_e( < binary\\_expr >.< left\\_expr > ,s) + $</li>\n",
    "<li>$ \\qquad \\qquad \\qquad \\qquad \\quad \\, \\, \\,$ $M_e( < binary\\_expr >.< right\\_expr > ,s) $</li>\n",
    "<li>$ \\qquad \\qquad \\qquad \\qquad $else  $M_e( < binary\\_expr >.< left\\_expr > ,s) * $</li>\n",
    "<li>$ \\qquad \\qquad \\qquad \\qquad \\quad \\, \\, \\,$ $M_e( < binary\\_expr >.< right\\_expr > ,s) $</li>\n",
    "\n",
    "</ul>"
   ]
  },
  {
   "cell_type": "markdown",
   "metadata": {
    "slideshow": {
     "slide_type": "slide"
    }
   },
   "source": [
    "## Denotational Semantics Continued\n",
    "<ul style=\"list-style-type:none\" class=\"scale\">\n",
    "<li>$M_a( x = E, s) \\; \\Delta\\!\\!=$ if $M_e(E,s) == $ <strong>error</strong></li>\n",
    "<li>$\\qquad \\qquad \\qquad$ then <strong>error</strong></li>\n",
    "<li>$\\qquad \\qquad \\qquad$ else $s' = \\{ < i_1, v_1' > , < i_2, v_2' >, ... , < i_n, v_n' >, $ where </li>\n",
    "<li>$\\qquad \\qquad \\qquad \\qquad$ for $j = 1,2,...,n$</li>\n",
    "<li>$\\qquad \\qquad \\qquad \\qquad \\quad$ if $i_j == x$</li>\n",
    "<li>$\\qquad \\qquad \\qquad \\qquad \\qquad$ then $v_j' = M_e(E,s)$</li>\n",
    "<li>$\\qquad \\qquad \\qquad \\qquad \\qquad$ else $v_j' = $VARMAP($i_j,s)$</li>\n",
    "</ul>"
   ]
  },
  {
   "cell_type": "markdown",
   "metadata": {
    "collapsed": true,
    "slideshow": {
     "slide_type": "slide"
    }
   },
   "source": [
    "## Axiomatic Semantics\n",
    "- Based on logic\n",
    "- No model of actual vaulues, on the relationship between variables\n",
    "- Used for both specificying programing meaning and program verification\n"
   ]
  },
  {
   "cell_type": "markdown",
   "metadata": {
    "slideshow": {
     "slide_type": "slide"
    }
   },
   "source": [
    "## Assertions\n",
    "- Logic expressions that describe constraints on statements\n",
    "- Ones that are before a statement are called __*Preconditions*__\n",
    "- Ones that are after a statement are called __*Postconditions*__"
   ]
  },
  {
   "cell_type": "markdown",
   "metadata": {
    "slideshow": {
     "slide_type": "slide"
    }
   },
   "source": [
    "## Weakest Precondition\n",
    "- Least restrictive precondition that garuntees postcondition will always be true\n",
    "- We can work backwards from the last statment of a program to get the weakest precondition for the entire program\n",
    " - First find the weakest precondition for the last statement\n",
    " - Use this as the post condition to the second to last statement\n",
    " - Continue until we have the precondition for the first statement\n",
    " - The precondition of the first statement describes under what inputs the program will always be correct"
   ]
  },
  {
   "cell_type": "markdown",
   "metadata": {
    "slideshow": {
     "slide_type": "slide"
    }
   },
   "source": [
    "## Inference Rules\n",
    "\n",
    "Writen as  \n",
    "$$\\frac{S1,S2,S3,...Sn}{S}$$\n",
    "\n",
    "Meaning if $S1,S2,...,$ and $Sn$ are **all** true, then we can infer $S$ is true.\n",
    "\n",
    "An *axiom* is a rule that is assumed to be true. For example just $S$."
   ]
  },
  {
   "cell_type": "markdown",
   "metadata": {
    "slideshow": {
     "slide_type": "slide"
    }
   },
   "source": [
    "## Rule of Consqeuence \n",
    "\n",
    "Precondition can be stregthed, post condition can always be weakened. \n",
    "\n",
    "$$\\frac{\\{P\\}S\\{Q\\}, P' \\Rightarrow P, Q \\Rightarrow Q'}{\\{P'\\}S\\{Q'\\}}$$\n",
    "\n",
    "For example, given:\n",
    "\n",
    "{ x > 3} x = x $-$ 3 {x > 0}\n",
    "\n",
    "We can prove that { x > 5} x = x $-$ 3 {x > 0} is valid\n",
    "\n",
    "$$\\frac{\\{x>3\\}x=x-3\\{x>0\\}, \\{x > 5\\} \\Rightarrow \\{x > 3\\}, \\{x > 0\\} \\Rightarrow \\{x > 0 \\}}{\\{x > 5\\}x=x-3\\{x > 0\\}}$$\n"
   ]
  },
  {
   "cell_type": "markdown",
   "metadata": {
    "slideshow": {
     "slide_type": "slide"
    }
   },
   "source": [
    "## Sequences of Statements\n",
    "\n",
    "Given the statements   \n",
    "{P1} S1 {P2}  \n",
    "{P2} S2 {P3}\n",
    "\n",
    "We can use the following inference rule:\n",
    "\n",
    "$$\\frac{\\{P1\\}S1\\{P2\\}, \\{P2\\}S2\\{P3\\}}{\\{P1\\}S1,S2\\{P3\\}}$$\n"
   ]
  },
  {
   "cell_type": "markdown",
   "metadata": {
    "slideshow": {
     "slide_type": "slide"
    }
   },
   "source": [
    "## Weakest Precondition Example\n",
    "Compute weakest precondition\n",
    "<ul style=\"list-style-type:none;\">\n",
    "<li>a = 3 \\* ( 2 \\* b + a);</li>\n",
    "<li>b = 2 * a - 1;</li>\n",
    "<li>{ b > 5}</li>\n",
    "</ul>\n",
    "Answer:\n",
    "$$  2 \\times a - 1 > 5\\\\\n",
    "    2 \\times a > 6\\\\\n",
    "    a > 3   \n",
    "$$\n",
    "\n",
    "So a>3 is the precondition for the last line and the post condition for the first line.\n",
    "\n",
    "$$\n",
    "3 \\times ( 2 \\times b + a) > 3\\\\\n",
    "2 \\times b + a > 1\\\\\n",
    "2 \\times b > 1 - a\\\\\n",
    "b > \\frac{1 - a}{2}\n",
    "$$\n",
    "\n",
    "The precondition for the entire sequence of statements is $b > \\frac{1 -a}{2}$\n",
    "\n",
    "<ul style=\"list-style-type:none;\">\n",
    "<li>x = 2 * y + x - 1;</li>\n",
    "<li>{ x > 11}</li>\n",
    "</ul>\n",
    "\n",
    "$$ 2 \\times y + x - 1 > 11\\\\\n",
    "   2 \\times y + x > 12\\\\\n",
    "   2 \\times y > 12 - x\\\\\n",
    "   y > 6 - \\frac{x}{2}\\\\\n",
    "$$\n",
    "\n",
    "The precondition is then $y > 6 - \\frac{x}{2}$"
   ]
  },
  {
   "cell_type": "markdown",
   "metadata": {
    "slideshow": {
     "slide_type": "slide"
    }
   },
   "source": [
    "## Conditionals\n",
    "\n",
    "The inference rule for a conditional statement such as \n",
    "```python\n",
    "if B then S1 else S2\n",
    "``` \n",
    "is as follows\n",
    "\n",
    "$$\\frac{\\{B \\, \\textrm{and} \\, P\\}S1\\{Q\\}, \\{(\\textrm{not}\\, B) \\, \\textrm{and} \\, P\\}S2\\{Q\\}}{\\{P\\}\\textrm{if B then S1 else S2}\\{Q\\}}$$"
   ]
  },
  {
   "cell_type": "markdown",
   "metadata": {
    "slideshow": {
     "slide_type": "slide"
    }
   },
   "source": [
    "## Conditionals Practice\n",
    "\n",
    "Find the weakest precondition for the statement below\n",
    "\n",
    "```C\n",
    "if x > 0 then\n",
    "    y = y - 1\n",
    "else\n",
    "    y = y + 1\n",
    "    \n",
    "{y > 0}\n",
    "```\n",
    "\n",
    "Because there is an if statement, we need to evaluate the postcondition for all possible paths of execution\n",
    "\n",
    "$$ y = y - 1\\\\\n",
    "   \\{y > 0\\}\\\\\n",
    "   y - 1 > 0\\\\\n",
    "   y > 1\n",
    "$$\n",
    "\n",
    "AND\n",
    "\n",
    "$$\n",
    " y = y + 1\\\\\n",
    "   \\{y > 0\\}\\\\\n",
    "   y + 1 > 0\\\\\n",
    "   y > -1\n",
    "$$\n",
    "\n",
    "Our two possible preconditions are then $y > 1$ or $y > -1$. Our job is to pick the one that will make the postcondition of $\\{y > 0\\}$ no matter which branch of the if-statement is evaluated.\n",
    "\n",
    "By substituting in each possible value in each branch, we find that only $y > 1$ causes the postcondition to always be true, so that is the precondition for the entire if-statement"
   ]
  },
  {
   "cell_type": "markdown",
   "metadata": {
    "slideshow": {
     "slide_type": "slide"
    }
   },
   "source": [
    "## Wrap Up\n",
    "\n",
    "- Semantics is complex and there is no one system\n",
    "- Different representations have advantages for different purposes\n"
   ]
  },
  {
   "cell_type": "code",
   "execution_count": null,
   "metadata": {
    "collapsed": true
   },
   "outputs": [],
   "source": []
  }
 ],
 "metadata": {
  "celltoolbar": "Slideshow",
  "kernelspec": {
   "display_name": "Python 2",
   "language": "python",
   "name": "python2"
  },
  "language_info": {
   "codemirror_mode": {
    "name": "ipython",
    "version": 2
   },
   "file_extension": ".py",
   "mimetype": "text/x-python",
   "name": "python",
   "nbconvert_exporter": "python",
   "pygments_lexer": "ipython2",
   "version": "2.7.9"
  }
 },
 "nbformat": 4,
 "nbformat_minor": 1
}
