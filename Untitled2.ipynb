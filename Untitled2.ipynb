{
 "cells": [
  {
   "cell_type": "code",
   "execution_count": 9,
   "metadata": {
    "collapsed": true
   },
   "outputs": [],
   "source": [
    "function fromCVS(s)\n",
    "      s = s .. ','        -- ending comma\n",
    "      local t = {}        -- table to collect fields\n",
    "      local fieldstart = 1\n",
    "      repeat\n",
    "        -- next field is quoted? (start with `\"'?)\n",
    "        if string.find(s, '^\"', fieldstart) then\n",
    "          local a, c\n",
    "          local i  = fieldstart\n",
    "          repeat\n",
    "            -- find closing quote\n",
    "            a, i, c = string.find(s, '\"(\"?)', i+1)\n",
    "          until c ~= '\"'    -- quote not followed by quote?\n",
    "          if not i then error('unmatched \"') end\n",
    "          local f = string.sub(s, fieldstart+1, i-1)\n",
    "          table.insert(t, (string.gsub(f, '\"\"', '\"')))\n",
    "          fieldstart = string.find(s, ',', i) + 1\n",
    "        else                -- unquoted; find next comma\n",
    "          local nexti = string.find(s, ',', fieldstart)\n",
    "          table.insert(t, string.sub(s, fieldstart, nexti-1))\n",
    "          fieldstart = nexti + 1\n",
    "        end\n",
    "      until fieldstart > string.len(s)\n",
    "      return t\n",
    "    end"
   ]
  },
  {
   "cell_type": "code",
   "execution_count": 18,
   "metadata": {
    "collapsed": false
   },
   "outputs": [
    {
     "data": {
      "text/plain": [
       "dog\t1\t20\t\n",
       "cat\t2\t10\t\n",
       "mouse\t1\t5\t\n",
       "mice\t1\t100\t\n",
       "Games Played: \t4\t\n",
       "20\t\n",
       "10\t\n",
       "5\t\n",
       "100\t\n",
       "Max guesses: \t100\t\n",
       "The word that took the most guesses was: \t\n",
       "string\t\n",
       "string\t\n",
       "string\t\n",
       "string\t\n",
       "mice\t\n"
      ]
     },
     "execution_count": 18,
     "metadata": {},
     "output_type": "execute_result"
    }
   ],
   "source": [
    "fullTable = {}\n",
    "guessesTable = {}\n",
    "entries = 0\n",
    "\n",
    "\n",
    "_file = io.open(\"output.txt\")\n",
    "for line in _file:lines() do\n",
    "    table.insert(fullTable,fromCVS(line))\n",
    "end\n",
    "\n",
    "--Check table contents\n",
    "for i, data in ipairs(fullTable) do\n",
    "    print(data[1],data[2],data[3])\n",
    "end\n",
    "\n",
    "--Count total games\n",
    "local totalGames = 0\n",
    "for _ in io.lines'output.txt' do\n",
    "  totalGames = totalGames + 1\n",
    "end\n",
    "print(\"Games Played: \",  totalGames)\n",
    "\n",
    "-- Put guesses into table\n",
    "for i, data in ipairs(fullTable) do\n",
    "guessesTable[i] = fullTable[i][3]\n",
    "print(guessesTable[i])\n",
    "end\n",
    "\n",
    "maxGuesses = math.max(unpack(guessesTable))\n",
    "print(\"Max guesses: \", maxGuesses)\n",
    "\n",
    "\n",
    "print(\"The word that took the most guesses was: \")\n",
    "\n",
    "for i = 1, totalGames, 1\n",
    "do\n",
    "    print(type(guessesTable[i]))\n",
    "    if tonumber(guessesTable[i]) == maxGuesses then\n",
    "        print(fullTable[i][1])\n",
    "    end\n",
    "end\n"
   ]
  },
  {
   "cell_type": "code",
   "execution_count": null,
   "metadata": {
    "collapsed": true
   },
   "outputs": [],
   "source": []
  },
  {
   "cell_type": "code",
   "execution_count": null,
   "metadata": {
    "collapsed": true
   },
   "outputs": [],
   "source": []
  }
 ],
 "metadata": {
  "kernelspec": {
   "display_name": "iTorch",
   "language": "lua",
   "name": "itorch"
  },
  "language_info": {
   "name": "lua",
   "version": "20100"
  }
 },
 "nbformat": 4,
 "nbformat_minor": 0
}
