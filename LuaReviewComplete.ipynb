{
 "cells": [
  {
   "cell_type": "markdown",
   "metadata": {
    "slideshow": {
     "slide_type": "slide"
    }
   },
   "source": [
    "# Lua III\n",
    "## Metatables (Objects, sort of) & Review"
   ]
  },
  {
   "cell_type": "markdown",
   "metadata": {
    "slideshow": {
     "slide_type": "slide"
    }
   },
   "source": [
    "## Metatables \n",
    "- Metatables are one of the newest additions to Lua\n",
    " - Added in Lua 5.0\n",
    "- Metatables themselves are ordinary tables\n",
    " - They gain their special status through how we attach them to tables\n",
    "- Metatables can be used to represent user-defined types\n",
    "- All data types have metatables\n",
    " - Only the metatables of tables can be set and modified\n"
   ]
  },
  {
   "cell_type": "markdown",
   "metadata": {
    "slideshow": {
     "slide_type": "slide"
    }
   },
   "source": [
    "## Basic Metatable Use\n"
   ]
  },
  {
   "cell_type": "code",
   "execution_count": 1,
   "metadata": {},
   "outputs": [],
   "source": [
    "Window = {}\n",
    "Window.prototype = {x = 0, y = 0, width = 100, height = 100}\n",
    "Window.mt = {}\n",
    "\n",
    "function Window.new(o)\n",
    "    setmetatable(o,Window.mt)\n",
    "    return o\n",
    "end\n",
    "\n",
    "Window.mt.__index = Window.prototype\n",
    "\n",
    "w = Window.new({x = 10, y= 20})\n",
    "z = Window.new{height = 100, width = 50}"
   ]
  },
  {
   "cell_type": "code",
   "execution_count": 2,
   "metadata": {},
   "outputs": [
    {
     "name": "stdout",
     "output_type": "stream",
     "text": [
      "100"
     ]
    }
   ],
   "source": [
    "w.width"
   ]
  },
  {
   "cell_type": "code",
   "execution_count": 3,
   "metadata": {},
   "outputs": [
    {
     "name": "stdout",
     "output_type": "stream",
     "text": [
      "0"
     ]
    }
   ],
   "source": [
    "z.x"
   ]
  },
  {
   "cell_type": "markdown",
   "metadata": {
    "slideshow": {
     "slide_type": "slide"
    }
   },
   "source": [
    "## What can we do with Metatables\n",
    "- Set Default values\n",
    "- Limited Operator Overloading\n",
    " - Can only overload a small set of built in functions\n",
    " - No concept of method signature\n",
    "- Reuse a metatable for multiple tables, ie a class\n",
    "- Fake inheritance"
   ]
  },
  {
   "cell_type": "markdown",
   "metadata": {
    "slideshow": {
     "slide_type": "slide"
    }
   },
   "source": [
    "## Setting Default Values\n",
    "- To set default values when querying, we use the __\\_\\_index__ metamethod\n",
    " - What this actually does is provide a fall back table whose values are accses when the main table returns now for a given key\n",
    "- As tables can hold functions, this allows a way to do inheritance"
   ]
  },
  {
   "cell_type": "markdown",
   "metadata": {
    "slideshow": {
     "slide_type": "slide"
    }
   },
   "source": [
    "## Default Values Example"
   ]
  },
  {
   "cell_type": "code",
   "execution_count": 1,
   "metadata": {},
   "outputs": [
    {
     "name": "stdout",
     "output_type": "stream",
     "text": [
      "I'm located at 39.2555, 76.7113"
     ]
    }
   ],
   "source": [
    "Building = {lat = 39.2555, long = 76.7113}\n",
    "function Building.print(self)\n",
    "    print(\"I'm located at \" .. self.lat .. \", \" .. self.long)\n",
    "end\n",
    "Building.__index = Building\n",
    "UMBC = {}\n",
    "setmetatable(UMBC,Building)\n",
    "\n",
    "UMBC.print(UMBC)"
   ]
  },
  {
   "cell_type": "markdown",
   "metadata": {
    "slideshow": {
     "slide_type": "slide"
    }
   },
   "source": [
    "## Inheritance Example"
   ]
  },
  {
   "cell_type": "code",
   "execution_count": 2,
   "metadata": {},
   "outputs": [
    {
     "name": "stdout",
     "output_type": "stream",
     "text": [
      "I'm located at 38.8977, 77.0336\n",
      "I have 35 bathrooms."
     ]
    }
   ],
   "source": [
    "House = {numberOfBathrooms = 35}\n",
    "function House.printBaths(self)\n",
    "    print(\"I have \" .. self.numberOfBathrooms .. \" bathrooms.\")\n",
    "end\n",
    "\n",
    "setmetatable(House,Building)\n",
    "T = {}\n",
    "T.__index = House\n",
    "whiteHouse = {lat = 38.8977, long = 77.0336}\n",
    "setmetatable(whiteHouse,T)--{__index = House})\n",
    "\n",
    "whiteHouse.print(whiteHouse)\n",
    "whiteHouse.printBaths(whiteHouse)"
   ]
  },
  {
   "cell_type": "markdown",
   "metadata": {
    "slideshow": {
     "slide_type": "slide"
    }
   },
   "source": [
    "## Controlling the Creation of New Table Elements\n",
    "- Just like the **__index** metamethod is called when an unknown element is accessed, the **__newindex** metamethod is used to update tables\n",
    "- Defining this will prevent default behavior from occur\n",
    "    - Causes tables to behave in a read-only like fashion\n",
    "    - Can be bypassed using the `rawset` function"
   ]
  },
  {
   "cell_type": "code",
   "execution_count": 3,
   "metadata": {
    "slideshow": {
     "slide_type": "slide"
    }
   },
   "outputs": [
    {
     "name": "stdout",
     "output_type": "stream",
     "text": [
      "No Updates Allowed\n",
      "No Updates Allowed"
     ]
    }
   ],
   "source": [
    "T.__newindex = function(t,k,v)\n",
    "    print(\"No Updates Allowed\")\n",
    "end\n",
    "whiteHouse.numberOfBathrooms = 4\n",
    "whiteHouse.address = \"1600 Pennsylvania Avenue\""
   ]
  },
  {
   "cell_type": "code",
   "execution_count": 4,
   "metadata": {
    "slideshow": {
     "slide_type": "slide"
    }
   },
   "outputs": [
    {
     "name": "stdout",
     "output_type": "stream",
     "text": [
      "I have 4 bathrooms."
     ]
    }
   ],
   "source": [
    "T.__newindex = function(t,k,v)\n",
    "    rawset(t,k,v)\n",
    "end\n",
    "whiteHouse.numberOfBathrooms = 4\n",
    "whiteHouse.address = \"1600 Pennsylvania Avenue\"\n",
    "whiteHouse:printBaths()"
   ]
  },
  {
   "cell_type": "markdown",
   "metadata": {
    "slideshow": {
     "slide_type": "slide"
    }
   },
   "source": [
    "## Metamethod for Libraries\n",
    "- A metaattribute or metamethod does not have to be limited to what Lua expects\n",
    "- Several libraries can take advantage of metamethods to change their behavior.\n",
    "    - **__tostring**\n",
    "    - **__metatable**"
   ]
  },
  {
   "cell_type": "code",
   "execution_count": 5,
   "metadata": {
    "slideshow": {
     "slide_type": "slide"
    }
   },
   "outputs": [
    {
     "name": "stdout",
     "output_type": "stream",
     "text": [
      "table: 0x240bb70\n",
      "I'm located at 38.8977, 77.0336"
     ]
    }
   ],
   "source": [
    "print(whiteHouse)\n",
    "T.__tostring = function(var)\n",
    "    return \"I'm located at \" .. var.lat .. \", \" .. var.long\n",
    "end\n",
    "print(whiteHouse)"
   ]
  },
  {
   "cell_type": "code",
   "execution_count": 11,
   "metadata": {
    "slideshow": {
     "slide_type": "slide"
    }
   },
   "outputs": [
    {
     "name": "stdout",
     "output_type": "stream",
     "text": [
      "[string \"-- The __metatable Method is used to contro...\"]:6: cannot change a protected metatable"
     ]
    }
   ],
   "source": [
    "-- The __metatable Method is used to control the behavoir of the \n",
    "-- setmetatable and getmetatable functions\n",
    "print(getmetatable(whiteHouse))\n",
    "T.__metatable = \"T\"\n",
    "print(getmetatable(whiteHouse))\n",
    "setmetatable(whiteHouse,T)"
   ]
  },
  {
   "cell_type": "markdown",
   "metadata": {
    "slideshow": {
     "slide_type": "slide"
    }
   },
   "source": [
    "## Operator Overloading\n",
    "- To overload a given operator, set the corresponding _metamethod_\n",
    " - To overload +, define \\_\\_add (two underscores)\n",
    " - Each metatable only has one metamethod of each name\n",
    "  - To account for differing operand types, a long sequence of __if__ statements may be needed"
   ]
  },
  {
   "cell_type": "markdown",
   "metadata": {
    "slideshow": {
     "slide_type": "slide"
    }
   },
   "source": [
    "## Operator Overloading Example\n",
    "- Suppose we have a metatable for the class of complex numbers"
   ]
  },
  {
   "cell_type": "code",
   "execution_count": null,
   "metadata": {},
   "outputs": [],
   "source": [
    "--Based off Fabio Mascarenhas' example\n",
    "mt = {}\n",
    "function mt.__add(c1,c2)\n",
    "    if(getmetatable(c1) ~= mt) then\n",
    "        res = {r = c1 + c2.r , i = c2.i}\n",
    "        setmetatable(res,mt)\n",
    "        return res\n",
    "    end\n",
    "    if(getmetatable(c2) ~= mt) then\n",
    "        res = {r = c1.r + c2, i = c1.i}\n",
    "        setmetatable(res,mt)\n",
    "        return res\n",
    "    end\n",
    "    res = {r = c1.r + c2.r , i = c1.i + c2.i}\n",
    "    setmetatable(res,mt)\n",
    "    return res\n",
    "end\n",
    "\n",
    "complex = {r = 1, i = 2}\n",
    "complex2 = {r = 2, i = 4}\n",
    "setmetatable(complex,mt)\n",
    "setmetatable(complex2,mt)\n",
    "print(5 + complex) \n",
    "print(5 - complex)"
   ]
  },
  {
   "cell_type": "markdown",
   "metadata": {
    "slideshow": {
     "slide_type": "slide"
    }
   },
   "source": [
    "## Other Overloadable Operations\n",
    "- **__mul**\n",
    "- **__sub**\n",
    "- **__div**\n",
    "- **__unm**\n",
    "- **__pow**\n",
    "- **__eq**\n",
    "- **__lt**\n",
    "- **__le** "
   ]
  },
  {
   "cell_type": "markdown",
   "metadata": {
    "slideshow": {
     "slide_type": "slide"
    }
   },
   "source": [
    "## OOP in Lua\n",
    "- We will discuss object oriented programming in detail over the next few classes\n",
    "- In Lua, we can approximate an object by\n",
    " - Using metatables to define a class\n",
    " - Use the __:__ operator as a shorthand for passing the current value to a function\n",
    " "
   ]
  },
  {
   "cell_type": "code",
   "execution_count": 12,
   "metadata": {
    "slideshow": {
     "slide_type": "slide"
    }
   },
   "outputs": [
    {
     "name": "stdout",
     "output_type": "stream",
     "text": [
      "Dog goes woof"
     ]
    }
   ],
   "source": [
    "Animal = {species = 'Dog', noise = \"woof\"}\n",
    "\n",
    "function Animal.makeNoise(animal)\n",
    "    print(animal.species .. \" goes \" .. animal.noise)\n",
    "end\n",
    "\n",
    "Animal.makeNoise(Animal)\n"
   ]
  },
  {
   "cell_type": "code",
   "execution_count": 14,
   "metadata": {
    "slideshow": {
     "slide_type": "slide"
    }
   },
   "outputs": [
    {
     "name": "stdout",
     "output_type": "stream",
     "text": [
      "Dog goes woof!\n",
      "Dog goes woof!"
     ]
    }
   ],
   "source": [
    "Animal2 = {species = \"Dog\" , noise = \"woof\"}\n",
    "\n",
    "function Animal2:makeNoise(punct)\n",
    "    print( self.species .. \" goes \" .. self.noise .. punct )\n",
    "end\n",
    "\n",
    "Animal2:makeNoise(\"!\")\n",
    "Animal2.makeNoise(Animal2,\"!\")"
   ]
  },
  {
   "cell_type": "code",
   "execution_count": 19,
   "metadata": {
    "slideshow": {
     "slide_type": "slide"
    }
   },
   "outputs": [
    {
     "name": "stdout",
     "output_type": "stream",
     "text": [
      "Dog goes woof"
     ]
    }
   ],
   "source": [
    "Animal3 = {species = \"Dog\" , noise = \"woof\"}\n",
    "\n",
    "function Animal3.makeNoise(self)\n",
    "    print( self.species .. \" goes \" .. self.noise )\n",
    "end\n",
    "\n",
    "Animal3:makeNoise()"
   ]
  },
  {
   "cell_type": "markdown",
   "metadata": {
    "slideshow": {
     "slide_type": "slide"
    }
   },
   "source": [
    "## Object Constructors\n",
    "- In Lua, the constructor becomes a function that\n",
    "    - creates a table\n",
    "    - sets the appropriate metatable\n",
    "    - and returns the object"
   ]
  },
  {
   "cell_type": "code",
   "execution_count": 20,
   "metadata": {
    "slideshow": {
     "slide_type": "slide"
    }
   },
   "outputs": [],
   "source": [
    "function Animal:new( m_species, m_noise)\n",
    "    o = {species = m_species, noise = m_noise}\n",
    "    setmetatable(o, self)\n",
    "    self.__index = self\n",
    "    return o\n",
    "end\n",
    "\n",
    "function Animal:makeNoise()\n",
    "    print( self.species .. \" goes \" .. self.noise )\n",
    "end"
   ]
  },
  {
   "cell_type": "code",
   "execution_count": 24,
   "metadata": {
    "slideshow": {
     "slide_type": "slide"
    }
   },
   "outputs": [
    {
     "name": "stdout",
     "output_type": "stream",
     "text": [
      "Dog goes Woof\n",
      "Cat goes Meow"
     ]
    }
   ],
   "source": [
    "dog = Animal:new(\"Dog\",\"Woof\")\n",
    "dog:makeNoise()\n",
    "\n",
    "cat = Animal:new(\"Cat\",\"Meow\")\n",
    "cat:makeNoise()"
   ]
  },
  {
   "cell_type": "markdown",
   "metadata": {
    "slideshow": {
     "slide_type": "slide"
    }
   },
   "source": [
    "## Issues with OOP in Lua\n",
    "- Can be cumbersome\n",
    "- An object is still just a table\n",
    "- Metatables can be changed\n",
    "- Consider the output of the following:"
   ]
  },
  {
   "cell_type": "code",
   "execution_count": 16,
   "metadata": {},
   "outputs": [
    {
     "name": "stdout",
     "output_type": "stream",
     "text": [
      "table"
     ]
    }
   ],
   "source": [
    "type(Animal3)"
   ]
  },
  {
   "cell_type": "code",
   "execution_count": 17,
   "metadata": {},
   "outputs": [],
   "source": [
    "Window = {}\n",
    "Window.prototype = {x = 0, y = 0, width = 100, height = 100}\n",
    "Window.mt = {}\n",
    "Window.mt2 = {}\n",
    "\n",
    "function Window.new(o)\n",
    "    setmetatable(o,Window.mt)\n",
    "    return o\n",
    "end\n",
    "\n",
    "Window.mt.__index = Window.prototype\n",
    "Window.mt2.__index = {color = \"red\", shape = \"circle\"}"
   ]
  },
  {
   "cell_type": "code",
   "execution_count": 18,
   "metadata": {},
   "outputs": [
    {
     "name": "stdout",
     "output_type": "stream",
     "text": [
      "0\t0\t100\t200\n",
      "nil\tnil\tnil\t200\n",
      "10"
     ]
    }
   ],
   "source": [
    "x = Window.new{height = 200}\n",
    "print(x.x,x.y,x.width,x.height)\n",
    "setmetatable(x,Window.mt2)\n",
    "print(x.x,x.y,x.width,x.height)\n",
    "\n",
    "x = {10, 20, 30, 40}\n",
    "print(x[1])"
   ]
  },
  {
   "cell_type": "markdown",
   "metadata": {
    "slideshow": {
     "slide_type": "slide"
    }
   },
   "source": [
    "## Lua Wrap Up and Analysis\n",
    "- To finish up our discussion of Lua, we are going to run through some things from chapters 5-10 of the textbook"
   ]
  },
  {
   "cell_type": "markdown",
   "metadata": {
    "collapsed": true,
    "slideshow": {
     "slide_type": "slide"
    }
   },
   "source": [
    "## Names, Binding, and Scope\n",
    "- Names\n",
    " - Case sensitivity?\n",
    "   - Yes\n",
    " - Can reserved words be used?\n",
    "   - No\n",
    " - What characters are allowed?\n",
    "    - Starts with letters, can have underscores and numbers\n",
    "- Binding \n",
    " - When does type binding occur?\n",
    "    - At assignment\n",
    "- Scope\n",
    " - What is the default scope of a variable? \n",
    "   - Global "
   ]
  },
  {
   "cell_type": "markdown",
   "metadata": {
    "slideshow": {
     "slide_type": "slide"
    }
   },
   "source": [
    "## Data Types\n",
    "- What are the data types?\n",
    " - Number, Boolean, String, Table, Nil, Function, Threads and User Data\n",
    "- Can the user define their own data types?\n",
    "  -  Yes, its cumbersome\n",
    "- Arrays \n",
    " - Are subscripts checked?\n",
    "   - No\n",
    " - Can we use slicing?\n",
    "   - No\n",
    " - How well supported are multidimensional arrays?\n",
    "   - Not Very Well\n",
    "- Are pointers accessible?\n",
    "  - No\n",
    "- Is there type checking?\n",
    " - No"
   ]
  },
  {
   "cell_type": "markdown",
   "metadata": {
    "slideshow": {
     "slide_type": "slide"
    }
   },
   "source": [
    "## Expressions and Assignments\n",
    "- Does Lua have operator precedence?\n",
    " - Yes\n",
    "- Does Lua allow operator overloading?\n",
    " - To an Extent\n",
    "- How are type conversions done?\n",
    " - Implicitly\n",
    "- Does Lua have compound assignment operators (ie +=) ?\n",
    " - No"
   ]
  },
  {
   "cell_type": "markdown",
   "metadata": {
    "slideshow": {
     "slide_type": "slide"
    }
   },
   "source": [
    "## Control Structures\n",
    "- What is the syntax of an if statement?\n",
    " - if <> then <> end\n",
    "- Does Lua have a multiple-select structure (ie switch)?\n",
    " - No\n",
    "- What are Lua's counter controlled loops\n",
    " - for\n",
    "- What are Lua's logic controlled loops?\n",
    " - while, repeat"
   ]
  },
  {
   "cell_type": "markdown",
   "metadata": {
    "slideshow": {
     "slide_type": "slide"
    }
   },
   "source": [
    "## Subprograms\n",
    "- What is the function syntax in Lua\n",
    " - function name(<>) <> end\n",
    "- Does Lua allow functions to be passed as parameters of other functions?\n",
    " - Yes\n",
    "- Are functions in Lua type-checked\n",
    " - No\n",
    "- Can functions in Lua return more than one value?\n",
    " - Yes\n",
    "- Can function definitions be nested?\n",
    " - Yes\n",
    "- Does Lua allow closures?\n",
    " - Yes"
   ]
  },
  {
   "cell_type": "markdown",
   "metadata": {
    "slideshow": {
     "slide_type": "slide"
    }
   },
   "source": [
    "## Lua Example Application\n",
    "- A common task in natural language processing is to be able to read a file and calculate various statistics on the words in that file\n",
    "- As an in-class exercise, we will write together a program that does the following\n",
    " - Reads in a text file and breaks it into words, based on spacing.\n",
    " - Counts the frequency of each word\n",
    " - Prints a the most common words in the file\n"
   ]
  },
  {
   "cell_type": "markdown",
   "metadata": {
    "slideshow": {
     "slide_type": "slide"
    }
   },
   "source": [
    "## Lua Example Application \n",
    "### Step 1: Read in the file "
   ]
  },
  {
   "cell_type": "code",
   "execution_count": null,
   "metadata": {},
   "outputs": [],
   "source": [
    "words = {}\n",
    "f = io.open(\"words.txt\")\n",
    "for line in f:lines() do\n",
    "    for word in string.gmatch(line,\"%w+\") do\n",
    "        table.insert(words,string.lower(word))\n",
    "        --print(word)\n",
    "    end\n",
    "end"
   ]
  },
  {
   "cell_type": "markdown",
   "metadata": {
    "slideshow": {
     "slide_type": "slide"
    }
   },
   "source": [
    "## Lua Example Application \n",
    "### Step 2: Count the words"
   ]
  },
  {
   "cell_type": "code",
   "execution_count": null,
   "metadata": {},
   "outputs": [],
   "source": [
    "counts = {}\n",
    "for _,word in pairs(words) do\n",
    "    counts[word] = 0\n",
    "    --print(word)\n",
    "end\n",
    "\n",
    "for _,word in pairs(words) do\n",
    "    counts[word] = counts[word] + 1\n",
    "    --print(word)\n",
    "end"
   ]
  },
  {
   "cell_type": "markdown",
   "metadata": {
    "slideshow": {
     "slide_type": "slide"
    }
   },
   "source": [
    "## Lua Example Application \n",
    "### Step 3: Print Most Common"
   ]
  },
  {
   "cell_type": "code",
   "execution_count": null,
   "metadata": {},
   "outputs": [],
   "source": [
    "together = {}\n",
    "for i,w in pairs(counts) do\n",
    "    table.insert(together,{word = i, count = w})\n",
    "end\n",
    "\n",
    "table.sort(together,function(a,b) return a.count > b.count end)\n",
    "for i,w in ipairs(together) do \n",
    "    print(w.word, w.count)\n",
    "end\n"
   ]
  },
  {
   "cell_type": "code",
   "execution_count": null,
   "metadata": {},
   "outputs": [],
   "source": []
  }
 ],
 "metadata": {
  "celltoolbar": "Slideshow",
  "kernelspec": {
   "display_name": "Lua",
   "language": "",
   "name": "lupyter"
  },
  "language_info": {
   "file_extension": ".lua",
   "mimetype": "text/Lua",
   "name": "Lua",
   "version": "5.X.Y"
  }
 },
 "nbformat": 4,
 "nbformat_minor": 1
}
