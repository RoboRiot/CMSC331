{
 "cells": [
  {
   "cell_type": "markdown",
   "metadata": {
    "slideshow": {
     "slide_type": "slide"
    }
   },
   "source": [
    "# Lua II\n",
    "## Tables,  Functions,  and Libraries"
   ]
  },
  {
   "cell_type": "code",
   "execution_count": 1,
   "metadata": {
    "slideshow": {
     "slide_type": "skip"
    }
   },
   "outputs": [],
   "source": [
    "--Needed to Pretty Print the table, is an outside library\n",
    "-- Can be installed by using the command \"luarocks install inspect\"\n",
    "inspect = require 'inspect'"
   ]
  },
  {
   "cell_type": "markdown",
   "metadata": {
    "slideshow": {
     "slide_type": "slide"
    }
   },
   "source": [
    "## Tables\n",
    "- Tables are the only data structure available in Lua\n",
    " - They can be used in multiple ways to approximate arrays, dictionaries, sets, etc.\n",
    " - Modules in Lua are implemented using tables as well\n",
    "- Tables are implemented as associative arrays, similiar to\n",
    " - Dictionary in __Python__\n",
    " - Map in __Java__,__C++__\n",
    " "
   ]
  },
  {
   "cell_type": "markdown",
   "metadata": {
    "slideshow": {
     "slide_type": "slide"
    }
   },
   "source": [
    "## Table Basics\n",
    " - Tables are defined using __{}__ \n",
    " - Use __[]__ for indexing\n",
    " - __#__ will return the length of the table\n",
    " - The keys in a table can be *any* data type except for __nil__"
   ]
  },
  {
   "cell_type": "code",
   "execution_count": 6,
   "metadata": {
    "slideshow": {
     "slide_type": "slide"
    }
   },
   "outputs": [
    {
     "name": "stdout",
     "output_type": "stream",
     "text": [
      "table: 0x2411e60\n",
      "nil\n",
      "{ 0, 100, -100,\n",
      "  [0] = 2,\n",
      "  [\"5\"] = 5,\n",
      "  [{\n",
      "    a = 20,\n",
      "    b = 30\n",
      "  }] = \"A Table\"\n",
      "}"
     ]
    }
   ],
   "source": [
    "t = {}\n",
    "t[1] = 0\n",
    "t[0] = 2\n",
    "t[\"5\"] = 5\n",
    "t[3] = -100\n",
    "s = {a=20, b = 30}\n",
    "t[2] = 100\n",
    "r = {a=20, b = 30}\n",
    "t[s]= \"A Table\"\n",
    "\n",
    "print(t)\n",
    "print(t[r])\n",
    "print(inspect(t))"
   ]
  },
  {
   "cell_type": "markdown",
   "metadata": {
    "slideshow": {
     "slide_type": "slide"
    }
   },
   "source": [
    "## Tables as arrays\n",
    "- If we initialize a table with out using keys, we can treat it as an array\n",
    " - Array indexing __*starts with 1*__ in Lua\n",
    "- To add a new element to array, we use the __table.insert__ function from the table module\n",
    "- To remove an element, use the __table.remove__ function from the table module"
   ]
  },
  {
   "cell_type": "code",
   "execution_count": 7,
   "metadata": {
    "slideshow": {
     "slide_type": "slide"
    }
   },
   "outputs": [
    {
     "name": "stdout",
     "output_type": "stream",
     "text": [
      "{ 1, 100, 3, 4, 5, 6 }\n",
      "100\n",
      "{ 1, -40, 100, 3, 4, 5, 6 }\n",
      "{ 1, -40, 100, -1000, 4, 5, 6 }"
     ]
    }
   ],
   "source": [
    "array = {1 , 100, 3, 4, 5}\n",
    "table.insert(array,6)\n",
    "\n",
    "print(inspect(array))\n",
    "print(inspect(array[2]))\n",
    "\n",
    "table.insert(array,2,-40)\n",
    "print(inspect(array))\n",
    "array[4] = -1000\n",
    "print(inspect(array))"
   ]
  },
  {
   "cell_type": "code",
   "execution_count": 8,
   "metadata": {
    "slideshow": {
     "slide_type": "slide"
    }
   },
   "outputs": [
    {
     "name": "stdout",
     "output_type": "stream",
     "text": [
      "{ 1, -40, 100, -1000, 4, 5, 6 }\n",
      "{ 1, -40, 100, -1000, 4, 5 }\n",
      "100\n",
      "{ 1, -40, -1000, 4, 5 }\n",
      "-1000"
     ]
    }
   ],
   "source": [
    "print(inspect(array))\n",
    "\n",
    "table.remove(array)\n",
    "print(inspect(array))\n",
    "\n",
    "print(array[3])\n",
    "table.remove(array,3)\n",
    "print(inspect(array))\n",
    "print(array[3])"
   ]
  },
  {
   "cell_type": "markdown",
   "metadata": {
    "slideshow": {
     "slide_type": "slide"
    }
   },
   "source": [
    "## Multi-Dimensional Arrays\n",
    "- No easy to way to declare multi-dimensional arrays in Lua\n",
    "- Two ways to implement a multi-dimensional array\n",
    " - Iteravely create each row\n",
    " - Combine the two indices into one\n",
    "- If its small you can intialize it explicitly\n"
   ]
  },
  {
   "cell_type": "code",
   "execution_count": 9,
   "metadata": {
    "slideshow": {
     "slide_type": "slide"
    }
   },
   "outputs": [
    {
     "name": "stdout",
     "output_type": "stream",
     "text": [
      "{ { 0, 1 }, { 0, 1 } }\n",
      "0"
     ]
    }
   ],
   "source": [
    "two_d = {{0,1},{0,1}}\n",
    "print(inspect(two_d))\n",
    "print(two_d[1][1])"
   ]
  },
  {
   "cell_type": "code",
   "execution_count": 15,
   "metadata": {
    "slideshow": {
     "slide_type": "slide"
    }
   },
   "outputs": [
    {
     "name": "stdout",
     "output_type": "stream",
     "text": [
      "{ { 0, 0, 0, 0, 0, 0, 0, 0, 0, 0 }, { 0, 0, 0, 0, 0, 0, 0, 0, 0, 0 }, { 0, 0, 0, 0, 0, 0, 0, 0, 0, 0 }, { 0, 0, 0, 0, 0, 0, 0, 0, 0, 0 }, { 0, 0, 0, 0, 0, 0, 0, 0, 0, 0 }, { 0, 0, 0, 0, 0, 0, 0, 0, 0, 0 }, { 0, 0, 0, 0, 0, 0, 0, 0, 0, 0 }, { 0, 0, 0, 0, 0, 0, 0, 0, 0, 0 }, { 0, 0, 0, 0, 0, 0, 0, 0, 0, 0 }, { 0, 0, 0, 0, 0, 0, 0, 0, 0, 0 } }"
     ]
    }
   ],
   "source": [
    "multi = {}\n",
    "for i = 1 ,10 do\n",
    "    multi[i] = {}\n",
    "    for j = 1, 10 do\n",
    "        multi[i][j] = 0\n",
    "    end\n",
    "end\n",
    "\n",
    "print(inspect(multi))\n"
   ]
  },
  {
   "cell_type": "code",
   "execution_count": 16,
   "metadata": {
    "scrolled": true,
    "slideshow": {
     "slide_type": "slide"
    }
   },
   "outputs": [
    {
     "name": "stdout",
     "output_type": "stream",
     "text": [
      "{\n",
      "  [3] = 0,\n",
      "  [4] = 0,\n",
      "  [5] = 0,\n",
      "  [6] = 0,\n",
      "  [7] = 0,\n",
      "  [8] = 0,\n",
      "  [9] = 0,\n",
      "  [10] = 0,\n",
      "  [11] = 0,\n",
      "  [12] = 0\n",
      "}"
     ]
    }
   ],
   "source": [
    "mt = {}        \n",
    "for i=1,5 do\n",
    "    -- for j = 1,M\n",
    "    for j=1,2 do\n",
    "        -- i * M + j\n",
    "        mt[i*2+ j] = 0\n",
    "    end\n",
    "end\n",
    "\n",
    "print(inspect(mt))"
   ]
  },
  {
   "cell_type": "markdown",
   "metadata": {
    "slideshow": {
     "slide_type": "slide"
    }
   },
   "source": [
    "## Tables as sets\n",
    "- Sets are collections of unique objects\n",
    "- In Lua, each table key is unique\n",
    " - We use the keys of tables to be the values of our set\n",
    "- By convention we set each key to __true__\n",
    " - It could be anything other than __false__ or __nil__"
   ]
  },
  {
   "cell_type": "code",
   "execution_count": 18,
   "metadata": {
    "slideshow": {
     "slide_type": "slide"
    }
   },
   "outputs": [
    {
     "name": "stdout",
     "output_type": "stream",
     "text": [
      "true\n",
      "4"
     ]
    }
   ],
   "source": [
    "set1 = {}\n",
    "set1[\"item1\"] = true\n",
    "set1[\"item2\"] = true\n",
    "set1[\"item3\"] = true\n",
    "if set1[\"item2\"] then\n",
    "    print(set1[\"item2\"])\n",
    "end\n",
    "\n",
    "set2 = {item1 = \"random\", item2 = 4, item3 = \"string\"}\n",
    "if set2[\"item2\"] then\n",
    "    print(set2[\"item2\"])\n",
    "end"
   ]
  },
  {
   "cell_type": "markdown",
   "metadata": {
    "slideshow": {
     "slide_type": "slide"
    }
   },
   "source": [
    "## Tables as records\n",
    "- Another common use case for tables is to represent a record of some kind\n",
    "- Lua provides the __.__ operator as a shortcut for indexing into tables"
   ]
  },
  {
   "cell_type": "code",
   "execution_count": 21,
   "metadata": {},
   "outputs": [
    {
     "name": "stdout",
     "output_type": "stream",
     "text": [
      "1\t2\n",
      "3\t3"
     ]
    }
   ],
   "source": [
    "record = {x = 1, [\"y\"] = 2}\n",
    "print(record.x,record.y)\n",
    "record.new = 3\n",
    "print(record.new,record[\"new\"])"
   ]
  },
  {
   "cell_type": "markdown",
   "metadata": {
    "slideshow": {
     "slide_type": "slide"
    }
   },
   "source": [
    "## Iteration over tables\n",
    "- The final type of iteration in Lua is the *generic* __for__\n",
    "- The general syntax is __for < var-list > in < expr-list> do __\n",
    "- When working with tables, we use the special function __pairs__ to produce key,value pairs"
   ]
  },
  {
   "cell_type": "code",
   "execution_count": 22,
   "metadata": {
    "slideshow": {
     "slide_type": "slide"
    }
   },
   "outputs": [
    {
     "name": "stdout",
     "output_type": "stream",
     "text": [
      "washington is the capital of usa\n",
      "ljubljana is the capital of slovenia\n",
      "ottowa is the capital of canada"
     ]
    }
   ],
   "source": [
    "to_loop = {usa = \"washington\", canada = \"ottowa\",\n",
    "    slovenia=\"ljubljana\"}  \n",
    "\n",
    "for country, capital in pairs(to_loop) do\n",
    "    print(capital .. \" is the capital of \" .. country)\n",
    "end"
   ]
  },
  {
   "cell_type": "code",
   "execution_count": 25,
   "metadata": {
    "slideshow": {
     "slide_type": "slide"
    }
   },
   "outputs": [
    {
     "name": "stdout",
     "output_type": "stream",
     "text": [
      "10\n",
      "9\n",
      "8\n",
      "7\n",
      "6\n",
      "5\n",
      "4\n",
      "3\n",
      "2\n",
      "1\n",
      "function: 0x2287c30\ttable: 0x2406060\tnil"
     ]
    }
   ],
   "source": [
    "array_loop = {10,9,8,7,6,5,4,3,2,1}\n",
    "for key,value in pairs(array_loop) do\n",
    "    print(value)\n",
    "end\n",
    "print(pairs(array_loop))"
   ]
  },
  {
   "cell_type": "code",
   "execution_count": 28,
   "metadata": {
    "slideshow": {
     "slide_type": "slide"
    }
   },
   "outputs": [
    {
     "name": "stdout",
     "output_type": "stream",
     "text": [
      "Dog is an animal\n",
      "Cat is an animal\n",
      "Parrot is an animal"
     ]
    }
   ],
   "source": [
    "set_loop = {Dog = true, Cat = true, Parrot = true}\n",
    "for key in pairs(set_loop) do\n",
    "    print(key .. \" is an animal\")\n",
    "end"
   ]
  },
  {
   "cell_type": "markdown",
   "metadata": {
    "slideshow": {
     "slide_type": "slide"
    }
   },
   "source": [
    "## Basic Function Definitions\n",
    "- Functions in Lua are defined using the __function__ keyword and must end with __end__\n",
    "```lua\n",
    "   function add(a,b)\n",
    "       return a + b\n",
    "   end\n",
    "   ```\n",
    "- A function name in Lua is a variable just like any other data type\n",
    " - Can be declared __local__\n",
    " - Can be overwritten"
   ]
  },
  {
   "cell_type": "markdown",
   "metadata": {
    "slideshow": {
     "slide_type": "slide"
    }
   },
   "source": [
    "## Basic Function Examples"
   ]
  },
  {
   "cell_type": "code",
   "execution_count": 30,
   "metadata": {},
   "outputs": [
    {
     "name": "stdout",
     "output_type": "stream",
     "text": [
      "HELLO\n",
      "100\n",
      "1\n",
      "function\n",
      "100"
     ]
    }
   ],
   "source": [
    "function max(a,b)\n",
    "    return (a > b) and a or b\n",
    "end\n",
    "\n",
    "min = function(a,b)\n",
    "    return (a < b) and a or b\n",
    "end\n",
    "function hello()\n",
    "    print(\"HELLO\")\n",
    "end\n",
    "hello()\n",
    "print(max(1,100))\n",
    "print(min(1,100))\n",
    "\n",
    "min = max\n",
    "print(type(min))\n",
    "\n",
    "print(min(1,100))"
   ]
  },
  {
   "cell_type": "markdown",
   "metadata": {
    "slideshow": {
     "slide_type": "slide"
    }
   },
   "source": [
    "## Basic Function Examples"
   ]
  },
  {
   "cell_type": "code",
   "execution_count": 33,
   "metadata": {},
   "outputs": [
    {
     "name": "stdout",
     "output_type": "stream",
     "text": [
      "8\n",
      "4"
     ]
    }
   ],
   "source": [
    "function wrapper(a)\n",
    " \n",
    "    local function square(a)\n",
    "        return a^2\n",
    "    end\n",
    "\n",
    "    function cube(a)\n",
    "        return a^3\n",
    "    end\n",
    "    \n",
    "    return square(a)\n",
    "end\n",
    "\n",
    "print(cube(2))\n",
    "print(wrapper(2))\n",
    "\n",
    "--print(square(2))"
   ]
  },
  {
   "cell_type": "code",
   "execution_count": 34,
   "metadata": {
    "slideshow": {
     "slide_type": "slide"
    }
   },
   "outputs": [
    {
     "name": "stdout",
     "output_type": "stream",
     "text": [
      "8\n",
      "4"
     ]
    }
   ],
   "source": [
    "function wrapper2(a)\n",
    "    local function wrapper1(a)  \n",
    "        local function square(a)\n",
    "            return a^2\n",
    "        end\n",
    "        \n",
    "        function cube(a)\n",
    "            return a^3\n",
    "        end\n",
    "        return square(a)\n",
    "    end\n",
    "    return wrapper1(a) \n",
    "end\n",
    "print(cube(2))\n",
    "print(wrapper2(2))\n",
    "--print(square(2))"
   ]
  },
  {
   "cell_type": "markdown",
   "metadata": {
    "slideshow": {
     "slide_type": "slide"
    }
   },
   "source": [
    "## Multiple Returns, Multiple Parameters\n",
    "- A Lua function can return any number of parameters\n",
    " - The __return__ keyword followed by a comma seperated list of variables to return\n",
    "- Lua is lenient with parameter passing\n",
    " - Can pass too many or too few parameters with out an error being caused\n",
    "- The keyword __...__ can be used as the last parameter when defining a function to signal an unkown number of parameters"
   ]
  },
  {
   "cell_type": "code",
   "execution_count": 35,
   "metadata": {
    "slideshow": {
     "slide_type": "slide"
    }
   },
   "outputs": [
    {
     "name": "stdout",
     "output_type": "stream",
     "text": [
      "2\t0\n",
      "1.5\n",
      "1\n",
      "2"
     ]
    }
   ],
   "source": [
    "function divmod(a,b)\n",
    "    local d = a / b\n",
    "    local m = a % b\n",
    "    return d,m\n",
    "end\n",
    "\n",
    "print(divmod(4,2))\n",
    "div , mod = divmod(3,2)\n",
    "print(div)\n",
    "print(mod)\n",
    "lonely = divmod(10,5)\n",
    "print(lonely)"
   ]
  },
  {
   "cell_type": "code",
   "execution_count": 36,
   "metadata": {
    "slideshow": {
     "slide_type": "slide"
    }
   },
   "outputs": [
    {
     "name": "stdout",
     "output_type": "stream",
     "text": [
      "1\n",
      "2\n",
      "nil\n",
      "20"
     ]
    }
   ],
   "source": [
    "function f(a,b)\n",
    "    return a or b\n",
    "end\n",
    "\n",
    "print(f(1,2,3,4))\n",
    "print(f(2))\n",
    "print(f(false))\n",
    "print(f(nil,20))"
   ]
  },
  {
   "cell_type": "code",
   "execution_count": 37,
   "metadata": {
    "slideshow": {
     "slide_type": "slide"
    }
   },
   "outputs": [
    {
     "name": "stdout",
     "output_type": "stream",
     "text": [
      "3\t4\t5"
     ]
    }
   ],
   "source": [
    "function long(a,b,...)\n",
    "     return ...\n",
    "end\n",
    "\n",
    "print(long(1,2,3,4,5))"
   ]
  },
  {
   "cell_type": "code",
   "execution_count": 39,
   "metadata": {
    "slideshow": {
     "slide_type": "slide"
    }
   },
   "outputs": [
    {
     "name": "stdout",
     "output_type": "stream",
     "text": [
      "6"
     ]
    }
   ],
   "source": [
    "--Must use arg to refer to ...\n",
    "--in the function for indexing purposes\n",
    "function long(a,b,...)\n",
    "     return arg[1] * b\n",
    "end\n",
    "--long{a = 1, b = 2}\n",
    "print(long(1,2,3,4,5))"
   ]
  },
  {
   "cell_type": "markdown",
   "metadata": {
    "slideshow": {
     "slide_type": "slide"
    }
   },
   "source": [
    "## Closures\n",
    "- A closure is a function that returns another function\n",
    "- Can bind a function with local variables that it can resuse"
   ]
  },
  {
   "cell_type": "markdown",
   "metadata": {
    "slideshow": {
     "slide_type": "slide"
    }
   },
   "source": [
    "## Closure Examples\n",
    "Taken from Fabio Mascharenhas' Lecture Notes"
   ]
  },
  {
   "cell_type": "code",
   "execution_count": 41,
   "metadata": {
    "slideshow": {
     "slide_type": "-"
    }
   },
   "outputs": [],
   "source": [
    "function counter()\n",
    "    local n = 0\n",
    "    return function()\n",
    "            n = n + 1\n",
    "            return n\n",
    "     end\n",
    "end\n",
    "\n",
    "\n",
    "function counter2()\n",
    "    local n= 0\n",
    "    n = n + 1\n",
    "    return n\n",
    "end"
   ]
  },
  {
   "cell_type": "code",
   "execution_count": 43,
   "metadata": {
    "slideshow": {
     "slide_type": "slide"
    }
   },
   "outputs": [
    {
     "name": "stdout",
     "output_type": "stream",
     "text": [
      "1\n",
      "1\n",
      "2\n",
      "1\n",
      "3\n",
      "2\n",
      "3\n",
      "1\n",
      "1"
     ]
    }
   ],
   "source": [
    "c1 = counter()\n",
    "c2 = counter()\n",
    "print(counter()())\n",
    "print (c1())\n",
    "print (c1())\n",
    "print (c2())\n",
    "print (c1())\n",
    "print (c2())\n",
    "print (c2())\n",
    "print(counter2())\n",
    "print(counter2())"
   ]
  },
  {
   "cell_type": "markdown",
   "metadata": {
    "slideshow": {
     "slide_type": "slide"
    }
   },
   "source": [
    "## Closure Examples\n",
    "Taken from Fabio Mascharenhas' Lecture Notes"
   ]
  },
  {
   "cell_type": "code",
   "execution_count": 45,
   "metadata": {},
   "outputs": [],
   "source": [
    "-- Closures can return more than one function\n",
    "function counter2()\n",
    "    local n = 0\n",
    "    return function ()\n",
    "        n = n + 1\n",
    "        return n\n",
    "    end,\n",
    "    function()\n",
    "        n = n - 1\n",
    "        return n\n",
    "    end\n",
    "end\n"
   ]
  },
  {
   "cell_type": "code",
   "execution_count": 46,
   "metadata": {
    "slideshow": {
     "slide_type": "slide"
    }
   },
   "outputs": [
    {
     "name": "stdout",
     "output_type": "stream",
     "text": [
      "1\n",
      "2\n",
      "1\n",
      "0\n",
      "-1\n",
      "-2\n",
      "-1"
     ]
    }
   ],
   "source": [
    "inc, dec = counter2()\n",
    "print(inc())\n",
    "print(inc())\n",
    "print(dec())\n",
    "print(dec())\n",
    "print(dec())\n",
    "print(dec())\n",
    "print(inc())"
   ]
  },
  {
   "cell_type": "markdown",
   "metadata": {
    "collapsed": true,
    "slideshow": {
     "slide_type": "slide"
    }
   },
   "source": [
    "## Libraries in Lua\n",
    "- Lua comes with 6 standard libraries\n",
    " - IO\n",
    " - String\n",
    " - Table\n",
    " - Operating System\n",
    " - Math\n",
    " - Debugging\n",
    "- Libraries in Lua are implemented using tables\n",
    " - __io.write__ means get the function in the *io* table with key *write* "
   ]
  },
  {
   "cell_type": "markdown",
   "metadata": {
    "slideshow": {
     "slide_type": "slide"
    }
   },
   "source": [
    "## IO in Lua\n",
    "- Until now, we have been using only print statements\n",
    "- To do anything fancier in Lua, we need to use the io library\n",
    "- There are two patterns for doing IO in Lua\n",
    " - The simple model uses __io.read__ and __io.write__ to read an write from files set with __io.input__ and __io.output__ \n",
    " - The complete model returns a file handle that we can interact with"
   ]
  },
  {
   "cell_type": "markdown",
   "metadata": {
    "slideshow": {
     "slide_type": "slide"
    }
   },
   "source": [
    "## Simple IO "
   ]
  },
  {
   "cell_type": "code",
   "execution_count": 50,
   "metadata": {},
   "outputs": [
    {
     "name": "stdout",
     "output_type": "stream",
     "text": [
      "\"You? Who are you? How could you know anything of the matter?\""
     ]
    }
   ],
   "source": [
    "io.input(\"words.txt\")\n",
    "line = io.read()\n",
    "print(line)\n",
    "--io.output(\"doesn_exist.txt\")"
   ]
  },
  {
   "cell_type": "code",
   "execution_count": 51,
   "metadata": {
    "scrolled": true
   },
   "outputs": [
    {
     "name": "stdout",
     "output_type": "stream",
     "text": [
      "\n",
      "\"My name is Sherlock Holmes. It is my business to know what other\n",
      "people don't know.\"\n",
      "\"But you can know nothing of this?\"\n",
      "\"Excuse me, I know everything of it. You are endeavouring to\n",
      "trace some geese which were sold by Mrs. Oakshott, of Brixton\n",
      "Road, to a salesman named Breckinridge, by him in turn to Mr.\n",
      "Windigate, of the Alpha, and by him to his club, of which Mr.\n",
      "Henry Baker is a member.\"\n",
      "\"Oh, sir, you are the very man whom I have longed to meet,\" cried\n",
      "the little fellow with outstretched hands and quivering fingers.\n",
      "\"I can hardly explain to you how interested I am in this matter.\"\n",
      "Sherlock Holmes hailed a four-wheeler which was passing. \"In that\n",
      "case we had better discuss it in a cosy room rather than in this\n",
      "wind-swept market-place,\" said he. \"But pray tell me, before we\n",
      "go farther, who it is that I have the pleasure of assisting.\""
     ]
    }
   ],
   "source": [
    "while true do\n",
    "    line = io.read()\n",
    "    if line == nil then break end \n",
    "    print (line)\n",
    "end\n"
   ]
  },
  {
   "cell_type": "markdown",
   "metadata": {
    "slideshow": {
     "slide_type": "slide"
    }
   },
   "source": [
    "## Complete IO\n",
    "- Simple IO makes it difficult to work with multiple files at once\n",
    "- Instead we use __io.open__ to get a handle to a file"
   ]
  },
  {
   "cell_type": "code",
   "execution_count": 52,
   "metadata": {
    "scrolled": true,
    "slideshow": {
     "slide_type": "slide"
    }
   },
   "outputs": [
    {
     "name": "stdout",
     "output_type": "stream",
     "text": [
      "file (0x241b3b0)\n",
      "\"you? who are you? how could you know anything of the matter?\"\n",
      "\"my name is sherlock holmes. it is my business to know what other\n",
      "people don't know.\"\n",
      "\"but you can know nothing of this?\"\n",
      "\"excuse me, i know everything of it. you are endeavouring to\n",
      "trace some geese which were sold by mrs. oakshott, of brixton\n",
      "road, to a salesman named breckinridge, by him in turn to mr.\n",
      "windigate, of the alpha, and by him to his club, of which mr.\n",
      "henry baker is a member.\"\n",
      "\"oh, sir, you are the very man whom i have longed to meet,\" cried\n",
      "the little fellow with outstretched hands and quivering fingers.\n",
      "\"i can hardly explain to you how interested i am in this matter.\"\n",
      "sherlock holmes hailed a four-wheeler which was passing. \"in that\n",
      "case we had better discuss it in a cosy room rather than in this\n",
      "wind-swept market-place,\" said he. \"but pray tell me, before we\n",
      "go farther, who it is that i have the pleasure of assisting.\""
     ]
    }
   ],
   "source": [
    "words = io.open(\"words.txt\")\n",
    "all = words:read(\"*all\") -- words.read(words,\"*all\") -- words['read'](words,\"*all\")\n",
    "print(words)\n",
    "lower = string.lower(all)\n",
    "\n",
    "low_file = io.open(\"lower.txt\",\"w\")\n",
    "low_file:write(lower) -- equivalent to low_file.write(low_file,lower)\n",
    "low_file:close()\n",
    "\n",
    "low_file = io.open(\"lower.txt\")\n",
    "for line in low_file:lines() do\n",
    "    print(line)\n",
    "end"
   ]
  },
  {
   "cell_type": "markdown",
   "metadata": {
    "collapsed": true,
    "slideshow": {
     "slide_type": "slide"
    }
   },
   "source": [
    "## Errors when opening files\n"
   ]
  },
  {
   "cell_type": "code",
   "execution_count": 53,
   "metadata": {},
   "outputs": [
    {
     "name": "stdout",
     "output_type": "stream",
     "text": [
      "nil\n",
      "notreal.txt: No such file or directory\t2"
     ]
    }
   ],
   "source": [
    "bad = io.open(\"notreal.txt\")\n",
    "print(bad)\n",
    "\n",
    "bad , why, err= io.open(\"notreal.txt\")\n",
    "print(why,err)"
   ]
  },
  {
   "cell_type": "markdown",
   "metadata": {
    "slideshow": {
     "slide_type": "slide"
    }
   },
   "source": [
    "## String Functions\n",
    "- The basic operations provided by Lua on strings are very limited\n",
    "- To do anything interesting we need to use the __string__ library\n",
    "- Common functions from the string library\n",
    " - __string.lower__ and __string.upper__\n",
    " - __string.sub( s, i, j)__ returns the characters in a string from i to j indexes\n",
    " - __string.find( s, pattern)__ returns the start and end location of a pattern in string s\n",
    " - __string.gsub( s, pattern, replace)__ replaces pattern in the string with replace\n",
    " - __string.format(format_string, ...)__ returns a format_string with variables placed in it"
   ]
  },
  {
   "cell_type": "code",
   "execution_count": 54,
   "metadata": {
    "slideshow": {
     "slide_type": "slide"
    }
   },
   "outputs": [
    {
     "name": "stdout",
     "output_type": "stream",
     "text": [
      "is watson holmes. it is my\n",
      "\"\n",
      "\n",
      "watson holmes hailed a \n",
      "This is a float: 2.0000\n",
      "This is a integer: 2"
     ]
    }
   ],
   "source": [
    "lower = string.gsub(lower,\"sherlock\",\"watson\")\n",
    "--lower = lower[\"gsub\"](lower,\"sherlock\",\"watson\")\n",
    "--lower = lower:gsub(\"sherlock\",\"watson\")\n",
    "i, j = string.find(lower,\"holmes\")\n",
    "print(string.sub(lower,i-10,j+10))\n",
    "\n",
    "i, j = string.find(lower,\"holmes\", i + 1)\n",
    "print(string.sub(lower,i-10,j+10))\n",
    "\n",
    "print(string.format(\"This is a float: %.4f\\nThis is a integer: %d\",2,2))\n",
    "\n"
   ]
  },
  {
   "cell_type": "markdown",
   "metadata": {
    "slideshow": {
     "slide_type": "slide"
    }
   },
   "source": [
    "## Table Library\n",
    "- We've already seen a few of these fuctions\n",
    " - __table.insert__\n",
    " - __table.remove__\n",
    "- Another common function is __sort__\n",
    " - By default __table.sort__ sorts the table by its values\n",
    " - A second parameter can be given that specificies a comparator function"
   ]
  },
  {
   "cell_type": "markdown",
   "metadata": {
    "slideshow": {
     "slide_type": "slide"
    }
   },
   "source": [
    "## Sorting Tables"
   ]
  },
  {
   "cell_type": "code",
   "execution_count": 55,
   "metadata": {},
   "outputs": [
    {
     "name": "stdout",
     "output_type": "stream",
     "text": [
      "1\tAlabama\n",
      "2\tAlaska\n",
      "3\tArizona\n",
      "4\tArkansas\n",
      "5\tConnecticut\n",
      "6\tDeleware\n",
      "7\tHawaii\n",
      "8\tMaryland\n",
      "9\tTexas"
     ]
    }
   ],
   "source": [
    "states = {\"Texas\",\"Alabama\",\"Alaska\",\"Arizona\",\"Arkansas\",\n",
    "    \"Maryland\",\"Connecticut\",\"Deleware\",\"Hawaii\"}\n",
    "table.sort(states)\n",
    "for i, state in pairs(states) do\n",
    "    print(i, state)\n",
    "end"
   ]
  },
  {
   "cell_type": "code",
   "execution_count": 56,
   "metadata": {
    "slideshow": {
     "slide_type": "slide"
    }
   },
   "outputs": [
    {
     "name": "stdout",
     "output_type": "stream",
     "text": [
      "Alabama\n",
      "Alaska\n",
      "Arizona\n",
      "Maryland\n",
      "Deleware\n",
      "Hawaii\n",
      "Texas\n",
      "Arkansas\n",
      "Connecticut"
     ]
    }
   ],
   "source": [
    "table.sort(states, \n",
    "    function (a,b) return string.sub(a,-1) < string.sub(b,-1) end)\n",
    "for i, state in ipairs(states) do\n",
    "    print(state)\n",
    "end"
   ]
  },
  {
   "cell_type": "markdown",
   "metadata": {
    "slideshow": {
     "slide_type": "slide"
    }
   },
   "source": [
    "## Building your own package\n",
    "- A package is a Lua file\n",
    "- To start the package you make an empty table\n",
    "- At the end of the file you must return the table\n",
    "- To use a package, use the __require__ keyword"
   ]
  },
  {
   "cell_type": "markdown",
   "metadata": {
    "slideshow": {
     "slide_type": "slide"
    }
   },
   "source": [
    "## Package Example\n",
    "In a file called complex.lua\n",
    "```lua \n",
    "complex = {}\n",
    "    \n",
    "function complex.new (r, i) return {r=r, i=i} end\n",
    "\n",
    "-- defines a constant `i'\n",
    "complex.i = complex.new(0, 1)\n",
    "\n",
    "function complex.add (c1, c2)\n",
    "  return complex.new(c1.r + c2.r, c1.i + c2.i)\n",
    "end\n",
    "\n",
    "function complex.sub (c1, c2)\n",
    "  return complex.new(c1.r - c2.r, c1.i - c2.i)\n",
    "end\n",
    "```"
   ]
  },
  {
   "cell_type": "markdown",
   "metadata": {
    "slideshow": {
     "slide_type": "slide"
    }
   },
   "source": [
    "## Package Example\n",
    "complex.lua continued\n",
    "```lua \n",
    "\n",
    "function complex.mul (c1, c2)\n",
    "  return complex.new(c1.r*c2.r - c1.i*c2.i,\n",
    "                     c1.r*c2.i + c1.i*c2.r)\n",
    "end\n",
    "\n",
    "function complex.inv (c)\n",
    "  local n = c.r^2 + c.i^2\n",
    "  return complex.new(c.r/n, -c.i/n)\n",
    "end\n",
    "\n",
    "return complex\n",
    "```"
   ]
  },
  {
   "cell_type": "code",
   "execution_count": 60,
   "metadata": {
    "slideshow": {
     "slide_type": "slide"
    }
   },
   "outputs": [
    {
     "name": "stdout",
     "output_type": "stream",
     "text": [
      "10 + 21i"
     ]
    }
   ],
   "source": [
    "complex = require 'complex'\n",
    "c1 = complex.new(10,20)\n",
    "result = complex.add(complex.i,c1)\n",
    "--result = c1:add(c1)\n",
    "print(string.format(\"%d + %di\",result.r,result.i))"
   ]
  }
 ],
 "metadata": {
  "celltoolbar": "Slideshow",
  "kernelspec": {
   "display_name": "Lua",
   "language": "",
   "name": "lupyter"
  },
  "language_info": {
   "file_extension": ".lua",
   "mimetype": "text/Lua",
   "name": "Lua",
   "version": "5.X.Y"
  }
 },
 "nbformat": 4,
 "nbformat_minor": 1
}
