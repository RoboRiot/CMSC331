{
 "cells": [
  {
   "cell_type": "markdown",
   "metadata": {
    "slideshow": {
     "slide_type": "slide"
    }
   },
   "source": [
    "# Parsing"
   ]
  },
  {
   "cell_type": "markdown",
   "metadata": {
    "slideshow": {
     "slide_type": "slide"
    }
   },
   "source": [
    "## Parsing Basics\n",
    "\n",
    "- Parsing or syntax anaylsis has two goals\n",
    " - To find and report all syntax errors in the code\n",
    " - To generate the syntactic structure of the code\n",
    "- We can parse any unambigous grammar in O($n^3$)\n",
    " - By placing more restrictions on the form of the grammar, this can be reduced to O($n$)\n",
    "- There are two general parsing strategies\n",
    " - Top Down, Start with the root and go to the leaves\n",
    " - Bottom Up, Start with the leaves, work towards the root"
   ]
  },
  {
   "cell_type": "markdown",
   "metadata": {
    "slideshow": {
     "slide_type": "slide"
    }
   },
   "source": [
    "## Restricting the Grammar\n",
    "- We define two classes of grammar that garuantee linear (O(n)) parsing time.\n",
    "- LL grammars\n",
    "    - Symbols are read left to right, results in a leftmost derivation\n",
    "    - Parsed by LL parsers\n",
    "- LR grammars\n",
    "    - Symbols are read left to right, results in a rightmost derivation \n",
    "    - Parsed by LR parsers"
   ]
  },
  {
   "cell_type": "markdown",
   "metadata": {
    "slideshow": {
     "slide_type": "slide"
    }
   },
   "source": [
    "## Top-Down vs Bottom-Up\n",
    "- Top down is \n",
    "    - Easy to Implement\n",
    "    - Requires more preprocessing of the grammar\n",
    "- Bottom up is \n",
    "    - Harder to implement by hand\n",
    "        - Not hard to generate however\n",
    "    - Can work with most grammars as is"
   ]
  },
  {
   "cell_type": "markdown",
   "metadata": {
    "slideshow": {
     "slide_type": "slide"
    }
   },
   "source": [
    "## Top-Down Parsing\n",
    "- Corresponds to a left-most derivation\n",
    "- Every node is visited before visiting its branches\n",
    "- Two common implementations are __recursive-descent parsing__ and __table-driven parsing__\n",
    " - Both of these are __LL__ algorithms, using a left-to-right scan on the input and a leftmost derivation"
   ]
  },
  {
   "cell_type": "markdown",
   "metadata": {
    "slideshow": {
     "slide_type": "slide"
    }
   },
   "source": [
    "## Resursive-Descent Parsing\n",
    "\n",
    "- Most popular Top-Down Parsing method\n",
    "- Is a collection of subprograms (functions)\n",
    " - Each non-terminal in a grammar has exactly one subprogram associated with it\n",
    " - We assume a global *next_token* that holds next token in the input\n",
    " - We also assume that each subprogram leaves the global *next_token* on the token after it."
   ]
  },
  {
   "cell_type": "markdown",
   "metadata": {
    "slideshow": {
     "slide_type": "slide"
    }
   },
   "source": [
    "## Recursive-Descent Parsing Example\n",
    "\n",
    "For the grammar \n",
    "\n",
    "$< term > \\to < factor > \\{(*|/)< factor >\\}*$  \n",
    "\n",
    "\n",
    "We could use the following recursive descent parsing subprogram (this one is written in C)\n",
    "\n",
    "```c\n",
    " void term() {\n",
    "     factor(); /* parse first factor*/\n",
    "     while (next_token == ast_code ||\n",
    "            next_token == slash_code) {\n",
    "         lexical(); /* get next token */\n",
    "         factor(); /* parse next factor */\n",
    "     }\n",
    " }\n",
    "```"
   ]
  },
  {
   "cell_type": "markdown",
   "metadata": {
    "slideshow": {
     "slide_type": "slide"
    }
   },
   "source": [
    "## Recursive Descent Parsing Trace\n",
    "- Using the handout, find the trace for the following strings:\n",
    "        - (sum + 47) / total (As a class)\n",
    "        - a * (b + c)"
   ]
  },
  {
   "cell_type": "markdown",
   "metadata": {
    "slideshow": {
     "slide_type": "slide"
    }
   },
   "source": [
    "## Recursive-Descent Problems\n",
    "\n",
    "- Cannot handle Grammars of the form \n",
    " - $< expr > \\to < expr > + < term >$\n",
    " - Will always call the function __expr__, whose first call is to __expr__  \n",
    " \n",
    "- Will have to do lots of backtracking for non-terminals that have many potential rules\n",
    " - <span style=\"font-size:.7em\">$< expr > \\to < var > | < var > + < var > | < var > - < var > | < var > * < var> $</span>\n",
    "- We can fix both these issues by rewritting the grammar"
   ]
  },
  {
   "cell_type": "markdown",
   "metadata": {
    "slideshow": {
     "slide_type": "slide"
    }
   },
   "source": [
    "## Removing Left Recursion\n",
    "\n",
    "For a grammar of\n",
    "\n",
    "<ul style=\"list-style-type:none;\">\n",
    "<li>$ S \\to S \\; \\alpha $ </li>\n",
    "<li>$ S \\to \\beta $ </li>\n",
    "<li>$ \\alpha $ , $ \\beta$ are a mixture of terminals and non-terminals </li>\n",
    "</ul>\n",
    "\n",
    "We can remove left recursion by replacing S with \n",
    "\n",
    "<ul style=\"list-style-type:none;\">\n",
    "<li>$ S \\to \\beta \\; S' $ </li>\n",
    "<li>$ S' \\to \\alpha \\; S' \\, |  \\, \\epsilon $ </li>\n",
    "</ul>"
   ]
  },
  {
   "cell_type": "markdown",
   "metadata": {
    "slideshow": {
     "slide_type": "slide"
    }
   },
   "source": [
    "## Removing Left Recursion Practice\n",
    "\n",
    "Remove left recursion from \n",
    "\n",
    "- $ E \\to E \\, + \\, T \\, | \\, T$\n",
    "- $ T \\to T \\, * \\, F \\, | \\, F$\n",
    "\n"
   ]
  },
  {
   "cell_type": "markdown",
   "metadata": {
    "slideshow": {
     "slide_type": "slide"
    }
   },
   "source": [
    "## Predictive Parsing\n",
    "- As defined, top-down parsers will often have to backtrack\n",
    "    - This reduces their efficency \n",
    "- By peeking ahead in the input $k$ symbols, we can guess which rule to use, and are less likely to backtrack\n",
    "    - We denote a grammar that can be parsed this way as an LL(k) grammar or an LR(k) grammar\n",
    "    - LL(1) grammars are usually sufficient to make a top-down parser efficient \n",
    "    "
   ]
  },
  {
   "cell_type": "markdown",
   "metadata": {
    "slideshow": {
     "slide_type": "slide"
    }
   },
   "source": [
    "## Left Factoring\n",
    " - The other issue for Recursive-Descent parsers are statements such as \n",
    "  - V $\\to$ I | I [ E ]\n",
    "  - In both cases, the next token would be I, so our parser would have to guess\n",
    " - This can be rewritten as \n",
    "  - V $\\to$ I N\n",
    "  - N $\\to \\epsilon$ | [ E ] "
   ]
  },
  {
   "cell_type": "markdown",
   "metadata": {
    "collapsed": true,
    "slideshow": {
     "slide_type": "slide"
    }
   },
   "source": [
    "## Parsing Tables\n",
    "- A grammar that is in LL(1) form has only one production for each non-terminal and input symbol\n",
    "- We create a sparse table, with\n",
    "    - The rows as the current non-terminal\n",
    "    - The columns as the next input symbol\n",
    "    - The cell value as the next action, or empty if an error\n",
    "- Need a stack to keep track of pending non-terminals"
   ]
  },
  {
   "cell_type": "markdown",
   "metadata": {
    "slideshow": {
     "slide_type": "slide"
    }
   },
   "source": [
    "## Parsing Table Algorithm\n",
    "- Initialize stack as &lt;START_SYMBOL&gt; and next\n",
    "- While stack is not empty\n",
    "    - If STACK[0] is a Non-Terminal Symbol\n",
    "        - Pop `STACK`\n",
    "        - Push `Parse_Table[STACK[0],next]` onto `STACK`\n",
    "    - If `STACK[0]` is a Terminal Symbol\n",
    "        - Pop `STACK`"
   ]
  },
  {
   "cell_type": "markdown",
   "metadata": {
    "slideshow": {
     "slide_type": "slide"
    }
   },
   "source": [
    " ## Parsing Tables Practice\n",
    " <div stlye=\"width:100%\">\n",
    "\n",
    " <div style=\"float:left;width:40%;margin:0px auto\">\n",
    "<ul>\n",
    "<li>Given the following grammar:\n",
    "<ul>\n",
    "<li>E $\\to$ TX</li>\n",
    "<li>X $\\to$ + E | $\\epsilon $</li>\n",
    "<li>T $\\to$ int Y | ( E ) </li>\n",
    "<li>Y $\\to$ $*$ T | $\\epsilon$</li>\n",
    "</ul>\n",
    "</li>\n",
    "<li>What is the parse of int $*$ int? (As a Class)</li>\n",
    "<li>What is the parse of int $+$ int?</li>\n",
    "</ul>\n",
    "     \n",
    " </div>\n",
    " <div style=\"float:right;width:60%;margin:0px auto\">\n",
    "Given the following parse table\n",
    " <table style=\"margin:0px auto;font-size:1.25em;text-align:center\">\n",
    " <thead>\n",
    " <tr>\n",
    " <th></th>\n",
    " <th>int</th>\n",
    " <th> $*$ </th>\n",
    " <th>$+$</th>\n",
    " <th style=\"text-align:center\">(</th>\n",
    " <th style=\"text-align:center\">)</th>\n",
    " <th style=\"text-align:center\">\\$</th>\n",
    " </tr>\n",
    " </thead>\n",
    " <tbody>\n",
    " <tr>\n",
    " <td>E</td>\n",
    " <td>T X</td>\n",
    " <td></td>\n",
    " <td></td>\n",
    " <td>T X</td>\n",
    " <td></td>\n",
    " <td></td>\n",
    " </tr>\n",
    "  <tr>\n",
    " <td>X</td>\n",
    " <td></td>\n",
    " <td></td>\n",
    " <td>+ E</td>\n",
    " <td></td>\n",
    " <td>$\\epsilon$</td>\n",
    " <td>$\\epsilon$</td>\n",
    " </tr>\n",
    "   <tr>\n",
    " <td>T</td>\n",
    " <td>int Y</td>\n",
    " <td></td>\n",
    " <td></td>\n",
    " <td>( E )</td>\n",
    " <td></td>\n",
    " <td></td>\n",
    " </tr>\n",
    "    <tr>\n",
    " <td>Y</td>\n",
    " <td></td>\n",
    " <td>* T</td>\n",
    " <td>$\\epsilon$</td>\n",
    " <td></td>\n",
    " <td>$\\epsilon$</td>\n",
    " <td>$\\epsilon$</td>\n",
    " </tr>\n",
    " </tbody>\n",
    " </table>\n",
    " </div>\n",
    " </div>"
   ]
  },
  {
   "cell_type": "code",
   "execution_count": null,
   "metadata": {
    "collapsed": true
   },
   "outputs": [],
   "source": []
  },
  {
   "cell_type": "code",
   "execution_count": null,
   "metadata": {
    "collapsed": true
   },
   "outputs": [],
   "source": []
  }
 ],
 "metadata": {
  "celltoolbar": "Slideshow",
  "kernelspec": {
   "display_name": "Python 2",
   "language": "python",
   "name": "python2"
  },
  "language_info": {
   "codemirror_mode": {
    "name": "ipython",
    "version": 2
   },
   "file_extension": ".py",
   "mimetype": "text/x-python",
   "name": "python",
   "nbconvert_exporter": "python",
   "pygments_lexer": "ipython2",
   "version": "2.7.9"
  }
 },
 "nbformat": 4,
 "nbformat_minor": 1
}
