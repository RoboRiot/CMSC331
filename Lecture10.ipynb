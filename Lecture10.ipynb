{
 "cells": [
  {
   "cell_type": "markdown",
   "metadata": {
    "slideshow": {
     "slide_type": "slide"
    }
   },
   "source": [
    "# Lua III\n",
    "## Metatables (Objects, sort of) & Review"
   ]
  },
  {
   "cell_type": "markdown",
   "metadata": {
    "slideshow": {
     "slide_type": "slide"
    }
   },
   "source": [
    "## Metatables \n",
    "- Metatables are one of the newest additions to Lua\n",
    " - Added in Lua 5.0\n",
    "- Metatables themselves are ordinary tables\n",
    " - They gain their special status through how we attach them to tables\n",
    "- Metatables can be used to represent user-defined types\n",
    "- All data types have metatables\n",
    " - Only the metatables of tables can be set and modified\n"
   ]
  },
  {
   "cell_type": "markdown",
   "metadata": {
    "slideshow": {
     "slide_type": "slide"
    }
   },
   "source": [
    "![A graphical depection of a table, with an arrow pointing to another table to signify it is a metatable](img/metatable_intro.png)"
   ]
  },
  {
   "cell_type": "markdown",
   "metadata": {
    "slideshow": {
     "slide_type": "slide"
    }
   },
   "source": [
    "## Basic Metatable Use\n"
   ]
  },
  {
   "cell_type": "code",
   "execution_count": null,
   "metadata": {},
   "outputs": [],
   "source": [
    "Window = {}\n",
    "Window.prototype = {x = 0, y = 0, width = 100,\n",
    "    height = 100}\n",
    "Window.mt = {}\n",
    "\n",
    "function Window.new(o)\n",
    "    setmetatable(o,Window.mt)\n",
    "    return o\n",
    "end\n",
    "\n",
    "Window.mt.__index = Window.prototype\n",
    "\n",
    "w = Window.new({x = 10, y= 20})\n",
    "z = Window.new{height = 100, width = 50}"
   ]
  },
  {
   "cell_type": "code",
   "execution_count": null,
   "metadata": {},
   "outputs": [],
   "source": [
    "w.width"
   ]
  },
  {
   "cell_type": "code",
   "execution_count": null,
   "metadata": {},
   "outputs": [],
   "source": [
    "z.x"
   ]
  },
  {
   "cell_type": "markdown",
   "metadata": {
    "slideshow": {
     "slide_type": "slide"
    }
   },
   "source": [
    "## What can we do with Metatables\n",
    "- Set Default values\n",
    "- Limited Operator Overloading\n",
    " - Can only overload a small set of built in functions\n",
    " - No concept of method signature\n",
    "- Reuse a metatable for multiple tables, ie a class\n",
    "- Fake inheritance"
   ]
  },
  {
   "cell_type": "markdown",
   "metadata": {
    "slideshow": {
     "slide_type": "slide"
    }
   },
   "source": [
    "## Setting Default Values\n",
    "- To set default values when querying, we use the __\\_\\_index__ metamethod\n",
    " - What this actually does is provide a fall back table whose values are accses when the main table returns now for a given key\n",
    "- As tables can hold functions, this allows a way to do inheritance"
   ]
  },
  {
   "cell_type": "markdown",
   "metadata": {
    "slideshow": {
     "slide_type": "slide"
    }
   },
   "source": [
    "![A graphical depection of a table, with an arrow pointing to another table to signify it is a metatable. The __index key of the metatable points to another table, which serve to provide default values](img/metatable_index.png)"
   ]
  },
  {
   "cell_type": "markdown",
   "metadata": {
    "slideshow": {
     "slide_type": "slide"
    }
   },
   "source": [
    "![A graphical depection of a table, with an arrow pointing to another table to signify it is a metatable. The __index key of the metatable points to itself, to indicate it is providing default values](img/metatable_self_index.png)"
   ]
  },
  {
   "cell_type": "markdown",
   "metadata": {
    "slideshow": {
     "slide_type": "slide"
    }
   },
   "source": [
    "## Default Values Example"
   ]
  },
  {
   "cell_type": "code",
   "execution_count": null,
   "metadata": {},
   "outputs": [],
   "source": [
    "Building = {lat = 39.2555, long = 76.7113}\n",
    "function Building.print(self)\n",
    "    print(\"I'm located at \" .. self.lat .. \", \" .. self.long)\n",
    "end\n",
    "Building.__index = Building\n",
    "UMBC = {}\n",
    "setmetatable(UMBC,Building)\n",
    "\n",
    "UMBC.print(UMBC)\n",
    "UMBC:print()"
   ]
  },
  {
   "cell_type": "markdown",
   "metadata": {
    "slideshow": {
     "slide_type": "slide"
    }
   },
   "source": [
    "## Inheritance Example"
   ]
  },
  {
   "cell_type": "code",
   "execution_count": null,
   "metadata": {},
   "outputs": [],
   "source": [
    "House = {numberOfBathrooms = 35}\n",
    "function House.printBaths(self)\n",
    "    print(\"I have \" .. self.numberOfBathrooms .. \" bathrooms.\")\n",
    "end\n",
    "\n",
    "setmetatable(House,Building)\n",
    "T = {}\n",
    "T.__index = House\n",
    "whiteHouse = {lat = 38.8977, long = 77.0336}\n",
    "setmetatable(whiteHouse,T)--{__index = House})\n",
    "\n",
    "whiteHouse.print(whiteHouse)\n",
    "whiteHouse.printBaths(whiteHouse)\n",
    "whiteHouse:print()"
   ]
  },
  {
   "cell_type": "markdown",
   "metadata": {
    "slideshow": {
     "slide_type": "slide"
    }
   },
   "source": [
    "## Metatable Example\n",
    "- Use Metatables to make a shopping cart that can \n",
    "    - add items to the cart\n",
    "    - print the cart \n",
    "    - remove an item by index from the cart"
   ]
  },
  {
   "cell_type": "code",
   "execution_count": null,
   "metadata": {},
   "outputs": [],
   "source": []
  },
  {
   "cell_type": "markdown",
   "metadata": {
    "slideshow": {
     "slide_type": "slide"
    }
   },
   "source": [
    "## Metatable Practice\n",
    "- Use metatables to make a course at UMBC that has the following information\n",
    "    - Room\n",
    "    - Instructor\n",
    "    - Section\n",
    "    - Name\n",
    "- Have a print method that prints all this information nicely"
   ]
  },
  {
   "cell_type": "code",
   "execution_count": null,
   "metadata": {},
   "outputs": [],
   "source": []
  },
  {
   "cell_type": "markdown",
   "metadata": {
    "slideshow": {
     "slide_type": "slide"
    }
   },
   "source": [
    "## Controlling the Creation of New Table Elements\n",
    "- Just like the **__index** metamethod is called when an unknown element is accessed, the **__newindex** metamethod is used to update tables\n",
    "- Defining this will prevent default behavior from occur\n",
    "    - Causes tables to behave in a read-only like fashion\n",
    "    - Can be bypassed using the `rawset` function"
   ]
  },
  {
   "cell_type": "code",
   "execution_count": null,
   "metadata": {
    "slideshow": {
     "slide_type": "slide"
    }
   },
   "outputs": [],
   "source": [
    "T.__newindex = function(t,k,v)\n",
    "    print(\"No Updates Allowed\")\n",
    "end\n",
    "whiteHouse.numberOfBathrooms = 4\n",
    "whiteHouse.address = \"1600 Pennsylvania Avenue\"\n",
    "print(whiteHouse.numberOfBathrooms)\n",
    "print(whiteHouse.address)"
   ]
  },
  {
   "cell_type": "code",
   "execution_count": null,
   "metadata": {
    "slideshow": {
     "slide_type": "slide"
    }
   },
   "outputs": [],
   "source": [
    "T.__newindex = function(t,k,v)\n",
    "    --EXTRA CODE HERE\n",
    "    rawset(t,k,v)\n",
    "end\n",
    "whiteHouse.numberOfBathrooms = 4\n",
    "whiteHouse.address = \"1600 Pennsylvania Avenue\"\n",
    "whiteHouse:printBaths()"
   ]
  },
  {
   "cell_type": "markdown",
   "metadata": {
    "slideshow": {
     "slide_type": "slide"
    }
   },
   "source": [
    "## Metamethods for Libraries\n",
    "- A field of a metatable or metamethod does not have to be limited to what Lua expects\n",
    "- Several libraries can take advantage of metamethods to change their behavior.\n",
    "    - **__tostring**\n",
    "    - **__metatable**"
   ]
  },
  {
   "cell_type": "code",
   "execution_count": null,
   "metadata": {
    "slideshow": {
     "slide_type": "slide"
    }
   },
   "outputs": [],
   "source": [
    "print(whiteHouse)\n",
    "T.__tostring = function(var)\n",
    "    return \"I'm located at \" .. var.lat .. \n",
    "    \",\" .. var.long\n",
    "end\n",
    "print(whiteHouse)"
   ]
  },
  {
   "cell_type": "code",
   "execution_count": null,
   "metadata": {
    "slideshow": {
     "slide_type": "slide"
    }
   },
   "outputs": [],
   "source": [
    "-- The __metatable Method is used to control the behavoir of the \n",
    "-- setmetatable and getmetatable functions\n",
    "print(getmetatable(whiteHouse))\n",
    "T.__metatable = \"T\"\n",
    "print(getmetatable(whiteHouse))\n",
    "--setmetatable(whiteHouse,T)\n",
    "T.__metatable = nil\n",
    "setmetatable(whiteHouse,T)"
   ]
  },
  {
   "cell_type": "markdown",
   "metadata": {
    "slideshow": {
     "slide_type": "slide"
    }
   },
   "source": [
    "## Operator Overloading\n",
    "- To overload a given operator, set the corresponding _metamethod_\n",
    " - To overload +, define \\_\\_add (two underscores)\n",
    " - Each metatable only has one metamethod of each name\n",
    "  - To account for differing operand types, a long sequence of __if__ statements may be needed"
   ]
  },
  {
   "cell_type": "markdown",
   "metadata": {
    "slideshow": {
     "slide_type": "slide"
    }
   },
   "source": [
    "## Operator Overloading Example\n",
    "- Suppose we have a metatable for the class of complex numbers"
   ]
  },
  {
   "cell_type": "code",
   "execution_count": null,
   "metadata": {},
   "outputs": [],
   "source": [
    "--Based off Fabio Mascarenhas' example\n",
    "mt = {}\n",
    "function mt.__add(c1,c2)\n",
    "    if(getmetatable(c1) ~= mt) then\n",
    "        res = {r = c1 + c2.r , i = c2.i}\n",
    "        setmetatable(res,mt)\n",
    "        return res\n",
    "    end\n",
    "    if(getmetatable(c2) ~= mt) then\n",
    "        res = {r = c1.r + c2, i = c1.i}\n",
    "        setmetatable(res,mt)\n",
    "        return res\n",
    "    end\n",
    "    res = {r = c1.r + c2.r , i = c1.i + c2.i}\n",
    "    setmetatable(res,mt)\n",
    "    return res\n",
    "end"
   ]
  },
  {
   "cell_type": "code",
   "execution_count": null,
   "metadata": {
    "slideshow": {
     "slide_type": "slide"
    }
   },
   "outputs": [],
   "source": [
    "complex = {r = 1, i = 2}\n",
    "complex2 = {r = 2, i = 4}\n",
    "setmetatable(complex,mt)\n",
    "setmetatable(complex2,mt)\n",
    "x = 5 + complex\n",
    "--y = 5 - complex\n",
    "y = complex + 5\n",
    "z = complex + complex2\n",
    "print(string.format(\"%d + %di\",x.r,x.i))\n",
    "print(string.format(\"%d + %di\",y.r,y.i))\n",
    "print(string.format(\"%d + %di\",z.r,z.i))"
   ]
  },
  {
   "cell_type": "markdown",
   "metadata": {
    "slideshow": {
     "slide_type": "slide"
    }
   },
   "source": [
    "## Other Overloadable Operations\n",
    "- **__mul**\n",
    "- **__sub**\n",
    "- **__div**\n",
    "- **__unm**\n",
    "- **__pow**\n",
    "- **__eq**\n",
    "- **__lt**\n",
    "- **__le** "
   ]
  },
  {
   "cell_type": "markdown",
   "metadata": {
    "slideshow": {
     "slide_type": "slide"
    }
   },
   "source": [
    "## OOP in Lua\n",
    "- We will discuss object oriented programming in detail later in the semester\n",
    "- In Lua, we can approximate an object by\n",
    " - Using metatables to define a class\n",
    " - Use the __:__ operator as a shorthand for passing the current value to a function\n",
    " "
   ]
  },
  {
   "cell_type": "code",
   "execution_count": null,
   "metadata": {
    "slideshow": {
     "slide_type": "slide"
    }
   },
   "outputs": [],
   "source": [
    "Animal = {species = 'Dog', noise = \"woof\"}\n",
    "\n",
    "function Animal.makeNoise(animal)\n",
    "    print(animal.species .. \" goes \" .. animal.noise)\n",
    "end\n",
    "\n",
    "Animal.makeNoise(Animal)\n"
   ]
  },
  {
   "cell_type": "code",
   "execution_count": null,
   "metadata": {
    "slideshow": {
     "slide_type": "slide"
    }
   },
   "outputs": [],
   "source": [
    "Animal2 = {species = \"Dog\" , noise = \"woof\"}\n",
    "\n",
    "--function Animal2.makeNoise(self,punct)\n",
    "function Animal2:makeNoise(punct)\n",
    "    print( self.species .. \" goes \" .. self.noise .. punct )\n",
    "end\n",
    "\n",
    "Animal2:makeNoise(\"!\")\n",
    "Animal2.makeNoise(Animal2,\"!\")"
   ]
  },
  {
   "cell_type": "code",
   "execution_count": null,
   "metadata": {
    "slideshow": {
     "slide_type": "slide"
    }
   },
   "outputs": [],
   "source": [
    "Animal3 = {species = \"Dog\" , noise = \"woof\"}\n",
    "\n",
    "function Animal3.makeNoise(self)\n",
    "    print( self.species .. \" goes \" .. self.noise )\n",
    "end\n",
    "\n",
    "Animal3:makeNoise()"
   ]
  },
  {
   "cell_type": "markdown",
   "metadata": {
    "slideshow": {
     "slide_type": "slide"
    }
   },
   "source": [
    "## Object Constructors\n",
    "- In Lua, the constructor becomes a function that\n",
    "    - creates a table\n",
    "    - sets the appropriate metatable\n",
    "    - and returns the object"
   ]
  },
  {
   "cell_type": "code",
   "execution_count": null,
   "metadata": {
    "slideshow": {
     "slide_type": "slide"
    }
   },
   "outputs": [],
   "source": [
    "function Animal:new( m_species, m_noise)\n",
    "    o = {species = m_species, noise = m_noise}\n",
    "    setmetatable(o, self)\n",
    "    self.__index = self\n",
    "    return o\n",
    "end\n",
    "\n",
    "function Animal:makeNoise()\n",
    "    print( self.species .. \" goes \" .. self.noise )\n",
    "end"
   ]
  },
  {
   "cell_type": "code",
   "execution_count": null,
   "metadata": {
    "slideshow": {
     "slide_type": "slide"
    }
   },
   "outputs": [],
   "source": [
    "dog = Animal:new(\"Dog\",\"Woof\")\n",
    "dog:makeNoise()\n",
    "\n",
    "cat = Animal:new(\"Cat\",\"Meow\")\n",
    "cat:makeNoise()\n",
    "\n",
    "llama = Animal.new(Animal, \"Llama\",\"moo\")\n",
    "llama.makeNoise(llama)"
   ]
  },
  {
   "cell_type": "markdown",
   "metadata": {
    "slideshow": {
     "slide_type": "slide"
    }
   },
   "source": [
    "## OOP in Lua Example\n",
    "- Rewrite the shopping cart example in a more \"class-like\" way:\n",
    "- Use Metatables to make a shopping cart that can \n",
    "    - add items to the cart\n",
    "    - print the cart \n",
    "    - remove an item by index from the cart\n"
   ]
  },
  {
   "cell_type": "code",
   "execution_count": null,
   "metadata": {},
   "outputs": [],
   "source": []
  },
  {
   "cell_type": "markdown",
   "metadata": {
    "slideshow": {
     "slide_type": "slide"
    }
   },
   "source": [
    "## OOP in Lua Practice\n",
    "- Rewrite the UMBC course example in a more \"class-like\" way\n",
    "- Use metatables to make a course at UMBC that has the following information\n",
    "    - Room\n",
    "    - Instructor\n",
    "    - Section\n",
    "    - Name\n",
    "- Have a print method that prints all this information nicely"
   ]
  },
  {
   "cell_type": "code",
   "execution_count": null,
   "metadata": {},
   "outputs": [],
   "source": []
  },
  {
   "cell_type": "markdown",
   "metadata": {
    "slideshow": {
     "slide_type": "slide"
    }
   },
   "source": [
    "## Issues with OOP in Lua\n",
    "- Can be cumbersome\n",
    "- An object is still just a table\n",
    "- Metatables can be changed\n",
    "- Consider the output of the following:"
   ]
  },
  {
   "cell_type": "code",
   "execution_count": null,
   "metadata": {},
   "outputs": [],
   "source": [
    "type(Animal3)"
   ]
  },
  {
   "cell_type": "code",
   "execution_count": null,
   "metadata": {},
   "outputs": [],
   "source": [
    "Window = {}\n",
    "Window.prototype = {x = 0, y = 0, width = 100, height = 100}\n",
    "Window.mt = {}\n",
    "Window.mt2 = {}\n",
    "\n",
    "function Window.new(o)\n",
    "    setmetatable(o,Window.mt)\n",
    "    return o\n",
    "end\n",
    "\n",
    "Window.mt.__index = Window.prototype\n",
    "Window.mt2.__index = {color = \"red\", shape = \"circle\"}"
   ]
  },
  {
   "cell_type": "code",
   "execution_count": null,
   "metadata": {},
   "outputs": [],
   "source": [
    "x = Window.new{height = 200}\n",
    "print(x.x,x.y,x.width,x.height)\n",
    "setmetatable(x,Window.mt2)\n",
    "print(x.x,x.y,x.width,x.height)\n",
    "\n",
    "x = {10, 20, 30, 40}\n",
    "print(x[1])"
   ]
  },
  {
   "cell_type": "markdown",
   "metadata": {
    "slideshow": {
     "slide_type": "slide"
    }
   },
   "source": [
    "## Lua Example Application\n",
    "- From http://exercism.io/exercises/lua/matrix/readme\n",
    "- Write a function to convert a string representation of a matrix into an object that has methods which\n",
    "    - Return a given row\n",
    "    - Return a given column\n",
    "    - Return the shape of the matrix\n",
    "    - Printing the matrix as a string"
   ]
  }
 ],
 "metadata": {
  "celltoolbar": "Slideshow",
  "kernelspec": {
   "display_name": "Lua",
   "language": "",
   "name": "lupyter"
  },
  "language_info": {
   "file_extension": ".lua",
   "mimetype": "text/Lua",
   "name": "Lua",
   "version": "5.X.Y"
  },
  "toc": {
   "nav_menu": {},
   "number_sections": false,
   "sideBar": true,
   "skip_h1_title": false,
   "toc_cell": false,
   "toc_position": {},
   "toc_section_display": "block",
   "toc_window_display": false
  }
 },
 "nbformat": 4,
 "nbformat_minor": 1
}
