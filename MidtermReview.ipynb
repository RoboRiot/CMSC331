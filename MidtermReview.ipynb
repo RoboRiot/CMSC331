{
 "cells": [
  {
   "cell_type": "markdown",
   "metadata": {
    "slideshow": {
     "slide_type": "slide"
    }
   },
   "source": [
    "# Midterm Review"
   ]
  },
  {
   "cell_type": "markdown",
   "metadata": {
    "slideshow": {
     "slide_type": "slide"
    }
   },
   "source": [
    "## Disclaimer:\n",
    "- Appearing on this page does not mean something will be on the test\n",
    "- Not appearing on this page does not mean something won't be on the test"
   ]
  },
  {
   "cell_type": "markdown",
   "metadata": {
    "slideshow": {
     "slide_type": "slide"
    }
   },
   "source": [
    "## Context-Free Grammars (BNF)\n",
    "- How to read BNF and write simple grammars\n",
    "- How to do a derivation\n",
    "- How to construct a parse tree\n",
    "- Ambiguity\n",
    "    - Operator Precedence and Associativity\n",
    "- EBNF\n",
    "- The basics of attribute grammars\n",
    "    - What problems they are meant to solve"
   ]
  },
  {
   "cell_type": "markdown",
   "metadata": {
    "slideshow": {
     "slide_type": "slide"
    }
   },
   "source": [
    "## Writing a BNF Practice\n",
    "- Write the BNF for a local variable declaration in C++\n",
    "\n",
    "<ul style=\"list-style-type:none\">\n",
    "<li>$ < dec > \\to < type > < names > ; $ </li>\n",
    "<li>$ < type > \\to < object > | < primitive > | < object > [] | < primitive > [] $ </li>\n",
    "<li>$ < primitive > \\to $ int | float | boolean | char | .... </li>\n",
    "<li>$ < names > \\to < name > | < name > , < names > $ </li>\n",
    "    "
   ]
  },
  {
   "cell_type": "markdown",
   "metadata": {
    "slideshow": {
     "slide_type": "slide"
    }
   },
   "source": [
    "## Derivations and Parse Trees\n",
    "<div stlye=\"width:100%\">\n",
    "<div style=\"float:left;width:50%\">\n",
    "<p>Given the following grammar: </p>\n",
    "<ul style=\"list-style-type:none\">\n",
    "<li>$< assign > \\to < id > = < expr > $ </li>\n",
    "<li>$< id > \\to A \\, | \\, B \\, | \\, C $ </li>\n",
    "<li>$< expr > \\to < expr > + < expr> $ </li>\n",
    "<li>$\\qquad \\qquad | < expr > * < expr> $ </li>\n",
    "<li>$\\qquad \\qquad | \\, ( < expr> ) $ </li>\n",
    "<li>$\\qquad \\qquad | < id > $ </li>\n",
    "</ul>\n",
    "</div>\n",
    "\n",
    "\n",
    "<div style=\"float:left;width:50%;\">\n",
    "<p>Derive and give the parse trees for:</p>\n",
    "<ul>\n",
    "<li>B = A + C</li>\n",
    "<li>C = (A * C) + B</li> \n",
    "</ul>\n",
    "</div>\n",
    "</div>"
   ]
  },
  {
   "cell_type": "markdown",
   "metadata": {
    "slideshow": {
     "slide_type": "skip"
    }
   },
   "source": [
    "For B = A + C\n",
    "<ul  style=\"list-style-type:none\">\n",
    "<li>$< assign > \\Rightarrow < id > = < expr > $ </li>\n",
    "<li>$ \\qquad \\qquad \\Rightarrow B = < expr > $ </li>\n",
    "<li>$ \\qquad \\qquad \\Rightarrow B = < expr > + < expr > $ </li>\n",
    "<li>$ \\qquad  \\qquad\\Rightarrow B = < id > + < expr > $ </li>\n",
    "<li>$ \\qquad \\qquad \\Rightarrow B = A + < expr > $</li>\n",
    "<li>$ \\qquad \\qquad \\Rightarrow B = A + < id > $ </li>\n",
    "<li>$ \\qquad \\qquad \\Rightarrow B = A + C $ </li>\n",
    "</ul>\n",
    "![](midtermParse1.svg)"
   ]
  },
  {
   "cell_type": "markdown",
   "metadata": {
    "slideshow": {
     "slide_type": "skip"
    }
   },
   "source": [
    "For C = (A * C) + B,\n",
    "\n",
    "<ul  style=\"list-style-type:none\">\n",
    "<li>$< assign > \\Rightarrow < id > = < expr > $ </li>\n",
    "<li>$ \\qquad \\qquad \\Rightarrow C = < expr > $ </li>\n",
    "<li>$ \\qquad \\qquad \\Rightarrow C = < expr > + < expr > $ </li>\n",
    "<li>$ \\qquad  \\qquad\\Rightarrow C = ( < expr > ) + < expr > $ </li>\n",
    "<li>$ \\qquad  \\qquad\\Rightarrow C = ( < expr > * < expr > ) + < expr > $ </li>\n",
    "<li>$ \\qquad  \\qquad\\Rightarrow C = ( < id > * < expr > ) + < expr > $ </li>\n",
    "<li>$ \\qquad  \\qquad\\Rightarrow C = ( A * < expr > ) + < expr > $ </li>\n",
    "<li>$ \\qquad  \\qquad\\Rightarrow C = ( A * < id > ) + < expr > $ </li>\n",
    "<li>$ \\qquad  \\qquad\\Rightarrow C = ( A * C ) + < expr > $ </li>\n",
    "<li>$ \\qquad  \\qquad\\Rightarrow C = ( A * C ) + < id > $ </li>\n",
    "<li>$ \\qquad  \\qquad\\Rightarrow C = ( A * C ) + B $ </li>\n",
    "</ul>\n",
    "\n",
    "![](midtermParse2.svg)"
   ]
  },
  {
   "cell_type": "markdown",
   "metadata": {
    "slideshow": {
     "slide_type": "slide"
    }
   },
   "source": [
    "## Misc BNF\n",
    "<div stlye=\"width:100%\">\n",
    "<div style=\"float:left;width:50%\">\n",
    "<p>Given the following grammar: </p>\n",
    "<ul  style=\"list-style-type:none\">\n",
    "<li>$< assign > \\to < id > = < expr > $ </li>\n",
    "<li>$< id > \\to A \\, | \\, B \\, | \\, C $ </li>\n",
    "<li>$< expr > \\to < expr > + < term > $ </li>\n",
    "<li>$\\qquad \\qquad | < term > $ </li>\n",
    "<li>$< term > \\to  < term > * < factor > $</li>\n",
    "<li>$ \\qquad \\qquad | < factor > $ </li>\n",
    "<li>$< factor > \\to ( < expr> ) $ </li>\n",
    "<li>$\\qquad \\qquad | < id > $ </li>\n",
    "</ul>\n",
    "</div>\n",
    "\n",
    "\n",
    "<div style=\"float:left;width:50%;\">\n",
    "<dl>\n",
    "<dt>Is this grammar unambiguous</dt>\n",
    "    <dd>Yes</dd>\n",
    "<dt>What is the precedence of () , \\* , + ?</dt>\n",
    "    <dd>() is highest, + is lowest</dd>\n",
    "<dt>What is the associativity of \\* and +? </dt>\n",
    "    <dd>They are both left associative</dd>\n",
    "</dl>\n",
    "</div>\n",
    "</div>"
   ]
  },
  {
   "cell_type": "markdown",
   "metadata": {
    "slideshow": {
     "slide_type": "slide"
    }
   },
   "source": [
    "## Semantics\n",
    "- Operational Semantics\n",
    "- Denotational Semantics\n",
    "- Axiomatic Semantics\n"
   ]
  },
  {
   "cell_type": "markdown",
   "metadata": {
    "slideshow": {
     "slide_type": "slide"
    }
   },
   "source": [
    "## Operational and Denotional Semantics\n",
    "- Operational Semantics is describing the semantics of a language by state changes\n",
    "    - Usually uses abstract machine code\n",
    "- Denotational Semantics is describing semantics as mathmatical objections\n",
    "\n",
    "For the grammar:\n",
    "<ul style=\"list-style-type:none\" class=\"scale\">\n",
    "<li>$ < dec\\_num > \\to$ '0' | '1' | '2'| '3' | '4' | '5' | '6' | '7' | '8' | '9'</li>\n",
    "<li>$ \\qquad \\qquad \\quad \\, \\, \\,$ | $< dec\\_num>$ ('0' | '1' | '2'| '3' | '4' | '5' | '6' | '7' | '8' | '9')</li>\n",
    "</ul>\n",
    "\n",
    "The denotational mappings are:\n",
    "\n",
    "<ul style=\"list-style-type:none\" class=\"scale\">\n",
    "<li>$M_{dec}$('0') = 0, $M_{dec}$('1') = 1, $M_{dec}$('2') = 2, ... , $M_{dec}$('9') = 9</li>\n",
    "<li>$M_{dec}$( $< dec\\_num >$ '0') = 10 * $M_{dec}$( $< dec\\_num >$)</li>\n",
    "<li>$M_{dec}$( $< dec\\_num >$ '1') = 10 * $M_{dec}$( $< dec\\_num >$) + 1</li>\n",
    "<li>...</li>\n",
    "<li>$M_{dec}$( $< dec\\_num >$ '9') = 10 * $M_{dec}$( $< dec\\_num >$) + 9</li>\n",
    "</ul>"
   ]
  },
  {
   "cell_type": "markdown",
   "metadata": {
    "slideshow": {
     "slide_type": "slide"
    }
   },
   "source": [
    "## Axiomatic Semantics\n",
    "- Originally intended for program verification\n",
    "- Solve the following:\n",
    "\n",
    "Compute weakest precondition\n",
    "<ul style=\"list-style-type:none;\">\n",
    "<li>$\\left\\{b > \\frac{1-a}{2} \\right\\}$</li>    \n",
    "<li>a = 3 \\* ( 2 \\* b + a);</li>\n",
    "<li>{a > 3}</li>\n",
    "<li>b = 2 * a - 1;</li>\n",
    "<li>{ b > 5}</li>\n",
    "</ul>\n",
    "\n",
    "\n",
    "<ul style=\"list-style-type:none;\">\n",
    "<li>{y > $6 - \\frac{x}{2} $}</li>\n",
    "<li>x = 2 * y + x - 1;</li>\n",
    "<li>{ x > 11}</li>\n",
    "</ul>\n",
    "\n",
    "\n",
    "```C\n",
    "{y > 1}\n",
    "if x < 0 then\n",
    "    y = y - 1\n",
    "else\n",
    "    y = y + 1\n",
    "    \n",
    "{y > 0}\n",
    "```\n"
   ]
  },
  {
   "cell_type": "markdown",
   "metadata": {
    "slideshow": {
     "slide_type": "slide"
    }
   },
   "source": [
    "## Parsing and Lexical Analysis\n",
    "\n",
    "- Regular Expressions\n",
    "    - How to read and write basic regular expressions\n",
    "    - How they are used in lexical analysis  \n",
    "- Deterministic Finite Automata\n",
    "    - How to read and write basic DFAs\n",
    "    - How they are used in lexical anyalsis\n",
    "    - Their relationship with Regular Expressions\n",
    "- Top Down Parsing\n",
    "    - The gist of how its implemented\n",
    "    - Problems it cannot handle\n",
    "- Bottom Up Parsing\n",
    "    - What are the advantages of it\n",
    "    - How to trace a shift reduce parse of a string given a parsing table\n",
    "    \n",
    "    "
   ]
  },
  {
   "cell_type": "markdown",
   "metadata": {
    "slideshow": {
     "slide_type": "slide"
    }
   },
   "source": [
    "## Regular Expressions\n",
    "Find the regular expressions for:\n",
    "- an IP address \n",
    "    - [0-9][0-9][0-9].[0-9][0-9][0-9].[0-9][0-9][0-9].[0-9][0-9][0-9]\n",
    "        - A very simple non-legal version\n",
    "- A word that is capitalized\n",
    "    - [A-Z][a-z]*\n",
    "- A word ending in *-ing* or *-ed*\n",
    "    - [a-z]+(ing|ed) \n"
   ]
  },
  {
   "cell_type": "markdown",
   "metadata": {
    "slideshow": {
     "slide_type": "slide"
    }
   },
   "source": [
    "## DFAs\n",
    "Write the DFAs for:\n",
    "- an IP address \n",
    "  ![](ipDFA.svg) \n",
    "- A word that is capitalized\n",
    "   ![](capDFA.svg) \n",
    "- A word ending in *-ing* or *-ed* (technically an NFA below because a DFA is really messy)\n",
    "   ![](ending.svg)"
   ]
  },
  {
   "cell_type": "markdown",
   "metadata": {
    "slideshow": {
     "slide_type": "slide"
    }
   },
   "source": [
    " ## Parsing Tables Practice\n",
    " <div stlye=\"width:100%\">\n",
    "\n",
    " <div style=\"float:left;width:40%;margin:0px auto\">\n",
    "<ul>\n",
    "<li>Given the following grammar:\n",
    "<ul>\n",
    "<li>E $\\to$ TX</li>\n",
    "<li>X $\\to$ + E | $\\epsilon $</li>\n",
    "<li>T $\\to$ int Y | ( E ) </li>\n",
    "<li>Y $\\to$ $*$ T | $\\epsilon$</li>\n",
    "</ul>\n",
    "</li>\n",
    "<li>What is the parse of int $*$ int?</li>\n",
    "\n",
    "</ul>\n",
    "     \n",
    " </div>\n",
    " <div style=\"float:right;width:60%;margin:0px auto\">\n",
    "Given the following parse table\n",
    " <table style=\"margin:0px auto;font-size:1.25em;text-align:center\">\n",
    " <thead>\n",
    " <tr>\n",
    " <th></th>\n",
    " <th>int</th>\n",
    " <th> $*$ </th>\n",
    " <th>$+$</th>\n",
    " <th style=\"text-align:center\">(</th>\n",
    " <th style=\"text-align:center\">)</th>\n",
    " <th style=\"text-align:center\">\\$</th>\n",
    " </tr>\n",
    " </thead>\n",
    " <tbody>\n",
    " <tr>\n",
    " <td>E</td>\n",
    " <td>T X</td>\n",
    " <td></td>\n",
    " <td></td>\n",
    " <td>T X</td>\n",
    " <td></td>\n",
    " <td></td>\n",
    " </tr>\n",
    "  <tr>\n",
    " <td>X</td>\n",
    " <td></td>\n",
    " <td></td>\n",
    " <td>+ E</td>\n",
    " <td></td>\n",
    " <td>$\\epsilon$</td>\n",
    " <td>$\\epsilon$</td>\n",
    " </tr>\n",
    "   <tr>\n",
    " <td>T</td>\n",
    " <td>int Y</td>\n",
    " <td></td>\n",
    " <td></td>\n",
    " <td>( E )</td>\n",
    " <td></td>\n",
    " <td></td>\n",
    " </tr>\n",
    "    <tr>\n",
    " <td>Y</td>\n",
    " <td></td>\n",
    " <td>* T</td>\n",
    " <td>$\\epsilon$</td>\n",
    " <td></td>\n",
    " <td>$\\epsilon$</td>\n",
    " <td>$\\epsilon$</td>\n",
    " </tr>\n",
    " </tbody>\n",
    " </table>\n",
    " </div>\n",
    " </div>\n",
    " \n",
    " <table>\n",
    "<thead>\n",
    "<tr>\n",
    "<th>Stack</th>\n",
    "<th>Input</th>\n",
    "<th>Action</th>\n",
    "</tr>\n",
    "</thead>\n",
    "<tbody>\n",
    "<tr>\n",
    "<td>E</td>\n",
    "<td>int \\* int \\$ </td>\n",
    "<td>pop(E), push(TX)</td>\n",
    "</tr>\n",
    "<tr>\n",
    "<td>TX</td>\n",
    "<td>int \\* int \\$ </td>\n",
    "<td>pop(T), push(int Y)</td>\n",
    "</tr>\n",
    "<tr>\n",
    "<td>int Y X</td>\n",
    "<td> int \\* int \\$ </td>\n",
    "<td>pop(int), next++</td>\n",
    "</tr>\n",
    "<tr>\n",
    "<td>Y X </td>\n",
    "<td> \\* int \\$ </td>\n",
    "<td>pop(Y), push(\\* T)</td>\n",
    "</tr>\n",
    "<tr>\n",
    "<td>\\* T X</td>\n",
    "<td> \\* int \\$ </td>\n",
    "<td>pop(\\*), next++</td>\n",
    "</tr>\n",
    "<tr>\n",
    "<td>T X</td>\n",
    "<td>int \\$ </td>\n",
    "<td>pop(T), push(int Y)</td>\n",
    "</tr>\n",
    "<tr>\n",
    "<td>int Y X</td>\n",
    "<td>int \\$ </td>\n",
    "<td>pop(int), next++</td>\n",
    "</tr>\n",
    "<tr>\n",
    "<td>Y X</td>\n",
    "<td>\\$ </td>\n",
    "<td>pop(Y), push($\\epsilon$)</td>\n",
    "</tr>\n",
    "<tr>\n",
    "<td>X</td>\n",
    "<td>\\$ </td>\n",
    "<td>pop(X), push($\\epsilon$)</td>\n",
    "</tr>\n",
    "<tr>\n",
    "<td></td>\n",
    "<td>\\$ </td>\n",
    "<td>accept</td>\n",
    "</tr>\n",
    "</tbody>\n",
    "</table>"
   ]
  },
  {
   "cell_type": "markdown",
   "metadata": {
    "slideshow": {
     "slide_type": "slide"
    }
   },
   "source": [
    "## Bottom-Up Parsing\n",
    "\n",
    "Show the parse including the stack for __id + id__  \n",
    "\n",
    "\n",
    "<div style=\"width:30%;float:left\">\n",
    "<p> Grammar: </p>\n",
    "<ol>\n",
    "<li>$E \\to E \\, + \\, T$</li>\n",
    "<li>$E \\to T$</li>\n",
    "<li>$T \\to T \\, * \\, F$</li>\n",
    "<li>$T \\to F$</li>\n",
    "<li>$F \\to (\\, E \\,) $</li>\n",
    "<li>$F \\to id$</li>\n",
    "</ol>\n",
    "</div>\n",
    "<div style=\"width:70%;float:left\">\n",
    "<p>The parsing table is: </p>\n",
    "<img style=\"width:90%\" src=\"parsetable.jpg\" />\n",
    "</div>\n",
    "\n",
    "\n",
    "<table>\n",
    "<thead>\n",
    "<tr>\n",
    "<th>Stack</th>\n",
    "<th>Input</th>\n",
    "<th>Action</th>\n",
    "</tr>\n",
    "</thead>\n",
    "<tbody>\n",
    "<tr>\n",
    "<td>0</td>\n",
    "<td>id + id\\$ </td>\n",
    "<td>S5</td>\n",
    "</tr>\n",
    "<tr>\n",
    "<td>0 id 5</td>\n",
    "<td> + id \\$ </td>\n",
    "<td>R6</td>\n",
    "</tr>\n",
    "<tr>\n",
    "<td>0 F 3</td>\n",
    "<td> + id \\$ </td>\n",
    "<td>R4</td>\n",
    "</tr>\n",
    "<tr>\n",
    "<td>0 T 2</td>\n",
    "<td> + id \\$ </td>\n",
    "<td>R2</td>\n",
    "</tr>\n",
    "<tr>\n",
    "<td>0 E 1</td>\n",
    "<td> + id \\$ </td>\n",
    "<td>S6</td>\n",
    "</tr>\n",
    "<tr>\n",
    "<td>0 E 1 + 6</td>\n",
    "<td>id \\$ </td>\n",
    "<td>S5</td>\n",
    "</tr>\n",
    "<tr>\n",
    "<td>0 E 1 + 6 id 5</td>\n",
    "<td>\\$ </td>\n",
    "<td>R6</td>\n",
    "</tr>\n",
    "<tr>\n",
    "<td>0 E 1 + 6 F 3 </td>\n",
    "<td>\\$ </td>\n",
    "<td>R4</td>\n",
    "</tr>\n",
    "<tr>\n",
    "<td>0 E 1 + 6 T 9 </td>\n",
    "<td>\\$ </td>\n",
    "<td>R1</td>\n",
    "</tr>\n",
    "<tr>\n",
    "<td>0 E 1</td>\n",
    "<td>\\$ </td>\n",
    "<td>accept</td>\n",
    "</tr>\n",
    "</tbody>\n",
    "</table>\n"
   ]
  },
  {
   "cell_type": "markdown",
   "metadata": {
    "slideshow": {
     "slide_type": "slide"
    }
   },
   "source": [
    "## Bottom-Up Parsing\n",
    "\n",
    "Show the parse including the stack for __id * id__  \n",
    "\n",
    "\n",
    "<div style=\"width:30%;float:left\">\n",
    "<p> Grammar: </p>\n",
    "<ol>\n",
    "<li>$E \\to E \\, + \\, T$</li>\n",
    "<li>$E \\to T$</li>\n",
    "<li>$T \\to T \\, * \\, F$</li>\n",
    "<li>$T \\to F$</li>\n",
    "<li>$F \\to (\\, E \\,) $</li>\n",
    "<li>$F \\to id$</li>\n",
    "</ol>\n",
    "</div>\n",
    "<div style=\"width:70%;float:left\">\n",
    "<p>The parsing table is: </p>\n",
    "<img style=\"width:90%\" src=\"parsetable.jpg\" />\n",
    "</div>\n",
    "\n",
    "\n",
    "<table>\n",
    "<thead>\n",
    "<tr>\n",
    "<th>Stack</th>\n",
    "<th>Input</th>\n",
    "<th>Action</th>\n",
    "</tr>\n",
    "</thead>\n",
    "<tbody>\n",
    "<tr>\n",
    "<td>0</td>\n",
    "<td>id \\* id\\$ </td>\n",
    "<td>S5</td>\n",
    "</tr>\n",
    "<tr>\n",
    "<td>0 id 5</td>\n",
    "<td> \\* id \\$ </td>\n",
    "<td>R6</td>\n",
    "</tr>\n",
    "<tr>\n",
    "<td>0 F 3</td>\n",
    "<td> \\* id \\$ </td>\n",
    "<td>R4</td>\n",
    "</tr>\n",
    "<tr>\n",
    "<td>0 T 2</td>\n",
    "<td> \\* id \\$ </td>\n",
    "<td>S7</td>\n",
    "</tr>\n",
    "<tr>\n",
    "<td>0 T 2 \\* 7</td>\n",
    "<td> id \\$ </td>\n",
    "<td>S5</td>\n",
    "</tr>\n",
    "<tr>\n",
    "<td>0 T 2 \\* 7 id 5</td>\n",
    "<td>\\$ </td>\n",
    "<td>R6</td>\n",
    "</tr>\n",
    "<tr>\n",
    "<td>0 T 2 \\* 7 F 10</td>\n",
    "<td>\\$ </td>\n",
    "<td>R3</td>\n",
    "</tr>\n",
    "<tr>\n",
    "<td>0 T 2</td>\n",
    "<td>\\$ </td>\n",
    "<td>R2</td>\n",
    "</tr>\n",
    "<tr>\n",
    "<td>0 E 1</td>\n",
    "<td>\\$ </td>\n",
    "<td>accept</td>\n",
    "</tr>\n",
    "</tbody>\n",
    "</table>\n"
   ]
  },
  {
   "cell_type": "markdown",
   "metadata": {
    "slideshow": {
     "slide_type": "slide"
    }
   },
   "source": [
    "## Procedural Languages (Lua)\n",
    "- Some advantages of Lua\n",
    "- How to read a basic Lua program\n",
    "- How to write simple Lua code"
   ]
  },
  {
   "cell_type": "markdown",
   "metadata": {
    "slideshow": {
     "slide_type": "slide"
    }
   },
   "source": [
    "## Lua Examples\n",
    "What is the output of the following code?\n",
    "Given a short description in English as to what is being stored in the tables\n",
    "```lua\n",
    "funcs={}\n",
    "for i=1,10 do\n",
    "    table.insert(funcs, function() return i*i end)\n",
    "end\n",
    "print(funcs[2]())\n",
    "print(funcs[3]())\n",
    "```\n",
    "4  \n",
    "\n",
    "9"
   ]
  },
  {
   "cell_type": "markdown",
   "metadata": {
    "slideshow": {
     "slide_type": "slide"
    }
   },
   "source": [
    "## Lua Examples\n",
    "What is the output of this code and why?\n",
    "```lua\n",
    "function wrapper(a)\n",
    "    local function square(a)\n",
    "        return a^2\n",
    "    end\n",
    "\n",
    "    function cube(a)\n",
    "        return a^3\n",
    "    end\n",
    "\n",
    "    return square(a)\n",
    "end\n",
    "\n",
    "print(wrapper(2))\n",
    "print(cube(2))\n",
    "print(square(2))\n",
    "```\n",
    "\n",
    "4  \n",
    "8  \n",
    "ERROR"
   ]
  },
  {
   "cell_type": "markdown",
   "metadata": {
    "slideshow": {
     "slide_type": "slide"
    }
   },
   "source": [
    "## Lua Examples\n",
    "What is the output of this code and why?\n",
    "```lua\n",
    "X = {left = 1, right = 2, top = 3, bottom = 2}\n",
    "Y = {left = 4, right = 4, height = 5, width = 10}\n",
    "Z = {__index = Y}\n",
    "setmetatable(X,Z)\n",
    "\n",
    "print(X['left'])\n",
    "print(X.height)\n",
    "```\n",
    "\n",
    "1\n",
    "\n",
    "5"
   ]
  },
  {
   "cell_type": "markdown",
   "metadata": {
    "slideshow": {
     "slide_type": "slide"
    }
   },
   "source": [
    "## Lua Examples\n",
    "Complete the following code so that the output produced is\n",
    "```lua\n",
    "1\n",
    "1\n",
    "2\n",
    "3\n",
    "5\n",
    "```\n",
    "\n",
    "```lua\n",
    "function a_fun() \n",
    "    _____ a = 1 -- local a\n",
    "    _____ b = 1 -- local b\n",
    "    ______ function() -- return function()\n",
    "        print(b)\n",
    "    end,\n",
    "    function()\n",
    "        a, b = b,  a + b\n",
    "    end\n",
    "end\n",
    "\n",
    "______,____ = a_fun() -- x,y \n",
    "x()\n",
    "x()\n",
    "y()\n",
    "x()\n",
    "y()\n",
    "x()\n",
    "y()\n",
    "x()\n",
    "\n",
    "```\n"
   ]
  },
  {
   "cell_type": "code",
   "execution_count": null,
   "metadata": {},
   "outputs": [],
   "source": []
  }
 ],
 "metadata": {
  "celltoolbar": "Slideshow",
  "kernelspec": {
   "display_name": "Lua",
   "language": "",
   "name": "lupyter"
  },
  "language_info": {
   "file_extension": ".lua",
   "mimetype": "text/Lua",
   "name": "Lua",
   "version": "5.X.Y"
  }
 },
 "nbformat": 4,
 "nbformat_minor": 1
}
