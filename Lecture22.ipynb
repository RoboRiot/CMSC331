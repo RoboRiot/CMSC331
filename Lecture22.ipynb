{
 "cells": [
  {
   "cell_type": "markdown",
   "metadata": {
    "slideshow": {
     "slide_type": "slide"
    }
   },
   "source": [
    "# Android II"
   ]
  },
  {
   "cell_type": "markdown",
   "metadata": {
    "slideshow": {
     "slide_type": "slide"
    }
   },
   "source": [
    "## Quick Review\n",
    "- Layout in XML\n",
    "- Behavoir in Java\n",
    "- Use Android Studio to create and work on projects  "
   ]
  },
  {
   "cell_type": "markdown",
   "metadata": {
    "slideshow": {
     "slide_type": "slide"
    }
   },
   "source": [
    "## Multi Activity Apps\n",
    "- Most apps don't just consist of one screen (activity)\n",
    "- Every app has one MAIN activity, which the OS uses to launch the app\n",
    "    - From the MAIN activity, other activities can be launched\n",
    "    - They aren't launched directly, rather an application sends a message to the OS asking the activity to be launched"
   ]
  },
  {
   "cell_type": "markdown",
   "metadata": {
    "slideshow": {
     "slide_type": "slide"
    }
   },
   "source": [
    "## Intents\n",
    "- An intent is an object that holds all the information about the new activity to be opened\n",
    "- Can be \n",
    "    - explicit - Directly naming the exact activity class to open\n",
    "    - implicit - Describing some desired features, and letting the OS choose\n",
    "- After construction, the new activity is started by passing the intent object to the `startActivity` method"
   ]
  },
  {
   "cell_type": "markdown",
   "metadata": {
    "slideshow": {
     "slide_type": "slide"
    }
   },
   "source": [
    "## Explicit Intent\n",
    "- There are numerous constructors for the Intent class, but for explicit intents, the following is often used\n",
    "```java\n",
    "Intent my_intent = new Intent(Context c, Class cls)\n",
    "```\n",
    "    - The context is the current state\n",
    "        - `Activity` ineherits from `Context`, so normally the first argument is `this`\n",
    "    - The class is the `Class` object representing the activity we wish to get\n",
    "        - `ClassName.class`"
   ]
  },
  {
   "cell_type": "markdown",
   "metadata": {
    "slideshow": {
     "slide_type": "slide"
    }
   },
   "source": [
    "## Passing and Getting Data from Intents\n",
    "- The Intent we just used can launch a new screen, but not much else\n",
    "- To pass data we have two options\n",
    "    - `Intent.setData(URI)` - pass a URI to a file, etc. for the recieving activity to use (1 per intent)\n",
    "    - `Intent.putExtra(Key,Value)` - pass any number of small pieces of data (many per intent)\n",
    "- Inside the newly launched activity, the intent used to launch it can be retrieved with\n",
    "```java\n",
    "    Intent launcher = getIntent();\n",
    "```"
   ]
  },
  {
   "cell_type": "markdown",
   "metadata": {
    "slideshow": {
     "slide_type": "slide"
    }
   },
   "source": [
    "## Getting a Result from an Activity\n",
    "- Many times a new screen is launched for the purpose of collecting some input from the user, and then acting on that input\n",
    "- To tell Android this is what we are doing, start the second activity with \n",
    "```java\n",
    "startActivityForResult(Intent intent, int requestCode)\n",
    "```\n",
    "- This will allow several methods to be used that handle a lot of things for us"
   ]
  },
  {
   "cell_type": "markdown",
   "metadata": {
    "slideshow": {
     "slide_type": "slide"
    }
   },
   "source": [
    "## In the Recieving Activity\n",
    "- In an activity that is meant to return a result, the following is done\n",
    "    - Get and process the launching intent as before\n",
    "    - Create a new intent to send the result back in\n",
    "    - Call `setResult(resultCode, resultIntent)` to indicate if the activity was successful\n",
    "        - resultCode is one of: RESULT_OK, RESULT_CANCELLED, or RESULT_FIRST_USER (static constants)\n",
    "    - Call `finish()` to both send the intent back, as well as close the second activity"
   ]
  },
  {
   "cell_type": "markdown",
   "metadata": {
    "slideshow": {
     "slide_type": "slide"
    }
   },
   "source": [
    "## In Originating Activity\n",
    "- Implement the `onActivityResult` event handler, which takes the following parameters\n",
    "    - `int requestCode` - The request code used to start the second activity, useful for figuring out what you are expecting back\n",
    "    - `int resultCode` - The resultCode set with `setResult` in the second activity\n",
    "    - `Intent data` - The result intent created and sent back from the second activity"
   ]
  },
  {
   "cell_type": "markdown",
   "metadata": {
    "slideshow": {
     "slide_type": "slide"
    }
   },
   "source": [
    "## The Lifecycle of an App \n",
    "- Up until now we have been focused on the `onCreate` method of the Activity\n",
    "    - This is the first method called when the activity starts\n",
    "- There are many other methods we can use as handlers, which are triggered at various points in the activities life style\n",
    "    - `onStart`\n",
    "    - `onResume()`\n",
    "    - `onRestart()`\n",
    "    - `onPause()`\n",
    "    - `onStop()`"
   ]
  },
  {
   "cell_type": "markdown",
   "metadata": {
    "slideshow": {
     "slide_type": "slide"
    }
   },
   "source": [
    "## The Lifecycle of an App \n",
    "<img src=\"https://google-developer-training.gitbooks.io/android-developer-fundamentals-course-concepts/content/en/images/2_2_C_images/basic-lifecycle.png\">\n",
    "From https://google-developer-training.gitbooks.io/android-developer-fundamentals-course-concepts/content/en/Unit%201/22_c_the_activity_lifecycle_and_managing_state.html"
   ]
  },
  {
   "cell_type": "markdown",
   "metadata": {
    "slideshow": {
     "slide_type": "slide"
    }
   },
   "source": [
    "## Starting an External Activity \n",
    "- Up until now we have be starting activities we have the code for and therefore can use the `.class` member\n",
    "    - This isn't possible with an external application\n",
    "- One solution is to use the `PackageManager` class to construct an intent meant to launch an App\n",
    "```java\n",
    "PackageManager manager = this.getPackageManager();\n",
    "//You need to know the full name of package for the app you are launching\n",
    "Intent i = manager.getLaunchIntentForPackage(\n",
    "                        \"com.cnn.mobile.android.phone\");\n",
    "startActivity(i);\n",
    "```"
   ]
  },
  {
   "cell_type": "markdown",
   "metadata": {
    "slideshow": {
     "slide_type": "slide"
    }
   },
   "source": [
    "## Implicit Intents\n",
    "- It can be cumbersome to list out all possible third-party apps you want to interact with\n",
    "    - Not to mention very unrobust!\n",
    "- It is better to use an implicit intent\n",
    "    - Same intent object, created a different way\n",
    "    - When you send the intent the OS will determine which app to open"
   ]
  },
  {
   "cell_type": "markdown",
   "metadata": {
    "slideshow": {
     "slide_type": "slide"
    }
   },
   "source": [
    "## Parts of an Implicit Intent\n",
    "- The Action\n",
    "    - The most imporant part, all apps responding to implicit intents must indicate one or more activities\n",
    "- The Category\n",
    "    - Provides additional information about how the application can be used, for example,\n",
    "        - `android.intent.category.BROWSABLE` - Allows your app to respond to links as well"
   ]
  },
  {
   "cell_type": "markdown",
   "metadata": {
    "slideshow": {
     "slide_type": "slide"
    }
   },
   "source": [
    "## Parts of an Implicit Intent\n",
    "- The Data\n",
    "    - Type\n",
    "        - Provides additional information about the type of data, so that a video playing app will only respond to intents involving video data\n",
    "    - Scheme\n",
    "        - Can restrict to certain schemes, ie only SMS or MMS"
   ]
  },
  {
   "cell_type": "markdown",
   "metadata": {
    "slideshow": {
     "slide_type": "slide"
    }
   },
   "source": [
    "## Creating the Implicit Intent\n",
    "- The intent constructor for an implicit intent takes in an activity, and optionally a data URI\n",
    "```java\n",
    "Intent implicit = new Intent(String ACTION_CONSTANT);\n",
    "```\n",
    "OR\n",
    "```java\n",
    "Intent implicit = new Intent(String ACTION_CONSTANT, URI Data);\n",
    "```"
   ]
  },
  {
   "cell_type": "markdown",
   "metadata": {
    "slideshow": {
     "slide_type": "slide"
    }
   },
   "source": [
    "## Creating the Implicit Intent\n",
    "- The Intent object can be further refined by specifying the category and data type\n",
    "- Category \n",
    "    - Can have mulitple\n",
    "```java\n",
    "implicitIntent.addCategory(String CATEGORY_CONSTANT);\n",
    "```\n",
    "- DataType\n",
    "    - Can only have one\n",
    "    - Can sometimes be infered from URI\n",
    "```java\n",
    "implicitIntent.setType(String dataType);\n",
    "```"
   ]
  },
  {
   "cell_type": "markdown",
   "metadata": {
    "slideshow": {
     "slide_type": "slide"
    }
   },
   "source": [
    "## Common Intents\n",
    "- A list of common needs and their intents can be found at https://developer.android.com/guide/components/intents-common.html\n",
    "- Two common ones are \n",
    "    - `Intent.ACTION_VIEW`\n",
    "    - `Intent.ACTION_SEND`"
   ]
  },
  {
   "cell_type": "markdown",
   "metadata": {
    "slideshow": {
     "slide_type": "slide"
    }
   },
   "source": [
    "## Resolving the Intent\n",
    "- The OS find the correct activity for us when we use an implicit intent\n",
    "    - What is there is no correct activity?\n",
    "- Prior to sending an implicit intent, it is good practice to check if there is at least one applicaton that can handle it\n",
    "- This is done through the method `resolveActivity` on the intent itself\n",
    "    - It is passed a package manager (`getPackageManager`)"
   ]
  },
  {
   "cell_type": "markdown",
   "metadata": {
    "slideshow": {
     "slide_type": "slide"
    }
   },
   "source": [
    "## Getting a Picture Back\n",
    "- Just as before, an implicit intent can be launched with the method `startActivityForResult`\n",
    "- A common use of this is to use the built in camera to get a picture\n",
    "    - The action is `MediaStore.ACTION_CAPTURE_PHOTO`\n",
    "    - There is no special category or data type needed\n",
    "    - A URI should be placed in the extra EXTRA_OUTPUT, indicating where to save the photo\n",
    "        - We can't do this until we talk about permissions later\n",
    "    - A thumbnail is available in the `data` extra as a `Bitmap` object"
   ]
  },
  {
   "cell_type": "markdown",
   "metadata": {
    "slideshow": {
     "slide_type": "slide"
    }
   },
   "source": [
    "## Sharing With Other Apps\n",
    "- You can write your own share function, using ACTION_SEND and some other default settings\n",
    "- This is so common that there is a built-in builder to create the correct intent for you\n",
    "```java\n",
    "ShareCompat.IntentBuilder\n",
    "    .from(this)         // information about the calling activity\n",
    "    .setType(mimeType)  // mime type for the data\n",
    "    .setChooserTitle(\"Share this text with: \") //title for the app chooser\n",
    "    .setText(txt)       // intent data\n",
    "    .startChooser(); //launch chooser\n",
    "```\n",
    "<small>Example from https://google-developer-training.gitbooks.io/android-developer-fundamentals-course-concepts/content/en/Unit%201/23_c_activities_and_implicit_intents.html#sharingdatawithsharecompat</small>"
   ]
  },
  {
   "cell_type": "markdown",
   "metadata": {
    "slideshow": {
     "slide_type": "slide"
    }
   },
   "source": [
    "## Manifest\n",
    "- How does the OS know which apps can handle which intents?\n",
    "    - From the AndroidManifest.XML file\n",
    "- The manifest describes all parts of the app\n",
    "    - Which activity is the main activity\n",
    "    - Should app data be backed up\n",
    "    - The intents each activity can handle\n",
    "    - The permissions needed by the app "
   ]
  },
  {
   "cell_type": "markdown",
   "metadata": {
    "slideshow": {
     "slide_type": "slide"
    }
   },
   "source": [
    "## Intent Filters\n",
    "- The intents handled by an activity are given in the AndroidManifest.xml file as an IntentFilter\n",
    "```xml\n",
    "<manifest>\n",
    "    <application>\n",
    "        <activity>\n",
    "            <intent-filter>\n",
    "                <action />\n",
    "                <category />\n",
    "                <data />\n",
    "            </intent-filter>\n",
    "        </activity>\n",
    "    </application>\n",
    "</manifest>\n",
    "```"
   ]
  },
  {
   "cell_type": "markdown",
   "metadata": {
    "slideshow": {
     "slide_type": "slide"
    }
   },
   "source": [
    "## Intent Filters\n",
    "- The action has one attribute\n",
    "    - android:name - Set to the fully qualified ACTION constant\n",
    "- The category has one attribute\n",
    "    - android:name - Set to the full qualified CATEGORY constant\n",
    "    - To recieve any intents, you must have the default category set\n",
    "        - `android.intent.category.DEFAULT`\n",
    "- The data tag has numerous attributes\n",
    "    - `android:mimeType`\n",
    "    - `android:scheme`\n",
    "    - `android:path`"
   ]
  },
  {
   "cell_type": "markdown",
   "metadata": {
    "slideshow": {
     "slide_type": "slide"
    }
   },
   "source": [
    "## Responding to an Implicit Intent\n",
    "- Inside the Activity, call `getIntent()` to recieve how this activity was started\n",
    "    - What method should this be placed in?\n",
    "- From this point on, there is no difference between handling an implicit and explicit intent\n",
    "    - If you want to handle them differently, you can check various properties of the intent, such as packageName\n"
   ]
  }
 ],
 "metadata": {
  "celltoolbar": "Slideshow",
  "kernelspec": {
   "display_name": "Python 2",
   "language": "python",
   "name": "python2"
  },
  "language_info": {
   "codemirror_mode": {
    "name": "ipython",
    "version": 3
   },
   "file_extension": ".py",
   "mimetype": "text/x-python",
   "name": "python",
   "nbconvert_exporter": "python",
   "pygments_lexer": "ipython3",
   "version": "3.5.2"
  }
 },
 "nbformat": 4,
 "nbformat_minor": 1
}
