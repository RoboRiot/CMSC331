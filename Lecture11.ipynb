{
 "cells": [
  {
   "cell_type": "markdown",
   "metadata": {
    "slideshow": {
     "slide_type": "slide"
    }
   },
   "source": [
    "## History of Programming Languages"
   ]
  },
  {
   "cell_type": "markdown",
   "metadata": {
    "slideshow": {
     "slide_type": "slide"
    }
   },
   "source": [
    "## Why study history?\n",
    "- Something different\n",
    "- Appreciation\n",
    "- Inspiration"
   ]
  },
  {
   "cell_type": "markdown",
   "metadata": {
    "slideshow": {
     "slide_type": "slide"
    }
   },
   "source": [
    "## How to Look at History\n",
    "- There are a few different ways programming language history is commonly explored\n",
    "    - Genealogically\n",
    "        - Attempts to derive more or less continuous lines of evolution from the earliest programming languages to today\n",
    "    - Innovations\n",
    "        - More concerned with major developments each language provided"
   ]
  },
  {
   "cell_type": "markdown",
   "metadata": {
    "slideshow": {
     "slide_type": "slide"
    }
   },
   "source": [
    "![An example of a \"family tree\" of languages](http://www.digibarn.com/collections/posters/tongues/ComputerLanguagesChart-med.png)\n",
    "From http://www.digibarn.com/collections/posters/tongues/ComputerLanguagesChart-med.png"
   ]
  },
  {
   "cell_type": "markdown",
   "metadata": {
    "slideshow": {
     "slide_type": "slide"
    }
   },
   "source": [
    "## Pre-Modern Era\n",
    "- The ideas of automatic computation and programming are not recent\n",
    "- In the 1800s\n",
    "    - The programmable loom of Joseph Jacquard\n",
    "    - Babbage's automatic difference engine\n",
    "    - Ada Lovelace - widely considered first programmer\n",
    "    "
   ]
  },
  {
   "cell_type": "markdown",
   "metadata": {
    "slideshow": {
     "slide_type": "slide"
    }
   },
   "source": [
    "## The Dawn Of Computing\n",
    "- The earliest computers were not programmable in our sense of the word\n",
    "    - Could not store programs\n",
    "    - Were often hardware based"
   ]
  },
  {
   "cell_type": "markdown",
   "metadata": {
    "slideshow": {
     "slide_type": "slide"
    }
   },
   "source": [
    "## Plankalkul\n",
    "- From the German \"program calculus\" \n",
    "- Invented around 1945, but not published until 1972\n",
    "- Each statement was two or three lines of code\n",
    "    - Imagine writing fractions in ASCII only\n",
    "- Also published were algorithms to sort arrays and other advanced problems"
   ]
  },
  {
   "cell_type": "markdown",
   "metadata": {
    "slideshow": {
     "slide_type": "slide"
    }
   },
   "source": [
    "## Shortcode\n",
    "- One of the earliest programming languages\n",
    "    - Was interpreted to machine code\n",
    "- Mathmatical expressions assigned numbers\n",
    "    - 06 - abs\n",
    "    - 2x - x + 2nd root\n",
    "```asm\n",
    "00 X0 03 20 06 Y0\n",
    "```"
   ]
  },
  {
   "cell_type": "markdown",
   "metadata": {
    "slideshow": {
     "slide_type": "slide"
    }
   },
   "source": [
    "## The First Compilers\n",
    "- Grace Hopper lead the team that built the first programs approximating compilers\n",
    "- First produced in 1951, the A-0 compiler could compile shortcode and other similar encoding schemes \n",
    "    - Produced machine code to be run directly on the hardware\n",
    "- Followed by the A-1 and A-2 systems\n",
    "- Ran on the UNIVAC architecture"
   ]
  },
  {
   "cell_type": "markdown",
   "metadata": {
    "slideshow": {
     "slide_type": "slide"
    }
   },
   "source": [
    "## Fortran\n",
    "- FORmula TRANslation\n",
    "    - First version published in 1956\n",
    "- One of the first high-level languages\n",
    "    - The most successful and influential certainly\n",
    "- Developed to run on the IBM 704\n",
    "    - Had floating point and indexing capabilities!\n",
    "- Still used for extremely fast mast applications to this day"
   ]
  },
  {
   "cell_type": "markdown",
   "metadata": {
    "slideshow": {
     "slide_type": "slide"
    }
   },
   "source": [
    "```fortran\n",
    "\n",
    "! Fortran 77\n",
    "FUNCTION IFIB(N)\n",
    "      IF (N.EQ.0) THEN\n",
    "        ITEMP0=0\n",
    "      ELSE IF (N.EQ.1) THEN\n",
    "        ITEMP0=1\n",
    "      ELSE IF (N.GT.1) THEN\n",
    "        ITEMP1=0\n",
    "        ITEMP0=1\n",
    "        DO 1 I=2,N\n",
    "          ITEMP2=ITEMP1\n",
    "          ITEMP1=ITEMP0\n",
    "          ITEMP0=ITEMP1+ITEMP2\n",
    "    1   CONTINUE\n",
    "      ELSE\n",
    "        ITEMP1=1\n",
    "        ITEMP0=0\n",
    "        DO 2 I=-1,N,-1\n",
    "          ITEMP2=ITEMP1\n",
    "          ITEMP1=ITEMP0\n",
    "          ITEMP0=ITEMP2-ITEMP1\n",
    "    2   CONTINUE\n",
    "      END IF\n",
    "      IFIB=ITEMP0\n",
    "      END\n",
    "```"
   ]
  },
  {
   "cell_type": "markdown",
   "metadata": {
    "slideshow": {
     "slide_type": "slide"
    }
   },
   "source": [
    "## Fortran Contributions\n",
    "- Variables\n",
    "- Expressions over numbers and booleans\n",
    "- Fixed Length Arrays\n",
    "- Reusable Subprograms (Functions)\n",
    "- Input and Output Functionality"
   ]
  },
  {
   "cell_type": "markdown",
   "metadata": {
    "slideshow": {
     "slide_type": "slide"
    }
   },
   "source": [
    "## LISP\n",
    "- Developed in the late 50s, specifically to support AI research\n",
    "- Fotran had a list processing language that didn't support\n",
    "    - Recursion\n",
    "    - Conditional Expressions\n",
    "    - Dynamic Length Lists\n",
    "    - Garbage Collection\n",
    "- LISP was highly influential, even if it was primarily limited to AI research labs in actual use"
   ]
  },
  {
   "cell_type": "markdown",
   "metadata": {
    "slideshow": {
     "slide_type": "slide"
    }
   },
   "source": [
    "```lisp\n",
    "(defun fibonacci-iterative (n &aux (f0 0) (f1 1))\n",
    "  (case n\n",
    "    (0 f0)\n",
    "    (1 f1)\n",
    "    (t (loop for n from 2 to n\n",
    "             for a = f0 then b and b = f1 then result\n",
    "             for result = (+ a b)\n",
    "             finally (return result)))))\n",
    "```"
   ]
  },
  {
   "cell_type": "markdown",
   "metadata": {
    "slideshow": {
     "slide_type": "slide"
    }
   },
   "source": [
    "## ALGOL\n",
    "- An attempt to create and ALGOrithmic Language to run on any computer in the world\n",
    "    - Including Backus and Naur\n",
    "- Designed by a commitee made up of representatives from\n",
    "    - German Society for Applied Mathmattics and Mechanics\n",
    "    - Association for Computing Machinery\n",
    "- Design began in 1957\n",
    "    - Released in 1960"
   ]
  },
  {
   "cell_type": "markdown",
   "metadata": {
    "slideshow": {
     "slide_type": "slide"
    }
   },
   "source": [
    "```ALGOL\n",
    "PROC iterative fibonacci = (INT n)INT: \n",
    "  CASE n+1 IN\n",
    "    0, 1, 1, 2, 3, 5\n",
    "  OUT\n",
    "    INT even:=3, odd:=5;\n",
    "    FOR i FROM odd+1 TO n DO\n",
    "      (ODD i|odd|even) := odd + even\n",
    "    OD;\n",
    "    (ODD n|odd|even)\n",
    "  ESAC;\n",
    " \n",
    "FOR i FROM 0 TO 30 WHILE\n",
    "  print(whole(iterative fibonacci(i),0));\n",
    "# WHILE # i /= 30 DO\n",
    "  print(\", \")\n",
    "OD;\n",
    "print(new line)\n",
    "```"
   ]
  },
  {
   "cell_type": "markdown",
   "metadata": {
    "slideshow": {
     "slide_type": "slide"
    }
   },
   "source": [
    "## ALGOL 60 Contributions\n",
    "- Blocks\n",
    "- Type declarations\n",
    "- Scope\n",
    "- Nested If Statements\n",
    "- Recursive Functions\n",
    "- Dynamic Length Arrays\n"
   ]
  },
  {
   "cell_type": "markdown",
   "metadata": {
    "slideshow": {
     "slide_type": "slide"
    }
   },
   "source": [
    "## ALGOL's Legacy\n",
    "- Conceptually is the basis for most modern languages\n",
    "- Was never popular\n",
    "    - Hard to implement\n",
    "    - IBM didn't support it\n",
    "- Put a damper on the general idea of design by committee"
   ]
  },
  {
   "cell_type": "markdown",
   "metadata": {
    "slideshow": {
     "slide_type": "slide"
    }
   },
   "source": [
    "## COBOL\n",
    "- Still extremely widely used\n",
    "    - Banks, Government\n",
    "- Meant for data processing\n",
    "    - Looks more \"English\"\n",
    "- Design headed by the DoD\n",
    "- First published in 1960"
   ]
  },
  {
   "cell_type": "markdown",
   "metadata": {
    "slideshow": {
     "slide_type": "slide"
    }
   },
   "source": [
    "```COBOL\n",
    "Program-ID. Fibonacci-Sequence.\n",
    "Data Division.\n",
    "Working-Storage Section.\n",
    "  01  FIBONACCI-PROCESSING.\n",
    "    05  FIBONACCI-NUMBER  PIC 9(36)   VALUE 0.\n",
    "    05  FIB-ONE           PIC 9(36)   VALUE 0.\n",
    "    05  FIB-TWO           PIC 9(36)   VALUE 1.\n",
    "  01  DESIRED-COUNT       PIC 9(4).\n",
    "  01  FORMATTING.\n",
    "    05  INTERM-RESULT     PIC Z(35)9.\n",
    "    05  FORMATTED-RESULT  PIC X(36).\n",
    "    05  FORMATTED-SPACE   PIC x(35).\n",
    "Procedure Division.\n",
    "  000-START-PROGRAM.\n",
    "    Display \"What place of the Fibonacci Sequence would you like (<173)? \" with no advancing.\n",
    "    Accept DESIRED-COUNT.\n",
    "    If DESIRED-COUNT is less than 1\n",
    "      Stop run.\n",
    "    If DESIRED-COUNT is less than 2\n",
    "      Move FIBONACCI-NUMBER to INTERM-RESULT\n",
    "      Move INTERM-RESULT to FORMATTED-RESULT\n",
    "      Unstring FORMATTED-RESULT delimited by all spaces into FORMATTED-SPACE,FORMATTED-RESULT\n",
    "      Display FORMATTED-RESULT\n",
    "      Stop run.\n",
    "    Subtract 1 from DESIRED-COUNT.\n",
    "    Move FIBONACCI-NUMBER to INTERM-RESULT.\n",
    "    Move INTERM-RESULT to FORMATTED-RESULT.\n",
    "    Unstring FORMATTED-RESULT delimited by all spaces into FORMATTED-SPACE,FORMATTED-RESULT.\n",
    "    Display FORMATTED-RESULT.\n",
    "    Perform 100-COMPUTE-FIBONACCI until DESIRED-COUNT = zero.\n",
    "    Stop run.\n",
    "  100-COMPUTE-FIBONACCI.\n",
    "    Compute FIBONACCI-NUMBER = FIB-ONE + FIB-TWO.\n",
    "    Move FIB-TWO to FIB-ONE.\n",
    "    Move FIBONACCI-NUMBER to FIB-TWO.\n",
    "    Subtract 1 from DESIRED-COUNT.\n",
    "    Move FIBONACCI-NUMBER to INTERM-RESULT.\n",
    "    Move INTERM-RESULT to FORMATTED-RESULT.\n",
    "    Unstring FORMATTED-RESULT delimited by all spaces into FORMATTED-SPACE,FORMATTED-RESULT.\n",
    "    Display FORMATTED-RESULT.\n",
    " ```"
   ]
  },
  {
   "cell_type": "markdown",
   "metadata": {
    "slideshow": {
     "slide_type": "slide"
    }
   },
   "source": [
    "## COBOL's Contributions\n",
    "- File Descriptions\n",
    "    - Input and Output support in General\n",
    "- Words rather than obscure functions\n",
    "- Records"
   ]
  },
  {
   "cell_type": "markdown",
   "metadata": {
    "slideshow": {
     "slide_type": "slide"
    }
   },
   "source": [
    "## PL/I\n",
    "- Released in the mid 60s\n",
    "    - Developed at IBM\n",
    "- PL/I was meant to take what is best from Fortran, COBOL, and ALGOL\n",
    "    - First example of really trying to combine different programming language features\n",
    "- Ended up being very complex"
   ]
  },
  {
   "cell_type": "markdown",
   "metadata": {
    "slideshow": {
     "slide_type": "slide"
    }
   },
   "source": [
    "```pli\n",
    "get list(n);\n",
    "f1 = 0; f2 = 1;\n",
    "do i = 2 to n;\n",
    "   f3 = f1 + f2;\n",
    "   put skip edit('fibo(',i,')=',f3)(a,f(5),a,f(5));\n",
    "   f1 = f2;\n",
    "   f2 = f3;\n",
    "end;\n",
    "```"
   ]
  },
  {
   "cell_type": "markdown",
   "metadata": {
    "slideshow": {
     "slide_type": "slide"
    }
   },
   "source": [
    "## PL/I Contributions\n",
    "- Exception Statements\n",
    "- Pointers\n",
    "- External Linking"
   ]
  },
  {
   "cell_type": "markdown",
   "metadata": {
    "slideshow": {
     "slide_type": "slide"
    }
   },
   "source": [
    "## BASIC\n",
    "- Created as a teaching tool in the early 1960's\n",
    "    - Was still used in Montgomery County Public Schools in the early 2000s :)\n",
    "- Later became popular as a basis for GUI programming\n",
    "    - Visual Basic\n",
    "- First language designed to be run remotely, rather than as a tape or cards fed directly to the machine"
   ]
  },
  {
   "cell_type": "markdown",
   "metadata": {
    "slideshow": {
     "slide_type": "slide"
    }
   },
   "source": [
    "```basic\n",
    "FUNCTION itFib (n)\n",
    "    n1 = 0\n",
    "    n2 = 1\n",
    "    FOR k = 1 TO ABS(n)\n",
    "        sum = n1 + n2\n",
    "        n1 = n2\n",
    "        n2 = sum\n",
    "    NEXT k\n",
    "    IF n < 0 THEN\n",
    "        itFib = n1 * ((-1) ^ ((-n) + 1))\n",
    "    ELSE\n",
    "        itFib = n1\n",
    "    END IF\n",
    "END FUNCTION\n",
    "```"
   ]
  },
  {
   "cell_type": "markdown",
   "metadata": {
    "slideshow": {
     "slide_type": "slide"
    }
   },
   "source": [
    "## Simula\n",
    "- Designed in Norway for use in simulating a computer\n",
    "    - Simula I was released in 1964\n",
    "- Simula 67 is the more influential version\n",
    "    - Based on ALGOL 60\n",
    "    - Supported co-routines\n",
    "        - As a by-product of this, had methods of data abstraction"
   ]
  },
  {
   "cell_type": "markdown",
   "metadata": {
    "slideshow": {
     "slide_type": "slide"
    }
   },
   "source": [
    "```simula\n",
    "INTEGER PROCEDURE fibonacci(n);\n",
    "INTEGER n;\n",
    "BEGIN\n",
    "    INTEGER lo, hi, temp, i;\n",
    "    lo := 0;\n",
    "    hi := 1;\n",
    "    FOR i := 1 STEP 1 UNTIL n - 1 DO\n",
    "    BEGIN\n",
    "        temp := hi;\n",
    "        hi := hi + lo;\n",
    "        lo := temp\n",
    "    END;\n",
    "    fibonacci := hi\n",
    "END;\n",
    "```"
   ]
  },
  {
   "cell_type": "markdown",
   "metadata": {
    "slideshow": {
     "slide_type": "slide"
    }
   },
   "source": [
    "## The Precurors to C\n",
    "- The UNIX operating system was in early development in the late 1960s\n",
    "    - Common languages at Bell Labs at the time were BCPL, and an ever simpler version known as B\n",
    "- Both were typeless\n",
    "    - Integer or Floating Point Division\n",
    "- C was first released in 1972\n",
    "    - Borrowed a lot from ALGOL 68\n",
    "    "
   ]
  },
  {
   "cell_type": "markdown",
   "metadata": {
    "slideshow": {
     "slide_type": "slide"
    }
   },
   "source": [
    "```c\n",
    "long long int fibb(int n) {\n",
    "\tint fnow = 0, fnext = 1, tempf;\n",
    "\twhile(--n>0){\n",
    "\t\ttempf = fnow + fnext;\n",
    "\t\tfnow = fnext;\n",
    "\t\tfnext = tempf;\n",
    "\t\t}\n",
    "\t\treturn fnext;\t\n",
    "}\n",
    "```"
   ]
  },
  {
   "cell_type": "markdown",
   "metadata": {
    "slideshow": {
     "slide_type": "slide"
    }
   },
   "source": [
    "## The Popularity of C\n",
    "- Didn't really introduce to many new features\n",
    "- Was very flexible, and due to its use in the UNIX operating system, had a large audience\n",
    "    - Also meant there was a easy to get compiler for many different computers!"
   ]
  },
  {
   "cell_type": "markdown",
   "metadata": {
    "slideshow": {
     "slide_type": "slide"
    }
   },
   "source": [
    "## Smalltalk\n",
    "- Smalltalk is considered the first object oriented language\n",
    "    - Was built out of a PhD Disseration from the University of Utah in 1969, by Alan Kay\n",
    "- Developed at Xerox PARC\n",
    "    - First published in 1972\n",
    "- Everything is an object\n",
    "    - All methods are called throug message passing"
   ]
  },
  {
   "cell_type": "markdown",
   "metadata": {},
   "source": [
    "```smalltalk\n",
    "|fibo|\n",
    "fibo := [ :i |\n",
    "   |ac t|\n",
    "   ac := Array new: 2.\n",
    "   ac at: 1 put: 0 ; at: 2 put: 1.\n",
    "   ( i < 2 )\n",
    "     ifTrue: [ ac at: (i+1) ]\n",
    "     ifFalse: [\n",
    "        2 to: i do: [ :l |\n",
    "          t := (ac at: 2).\n",
    "          ac at: 2 put: ( (ac at: 1) + (ac at: 2) ).\n",
    "          ac at: 1 put: t\n",
    "        ].\n",
    "        ac at: 2.\n",
    "     ]\n",
    "].\n",
    "```"
   ]
  },
  {
   "cell_type": "markdown",
   "metadata": {
    "slideshow": {
     "slide_type": "slide"
    }
   },
   "source": [
    "## Smalltalk Contributions\n",
    "- GUIS\n",
    "    - Orginally meant as a way to abstract an interface away from code\n",
    "- Object Oriented Programming\n",
    "    - Inheritance"
   ]
  },
  {
   "cell_type": "markdown",
   "metadata": {
    "slideshow": {
     "slide_type": "slide"
    }
   },
   "source": [
    "## C++\n",
    "- Developed at Bell Labs, just like the original C\n",
    "    - At first was just another version of C with better type checking\n",
    "- C with Classes was first published in 1983\n",
    "    - C++ released in 1984\n",
    "- Goals\n",
    "    - Fast, a superset on top of C\n",
    "    - Support classes and inheritance\n"
   ]
  },
  {
   "cell_type": "markdown",
   "metadata": {},
   "source": [
    "```c++\n",
    "#include <iostream>\n",
    " \n",
    "int main()\n",
    "{\n",
    "        unsigned int a = 1, b = 1;\n",
    "        unsigned int target = 48;\n",
    "        for(unsigned int n = 3; n <= target; ++n)\n",
    "        {\n",
    "                unsigned int fib = a + b;\n",
    "                std::cout << \"F(\"<< n << \") = \" << fib << std::endl;\n",
    "                a = b;\n",
    "                b = fib;\n",
    "        }\n",
    " \n",
    "        return 0;\n",
    "}\n",
    "```"
   ]
  },
  {
   "cell_type": "markdown",
   "metadata": {
    "slideshow": {
     "slide_type": "slide"
    }
   },
   "source": [
    "## The Impact of C++\n",
    "- Although it borrowed from many other languages, it was many peoples first exposure to OOP\n",
    "    - Because it kept most of the sytnax of C, a lot of people had a good place to start\n",
    "- Continues to be used very widely today"
   ]
  },
  {
   "cell_type": "markdown",
   "metadata": {
    "slideshow": {
     "slide_type": "slide"
    }
   },
   "source": [
    "## Java\n",
    "- Started as a way to embed code into consumer devices by Sun Microsystems\n",
    "    - Originally a modified version of C++\n",
    "- C++ was too dangerous in terms of what it allowed to be truly acceptable\n",
    "    - Should be more **reliable**\n",
    "    - Java doesn't allow functions outside of objects"
   ]
  },
  {
   "cell_type": "markdown",
   "metadata": {},
   "source": [
    "```java\n",
    "public static long itFibN(int n)\n",
    "{\n",
    " if (n < 2)\n",
    "  return n;\n",
    " long ans = 0;\n",
    " long n1 = 0;\n",
    " long n2 = 1;\n",
    " for(n--; n > 0; n--)\n",
    " {\n",
    "  ans = n1 + n2;\n",
    "  n1 = n2;\n",
    "  n2 = ans;\n",
    " }\n",
    " return ans;\n",
    "}\n",
    "```"
   ]
  },
  {
   "cell_type": "markdown",
   "metadata": {
    "slideshow": {
     "slide_type": "slide"
    }
   },
   "source": [
    "## Java Contributions\n",
    "- First major language to not allow code to be compiled directly to machine code\n",
    "- First major language to widely support multiple inheritance\n",
    "- Its popularity spurred work on faster interpreters and VMs\n",
    "    - The JVM was very slow at first"
   ]
  },
  {
   "cell_type": "markdown",
   "metadata": {
    "slideshow": {
     "slide_type": "slide"
    }
   },
   "source": [
    "## After Java\n",
    "- The history of programming languages becomes an unruely field after Java\n",
    "    - Part of the reason is we are still living in it\n",
    "    - The internet and GitHub make it much easier to write and publish a language to thousands of users\n",
    "- The large supportive community around a language is often as much of a factor about its popularity as the features of the language itself"
   ]
  },
  {
   "cell_type": "markdown",
   "metadata": {
    "slideshow": {
     "slide_type": "slide"
    }
   },
   "source": [
    "```c#\n",
    "//C#\n",
    "public static ulong Fib(uint x) {\n",
    "    if (x == 0) return 0;\n",
    " \n",
    "    ulong prev = 0;\n",
    "    ulong next = 1;\n",
    "    for (int i = 1; i < x; i++)\n",
    "    {\n",
    "        ulong sum = prev + next;\n",
    "        prev = next;\n",
    "        next = sum;\n",
    "    }\n",
    "    return next;\n",
    "}\n",
    "```"
   ]
  },
  {
   "cell_type": "markdown",
   "metadata": {
    "slideshow": {
     "slide_type": "slide"
    }
   },
   "source": [
    "## Scripting Languages \n",
    "- In general, all modern scripting languages are based on features found in the original shell in Unix, know as `sh`\n",
    "- Most modern languages are scripting languages\n",
    "    - This allows them to be written in a widely available lower language, like C\n",
    "    - The compiler/interpreter only has to be written once\n",
    "\n",
    "    "
   ]
  },
  {
   "cell_type": "code",
   "execution_count": 2,
   "metadata": {
    "slideshow": {
     "slide_type": "slide"
    }
   },
   "outputs": [
    {
     "data": {
      "text/plain": [
       "6765"
      ]
     },
     "execution_count": 2,
     "metadata": {},
     "output_type": "execute_result"
    }
   ],
   "source": [
    "def fibIter(n):\n",
    "    if n < 2:\n",
    "        return n\n",
    "    fibPrev = 1\n",
    "    fib = 1\n",
    "    for num in xrange(2, n):\n",
    "        fibPrev, fib = fib, fib + fibPrev\n",
    "    return fib\n",
    "fibIter(20)"
   ]
  },
  {
   "cell_type": "markdown",
   "metadata": {
    "slideshow": {
     "slide_type": "slide"
    }
   },
   "source": [
    "```ruby\n",
    "##Ruby\n",
    "def fib(n, sequence=[1])\n",
    "  n.times do\n",
    "    current_number, last_number = sequence.last(2)\n",
    "    sequence << current_number + (last_number or 0)\n",
    "  end\n",
    " \n",
    "  sequence.last\n",
    "end\n",
    "```"
   ]
  },
  {
   "cell_type": "markdown",
   "metadata": {
    "slideshow": {
     "slide_type": "slide"
    }
   },
   "source": [
    "## More Information\n",
    "- Along with the internet for finding out about the history of langauges, the ACM was a special interest group dedicated to programming languages\n",
    "- At undetermined times, they hold a conference on the history of programming languages ([HOPL](http://research.ihost.com/hopl/HOPL.html))\n",
    "    - HOPL I (1978)\n",
    "    - HOPL II\n",
    "    - HOPL III (2007)\n",
    "- The articles at these conference are usually written by the people directly involved in the creation of the language"
   ]
  },
  {
   "cell_type": "markdown",
   "metadata": {
    "slideshow": {
     "slide_type": "slide"
    }
   },
   "source": [
    "## References\n",
    "- Code samples taken from Rosetta Code http://rosettacode.org/wiki/Fibonacci_sequence\n",
    "- Some contributions based on \n",
    "    - Wegner, Peter. \"Programming Languages - The First 25 Years.\" IEEE Transactions on Computers 12 (1976): 1207-1225."
   ]
  },
  {
   "cell_type": "code",
   "execution_count": null,
   "metadata": {},
   "outputs": [],
   "source": []
  }
 ],
 "metadata": {
  "celltoolbar": "Slideshow",
  "kernelspec": {
   "display_name": "Python 2",
   "language": "python",
   "name": "python2"
  },
  "language_info": {
   "codemirror_mode": {
    "name": "ipython",
    "version": 2
   },
   "file_extension": ".py",
   "mimetype": "text/x-python",
   "name": "python",
   "nbconvert_exporter": "python",
   "pygments_lexer": "ipython2",
   "version": "2.7.9"
  }
 },
 "nbformat": 4,
 "nbformat_minor": 2
}
