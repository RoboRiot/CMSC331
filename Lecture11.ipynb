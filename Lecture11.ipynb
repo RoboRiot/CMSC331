{
 "cells": [
  {
   "cell_type": "markdown",
   "metadata": {
    "slideshow": {
     "slide_type": "slide"
    }
   },
   "source": [
    "## History of Programming Languages"
   ]
  },
  {
   "cell_type": "markdown",
   "metadata": {
    "slideshow": {
     "slide_type": "slide"
    }
   },
   "source": [
    "## Why study history?\n",
    "- Something different\n",
    "- Appreciation\n",
    "- Inspiration"
   ]
  },
  {
   "cell_type": "markdown",
   "metadata": {
    "slideshow": {
     "slide_type": "slide"
    }
   },
   "source": [
    "## How to Look at History\n",
    "- There are a few different ways programming language history is commonly explored\n",
    "    - Genealogically\n",
    "        - Attempts to derive more or less continuous lines of evolution from the earliest programming languages to today\n",
    "    - Innovations\n",
    "        - More concerned with major developments each language provided"
   ]
  },
  {
   "cell_type": "markdown",
   "metadata": {
    "slideshow": {
     "slide_type": "slide"
    }
   },
   "source": [
    "![An example of a \"family tree\" of languages](http://www.digibarn.com/collections/posters/tongues/ComputerLanguagesChart-med.png)\n",
    "From http://www.digibarn.com/collections/posters/tongues/ComputerLanguagesChart-med.png"
   ]
  },
  {
   "cell_type": "markdown",
   "metadata": {
    "slideshow": {
     "slide_type": "slide"
    }
   },
   "source": [
    "## Pre-Modern Era\n",
    "- The ideas of automatic computation and programming are not recent\n",
    "- In the 1800s\n",
    "    - The programmable loom of Joseph Jacquard\n",
    "    - Babbage's automatic difference engine\n",
    "    - Ada Lovelace - widely considered first programmer\n",
    "    "
   ]
  },
  {
   "cell_type": "markdown",
   "metadata": {
    "slideshow": {
     "slide_type": "slide"
    }
   },
   "source": [
    "## The Dawn Of Computing\n",
    "- The earliest computers were not programmable in our sense of the word\n",
    "    - Could not store programs\n",
    "    - Were often hardware based"
   ]
  },
  {
   "cell_type": "markdown",
   "metadata": {
    "slideshow": {
     "slide_type": "slide"
    }
   },
   "source": [
    "## Plankalkul\n",
    "- From the German \"program calculus\" \n",
    "- Invented around 1945, but not published until 1972\n",
    "- Each statement was two or three lines of code\n",
    "    - Imagine writing fractions in ASCII only\n",
    "- Also published were algorithms to sort arrays and other advanced problems"
   ]
  },
  {
   "cell_type": "markdown",
   "metadata": {
    "slideshow": {
     "slide_type": "slide"
    }
   },
   "source": [
    "## Shortcode\n",
    "- One of the earliest programming languages\n",
    "    - Was interpreted to machine code\n",
    "- Mathmatical expressions assigned numbers\n",
    "    - 06 - abs\n",
    "    - 2x - x + 2nd root\n",
    "```asm\n",
    "00 X0 03 20 06 Y0\n",
    "```"
   ]
  },
  {
   "cell_type": "markdown",
   "metadata": {
    "slideshow": {
     "slide_type": "slide"
    }
   },
   "source": [
    "## The First Compilers\n",
    "- Grace Hopper lead the team that built the first programs approximating compilers\n",
    "- First produced in 1951, the A-0 compiler could compile shortcode and other similar encoding schemes \n",
    "    - Produced machine code to be run directly on the hardware\n",
    "- Followed by the A-1 and A-2 systems\n",
    "- Ran on the UNIVAC architecture"
   ]
  },
  {
   "cell_type": "markdown",
   "metadata": {
    "slideshow": {
     "slide_type": "slide"
    }
   },
   "source": [
    "## Fortran\n",
    "- FORmula TRANslation\n",
    "    - First version published in 1956\n",
    "- One of the first high-level languages\n",
    "    - The most successful and influential certainly\n",
    "- Developed to run on the IBM 704\n",
    "    - Had floating point and indexing capabilities!\n",
    "- Still used for extremely fast mast applications to this day"
   ]
  },
  {
   "cell_type": "markdown",
   "metadata": {
    "slideshow": {
     "slide_type": "slide"
    }
   },
   "source": [
    "```fortran\n",
    "\n",
    "! Fortran 77\n",
    "FUNCTION IFIB(N)\n",
    "      IF (N.EQ.0) THEN\n",
    "        ITEMP0=0\n",
    "      ELSE IF (N.EQ.1) THEN\n",
    "        ITEMP0=1\n",
    "      ELSE IF (N.GT.1) THEN\n",
    "        ITEMP1=0\n",
    "        ITEMP0=1\n",
    "        DO 1 I=2,N\n",
    "          ITEMP2=ITEMP1\n",
    "          ITEMP1=ITEMP0\n",
    "          ITEMP0=ITEMP1+ITEMP2\n",
    "    1   CONTINUE\n",
    "      ELSE\n",
    "        ITEMP1=1\n",
    "        ITEMP0=0\n",
    "        DO 2 I=-1,N,-1\n",
    "          ITEMP2=ITEMP1\n",
    "          ITEMP1=ITEMP0\n",
    "          ITEMP0=ITEMP2-ITEMP1\n",
    "    2   CONTINUE\n",
    "      END IF\n",
    "      IFIB=ITEMP0\n",
    "      END\n",
    "```"
   ]
  },
  {
   "cell_type": "markdown",
   "metadata": {
    "slideshow": {
     "slide_type": "slide"
    }
   },
   "source": [
    "## Fortran Contributions\n",
    "- Variables\n",
    "- Expressions over numbers and booleans\n",
    "- Fixed Length Arrays\n",
    "- Reusable Subprograms (Functions)\n",
    "- Input and Output Functionality"
   ]
  },
  {
   "cell_type": "markdown",
   "metadata": {
    "slideshow": {
     "slide_type": "slide"
    }
   },
   "source": [
    "## LISP\n",
    "- Developed in the late 50s, specifically to support AI research\n",
    "- Fotran had a list processing language that didn't support\n",
    "    - Recursion\n",
    "    - Conditional Expressions\n",
    "    - Dynamic Length Lists\n",
    "    - Garbage Collection\n",
    "- LISP was highly influential, even if it was primarily limited to AI research labs in actual use"
   ]
  },
  {
   "cell_type": "markdown",
   "metadata": {
    "slideshow": {
     "slide_type": "slide"
    }
   },
   "source": [
    "```lisp\n",
    "(defun fibonacci-iterative (n &aux (f0 0) (f1 1))\n",
    "  (case n\n",
    "    (0 f0)\n",
    "    (1 f1)\n",
    "    (t (loop for n from 2 to n\n",
    "             for a = f0 then b and b = f1 then result\n",
    "             for result = (+ a b)\n",
    "             finally (return result)))))\n",
    "```"
   ]
  },
  {
   "cell_type": "markdown",
   "metadata": {
    "slideshow": {
     "slide_type": "slide"
    }
   },
   "source": [
    "## ALGOL\n",
    "- An attempt to create and ALGOrithmic Language to run on any computer in the world\n",
    "- Designed by a committee made up of representatives from\n",
    "    - German Society for Applied Mathematics and Mechanics\n",
    "    - Association for Computing Machinery\n",
    "    - Committee included Backus and Naur\n",
    "- Design began in 1957\n",
    "    - Released in 1960"
   ]
  },
  {
   "cell_type": "markdown",
   "metadata": {
    "slideshow": {
     "slide_type": "slide"
    }
   },
   "source": [
    "```ALGOL\n",
    "PROC iterative fibonacci = (INT n)INT: \n",
    "  CASE n+1 IN\n",
    "    0, 1, 1, 2, 3, 5\n",
    "  OUT\n",
    "    INT even:=3, odd:=5;\n",
    "    FOR i FROM odd+1 TO n DO\n",
    "      (ODD i|odd|even) := odd + even\n",
    "    OD;\n",
    "    (ODD n|odd|even)\n",
    "  ESAC;\n",
    " \n",
    "FOR i FROM 0 TO 30 WHILE\n",
    "  print(whole(iterative fibonacci(i),0));\n",
    "# WHILE # i /= 30 DO\n",
    "  print(\", \")\n",
    "OD;\n",
    "print(new line)\n",
    "```"
   ]
  },
  {
   "cell_type": "markdown",
   "metadata": {
    "slideshow": {
     "slide_type": "slide"
    }
   },
   "source": [
    "## ALGOL 60 Contributions\n",
    "- Blocks\n",
    "- Type declarations\n",
    "- Scope\n",
    "- Nested If Statements\n",
    "- Recursive Functions\n",
    "- Dynamic Length Arrays\n"
   ]
  },
  {
   "cell_type": "markdown",
   "metadata": {
    "slideshow": {
     "slide_type": "slide"
    }
   },
   "source": [
    "## ALGOL's Legacy\n",
    "- Conceptually is the basis for most modern languages\n",
    "- Was never popular\n",
    "    - Hard to implement\n",
    "    - IBM didn't support it\n",
    "- Put a damper on the general idea of design by committee"
   ]
  },
  {
   "cell_type": "markdown",
   "metadata": {
    "slideshow": {
     "slide_type": "slide"
    }
   },
   "source": [
    "## COBOL\n",
    "- Still extremely widely used\n",
    "    - Banks, Government\n",
    "- Meant for data processing\n",
    "    - Looks more \"English\"\n",
    "- Design headed by the DoD\n",
    "- First published in 1960"
   ]
  },
  {
   "cell_type": "markdown",
   "metadata": {
    "slideshow": {
     "slide_type": "slide"
    }
   },
   "source": [
    "```COBOL\n",
    "Program-ID. Fibonacci-Sequence.\n",
    "Data Division.\n",
    "Working-Storage Section.\n",
    "  01  FIBONACCI-PROCESSING.\n",
    "    05  FIBONACCI-NUMBER  PIC 9(36)   VALUE 0.\n",
    "    05  FIB-ONE           PIC 9(36)   VALUE 0.\n",
    "    05  FIB-TWO           PIC 9(36)   VALUE 1.\n",
    "  01  DESIRED-COUNT       PIC 9(4).\n",
    "  01  FORMATTING.\n",
    "    05  INTERM-RESULT     PIC Z(35)9.\n",
    "    05  FORMATTED-RESULT  PIC X(36).\n",
    "    05  FORMATTED-SPACE   PIC x(35).\n",
    "Procedure Division.\n",
    "  000-START-PROGRAM.\n",
    "    Display \"What place of the Fibonacci Sequence would you like (<173)? \" with no advancing.\n",
    "    Accept DESIRED-COUNT.\n",
    "    If DESIRED-COUNT is less than 1\n",
    "      Stop run.\n",
    "    If DESIRED-COUNT is less than 2\n",
    "      Move FIBONACCI-NUMBER to INTERM-RESULT\n",
    "      Move INTERM-RESULT to FORMATTED-RESULT\n",
    "      Unstring FORMATTED-RESULT delimited by all spaces into FORMATTED-SPACE,FORMATTED-RESULT\n",
    "      Display FORMATTED-RESULT\n",
    "      Stop run.\n",
    "    Subtract 1 from DESIRED-COUNT.\n",
    "    Move FIBONACCI-NUMBER to INTERM-RESULT.\n",
    "    Move INTERM-RESULT to FORMATTED-RESULT.\n",
    "    Unstring FORMATTED-RESULT delimited by all spaces into FORMATTED-SPACE,FORMATTED-RESULT.\n",
    "    Display FORMATTED-RESULT.\n",
    "    Perform 100-COMPUTE-FIBONACCI until DESIRED-COUNT = zero.\n",
    "    Stop run.\n",
    "  100-COMPUTE-FIBONACCI.\n",
    "    Compute FIBONACCI-NUMBER = FIB-ONE + FIB-TWO.\n",
    "    Move FIB-TWO to FIB-ONE.\n",
    "    Move FIBONACCI-NUMBER to FIB-TWO.\n",
    "    Subtract 1 from DESIRED-COUNT.\n",
    "    Move FIBONACCI-NUMBER to INTERM-RESULT.\n",
    "    Move INTERM-RESULT to FORMATTED-RESULT.\n",
    "    Unstring FORMATTED-RESULT delimited by all spaces into FORMATTED-SPACE,FORMATTED-RESULT.\n",
    "    Display FORMATTED-RESULT.\n",
    " ```"
   ]
  },
  {
   "cell_type": "markdown",
   "metadata": {
    "slideshow": {
     "slide_type": "slide"
    }
   },
   "source": [
    "## COBOL's Contributions\n",
    "- File Descriptions\n",
    "    - Input and Output support in General\n",
    "- Words rather than obscure functions\n",
    "- Records"
   ]
  },
  {
   "cell_type": "markdown",
   "metadata": {
    "slideshow": {
     "slide_type": "slide"
    }
   },
   "source": [
    "## PL/I\n",
    "- Released in the mid 60s\n",
    "    - Developed at IBM\n",
    "- PL/I was meant to take what is best from Fortran, COBOL, and ALGOL\n",
    "    - First example of really trying to combine different programming language features\n",
    "- Ended up being very complex"
   ]
  },
  {
   "cell_type": "markdown",
   "metadata": {
    "slideshow": {
     "slide_type": "slide"
    }
   },
   "source": [
    "```pli\n",
    "get list(n);\n",
    "f1 = 0; f2 = 1;\n",
    "do i = 2 to n;\n",
    "   f3 = f1 + f2;\n",
    "   put skip edit('fibo(',i,')=',f3)(a,f(5),a,f(5));\n",
    "   f1 = f2;\n",
    "   f2 = f3;\n",
    "end;\n",
    "```"
   ]
  },
  {
   "cell_type": "markdown",
   "metadata": {
    "slideshow": {
     "slide_type": "slide"
    }
   },
   "source": [
    "## PL/I Contributions\n",
    "- Exception Statements\n",
    "- Pointers\n",
    "- External Linking"
   ]
  },
  {
   "cell_type": "markdown",
   "metadata": {
    "slideshow": {
     "slide_type": "slide"
    }
   },
   "source": [
    "## BASIC\n",
    "- Created as a teaching tool in the early 1960's\n",
    "    - Was still used in Montgomery County Public Schools in the early 2000s :)\n",
    "- Later became popular as a basis for GUI programming\n",
    "    - Visual Basic\n",
    "- First language designed to be run remotely, rather than as a tape or cards fed directly to the machine"
   ]
  },
  {
   "cell_type": "markdown",
   "metadata": {
    "slideshow": {
     "slide_type": "slide"
    }
   },
   "source": [
    "```basic\n",
    "FUNCTION itFib (n)\n",
    "    n1 = 0\n",
    "    n2 = 1\n",
    "    FOR k = 1 TO ABS(n)\n",
    "        sum = n1 + n2\n",
    "        n1 = n2\n",
    "        n2 = sum\n",
    "    NEXT k\n",
    "    IF n < 0 THEN\n",
    "        itFib = n1 * ((-1) ^ ((-n) + 1))\n",
    "    ELSE\n",
    "        itFib = n1\n",
    "    END IF\n",
    "END FUNCTION\n",
    "```"
   ]
  },
  {
   "cell_type": "markdown",
   "metadata": {
    "slideshow": {
     "slide_type": "slide"
    }
   },
   "source": [
    "## Simula\n",
    "- Designed in Norway for use in simulating a computer\n",
    "    - Simula I was released in 1964\n",
    "- Simula 67 is the more influential version\n",
    "    - Based on ALGOL 60\n",
    "    - Supported co-routines\n",
    "        - As a by-product of this, had methods of data abstraction"
   ]
  },
  {
   "cell_type": "markdown",
   "metadata": {
    "slideshow": {
     "slide_type": "slide"
    }
   },
   "source": [
    "```simula\n",
    "INTEGER PROCEDURE fibonacci(n);\n",
    "INTEGER n;\n",
    "BEGIN\n",
    "    INTEGER lo, hi, temp, i;\n",
    "    lo := 0;\n",
    "    hi := 1;\n",
    "    FOR i := 1 STEP 1 UNTIL n - 1 DO\n",
    "    BEGIN\n",
    "        temp := hi;\n",
    "        hi := hi + lo;\n",
    "        lo := temp\n",
    "    END;\n",
    "    fibonacci := hi\n",
    "END;\n",
    "```"
   ]
  },
  {
   "cell_type": "markdown",
   "metadata": {
    "slideshow": {
     "slide_type": "slide"
    }
   },
   "source": [
    "## The Precurors to C\n",
    "- The UNIX operating system was in early development in the late 1960s\n",
    "    - Common languages at Bell Labs at the time were BCPL, and an ever simpler version known as B\n",
    "- Both were typeless\n",
    "    - Integer or Floating Point Division\n",
    "- C was first released in 1972\n",
    "    - Borrowed a lot from ALGOL 68\n",
    "    "
   ]
  },
  {
   "cell_type": "markdown",
   "metadata": {
    "slideshow": {
     "slide_type": "slide"
    }
   },
   "source": [
    "```c\n",
    "long long int fibb(int n) {\n",
    "\tint fnow = 0, fnext = 1, tempf;\n",
    "\twhile(--n>0){\n",
    "\t\ttempf = fnow + fnext;\n",
    "\t\tfnow = fnext;\n",
    "\t\tfnext = tempf;\n",
    "\t\t}\n",
    "\t\treturn fnext;\t\n",
    "}\n",
    "```"
   ]
  },
  {
   "cell_type": "markdown",
   "metadata": {
    "slideshow": {
     "slide_type": "slide"
    }
   },
   "source": [
    "## The Popularity of C\n",
    "- Didn't really introduce too many new features\n",
    "- Was very flexible, and due to its use in the UNIX operating system, had a large audience\n",
    "    - Also meant there was a easy to get compiler for many different computers!"
   ]
  },
  {
   "cell_type": "markdown",
   "metadata": {
    "slideshow": {
     "slide_type": "slide"
    }
   },
   "source": [
    "## Smalltalk\n",
    "- Smalltalk is considered the first object oriented language\n",
    "    - Was built out of a PhD Disseration from the University of Utah in 1969, by Alan Kay\n",
    "- Developed at Xerox PARC\n",
    "    - First published in 1972\n",
    "- Everything is an object\n",
    "    - All methods are called throug message passing"
   ]
  },
  {
   "cell_type": "markdown",
   "metadata": {
    "slideshow": {
     "slide_type": "slide"
    }
   },
   "source": [
    "```smalltalk\n",
    "|fibo|\n",
    "fibo := [ :i |\n",
    "   |ac t|\n",
    "   ac := Array new: 2.\n",
    "   ac at: 1 put: 0 ; at: 2 put: 1.\n",
    "   ( i < 2 )\n",
    "     ifTrue: [ ac at: (i+1) ]\n",
    "     ifFalse: [\n",
    "        2 to: i do: [ :l |\n",
    "          t := (ac at: 2).\n",
    "          ac at: 2 put: ( (ac at: 1) + (ac at: 2) ).\n",
    "          ac at: 1 put: t\n",
    "        ].\n",
    "        ac at: 2.\n",
    "     ]\n",
    "].\n",
    "```"
   ]
  },
  {
   "cell_type": "markdown",
   "metadata": {
    "slideshow": {
     "slide_type": "slide"
    }
   },
   "source": [
    "## Smalltalk Contributions\n",
    "- GUIS\n",
    "    - Orginally meant as a way to abstract an interface away from code\n",
    "- Object Oriented Programming\n",
    "    - Inheritance"
   ]
  },
  {
   "cell_type": "markdown",
   "metadata": {
    "slideshow": {
     "slide_type": "slide"
    }
   },
   "source": [
    "## C++\n",
    "- Developed at Bell Labs, just like the original C\n",
    "    - At first was just another version of C with better type checking\n",
    "- C with Classes was first published in 1983\n",
    "    - C++ released in 1984\n",
    "- Goals\n",
    "    - Fast, a superset on top of C\n",
    "    - Support classes and inheritance\n"
   ]
  },
  {
   "cell_type": "markdown",
   "metadata": {
    "slideshow": {
     "slide_type": "slide"
    }
   },
   "source": [
    "```c++\n",
    "#include <iostream>\n",
    " \n",
    "int main()\n",
    "{\n",
    "        unsigned int a = 1, b = 1;\n",
    "        unsigned int target = 48;\n",
    "        for(unsigned int n = 3; n <= target; ++n)\n",
    "        {\n",
    "                unsigned int fib = a + b;\n",
    "                std::cout << \"F(\"<< n << \") = \" << fib << std::endl;\n",
    "                a = b;\n",
    "                b = fib;\n",
    "        }\n",
    " \n",
    "        return 0;\n",
    "}\n",
    "```"
   ]
  },
  {
   "cell_type": "markdown",
   "metadata": {
    "slideshow": {
     "slide_type": "slide"
    }
   },
   "source": [
    "## The Impact of C++\n",
    "- Although it borrowed from many other languages, it was many peoples first exposure to OOP\n",
    "    - Because it kept most of the sytnax of C, a lot of people had a good place to start\n",
    "- Continues to be used very widely today"
   ]
  },
  {
   "cell_type": "markdown",
   "metadata": {
    "slideshow": {
     "slide_type": "slide"
    }
   },
   "source": [
    "## Java\n",
    "- Started as a way to embed code into consumer devices by Sun Microsystems\n",
    "    - Originally a modified version of C++\n",
    "- C++ was too dangerous in terms of what it allowed to be truly acceptable\n",
    "    - Should be more **reliable**\n",
    "    - Java doesn't allow functions outside of objects"
   ]
  },
  {
   "cell_type": "markdown",
   "metadata": {
    "slideshow": {
     "slide_type": "slide"
    }
   },
   "source": [
    "```java\n",
    "public static long itFibN(int n)\n",
    "{\n",
    " if (n < 2)\n",
    "  return n;\n",
    " long ans = 0;\n",
    " long n1 = 0;\n",
    " long n2 = 1;\n",
    " for(n--; n > 0; n--)\n",
    " {\n",
    "  ans = n1 + n2;\n",
    "  n1 = n2;\n",
    "  n2 = ans;\n",
    " }\n",
    " return ans;\n",
    "}\n",
    "```"
   ]
  },
  {
   "cell_type": "markdown",
   "metadata": {
    "slideshow": {
     "slide_type": "slide"
    }
   },
   "source": [
    "## Java Contributions\n",
    "- First major language to not allow code to be compiled directly to machine code\n",
    "- First major language to widely support multiple inheritance\n",
    "- Its popularity spurred work on faster interpreters and VMs\n",
    "    - The JVM was very slow at first"
   ]
  },
  {
   "cell_type": "markdown",
   "metadata": {
    "slideshow": {
     "slide_type": "slide"
    }
   },
   "source": [
    "## After Java\n",
    "- The history of programming languages becomes an unruly field after Java\n",
    "    - Part of the reason is we are still living in it\n",
    "    - The internet and GitHub make it much easier to write and publish a language to thousands of users\n",
    "- The large supportive community around a language is often as much of a factor about its popularity as the features of the language itself"
   ]
  },
  {
   "cell_type": "markdown",
   "metadata": {
    "slideshow": {
     "slide_type": "slide"
    }
   },
   "source": [
    "```c#\n",
    "//C#\n",
    "public static ulong Fib(uint x) {\n",
    "    if (x == 0) return 0;\n",
    " \n",
    "    ulong prev = 0;\n",
    "    ulong next = 1;\n",
    "    for (int i = 1; i < x; i++)\n",
    "    {\n",
    "        ulong sum = prev + next;\n",
    "        prev = next;\n",
    "        next = sum;\n",
    "    }\n",
    "    return next;\n",
    "}\n",
    "```"
   ]
  },
  {
   "cell_type": "markdown",
   "metadata": {
    "slideshow": {
     "slide_type": "slide"
    }
   },
   "source": [
    "## Scripting Languages \n",
    "- In general, all modern scripting languages are based on features found in the original shell in Unix, know as `sh`\n",
    "- Most modern languages are scripting languages\n",
    "    - This allows them to be written in a widely available lower language, like C\n",
    "    - The compiler/interpreter only has to be written once\n",
    "\n",
    "    "
   ]
  },
  {
   "cell_type": "code",
   "execution_count": null,
   "metadata": {
    "slideshow": {
     "slide_type": "slide"
    }
   },
   "outputs": [],
   "source": [
    "def fibIter(n):\n",
    "    if n < 2:\n",
    "        return n\n",
    "    fibPrev = 1\n",
    "    fib = 1\n",
    "    for num in xrange(2, n):\n",
    "        fibPrev, fib = fib, fib + fibPrev\n",
    "    return fib\n",
    "fibIter(100000000)"
   ]
  },
  {
   "cell_type": "markdown",
   "metadata": {
    "slideshow": {
     "slide_type": "slide"
    }
   },
   "source": [
    "```ruby\n",
    "##Ruby\n",
    "def fib(n, sequence=[1])\n",
    "  n.times do\n",
    "    current_number, last_number = sequence.last(2)\n",
    "    sequence << current_number + (last_number or 0)\n",
    "  end\n",
    " \n",
    "  sequence.last\n",
    "end\n",
    "```"
   ]
  },
  {
   "cell_type": "markdown",
   "metadata": {
    "slideshow": {
     "slide_type": "slide"
    }
   },
   "source": [
    "## More Information\n",
    "- Along with the internet for finding out about the history of langauges, the ACM was a special interest group dedicated to programming languages\n",
    "- At undetermined times, they hold a conference on the history of programming languages ([HOPL](http://research.ihost.com/hopl/HOPL.html))\n",
    "    - HOPL I (1978)\n",
    "    - HOPL II\n",
    "    - HOPL III (2007)\n",
    "- The articles at these conference are usually written by the people directly involved in the creation of the language"
   ]
  },
  {
   "cell_type": "markdown",
   "metadata": {
    "slideshow": {
     "slide_type": "slide"
    }
   },
   "source": [
    "# Transcompilation"
   ]
  },
  {
   "cell_type": "markdown",
   "metadata": {
    "slideshow": {
     "slide_type": "slide"
    }
   },
   "source": [
    "## Language Types\n",
    "- On the first day of class we discussed\n",
    "    - Compiled Languages\n",
    "    - Interpreted Languages\n",
    "    - Hybrid Languages\n",
    "- Today we introduce a new useful class known as \n",
    "    - Transcompiled Languages"
   ]
  },
  {
   "cell_type": "markdown",
   "metadata": {
    "slideshow": {
     "slide_type": "slide"
    }
   },
   "source": [
    "## Transcompilation\n",
    "- Transcompilation is also known as\n",
    "    - Source-to-source compilation\n",
    "    - Transpilation\n",
    "- Transcompilation takes as input a language X, runs it through a tokenizer and a parser, and compiles the result into another language Y\n",
    "    - The code written in language Y then must be compiled or interpreted as before"
   ]
  },
  {
   "cell_type": "markdown",
   "metadata": {
    "slideshow": {
     "slide_type": "slide"
    }
   },
   "source": [
    "## Why?\n",
    "- Take advantage of modern programming language ideas, but allow code to be run everywhere\n",
    "- Code in a high level language, but create faster code in lowlevel language that interfaces with high level language"
   ]
  },
  {
   "cell_type": "markdown",
   "metadata": {
    "slideshow": {
     "slide_type": "slide"
    }
   },
   "source": [
    "## Moonscript\n",
    "- Lua is extrondinarily popular for embedded devices\n",
    "    - Doesn't have great object oriented properties\n",
    "- Moonscript allows users to write Lua-like code, but with objects and other things\n",
    "    - This is compiled into Lua, using things like metatables and closures\n",
    "- Still under active delopment at http://moonscript.org/#about"
   ]
  },
  {
   "cell_type": "markdown",
   "metadata": {
    "slideshow": {
     "slide_type": "slide"
    }
   },
   "source": [
    "```lua\n",
    "class Thing\n",
    "  name: \"unknown\"\n",
    "\n",
    "class Person extends Thing\n",
    "  say_name: => print \"Hello, I am #{@name}!\"\n",
    "\n",
    "with Person!\n",
    "  .name = \"MoonScript\"\n",
    "  \\say_name!\n",
    "```"
   ]
  },
  {
   "cell_type": "markdown",
   "metadata": {
    "slideshow": {
     "slide_type": "slide"
    }
   },
   "source": [
    "```lua\n",
    "local Thing\n",
    "do\n",
    "  local _class_0\n",
    "  local _base_0 = {\n",
    "    name = \"unknown\"\n",
    "  }\n",
    "  _base_0.__index = _base_0\n",
    "  _class_0 = setmetatable({\n",
    "    __init = function() end,\n",
    "    __base = _base_0,\n",
    "    __name = \"Thing\"\n",
    "  }, {\n",
    "    __index = _base_0,\n",
    "    __call = function(cls, ...)\n",
    "      local _self_0 = setmetatable({}, _base_0)\n",
    "      cls.__init(_self_0, ...)\n",
    "      return _self_0\n",
    "    end\n",
    "  })\n",
    "  _base_0.__class = _class_0\n",
    "  Thing = _class_0\n",
    "end\n",
    "local Person\n",
    "do\n",
    "  local _class_0\n",
    "  local _parent_0 = Thing\n",
    "  local _base_0 = {\n",
    "    say_name = function(self)\n",
    "      return print(\"Hello, I am \" .. tostring(self.name) .. \"!\")\n",
    "    end\n",
    "  }\n",
    "  _base_0.__index = _base_0\n",
    "  setmetatable(_base_0, _parent_0.__base)\n",
    "  _class_0 = setmetatable({\n",
    "    __init = function(self, ...)\n",
    "      return _class_0.__parent.__init(self, ...)\n",
    "    end,\n",
    "    __base = _base_0,\n",
    "    __name = \"Person\",\n",
    "    __parent = _parent_0\n",
    "  }, {\n",
    "    __index = function(cls, name)\n",
    "      local val = rawget(_base_0, name)\n",
    "      if val == nil then\n",
    "        local parent = rawget(cls, \"__parent\")\n",
    "        if parent then\n",
    "          return parent[name]\n",
    "        end\n",
    "      else\n",
    "        return val\n",
    "      end\n",
    "    end,\n",
    "    __call = function(cls, ...)\n",
    "      local _self_0 = setmetatable({}, _base_0)\n",
    "      cls.__init(_self_0, ...)\n",
    "      return _self_0\n",
    "    end\n",
    "  })\n",
    "  _base_0.__class = _class_0\n",
    "  if _parent_0.__inherited then\n",
    "    _parent_0.__inherited(_parent_0, _class_0)\n",
    "  end\n",
    "  Person = _class_0\n",
    "end\n",
    "do\n",
    "  local _with_0 = Person()\n",
    "  _with_0.name = \"MoonScript\"\n",
    "  _with_0:say_name()\n",
    "end\n",
    "```"
   ]
  },
  {
   "cell_type": "markdown",
   "metadata": {
    "slideshow": {
     "slide_type": "slide"
    }
   },
   "source": [
    "## Transcompilation and the Web\n",
    "- One place that transcompilation has become extraordinarily common is web technologies\n",
    "- Compiles to JavaScript\n",
    "    - CoffeeScript\n",
    "    - TypeScript\n",
    "    - Dart\n",
    "- Compiles to CSS\n",
    "    - Less\n",
    "    - Sass"
   ]
  },
  {
   "cell_type": "markdown",
   "metadata": {
    "slideshow": {
     "slide_type": "slide"
    }
   },
   "source": [
    "## Dart\n",
    "- [Dart](https://www.dartlang.org/) was developed by Google to allow efficient JavaScript code to be easily developed\n",
    "- By adding in typing, inheritance like in Java, and other language features, programmers write better code\n",
    "    - By compiling to JS, the quirks of JS are hidden, but it still works in any browser"
   ]
  },
  {
   "cell_type": "markdown",
   "metadata": {
    "slideshow": {
     "slide_type": "slide"
    }
   },
   "source": [
    "```javascript\n",
    "// Generated by dart2js, the Dart to JavaScript compiler version: 1.24.2.\n",
    "// The code supports the following hooks:\n",
    "// dartPrint(message):\n",
    "//    if this function is defined it is called instead of the Dart [print]\n",
    "//    method.\n",
    "//\n",
    "// dartMainRunner(main, args):\n",
    "//    if this function is defined, the Dart [main] method will not be invoked\n",
    "//    directly. Instead, a closure that will invoke [main], and its arguments\n",
    "//    [args] is passed to [dartMainRunner].\n",
    "//\n",
    "// dartDeferredLibraryLoader(uri, successCallback, errorCallback):\n",
    "//    if this function is defined, it will be called when a deferred library\n",
    "//    is loaded. It should load and eval the javascript of `uri`, and call\n",
    "//    successCallback. If it fails to do so, it should call errorCallback with\n",
    "//    an error.\n",
    "//\n",
    "// defaultPackagesBase:\n",
    "//    Override the location where `package:` uris are resolved from. By default\n",
    "//    they are resolved under \"packages/\" from the current window location.\n",
    "(function() {\n",
    "  // /* ::norenaming:: */\n",
    "  var supportsDirectProtoAccess = function() {\n",
    "    var cls = function() {\n",
    "    };\n",
    "    cls.prototype = {p: {}};\n",
    "    var object = new cls();\n",
    "    if (!(object.__proto__ && object.__proto__.p === cls.prototype.p))\n",
    "      return false;\n",
    "    try {\n",
    "      if (typeof navigator != \"undefined\" && typeof navigator.userAgent == \"string\" && navigator.userAgent.indexOf(\"Chrome/\") >= 0)\n",
    "        return true;\n",
    "      if (typeof version == \"function\" && version.length == 0) {\n",
    "        var v = version();\n",
    "        if (/^\\d+\\.\\d+\\.\\d+\\.\\d+$/.test(v))\n",
    "          return true;\n",
    "      }\n",
    "    } catch (_) {\n",
    "    }\n",
    "    return false;\n",
    "  }();\n",
    "  function map(x) {\n",
    "    x = Object.create(null);\n",
    "    x.x = 0;\n",
    "    delete x.x;\n",
    "    return x;\n",
    "  }\n",
    "  // The global objects start as so-called \"slow objects\". For V8, this\n",
    "  // means that it won't try to make map transitions as we add properties\n",
    "  // to these objects. Later on, we attempt to turn these objects into\n",
    "  // fast objects by calling \"convertToFastObject\" (see\n",
    "  // [emitConvertToFastObjectFunction]).\n",
    "  var A = map();\n",
    "  var B = map();\n",
    "  var C = map();\n",
    "  var D = map();\n",
    "  var E = map();\n",
    "  var F = map();\n",
    "  var G = map();\n",
    "  var H = map();\n",
    "  var J = map();\n",
    "  var K = map();\n",
    "  var L = map();\n",
    "  var M = map();\n",
    "  var N = map();\n",
    "  var O = map();\n",
    "  var P = map();\n",
    "  var Q = map();\n",
    "  var R = map();\n",
    "  var S = map();\n",
    "  var T = map();\n",
    "  var U = map();\n",
    "  var V = map();\n",
    "  var W = map();\n",
    "  var X = map();\n",
    "  var Y = map();\n",
    "  var Z = map();\n",
    "  function Isolate() {\n",
    "  }\n",
    "  init();\n",
    "  // Constructors are generated at runtime.\n",
    "  function setupProgram(programData, typesOffset) {\n",
    "    \"use strict\";\n",
    "    function processStatics(descriptor, processedClasses) {\n",
    "      var properties = Object.keys(descriptor);\n",
    "      for (var i = 0; i < properties.length; i++) {\n",
    "        var property = properties[i];\n",
    "        if (property === \"^\")\n",
    "          continue;\n",
    "        var element = descriptor[property];\n",
    "        var firstChar = property.charCodeAt(0);\n",
    "        var previousProperty;\n",
    "        if (firstChar === 43) {\n",
    "          mangledGlobalNames[previousProperty] = property.substring(1);\n",
    "          var flag = descriptor[property];\n",
    "          if (flag > 0)\n",
    "            descriptor[previousProperty].$reflectable = flag;\n",
    "          if (element && element.length)\n",
    "            init.typeInformation[previousProperty] = element;\n",
    "        } else if (firstChar === 42) {\n",
    "          globalObject[previousProperty].$defaultValues = element;\n",
    "          var optionalMethods = descriptor.$methodsWithOptionalArguments;\n",
    "          if (!optionalMethods)\n",
    "            descriptor.$methodsWithOptionalArguments = optionalMethods = {};\n",
    "          optionalMethods[property] = previousProperty;\n",
    "        } else if (typeof element === \"function\") {\n",
    "          globalObject[previousProperty = property] = element;\n",
    "          functions.push(property);\n",
    "          init.globalFunctions[property] = element;\n",
    "        } else if (element.constructor === Array) {\n",
    "        } else {\n",
    "        }\n",
    "      }\n",
    "    }\n",
    "    var functionCounter = 0;\n",
    "    if (!init.libraries)\n",
    "      init.libraries = [];\n",
    "    if (!init.mangledNames)\n",
    "      init.mangledNames = map();\n",
    "    if (!init.mangledGlobalNames)\n",
    "      init.mangledGlobalNames = map();\n",
    "    if (!init.statics)\n",
    "      init.statics = map();\n",
    "    if (!init.typeInformation)\n",
    "      init.typeInformation = map();\n",
    "    if (!init.globalFunctions)\n",
    "      init.globalFunctions = map();\n",
    "    var libraries = init.libraries;\n",
    "    var mangledNames = init.mangledNames;\n",
    "    var mangledGlobalNames = init.mangledGlobalNames;\n",
    "    var hasOwnProperty = Object.prototype.hasOwnProperty;\n",
    "    var length = programData.length;\n",
    "    var processedClasses = map();\n",
    "    processedClasses.collected = map();\n",
    "    processedClasses.pending = map();\n",
    "    processedClasses.constructorsList = [];\n",
    "    processedClasses.combinedConstructorFunction = \"function $reflectable(fn){fn.$reflectable=1;return fn};\\n\" + \"var $desc;\\n\";\n",
    "    for (var i = 0; i < length; i++) {\n",
    "      var data = programData[i];\n",
    "      var name = data[0];\n",
    "      var uri = data[1];\n",
    "      var metadata = data[2];\n",
    "      var globalObject = data[3];\n",
    "      var descriptor = data[4];\n",
    "      var isRoot = !!data[5];\n",
    "      var fields = descriptor && descriptor[\"^\"];\n",
    "      if (fields instanceof Array)\n",
    "        fields = fields[0];\n",
    "      var classes = [];\n",
    "      var functions = [];\n",
    "      processStatics(descriptor, processedClasses);\n",
    "      libraries.push([name, uri, classes, functions, metadata, fields, isRoot, globalObject]);\n",
    "    }\n",
    "  }\n",
    "  Isolate.functionThatReturnsNull = function() {\n",
    "  };\n",
    "  var dart = [[\"dart2js._js_primitives\", \"dart:_js_primitives\",, H, {\n",
    "    \"^\": \"\",\n",
    "    printString: function(string) {\n",
    "      if (typeof dartPrint == \"function\") {\n",
    "        dartPrint(string);\n",
    "        return;\n",
    "      }\n",
    "      if (typeof console == \"object\" && typeof console.log != \"undefined\") {\n",
    "        console.log(string);\n",
    "        return;\n",
    "      }\n",
    "      if (typeof window == \"object\")\n",
    "        return;\n",
    "      if (typeof print == \"function\") {\n",
    "        print(string);\n",
    "        return;\n",
    "      }\n",
    "      throw \"Unable to print message: \" + String(string);\n",
    "    }\n",
    "  }], [\"\", \"hello.dart\",, G, {\n",
    "    \"^\": \"\",\n",
    "    main: function() {\n",
    "      H.printString(\"Hello, World!\");\n",
    "    }\n",
    "  }, 1]];\n",
    "  setupProgram(dart, 0);\n",
    "  // getInterceptor methods\n",
    "  // Output contains no constant list.\n",
    "  var $ = Isolate.$isolateProperties;\n",
    "  // No constants in program.\n",
    "  $ = null;\n",
    "  init.isHunkLoaded = function(hunkHash) {\n",
    "    return !!$dart_deferred_initializers$[hunkHash];\n",
    "  };\n",
    "  init.deferredInitialized = new Object(null);\n",
    "  init.isHunkInitialized = function(hunkHash) {\n",
    "    return init.deferredInitialized[hunkHash];\n",
    "  };\n",
    "  init.initializeLoadedHunk = function(hunkHash) {\n",
    "    $dart_deferred_initializers$[hunkHash]($globals$, $);\n",
    "    init.deferredInitialized[hunkHash] = true;\n",
    "  };\n",
    "  init.deferredLibraryUris = {};\n",
    "  init.deferredLibraryHashes = {};\n",
    "  // Empty type-to-interceptor map.\n",
    "  // No lazy statics.\n",
    "  Isolate = Isolate.$finishIsolateConstructor(Isolate);\n",
    "  $ = new Isolate();\n",
    "  init.metadata = [];\n",
    "  init.types = [];\n",
    "  function convertToFastObject(properties) {\n",
    "    function MyClass() {\n",
    "    }\n",
    "    MyClass.prototype = properties;\n",
    "    new MyClass();\n",
    "    return properties;\n",
    "  }\n",
    "  function convertToSlowObject(properties) {\n",
    "    properties.__MAGIC_SLOW_PROPERTY = 1;\n",
    "    delete properties.__MAGIC_SLOW_PROPERTY;\n",
    "    return properties;\n",
    "  }\n",
    "  A = convertToFastObject(A);\n",
    "  B = convertToFastObject(B);\n",
    "  C = convertToFastObject(C);\n",
    "  D = convertToFastObject(D);\n",
    "  E = convertToFastObject(E);\n",
    "  F = convertToFastObject(F);\n",
    "  G = convertToFastObject(G);\n",
    "  H = convertToFastObject(H);\n",
    "  J = convertToFastObject(J);\n",
    "  K = convertToFastObject(K);\n",
    "  L = convertToFastObject(L);\n",
    "  M = convertToFastObject(M);\n",
    "  N = convertToFastObject(N);\n",
    "  O = convertToFastObject(O);\n",
    "  P = convertToFastObject(P);\n",
    "  Q = convertToFastObject(Q);\n",
    "  R = convertToFastObject(R);\n",
    "  S = convertToFastObject(S);\n",
    "  T = convertToFastObject(T);\n",
    "  U = convertToFastObject(U);\n",
    "  V = convertToFastObject(V);\n",
    "  W = convertToFastObject(W);\n",
    "  X = convertToFastObject(X);\n",
    "  Y = convertToFastObject(Y);\n",
    "  Z = convertToFastObject(Z);\n",
    "  function init() {\n",
    "    Isolate.$isolateProperties = Object.create(null);\n",
    "    init.allClasses = map();\n",
    "    init.getTypeFromName = function(name) {\n",
    "      return init.allClasses[name];\n",
    "    };\n",
    "    init.interceptorsByTag = map();\n",
    "    init.leafTags = map();\n",
    "    init.finishedClasses = map();\n",
    "    Isolate.$finishIsolateConstructor = function(oldIsolate) {\n",
    "      var isolateProperties = oldIsolate.$isolateProperties;\n",
    "      function Isolate() {\n",
    "        var staticNames = Object.keys(isolateProperties);\n",
    "        for (var i = 0; i < staticNames.length; i++) {\n",
    "          var staticName = staticNames[i];\n",
    "          this[staticName] = isolateProperties[staticName];\n",
    "        }\n",
    "        var lazies = init.lazies;\n",
    "        var lazyInitializers = lazies ? Object.keys(lazies) : [];\n",
    "        for (var i = 0; i < lazyInitializers.length; i++)\n",
    "          this[lazies[lazyInitializers[i]]] = null;\n",
    "        function ForceEfficientMap() {\n",
    "        }\n",
    "        ForceEfficientMap.prototype = this;\n",
    "        new ForceEfficientMap();\n",
    "        for (var i = 0; i < lazyInitializers.length; i++) {\n",
    "          var lazyInitName = lazies[lazyInitializers[i]];\n",
    "          this[lazyInitName] = isolateProperties[lazyInitName];\n",
    "        }\n",
    "      }\n",
    "      Isolate.prototype = oldIsolate.prototype;\n",
    "      Isolate.prototype.constructor = Isolate;\n",
    "      Isolate.$isolateProperties = isolateProperties;\n",
    "      Isolate.functionThatReturnsNull = oldIsolate.functionThatReturnsNull;\n",
    "      return Isolate;\n",
    "    };\n",
    "  }\n",
    "  // BEGIN invoke [main].\n",
    "  (function(callback) {\n",
    "    if (typeof document === \"undefined\") {\n",
    "      callback(null);\n",
    "      return;\n",
    "    }\n",
    "    if (typeof document.currentScript != 'undefined') {\n",
    "      callback(document.currentScript);\n",
    "      return;\n",
    "    }\n",
    "    var scripts = document.scripts;\n",
    "    function onLoad(event) {\n",
    "      for (var i = 0; i < scripts.length; ++i)\n",
    "        scripts[i].removeEventListener(\"load\", onLoad, false);\n",
    "      callback(event.target);\n",
    "    }\n",
    "    for (var i = 0; i < scripts.length; ++i)\n",
    "      scripts[i].addEventListener(\"load\", onLoad, false);\n",
    "  })(function(currentScript) {\n",
    "    init.currentScript = currentScript;\n",
    "    if (typeof dartMainRunner === \"function\")\n",
    "      dartMainRunner(G.main, []);\n",
    "    else\n",
    "      G.main([]);\n",
    "  });\n",
    "  // END invoke [main].\n",
    "})();\n",
    "\n",
    "//# sourceMappingURL=hello.js.map\n",
    "\n",
    "```"
   ]
  },
  {
   "cell_type": "markdown",
   "metadata": {
    "slideshow": {
     "slide_type": "slide"
    }
   },
   "source": [
    "# Cython"
   ]
  },
  {
   "cell_type": "markdown",
   "metadata": {
    "slideshow": {
     "slide_type": "slide"
    }
   },
   "source": [
    "## Calling C Code from Python\n",
    "- To manually call C code from Python, you must make a C file that includes python.h\n",
    "- All functions should return pointers to objects that can be sent back to python\n",
    "- Some hoops need to be jumped through to link it so its visible to Python"
   ]
  },
  {
   "cell_type": "markdown",
   "metadata": {
    "slideshow": {
     "slide_type": "slide"
    }
   },
   "source": [
    "## Cython\n",
    "- Cython is a language on its own, but is almost a proper superset of Python\n",
    "- Cython code is compiled to C code that uses the Python API, so can easily be imported by Python as modules\n",
    "    - Almost any Python Code is valid Cython code\n",
    "    - By breaking Python compatibility (adding in types) the speed up is even more drastic"
   ]
  },
  {
   "cell_type": "markdown",
   "metadata": {
    "slideshow": {
     "slide_type": "slide"
    }
   },
   "source": [
    "## First Steps with Cython\n",
    "- Cython code is placed in files that end with \".pyx\""
   ]
  },
  {
   "cell_type": "code",
   "execution_count": null,
   "metadata": {
    "slideshow": {
     "slide_type": "slide"
    }
   },
   "outputs": [],
   "source": [
    "%cat source/cython/hello.pyx"
   ]
  },
  {
   "cell_type": "markdown",
   "metadata": {
    "slideshow": {
     "slide_type": "slide"
    }
   },
   "source": [
    "## Building Cython\n",
    "- Rather than a make file, Python can use something known as a setup.py file\n",
    "- To build a Cython module, use the standard setup.py for python, but import some cython functions too"
   ]
  },
  {
   "cell_type": "code",
   "execution_count": null,
   "metadata": {
    "slideshow": {
     "slide_type": "slide"
    }
   },
   "outputs": [],
   "source": [
    "%cat source/cython/setup.py"
   ]
  },
  {
   "cell_type": "code",
   "execution_count": null,
   "metadata": {},
   "outputs": [],
   "source": [
    "! cd source/cython; python3 setup.py build_ext --inplace"
   ]
  },
  {
   "cell_type": "code",
   "execution_count": null,
   "metadata": {
    "slideshow": {
     "slide_type": "slide"
    }
   },
   "outputs": [],
   "source": [
    "import source.cython.hello"
   ]
  },
  {
   "cell_type": "code",
   "execution_count": null,
   "metadata": {
    "slideshow": {
     "slide_type": "slide"
    }
   },
   "outputs": [],
   "source": [
    "%cat source/cython/hello.c"
   ]
  },
  {
   "cell_type": "markdown",
   "metadata": {
    "slideshow": {
     "slide_type": "slide"
    }
   },
   "source": [
    "## Loops\n",
    "- Cython speedup is really visible when using loops, which are rather slow in interpreted languages\n",
    "- For the rest of class we will progressively improve our Cython code to make it faster and faster"
   ]
  },
  {
   "cell_type": "code",
   "execution_count": null,
   "metadata": {
    "slideshow": {
     "slide_type": "slide"
    }
   },
   "outputs": [],
   "source": [
    "def avg(nums):\n",
    "    total = 0.0\n",
    "    for i in nums:\n",
    "        total += i\n",
    "    return total/len(nums)"
   ]
  },
  {
   "cell_type": "code",
   "execution_count": null,
   "metadata": {},
   "outputs": [],
   "source": [
    "%%timeit\n",
    "avg([1,2,4,5,6,7,10,4,6,7,8,1,10,35,6,7])"
   ]
  },
  {
   "cell_type": "code",
   "execution_count": null,
   "metadata": {
    "slideshow": {
     "slide_type": "slide"
    }
   },
   "outputs": [],
   "source": [
    "import random\n",
    "lots_of_numbers = list(range(0,1000))\n",
    "random.shuffle(lots_of_numbers)"
   ]
  },
  {
   "cell_type": "code",
   "execution_count": null,
   "metadata": {},
   "outputs": [],
   "source": [
    "%%timeit\n",
    "avg(lots_of_numbers)"
   ]
  },
  {
   "cell_type": "code",
   "execution_count": null,
   "metadata": {
    "slideshow": {
     "slide_type": "slide"
    }
   },
   "outputs": [],
   "source": [
    "%cat source/cython/avg_1.pyx"
   ]
  },
  {
   "cell_type": "code",
   "execution_count": null,
   "metadata": {
    "slideshow": {
     "slide_type": "slide"
    }
   },
   "outputs": [],
   "source": [
    "!cd source/cython; python avg_1_setup.py build_ext --inplace"
   ]
  },
  {
   "cell_type": "code",
   "execution_count": null,
   "metadata": {
    "slideshow": {
     "slide_type": "slide"
    }
   },
   "outputs": [],
   "source": [
    "import source.cython.avg_1 as avg_1"
   ]
  },
  {
   "cell_type": "code",
   "execution_count": null,
   "metadata": {},
   "outputs": [],
   "source": [
    "%%timeit\n",
    "avg_1.avg_c(lots_of_numbers)"
   ]
  },
  {
   "cell_type": "markdown",
   "metadata": {
    "slideshow": {
     "slide_type": "slide"
    }
   },
   "source": [
    "## Define a C Function\n",
    "- To define a more C-like function, use `cpdef` in your Cython file\n",
    "    - The `p` in `cpdef` allows it to be called from Python\n",
    "- Because it is more C-like, it requires a return type, one of the standard C datatypes\n",
    "    - double\n",
    "    - int\n",
    "    - boolean\n",
    "    - char*\n",
    "    "
   ]
  },
  {
   "cell_type": "code",
   "execution_count": null,
   "metadata": {
    "slideshow": {
     "slide_type": "slide"
    }
   },
   "outputs": [],
   "source": [
    "%cat source/cython/avg_2.pyx"
   ]
  },
  {
   "cell_type": "code",
   "execution_count": null,
   "metadata": {
    "slideshow": {
     "slide_type": "slide"
    }
   },
   "outputs": [],
   "source": [
    "!cd source/cython; python avg_2_setup.py build_ext --inplace"
   ]
  },
  {
   "cell_type": "code",
   "execution_count": null,
   "metadata": {
    "slideshow": {
     "slide_type": "slide"
    }
   },
   "outputs": [],
   "source": [
    "import source.cython.avg_2 as avg_2"
   ]
  },
  {
   "cell_type": "code",
   "execution_count": null,
   "metadata": {},
   "outputs": [],
   "source": [
    "%%timeit\n",
    "avg_2.avg_c(lots_of_numbers)"
   ]
  },
  {
   "cell_type": "markdown",
   "metadata": {
    "slideshow": {
     "slide_type": "slide"
    }
   },
   "source": [
    "## Adding Type\n",
    "- Typing our variables allows compilers to make certain optimizations\n",
    "- To declare a variable in Cython, use `cdef TYPE VAR_NAME`"
   ]
  },
  {
   "cell_type": "code",
   "execution_count": null,
   "metadata": {
    "slideshow": {
     "slide_type": "slide"
    }
   },
   "outputs": [],
   "source": [
    "%cat source/cython/avg_3.pyx"
   ]
  },
  {
   "cell_type": "code",
   "execution_count": null,
   "metadata": {
    "slideshow": {
     "slide_type": "slide"
    }
   },
   "outputs": [],
   "source": [
    "!cd source/cython; python avg_3_setup.py build_ext --inplace"
   ]
  },
  {
   "cell_type": "code",
   "execution_count": null,
   "metadata": {
    "slideshow": {
     "slide_type": "slide"
    }
   },
   "outputs": [],
   "source": [
    "import source.cython.avg_3 as avg_3"
   ]
  },
  {
   "cell_type": "code",
   "execution_count": null,
   "metadata": {},
   "outputs": [],
   "source": [
    "%%timeit\n",
    "avg_3.avg_c(lots_of_numbers)"
   ]
  },
  {
   "cell_type": "markdown",
   "metadata": {
    "slideshow": {
     "slide_type": "slide"
    }
   },
   "source": [
    "## References\n",
    "- Code samples taken from Rosetta Code http://rosettacode.org/wiki/Fibonacci_sequence\n",
    "- Some contributions based on \n",
    "    - Wegner, Peter. \"Programming Languages - The First 25 Years.\" IEEE Transactions on Computers 12 (1976): 1207-1225."
   ]
  }
 ],
 "metadata": {
  "celltoolbar": "Slideshow",
  "kernelspec": {
   "display_name": "Python 3",
   "language": "python",
   "name": "python3"
  },
  "language_info": {
   "codemirror_mode": {
    "name": "ipython",
    "version": 3
   },
   "file_extension": ".py",
   "mimetype": "text/x-python",
   "name": "python",
   "nbconvert_exporter": "python",
   "pygments_lexer": "ipython3",
   "version": "3.6.3"
  }
 },
 "nbformat": 4,
 "nbformat_minor": 2
}
