{
 "cells": [
  {
   "cell_type": "markdown",
   "metadata": {
    "slideshow": {
     "slide_type": "slide"
    }
   },
   "source": [
    "# Scheme IV \n",
    "### and\n",
    "## Functional Programming in Other Languages"
   ]
  },
  {
   "cell_type": "markdown",
   "metadata": {
    "slideshow": {
     "slide_type": "slide"
    }
   },
   "source": [
    "## Apply\n",
    "Previously to pass a list as the parameters to a function I used this trick\n",
    "```scheme\n",
    "(eval (append `(+) x) )\n",
    "```\n",
    "\n",
    "This is a common need, so there is a function than handles this, __apply__\n",
    "\n",
    "The general syntax is\n",
    "\n",
    "```scheme\n",
    "(apply function list)\n",
    "```\n"
   ]
  },
  {
   "cell_type": "code",
   "execution_count": 1,
   "metadata": {
    "slideshow": {
     "slide_type": "slide"
    }
   },
   "outputs": [
    {
     "data": {
      "text/plain": [
       "15"
      ]
     },
     "execution_count": 1,
     "metadata": {},
     "output_type": "execute_result"
    }
   ],
   "source": [
    "(apply + `(1 2 3 4 5)); (+ 1 2 3 4 5)"
   ]
  },
  {
   "cell_type": "code",
   "execution_count": 2,
   "metadata": {},
   "outputs": [
    {
     "data": {
      "text/plain": [
       "120"
      ]
     },
     "execution_count": 2,
     "metadata": {},
     "output_type": "execute_result"
    }
   ],
   "source": [
    "(apply * `(1 2 3 4 5)) ; (* 1 2 3 4 5)"
   ]
  },
  {
   "cell_type": "code",
   "execution_count": 3,
   "metadata": {},
   "outputs": [
    {
     "data": {
      "text/plain": [
       "\"Thisisone\""
      ]
     },
     "execution_count": 3,
     "metadata": {},
     "output_type": "execute_result"
    }
   ],
   "source": [
    "(apply string-append `(\"This\" \"is\" \"one\"))"
   ]
  },
  {
   "cell_type": "markdown",
   "metadata": {
    "slideshow": {
     "slide_type": "slide"
    }
   },
   "source": [
    "## Apply Practice\n",
    "\n",
    "- Write a function to find the average of a list of numbers\n"
   ]
  },
  {
   "cell_type": "code",
   "execution_count": 6,
   "metadata": {},
   "outputs": [
    {
     "data": {
      "text/plain": [
       "3.5"
      ]
     },
     "execution_count": 6,
     "metadata": {},
     "output_type": "execute_result"
    }
   ],
   "source": [
    "(define avg\n",
    "  (lambda l\n",
    "    (*\n",
    "        (/\n",
    "        (apply + l)\n",
    "        (length l)\n",
    "        )\n",
    "     1.0\n",
    "    )\n",
    "    )\n",
    ")\n",
    "(avg 1 2 3 4 5 6)"
   ]
  },
  {
   "cell_type": "markdown",
   "metadata": {
    "slideshow": {
     "slide_type": "slide"
    }
   },
   "source": [
    "## Map\n",
    "- What if instead of passing a list as parameters, we wanted to apply a function to each element in the list?\n",
    "\n",
    "    - __map__ allows us to do this, returning a list of values from applying the function to each element\n",
    "\n",
    "- The geneneral syntax of map is \n",
    "\n",
    "```scheme\n",
    "(map function list1 list2 ... listn)\n",
    "```"
   ]
  },
  {
   "cell_type": "code",
   "execution_count": 7,
   "metadata": {
    "slideshow": {
     "slide_type": "slide"
    }
   },
   "outputs": [
    {
     "data": {
      "text/plain": [
       "(1 2 3 4 5)"
      ]
     },
     "execution_count": 7,
     "metadata": {},
     "output_type": "execute_result"
    }
   ],
   "source": [
    "(map abs '(1 2 -3 -4 -5))"
   ]
  },
  {
   "cell_type": "code",
   "execution_count": 10,
   "metadata": {},
   "outputs": [
    {
     "data": {
      "text/plain": [
       "(8 13 9)"
      ]
     },
     "execution_count": 10,
     "metadata": {},
     "output_type": "execute_result"
    }
   ],
   "source": [
    "(map + '(4 10 7) '(3 2 1) `(1 1 1))"
   ]
  },
  {
   "cell_type": "code",
   "execution_count": 11,
   "metadata": {},
   "outputs": [
    {
     "data": {
      "text/plain": [
       "(1 4 9 16 25)"
      ]
     },
     "execution_count": 11,
     "metadata": {},
     "output_type": "execute_result"
    }
   ],
   "source": [
    "(map (lambda(x) (* x x)) `(1 2 3 4 5))"
   ]
  },
  {
   "cell_type": "markdown",
   "metadata": {
    "slideshow": {
     "slide_type": "slide"
    }
   },
   "source": [
    "## Map Practice\n",
    "\n",
    "- Use a combination of map and apply to concatenate a list of strings seperated by a given character\n",
    "    - Hint: string-append will put two strings together\n",
    "\n"
   ]
  },
  {
   "cell_type": "code",
   "execution_count": 3,
   "metadata": {
    "slideshow": {
     "slide_type": "slide"
    }
   },
   "outputs": [
    {
     "data": {
      "text/plain": [
       "\"hello,I,am,some,words\""
      ]
     },
     "execution_count": 3,
     "metadata": {},
     "output_type": "execute_result"
    }
   ],
   "source": [
    "(define join\n",
    "   (lambda (sep l)\n",
    "     (let ((str\n",
    "     (apply string-append\n",
    "     (map (lambda (q)\n",
    "              (string-append q sep) \n",
    "          ) \n",
    "          l\n",
    "     )\n",
    "   )\n",
    "  ))\n",
    "     (substring str 0\n",
    "     (- (string-length str ) 1) )\n",
    "  ))\n",
    ")\n",
    "(join \",\" `(\"hello\" \"I\" \"am\" \"some\" \"words\"))"
   ]
  },
  {
   "cell_type": "markdown",
   "metadata": {
    "slideshow": {
     "slide_type": "slide"
    }
   },
   "source": [
    "## Filtering\n",
    "\n",
    "- Filter is like a special type of map. \n",
    "    - Filter is passed a predicate and a list\n",
    "    - Given a list, returns the elements of that list that the predicate evaluates for true for\n",
    "- General syntax is\n",
    "```scheme\n",
    "(filter predicate list)\n",
    "```"
   ]
  },
  {
   "cell_type": "code",
   "execution_count": 7,
   "metadata": {
    "slideshow": {
     "slide_type": "slide"
    }
   },
   "outputs": [
    {
     "data": {
      "text/plain": [
       "(1 3)"
      ]
     },
     "execution_count": 7,
     "metadata": {},
     "output_type": "execute_result"
    }
   ],
   "source": [
    "(filter odd? `(1 2 3 4))"
   ]
  },
  {
   "cell_type": "code",
   "execution_count": 8,
   "metadata": {},
   "outputs": [
    {
     "data": {
      "text/plain": [
       "(\"Alamo\" \"Austin\" \"Alabama\")"
      ]
     },
     "execution_count": 8,
     "metadata": {},
     "output_type": "execute_result"
    }
   ],
   "source": [
    "(filter (lambda (x) \n",
    "          (string=? (substring x 0 1) \"A\")) \n",
    "        `(\"Alamo\" \"alaska\" \"Baltimore\"\n",
    "                  \"Austin\" \"boston\" \"Alabama\"))"
   ]
  },
  {
   "cell_type": "markdown",
   "metadata": {
    "slideshow": {
     "slide_type": "slide"
    }
   },
   "source": [
    "## Filter Practice\n",
    "- Write a function that checks if all elements in a list are positive\n"
   ]
  },
  {
   "cell_type": "code",
   "execution_count": 16,
   "metadata": {
    "slideshow": {
     "slide_type": "slide"
    }
   },
   "outputs": [
    {
     "data": {
      "text/plain": [
       "#f"
      ]
     },
     "execution_count": 16,
     "metadata": {},
     "output_type": "execute_result"
    }
   ],
   "source": [
    "(define allPos\n",
    "  (lambda (l)\n",
    "    (let ((f\n",
    "    (filter \n",
    "        (lambda (x)\n",
    "          (>= x 0)\n",
    "        )\n",
    "     l)\n",
    "    ))\n",
    "    (equal? l f)\n",
    "  )\n",
    ")\n",
    ")\n",
    "\n",
    "(allPos `(1 -2 3))"
   ]
  },
  {
   "cell_type": "markdown",
   "metadata": {
    "slideshow": {
     "slide_type": "slide"
    }
   },
   "source": [
    "## Folding\n",
    "- Folding, also known as reducing, is a common operation in functional languages\n",
    "- The goal of folding is to take in a list, and reduce it, using some operation, to a single atom\n",
    "    - This is actually recursively going over the list provided to it\n",
    "- Most scheme implementations offer two folds\n",
    "    - fold-left (foldl on GL)\n",
    "    - fold-right (foldr on GL)\n",
    "```scheme\n",
    "(fold-left FUNCTION INIT LIST)\n",
    "```"
   ]
  },
  {
   "cell_type": "code",
   "execution_count": 17,
   "metadata": {
    "slideshow": {
     "slide_type": "slide"
    }
   },
   "outputs": [
    {
     "data": {
      "text/plain": [
       "\"ABC\""
      ]
     },
     "execution_count": 17,
     "metadata": {},
     "output_type": "execute_result"
    }
   ],
   "source": [
    "(fold-left string-append \"\" `(\"A\" \"B\" \"C\"))"
   ]
  },
  {
   "cell_type": "code",
   "execution_count": 19,
   "metadata": {},
   "outputs": [
    {
     "data": {
      "text/plain": [
       "1/24"
      ]
     },
     "execution_count": 19,
     "metadata": {},
     "output_type": "execute_result"
    }
   ],
   "source": [
    "(fold-left / 1 `( 1 2 3 4))"
   ]
  },
  {
   "cell_type": "code",
   "execution_count": 18,
   "metadata": {},
   "outputs": [
    {
     "data": {
      "text/plain": [
       "\"ABC\""
      ]
     },
     "execution_count": 18,
     "metadata": {},
     "output_type": "execute_result"
    }
   ],
   "source": [
    "(fold-right string-append \"\" `(\"A\" \"B\" \"C\"))"
   ]
  },
  {
   "cell_type": "code",
   "execution_count": 20,
   "metadata": {},
   "outputs": [
    {
     "data": {
      "text/plain": [
       "3/8"
      ]
     },
     "execution_count": 20,
     "metadata": {},
     "output_type": "execute_result"
    }
   ],
   "source": [
    "(fold-right / 1 `( 1 2 3 4))"
   ]
  },
  {
   "cell_type": "markdown",
   "metadata": {
    "slideshow": {
     "slide_type": "slide"
    }
   },
   "source": [
    "## Input\n",
    "- A file is opened for reading with __(open-input-file filename)__, which returns a handle (called a port in Scheme) to the file\n",
    "- To read a file use __(read handle)__\n",
    "    - Reads one datum at a time, essentially one thing that could be an atom\n",
    "- Reading is also done recusivley"
   ]
  },
  {
   "cell_type": "code",
   "execution_count": 21,
   "metadata": {
    "slideshow": {
     "slide_type": "slide"
    }
   },
   "outputs": [
    {
     "data": {
      "text/plain": [
       "(1966 alan perlis yale university compilers 1967 maurice wilkes university of cambridge hardware 1968 richard hamming bell telephone laboratories coding systems 1969 marvin minsky mit ai 1970 james wilkinson national physical laboratory numerical analysis 1971 john mccarthy mit ai 1972 edsger dijkstra eindhoven university of technology programming languages 1973 charles bachman general electric databases 1974 donald knuth stanford university algorithms 1975 allen newell carnegie-mellon university ai 1975 herbert simon carnegie-mellon university ai 1976 michael rabin hebrew university automata theory 1976 dana scott university of oxford automata theory 1977 john backus ibm programming languages 1978 robert floyd stanford university programming languages 1979 kenneth iverson ibm programming languages 1980 charles hoare university of oxford programming languages 1981 edgar codd ibm databases 1982 stephen cook university of toronto algorithms 1983 dennis ritchie bell telephone laboratories operating systems 1983 kenneth thompson bell telephone laboratories operating systems 1984 niklaus wirth |eidgenã¶ssische| technische hochschule programming languages 1985 richard karp university of california algorithms 1986 john hopcroft cornell university algorithms 1986 robert tarjan princeton university algorithms 1987 john cocke ibm compilers 1988 ivan sutherland sutherland (unquote sproull) and associates computer graphics 1989 william kahan university of california numerical analysis 1990 fernando |corbatã³| mit operating systems 1991 robin milner edinburgh university programming languages 1992 butler lampson digital equipment corporation personal computing 1993 richard stearns university at albany complexity theory 1993 juris hartmanis cornell university complexity theory 1994 raj reddy carnegie-mellon university ai 1994 edward feigenbaum stanford university ai 1995 manuel blum carnegie-mellon university complexity theory 1996 amir pnueli weizmann institute of science logic 1997 douglas engelbart sri international interactive computing 1998 james gray microsoft research databases 1999 frederick brooks university of north carolina operating systems 2000 andrew yao princeton university complexity theory 2001 kristen nygaard university of oslo programming languages 2001 ole-johan dahl university of oslo programming languages 2002 ronald rivest mit cryptography 2002 leonard adleman university of southern california cryptography 2002 adi shamir weizmann institute of science cryptography 2003 alan kay hewlett packard programming languages 2004 robert kahn cnri internet 2004 vinton cerf mci communications corp internet 2005 peter naur copenhagen university programming languages 2006 frances allen ibm compilers 2007 joseph sifakis cnrs model checking 2007 ernest emerson university of texas model checking 2007 edmund clarke carnegie mellon university model checking 2008 barbara liskov mit programming languages 2009 charles thacker microsoft research personal computing 2010 leslie valiant harvard university theory of computation 2011 judea pearl ucla ai 2012 shafi goldwasser mit complexity theory 2012 silvio micali mit complexity theory 2013 leslie lamport microsoft research distributed systems 2014 michael stonebraker mit databases)"
      ]
     },
     "execution_count": 21,
     "metadata": {},
     "output_type": "execute_result"
    }
   ],
   "source": [
    "(define file (open-input-file \n",
    "              \"/home/bryan/CMSC331/turing.txt\"))\n",
    "(define readFile\n",
    "  (lambda (p)\n",
    "    (let f ((x (read p)))\n",
    "      (if (eof-object? x)\n",
    "          '()\n",
    "          (cons x (f (read p)))))))\n",
    "\n",
    "(readFile file)"
   ]
  },
  {
   "cell_type": "code",
   "execution_count": 1,
   "metadata": {
    "slideshow": {
     "slide_type": "slide"
    }
   },
   "outputs": [
    {
     "data": {
      "text/plain": [
       "(\"1966\\tAlan Perlis\\tYale University\\tCompilers\\r\" \"1967\\tMaurice Wilkes\\tUniversity of Cambridge\\tHardware\\r\" \"1968\\tRichard Hamming\\tBell Telephone Laboratories\\tCoding Systems\\r\" \"1969\\tMarvin Minsky\\tMIT\\tAI\\r\" \"1970\\tJames Wilkinson\\tNational Physical Laboratory\\tNumerical Analysis\\r\" \"1971\\tJohn McCarthy\\tMIT\\tAI\\r\" \"1972\\tEdsger Dijkstra\\tEindhoven University of Technology\\tProgramming Languages\\r\" \"1973\\tCharles Bachman\\tGeneral Electric\\tDatabases\\r\" \"1974\\tDonald Knuth\\tStanford University\\tAlgorithms\\r\" \"1975\\tAllen Newell\\tCarnegie-Mellon University\\tAI\\r\" \"1975\\tHerbert Simon\\tCarnegie-Mellon University\\tAI\\r\" \"1976\\tMichael Rabin\\tHebrew University\\tAutomata Theory\\r\" \"1976\\tDana Scott\\tUniversity of Oxford\\tAutomata Theory\\r\" \"1977\\tJohn Backus\\tIBM\\tProgramming Languages\\r\" \"1978\\tRobert Floyd\\tStanford University\\tProgramming Languages\\r\" \"1979\\tKenneth Iverson\\tIBM\\tProgramming Languages\\r\" \"1980\\tCharles Hoare\\tUniversity of Oxford\\tProgramming Languages\\r\" \"1981\\tEdgar Codd\\tIBM\\tDatabases\\r\" \"1982\\tStephen Cook\\tUniversity of Toronto\\tAlgorithms\\r\" \"1983\\tDennis Ritchie\\tBell Telephone Laboratories\\tOperating Systems\\r\" \"1983\\tKenneth Thompson\\tBell Telephone Laboratories\\tOperating Systems\\r\" \"1984\\tNiklaus Wirth\\tEidgenössische Technische Hochschule\\tProgramming Languages\\r\" \"1985\\tRichard Karp\\tUniversity of California\\tAlgorithms\\r\" \"1986\\tJohn Hopcroft\\tCornell University\\tAlgorithms\\r\" \"1986\\tRobert Tarjan\\tPrinceton University\\tAlgorithms\\r\" \"1987\\tJohn Cocke\\tIBM\\tCompilers\\r\" \"1988\\tIvan Sutherland\\tSutherland, Sproull and Associates\\tComputer Graphics\\r\" \"1989\\tWilliam Kahan\\tUniversity of California\\tNumerical Analysis\\r\" \"1990\\tFernando Corbató\\tMIT\\tOperating Systems\\r\" \"1991\\tRobin Milner\\tEdinburgh University\\tProgramming Languages\\r\" \"1992\\tButler Lampson\\tDigital Equipment Corporation\\tPersonal Computing\\r\" \"1993\\tRichard Stearns\\tUniversity at Albany\\tComplexity Theory\\r\" \"1993\\tJuris Hartmanis\\tCornell University\\tComplexity Theory\\r\" \"1994\\tRaj Reddy\\tCarnegie-Mellon University\\tAI\\r\" \"1994\\tEdward Feigenbaum\\tStanford University\\tAI\\r\" \"1995\\tManuel Blum\\tCarnegie-Mellon University\\tComplexity Theory\\r\" \"1996\\tAmir Pnueli\\tWeizmann Institute of Science\\tLogic\\r\" \"1997\\tDouglas Engelbart\\tSRI International\\tInteractive Computing\\r\" \"1998\\tJames Gray\\tMicrosoft Research\\tDatabases\\r\" \"1999\\tFrederick Brooks\\tUniversity of North Carolina\\tOperating Systems\\r\" \"2000\\tAndrew Yao\\tPrinceton University\\tComplexity Theory\\r\" \"2001\\tKristen Nygaard\\tUniversity of Oslo\\tProgramming Languages\\r\" \"2001\\tOle-Johan Dahl\\tUniversity of Oslo\\tProgramming Languages\\r\" \"2002\\tRonald Rivest\\tMIT\\tCryptography\\r\" \"2002\\tLeonard Adleman\\tUniversity of Southern California\\tCryptography\\r\" \"2002\\tAdi Shamir\\tWeizmann Institute of Science\\tCryptography\\r\" \"2003\\tAlan Kay\\tHewlett Packard\\tProgramming Languages\\r\" \"2004\\tRobert Kahn\\tCNRI\\tInternet\\r\" \"2004\\tVinton Cerf\\tMCI Communications Corp\\tInternet\\r\" \"2005\\tPeter Naur\\tCopenhagen University\\tProgramming Languages\\r\" \"2006\\tFrances Allen\\tIBM\\tCompilers\\r\" \"2007\\tJoseph Sifakis\\tCNRS\\tModel Checking\\r\" \"2007\\tErnest Emerson\\tUniversity of Texas\\tModel Checking\\r\" \"2007\\tEdmund Clarke\\tCarnegie Mellon University\\tModel Checking\\r\" \"2008\\tBarbara Liskov\\tMIT\\tProgramming Languages\\r\" \"2009\\tCharles Thacker\\tMicrosoft Research\\tPersonal Computing\\r\" \"2010\\tLeslie Valiant\\tHarvard University\\tTheory of Computation\\r\" \"2011\\tJudea Pearl\\tUCLA\\tAI\\r\" \"2012\\tShafi Goldwasser\\tMIT\\tComplexity Theory\\r\" \"2012\\tSilvio Micali\\tMIT\\tComplexity Theory\\r\" \"2013\\tLeslie Lamport\\tMicrosoft Research\\tDistributed Systems\\r\" \"2014\\tMichael Stonebraker\\tMIT\\tDatabases\\r\")"
      ]
     },
     "execution_count": 1,
     "metadata": {},
     "output_type": "execute_result"
    }
   ],
   "source": [
    "(define file (open-input-file \n",
    "              \"/home/bryan/CMSC331/turing.txt\"))\n",
    "(define readFile\n",
    "  (lambda (p)\n",
    "    (let f ((x (read-line p)))\n",
    "      (if (eof-object? x)\n",
    "          '()\n",
    "          (cons x (f (read-line p)))))))\n",
    "\n",
    "(readFile file)"
   ]
  },
  {
   "cell_type": "markdown",
   "metadata": {
    "slideshow": {
     "slide_type": "slide"
    }
   },
   "source": [
    "## Output\n",
    "- A file is opened for writing with __(open-output-file filename)__, which returns a handle\n",
    "    - If the file exists, it returns an error, rather than overwriting it\n",
    "- To write to a file use __(write object handle)__\n",
    "- Writing to a file isn't quite as messy\n",
    "- Formatted output (ie printf) isn't part of the language, many dialects implement some form of it"
   ]
  },
  {
   "cell_type": "code",
   "execution_count": 2,
   "metadata": {
    "slideshow": {
     "slide_type": "slide"
    }
   },
   "outputs": [],
   "source": [
    "(define file (open-output-file \n",
    "              \"/home/bryan/CMSC331/schemeOut.txt\"))\n",
    "(write `(\"A\" \"small\" \"little\" \"text\" \"file\") file)\n",
    "(flush-output file)"
   ]
  },
  {
   "cell_type": "code",
   "execution_count": 3,
   "metadata": {},
   "outputs": [],
   "source": [
    "(define file (open-output-file\n",
    "              \"/home/bryan/CMSC331/schemeOut2.txt\"))\n",
    "(map (lambda (x) (write x file)) \n",
    "     `(\"A\" \"small\" \"little\" \"text\" \"file\"))\n",
    "(flush-output file)"
   ]
  },
  {
   "cell_type": "code",
   "execution_count": 4,
   "metadata": {},
   "outputs": [],
   "source": [
    "(define file (open-output-file \n",
    "              \"/home/bryan/CMSC331/schemeOut3.txt\"))\n",
    "(map (lambda (x) (display x file)) \n",
    "     `(\"A\" \"small\" \"little\" \"text\" \"file\"))\n",
    "(flush-output file)"
   ]
  },
  {
   "cell_type": "markdown",
   "metadata": {
    "slideshow": {
     "slide_type": "slide"
    }
   },
   "source": [
    "## Sorting\n",
    "- Like the other languages we have looked at, Scheme _usually_ provides a built in sort\n",
    " - It is not part of the official language, but is very commmon in the different dialects\n",
    " - Beacuse of this however, there is no standard syntax for it\n",
    "- The Scheme installed in GL uses the following syntax:\n",
    "```scheme\n",
    "(sort listToBeSorted sortFunction) \n",
    "```"
   ]
  },
  {
   "cell_type": "code",
   "execution_count": 5,
   "metadata": {
    "slideshow": {
     "slide_type": "slide"
    }
   },
   "outputs": [
    {
     "data": {
      "text/plain": [
       "(-1 0 1 2 48 100)"
      ]
     },
     "execution_count": 5,
     "metadata": {},
     "output_type": "execute_result"
    }
   ],
   "source": [
    "(sort `(2 48 1 0 -1 100) <)"
   ]
  },
  {
   "cell_type": "code",
   "execution_count": 6,
   "metadata": {},
   "outputs": [
    {
     "data": {
      "text/plain": [
       "((0 1 2) (1 3 4) (2 49 0))"
      ]
     },
     "execution_count": 6,
     "metadata": {},
     "output_type": "execute_result"
    }
   ],
   "source": [
    "(sort `((1 3 4) (2 49 0) (0 1 2)) \n",
    "      (lambda (x y) (< (cadr x) (cadr y))))"
   ]
  },
  {
   "cell_type": "markdown",
   "metadata": {
    "slideshow": {
     "slide_type": "slide"
    }
   },
   "source": [
    "## In Class Exercise\n",
    "- Sorting the Turing Award Winners\n"
   ]
  },
  {
   "cell_type": "code",
   "execution_count": 7,
   "metadata": {
    "slideshow": {
     "slide_type": "slide"
    }
   },
   "outputs": [
    {
     "data": {
      "text/plain": [
       "(\"HELLO\" \"THERE\")"
      ]
     },
     "execution_count": 7,
     "metadata": {},
     "output_type": "execute_result"
    }
   ],
   "source": [
    "(define string-split\n",
    "    (lambda (s)\n",
    "      (string-split-kernel s \"\" `())\n",
    "  )\n",
    ")\n",
    "\n",
    "(define string-split-kernel\n",
    "  (lambda (s word l)\n",
    "    (cond \n",
    "        ((= 0 (string-length s)) \n",
    "           l)\n",
    "        ((or \n",
    "          (string=? (substring s 0 1) \"\\t\") \n",
    "          (string=? (substring s 0 1) \"\\r\") \n",
    "          )\n",
    "             (string-split-kernel (string-tail s 1) \"\" \n",
    "                                  (append l (list word)))\n",
    "        )\n",
    "        (else \n",
    "              (string-split-kernel (string-tail s 1) \n",
    "                    (string-append word (substring s 0 1)) l)\n",
    "        )\n",
    "    )\n",
    "  )\n",
    ")\n",
    "(string-split \"HELLO\\tTHERE\\t\")"
   ]
  },
  {
   "cell_type": "code",
   "execution_count": 11,
   "metadata": {
    "slideshow": {
     "slide_type": "slide"
    }
   },
   "outputs": [
    {
     "name": "stdout",
     "output_type": "stream",
     "text": [
      "(1969 Marvin Minsky MIT AI)\n",
      "(1971 John McCarthy MIT AI)\n",
      "(1975 Allen Newell Carnegie-Mellon University AI)\n",
      "(1975 Herbert Simon Carnegie-Mellon University AI)\n",
      "(1994 Raj Reddy Carnegie-Mellon University AI)\n",
      "(1994 Edward Feigenbaum Stanford University AI)\n",
      "(2011 Judea Pearl UCLA AI)\n",
      "(1974 Donald Knuth Stanford University Algorithms)\n",
      "(1982 Stephen Cook University of Toronto Algorithms)\n",
      "(1985 Richard Karp University of California Algorithms)\n",
      "(1986 John Hopcroft Cornell University Algorithms)\n",
      "(1986 Robert Tarjan Princeton University Algorithms)\n",
      "(1976 Michael Rabin Hebrew University Automata Theory)\n",
      "(1976 Dana Scott University of Oxford Automata Theory)\n",
      "(1968 Richard Hamming Bell Telephone Laboratories Coding Systems)\n",
      "(1966 Alan Perlis Yale University Compilers)\n",
      "(1987 John Cocke IBM Compilers)\n",
      "(2006 Frances Allen IBM Compilers)\n",
      "(1993 Richard Stearns University at Albany Complexity Theory)\n",
      "(1993 Juris Hartmanis Cornell University Complexity Theory)\n",
      "(1995 Manuel Blum Carnegie-Mellon University Complexity Theory)\n",
      "(2000 Andrew Yao Princeton University Complexity Theory)\n",
      "(2012 Shafi Goldwasser MIT Complexity Theory)\n",
      "(2012 Silvio Micali MIT Complexity Theory)\n",
      "(1988 Ivan Sutherland Sutherland, Sproull and Associates Computer Graphics)\n",
      "(2002 Ronald Rivest MIT Cryptography)\n",
      "(2002 Leonard Adleman University of Southern California Cryptography)\n",
      "(2002 Adi Shamir Weizmann Institute of Science Cryptography)\n",
      "(1973 Charles Bachman General Electric Databases)\n",
      "(1981 Edgar Codd IBM Databases)\n",
      "(1998 James Gray Microsoft Research Databases)\n",
      "(2014 Michael Stonebraker MIT Databases)\n",
      "(2013 Leslie Lamport Microsoft Research Distributed Systems)\n",
      "(1967 Maurice Wilkes University of Cambridge Hardware)\n",
      "(1997 Douglas Engelbart SRI International Interactive Computing)\n",
      "(2004 Robert Kahn CNRI Internet)\n",
      "(2004 Vinton Cerf MCI Communications Corp Internet)\n",
      "(1996 Amir Pnueli Weizmann Institute of Science Logic)\n",
      "(2007 Joseph Sifakis CNRS Model Checking)\n",
      "(2007 Ernest Emerson University of Texas Model Checking)\n",
      "(2007 Edmund Clarke Carnegie Mellon University Model Checking)\n",
      "(1970 James Wilkinson National Physical Laboratory Numerical Analysis)\n",
      "(1989 William Kahan University of California Numerical Analysis)\n",
      "(1983 Dennis Ritchie Bell Telephone Laboratories Operating Systems)\n",
      "(1983 Kenneth Thompson Bell Telephone Laboratories Operating Systems)\n",
      "(1990 Fernando Corbató MIT Operating Systems)\n",
      "(1999 Frederick Brooks University of North Carolina Operating Systems)\n",
      "(1992 Butler Lampson Digital Equipment Corporation Personal Computing)\n",
      "(2009 Charles Thacker Microsoft Research Personal Computing)\n",
      "(1972 Edsger Dijkstra Eindhoven University of Technology Programming Languages)\n",
      "(1977 John Backus IBM Programming Languages)\n",
      "(1978 Robert Floyd Stanford University Programming Languages)\n",
      "(1979 Kenneth Iverson IBM Programming Languages)\n",
      "(1980 Charles Hoare University of Oxford Programming Languages)\n",
      "(1984 Niklaus Wirth Eidgenössische Technische Hochschule Programming Languages)\n",
      "(1991 Robin Milner Edinburgh University Programming Languages)\n",
      "(2001 Kristen Nygaard University of Oslo Programming Languages)\n",
      "(2001 Ole-Johan Dahl University of Oslo Programming Languages)\n",
      "(2003 Alan Kay Hewlett Packard Programming Languages)\n",
      "(2005 Peter Naur Copenhagen University Programming Languages)\n",
      "(2008 Barbara Liskov MIT Programming Languages)\n",
      "(2010 Leslie Valiant Harvard University Theory of Computation)\n"
     ]
    },
    {
     "data": {
      "text/plain": [
       "(#!unspecific #!unspecific #!unspecific #!unspecific #!unspecific #!unspecific #!unspecific #!unspecific #!unspecific #!unspecific #!unspecific #!unspecific #!unspecific #!unspecific #!unspecific #!unspecific #!unspecific #!unspecific #!unspecific #!unspecific #!unspecific #!unspecific #!unspecific #!unspecific #!unspecific #!unspecific #!unspecific #!unspecific #!unspecific #!unspecific #!unspecific #!unspecific #!unspecific #!unspecific #!unspecific #!unspecific #!unspecific #!unspecific #!unspecific #!unspecific #!unspecific #!unspecific #!unspecific #!unspecific #!unspecific #!unspecific #!unspecific #!unspecific #!unspecific #!unspecific #!unspecific #!unspecific #!unspecific #!unspecific #!unspecific #!unspecific #!unspecific #!unspecific #!unspecific #!unspecific #!unspecific #!unspecific)"
      ]
     },
     "execution_count": 11,
     "metadata": {},
     "output_type": "execute_result"
    }
   ],
   "source": [
    "(define file (open-input-file \"/home/bryan/CMSC331/turing.txt\"))\n",
    "(define readFile\n",
    "  (lambda (p)\n",
    "    (let f ((x (read-line p)))\n",
    "      (if (eof-object? x)\n",
    "          '()\n",
    "          (cons x (f (read-line p)))))))\n",
    "(map (lambda (l) (display l) (newline))\n",
    "(sort (map string-split (readFile file)) \n",
    "      (lambda (a b) (string<? (cadddr a) (cadddr b)) )))"
   ]
  }
 ],
 "metadata": {
  "celltoolbar": "Slideshow",
  "kernelspec": {
   "display_name": "MIT Scheme",
   "language": "scheme",
   "name": "mit-scheme"
  },
  "language_info": {
   "codemirror_mode": "scheme",
   "file_extension": ".scm",
   "mimetype": "application/x-scheme",
   "name": "MIT Scheme",
   "pygments_lexer": "scheme",
   "version": "9.2.1"
  }
 },
 "nbformat": 4,
 "nbformat_minor": 1
}
