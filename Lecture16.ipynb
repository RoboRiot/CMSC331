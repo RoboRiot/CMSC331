{
 "cells": [
  {
   "cell_type": "markdown",
   "metadata": {
    "slideshow": {
     "slide_type": "slide"
    }
   },
   "source": [
    "# Java I"
   ]
  },
  {
   "cell_type": "markdown",
   "metadata": {},
   "source": [
    "## Warm-Up\n",
    "- How would you store a word and its definitions in Schema and in Lua?\n",
    "- What about a whole dictionary?"
   ]
  },
  {
   "cell_type": "markdown",
   "metadata": {},
   "source": [
    " "
   ]
  },
  {
   "cell_type": "markdown",
   "metadata": {
    "slideshow": {
     "slide_type": "slide"
    }
   },
   "source": [
    "## The Path to  Object Oriented Programming\n",
    "- Arrays\n",
    "- Abstract Data Types\n",
    "- Objects Oriented Programming"
   ]
  },
  {
   "cell_type": "markdown",
   "metadata": {
    "slideshow": {
     "slide_type": "slide"
    }
   },
   "source": [
    "## What is Object Oriented Programming (OOP) ?\n",
    "- OOP is a fuzzy concept and programming languages can adhere to it to differing degrees\n",
    "- Can be broken down into three concepts. Various languages may not support all equally well\n",
    " - Polymorphism\n",
    " - Inheritence\n",
    " - Encapsulation"
   ]
  },
  {
   "cell_type": "markdown",
   "metadata": {
    "slideshow": {
     "slide_type": "slide"
    }
   },
   "source": [
    "## Encapsulation\n",
    "- The idea of bundling and object's state (variables) and methods together\n",
    "- Through use of methods, access to the object's can be controlled\n",
    "    - Theoretically the programmer using an existing method should need to know or care about the internals of a class\n",
    "    - All functions can be handled through a method\n",
    "    - Some languages, like Python, allow this bundling, but have no way to prevent direct manipulation of the state\n",
    "- When done right, can lead to cleaner code and improved reusability"
   ]
  },
  {
   "cell_type": "markdown",
   "metadata": {
    "slideshow": {
     "slide_type": "slide"
    }
   },
   "source": [
    "## Misconceptions about OOP\n",
    "- While OOP languages are often based on imperative languages, it is not a good idea to use them like one\n",
    "- The difference is in the design of a program \n",
    " - With OOP we need to figure out what objects are involved in our project\n",
    " - With imperative languages, we figure out what steps are involved"
   ]
  },
  {
   "cell_type": "markdown",
   "metadata": {
    "slideshow": {
     "slide_type": "slide"
    }
   },
   "source": [
    "## Java Basics\n",
    "- Java in a hybrid interpreted language\n",
    " - Compiled down to Java byte code, which is the same for every device\n",
    " - The Java Virtual Machine ( JVM ) interperets the bytes code into machine code\n",
    "   - In order to run Java, a JVM must have been constructed for your type of machine\n",
    "- Every Java program must have at least one class with a method named __main__"
   ]
  },
  {
   "cell_type": "markdown",
   "metadata": {
    "slideshow": {
     "slide_type": "slide"
    }
   },
   "source": [
    "## Basic Java Syntax\n",
    "- Every statement ends with a semicolor (**;**)\n",
    "- Comments are //\n",
    "- Multiline comments are `/* */`\n",
    "- Braces are used to segment program blocks"
   ]
  },
  {
   "cell_type": "markdown",
   "metadata": {
    "slideshow": {
     "slide_type": "slide"
    }
   },
   "source": [
    "## Basic Program Structure\n",
    "- In a file named HelloWorld.java\n",
    "    - Class name must be the same as the file name!\n",
    "    \n",
    "```java\n",
    "public class HelloWorld\n",
    "{\n",
    " public static void main(String[] args)\n",
    " {\n",
    "  System.out.println(\"Hello world!\");\n",
    " }\n",
    "}\n",
    "```"
   ]
  },
  {
   "cell_type": "code",
   "execution_count": 20,
   "metadata": {
    "slideshow": {
     "slide_type": "slide"
    }
   },
   "outputs": [
    {
     "data": {
      "text/plain": [
       "com.twosigma.beaker.javash.bkr9f206a34.HelloWorld"
      ]
     },
     "execution_count": 20,
     "metadata": {},
     "output_type": "execute_result"
    }
   ],
   "source": [
    "public class HelloWorld\n",
    "{\n",
    " public static void main(String[] args)\n",
    " {\n",
    "  System.out.println(\"Hello world!\");\n",
    " }\n",
    "}"
   ]
  },
  {
   "cell_type": "code",
   "execution_count": 21,
   "metadata": {
    "slideshow": {
     "slide_type": "slide"
    }
   },
   "outputs": [
    {
     "name": "stdout",
     "output_type": "stream",
     "text": [
      "Error: Could not find or load main class HelloWorld.java\n",
      "\n"
     ]
    }
   ],
   "source": [
    "%%bash\n",
    "cd source/java\n",
    "java HelloWorld.java"
   ]
  },
  {
   "cell_type": "code",
   "execution_count": 22,
   "metadata": {},
   "outputs": [
    {
     "name": "stdout",
     "output_type": "stream",
     "text": [
      "Hello world!\n",
      "\n"
     ]
    }
   ],
   "source": [
    "%%bash\n",
    "cd source/java\n",
    "javac HelloWorld.java\n",
    "java HelloWorld"
   ]
  },
  {
   "cell_type": "markdown",
   "metadata": {
    "slideshow": {
     "slide_type": "slide"
    }
   },
   "source": [
    "## JUPYTER CAVEAT\n",
    "- I am running a Jupyter Java Kernel... but Java isn't a traditional interpreted language\n",
    "    - What is actually happening is the code I am writing is being wrapped into a class behind the scenes, compiled and run\n",
    "- This isn't how Java Code is normally developed, and isn't how you would write an application\n",
    "    - But it is useful for in class demonstrations"
   ]
  },
  {
   "cell_type": "markdown",
   "metadata": {
    "slideshow": {
     "slide_type": "slide"
    }
   },
   "source": [
    "## Variables\n",
    "- Must start with a letter, underscore, or dollar sign\n",
    "- Can consist of any letter, digit, underscore, or dollar sign\n",
    "- The variable's datatype must be specified when it is declared.\n",
    "- The scope of variable is controlled by declaring it as __public__ or __private__\n",
    "```java \n",
    "     public int x\n",
    "     ```\n",
    "```java \n",
    "     private int y\n",
    "     ```\n",
    "- Variables can be made read-only by use of the __final__ keyword\n",
    "- Allocated space is _garbage collected_ when they can not be reached again"
   ]
  },
  {
   "cell_type": "code",
   "execution_count": 6,
   "metadata": {
    "slideshow": {
     "slide_type": "slide"
    }
   },
   "outputs": [
    {
     "data": {
      "text/plain": [
       "com.twosigma.beaker.javash.bkr9f206a34.Scope"
      ]
     },
     "execution_count": 6,
     "metadata": {},
     "output_type": "execute_result"
    }
   ],
   "source": [
    "//%load java/Scope.java\n",
    "public class Scope\n",
    "{\n",
    " private int x;\n",
    " public int y;\n",
    " \n",
    " public Scope(){\n",
    "  x = 0;\n",
    "  y = 10;\n",
    " }\n",
    "\n",
    "}\n"
   ]
  },
  {
   "cell_type": "code",
   "execution_count": 23,
   "metadata": {
    "slideshow": {
     "slide_type": "slide"
    }
   },
   "outputs": [
    {
     "ename": "ERROR",
     "evalue": " java.lang.IllegalStateException",
     "output_type": "error",
     "traceback": [
      "\u001b[0;31mERROR: java.lang.IllegalStateException: x has private access in com.twosigma.beaker.javash.bkr9f206a34.Scope\u001b[0;0m",
      "\u001b[0;31m System.out.println(s.x)\u001b[0;0m",
      "\u001b[0;31m                    ^  ^  \u001b[0;0m"
     ]
    }
   ],
   "source": [
    "// %load java/ScopeMain.java\n",
    "public class ScopeMain\n",
    "{\n",
    " public static void main(String[] args)\n",
    " {\n",
    "   Scope s = new Scope();\n",
    "   System.out.println(s.y);\n",
    "   System.out.println(s.x);\n",
    " }\n",
    "}\n"
   ]
  },
  {
   "cell_type": "code",
   "execution_count": 9,
   "metadata": {
    "slideshow": {
     "slide_type": "slide"
    }
   },
   "outputs": [
    {
     "name": "stdout",
     "output_type": "stream",
     "text": [
      "ScopeMain.java:7: error: x has private access in Scope\n",
      "   System.out.println(s.x);\n",
      "                       ^\n",
      "1 error\n",
      "\n"
     ]
    }
   ],
   "source": [
    "%%bash\n",
    "cd source/java\n",
    "javac ScopeMain.java"
   ]
  },
  {
   "cell_type": "markdown",
   "metadata": {
    "slideshow": {
     "slide_type": "slide"
    }
   },
   "source": [
    "## Datatypes\n",
    "- While, Java is an OOP language, it still has a few primitive types that do not behave like objects\n",
    " - Although since Java 5, the compiler can convert primatives to their associated objects through a process known as _boxing_ \n",
    "- The primitive types are\n",
    " - boolean\n",
    " - char\n",
    " - 6 varities of numbers\n",
    "   - float, double\n",
    "   - byte, short, int , long\n",
    "- Strings, arrays, and everything else are objects"
   ]
  },
  {
   "cell_type": "markdown",
   "metadata": {
    "slideshow": {
     "slide_type": "slide"
    }
   },
   "source": [
    "## Numbers\n",
    "- Java supports compound assignment on numbers as well as increment and decrement operators\n",
    " - ```java\n",
    "     int x = 0\n",
    "     x += 1\n",
    "     x++\n",
    "     x -= 20\n",
    "   ```\n",
    "- Only five basic arithmatic operations are supported\n",
    " - \\+ , - , * , / , % \n",
    " - Exponent is a method in the math library, __Math.pow__"
   ]
  },
  {
   "cell_type": "markdown",
   "metadata": {
    "slideshow": {
     "slide_type": "slide"
    }
   },
   "source": [
    "## Numbers Practice\n",
    "- Write a Java Program that calculates and prints the answer to\n",
    "$$\n",
    "\\frac{3 \\times 4 ^ 5}{2}\n",
    "$$"
   ]
  },
  {
   "cell_type": "code",
   "execution_count": null,
   "metadata": {
    "slideshow": {
     "slide_type": "slide"
    }
   },
   "outputs": [],
   "source": []
  },
  {
   "cell_type": "markdown",
   "metadata": {
    "slideshow": {
     "slide_type": "slide"
    }
   },
   "source": [
    "## Strings\n",
    "- While strings are objects in Java, they can be declared with out using a constructor\n",
    " - ```java\n",
    "   String str = \"This is a fine way to do things\";\n",
    "   ```\n",
    "- The + sign has been overloaded, and is used for concatenation\n",
    " - += is also available\n",
    "- Array syntax cannot be used with strings\n",
    " - Must use the methods __charAt__ and __substring__\n",
    " - Both of these methods are read-only"
   ]
  },
  {
   "cell_type": "code",
   "execution_count": 7,
   "metadata": {
    "slideshow": {
     "slide_type": "slide"
    }
   },
   "outputs": [
    {
     "name": "stdout",
     "output_type": "stream",
     "text": [
      "HelloWorld!\n",
      "H\n",
      "He\n"
     ]
    },
    {
     "data": {
      "text/plain": [
       "null"
      ]
     },
     "execution_count": 7,
     "metadata": {},
     "output_type": "execute_result"
    }
   ],
   "source": [
    "System.out.println(\"Hello\" + \"World\" + \"!\");\n",
    "String h = \"Hello\";\n",
    "System.out.println(h.charAt(0));\n",
    "System.out.println(\"Hello\".substring(0,2));\n"
   ]
  },
  {
   "cell_type": "markdown",
   "metadata": {
    "slideshow": {
     "slide_type": "slide"
    }
   },
   "source": [
    "## Arrays\n",
    "- Similarly to strings, arrays can be be declared with out using a constructor\n",
    " ```java\n",
    "     int[] arr = {10, 20, 30};\n",
    " ```\n",
    "- To create a empty array of a given length , use the __new__ keyword, which hints at its objectness\n",
    " ```java\n",
    "     int [] varName = new int[100];\n",
    " ```\n",
    "- Multidimensional arrays are easy to declare!\n",
    "  ```java\n",
    "      int [][][] tensor = new int[100][100][100];\n",
    "    ```\n",
    "- Array indexing is done using the __[]__ operator; slicing is not supported"
   ]
  },
  {
   "cell_type": "code",
   "execution_count": 10,
   "metadata": {
    "slideshow": {
     "slide_type": "slide"
    }
   },
   "outputs": [
    {
     "name": "stdout",
     "output_type": "stream",
     "text": [
      "100.0\n",
      "0.0\n"
     ]
    },
    {
     "ename": "ERROR",
     "evalue": " java.lang.ArrayIndexOutOfBoundsException",
     "output_type": "error",
     "traceback": [
      "\u001b[1;31mERROR: java.lang.ArrayIndexOutOfBoundsException: 200\u001b[0;0m"
     ]
    }
   ],
   "source": [
    "float [][][] tensor = new float[100][100][100];\n",
    "tensor[0][0][0] = 100;\n",
    "System.out.println(tensor[0][0][0]);\n",
    "System.out.println(tensor[0][0][20]);\n",
    "System.out.println(tensor[0][0][200]);"
   ]
  },
  {
   "cell_type": "markdown",
   "metadata": {
    "slideshow": {
     "slide_type": "slide"
    }
   },
   "source": [
    "## Primitive Type Conversion\n",
    "- Depending on the two types involved, the type conversion may either be _implicit_ or _explicit_ \n",
    " - If there is no danger of loss of precision, we can directly assign to the new type and not encounter any errors\n",
    "    ```java\n",
    "    int number;\n",
    "    long bigNumber = number;\n",
    "    ```\n",
    "  - If precision could be lost, a compilation error will be thrown unless explicit conversion is done\n",
    "   ```java\n",
    "   long bigNumber;\n",
    "   int number = (int) bigNumber;\n",
    "   ```\n",
    "- Boolean variables cannot be converted to anything else"
   ]
  },
  {
   "cell_type": "code",
   "execution_count": 9,
   "metadata": {
    "slideshow": {
     "slide_type": "slide"
    }
   },
   "outputs": [
    {
     "data": {
      "text/plain": [
       "null"
      ]
     },
     "execution_count": 9,
     "metadata": {},
     "output_type": "execute_result"
    }
   ],
   "source": [
    "int number = 10;\n",
    "long bigNumber = number;"
   ]
  },
  {
   "cell_type": "code",
   "execution_count": 13,
   "metadata": {},
   "outputs": [
    {
     "name": "stdout",
     "output_type": "stream",
     "text": [
      "1\n",
      "-1486618624\n"
     ]
    },
    {
     "data": {
      "text/plain": [
       "null"
      ]
     },
     "execution_count": 13,
     "metadata": {},
     "output_type": "execute_result"
    }
   ],
   "source": [
    "long bigNumber = 1000000000;\n",
    "double fl = 1.90;\n",
    "System.out.println((int) fl);\n",
    "int number = (int) (bigNumber * bigNumber);\n",
    "System.out.println(number);"
   ]
  },
  {
   "cell_type": "markdown",
   "metadata": {
    "slideshow": {
     "slide_type": "slide"
    }
   },
   "source": [
    "## Object Type Conversion\n",
    "- To convert a string to one of the primitve classes we must use a wrapper class.\n",
    " ```java\n",
    "  String numString = \"100\";\n",
    "  int number = Integer.parseInt(numString);\n",
    " ```\n",
    "- What a user defined object can be casted to depends on what it inherits from\n",
    " - We will talk more about inheritence later"
   ]
  },
  {
   "cell_type": "code",
   "execution_count": 14,
   "metadata": {
    "slideshow": {
     "slide_type": "slide"
    }
   },
   "outputs": [
    {
     "name": "stdout",
     "output_type": "stream",
     "text": [
      "100\n"
     ]
    },
    {
     "data": {
      "text/plain": [
       "null"
      ]
     },
     "execution_count": 14,
     "metadata": {},
     "output_type": "execute_result"
    }
   ],
   "source": [
    "System.out.println(Integer.parseInt(\"100\"));"
   ]
  },
  {
   "cell_type": "code",
   "execution_count": 16,
   "metadata": {
    "slideshow": {
     "slide_type": "-"
    }
   },
   "outputs": [
    {
     "name": "stdout",
     "output_type": "stream",
     "text": [
      "100.2\n"
     ]
    },
    {
     "data": {
      "text/plain": [
       "null"
      ]
     },
     "execution_count": 16,
     "metadata": {},
     "output_type": "execute_result"
    }
   ],
   "source": [
    "System.out.println(Double.parseDouble(\"100.2\"));"
   ]
  },
  {
   "cell_type": "markdown",
   "metadata": {
    "slideshow": {
     "slide_type": "slide"
    }
   },
   "source": [
    "## Practice\n",
    "\n",
    "- Given a String that is a number, create an array of Strings that length\n"
   ]
  },
  {
   "cell_type": "code",
   "execution_count": 14,
   "metadata": {},
   "outputs": [
    {
     "data": {
      "text/plain": [
       "null"
      ]
     },
     "execution_count": 14,
     "metadata": {},
     "output_type": "execute_result"
    }
   ],
   "source": [
    "String len = \"40\";"
   ]
  },
  {
   "cell_type": "markdown",
   "metadata": {
    "slideshow": {
     "slide_type": "slide"
    }
   },
   "source": [
    "## Boolean Operators\n",
    "- The relational operators work as expected with primitive types\n",
    " - \\> , < , >=, <= , == , != \n",
    "- For objects __==__ does not work as you might expect\n",
    " - __==__ compares the references of objects, it will only be true when the are the same object\n",
    " - To compare objects, we use the method __equals__ \n",
    "- Objects have an additional operator, __instanceof__\n",
    "     ```java\n",
    "         String s = \"String\";\n",
    "         s instanceof String == true\n",
    "     ```\n",
    "- The logical operators __&&__ and __||__ only work with booleans"
   ]
  },
  {
   "cell_type": "code",
   "execution_count": 13,
   "metadata": {
    "slideshow": {
     "slide_type": "slide"
    }
   },
   "outputs": [
    {
     "name": "stdout",
     "output_type": "stream",
     "text": [
      "true\n",
      "true\n",
      "false\n",
      "true\n"
     ]
    },
    {
     "data": {
      "text/plain": [
       "null"
      ]
     },
     "execution_count": 13,
     "metadata": {},
     "output_type": "execute_result"
    }
   ],
   "source": [
    "System.out.println(1 == 1);\n",
    "System.out.println(1 < 4);\n",
    "System.out.println(2 > 4);\n",
    "System.out.println(2 < 4 && 4 < 5);"
   ]
  },
  {
   "cell_type": "code",
   "execution_count": 23,
   "metadata": {
    "slideshow": {
     "slide_type": "slide"
    }
   },
   "outputs": [
    {
     "name": "stdout",
     "output_type": "stream",
     "text": [
      "false\n",
      "false\n",
      "true\n"
     ]
    },
    {
     "data": {
      "text/plain": [
       "null"
      ]
     },
     "execution_count": 23,
     "metadata": {},
     "output_type": "execute_result"
    }
   ],
   "source": [
    "import java.util.Arrays;\n",
    "\n",
    "int [] oneArray = {1,2,3};\n",
    "int [] twoArray = {1,2,3};\n",
    "System.out.println(oneArray == twoArray);\n",
    "System.out.println(oneArray.equals(twoArray));\n",
    "System.out.println(Arrays.equals(oneArray,twoArray));"
   ]
  },
  {
   "cell_type": "markdown",
   "metadata": {
    "slideshow": {
     "slide_type": "slide"
    }
   },
   "source": [
    "## Loops\n",
    "- Java provides two __for__ loops, a __while__ loop, and a __do-while__ loop\n",
    "- The standard counter based foor loop has the following syntax:\n",
    "```java\n",
    "for(int i =0; i < 100; i ++){\n",
    "}\n",
    "```\n",
    "- Starting with Java 5, a generic for loop was added, it is called an _enhanced_ for loop in java\n",
    "```\n",
    "int[] toLoop = {10,20,30,40,50,60};\n",
    "for(int number: toLoop){\n",
    "}\n",
    "```"
   ]
  },
  {
   "cell_type": "code",
   "execution_count": 24,
   "metadata": {
    "slideshow": {
     "slide_type": "slide"
    }
   },
   "outputs": [
    {
     "name": "stdout",
     "output_type": "stream",
     "text": [
      "0\n",
      "1\n",
      "4\n",
      "9\n",
      "16\n",
      "25\n",
      "36\n",
      "49\n",
      "64\n",
      "81\n"
     ]
    },
    {
     "data": {
      "text/plain": [
       "null"
      ]
     },
     "execution_count": 24,
     "metadata": {},
     "output_type": "execute_result"
    }
   ],
   "source": [
    "for(int i=0; i < 10; i++)\n",
    "{\n",
    "    System.out.println(i * i);\n",
    "}"
   ]
  },
  {
   "cell_type": "code",
   "execution_count": 27,
   "metadata": {
    "slideshow": {
     "slide_type": "slide"
    }
   },
   "outputs": [
    {
     "name": "stdout",
     "output_type": "stream",
     "text": [
      "400\n",
      "400\n",
      "400\n",
      "400\n",
      "400\n",
      "400\n",
      "400\n",
      "400\n",
      "400\n",
      "400\n",
      "0\n",
      "1\n",
      "2\n",
      "3\n",
      "4\n",
      "5\n",
      "6\n",
      "7\n",
      "8\n",
      "9\n"
     ]
    },
    {
     "data": {
      "text/plain": [
       "null"
      ]
     },
     "execution_count": 27,
     "metadata": {},
     "output_type": "execute_result"
    }
   ],
   "source": [
    "int [] numbers = {0,1,2,3,4,5,6,7,8,9};\n",
    "for(int i: numbers){\n",
    "    i = 20;\n",
    "    System.out.println(i*i);\n",
    "}\n",
    "for(int i: numbers){\n",
    "    System.out.println(i);\n",
    "}"
   ]
  },
  {
   "cell_type": "markdown",
   "metadata": {
    "slideshow": {
     "slide_type": "slide"
    }
   },
   "source": [
    "## Loops II\n",
    "- Java also offers logic controlled looping\n",
    "```java\n",
    "while(x < 0){\n",
    "}\n",
    "```\n",
    "```java\n",
    "do{\n",
    "}while(x < 0);\n",
    "```"
   ]
  },
  {
   "cell_type": "code",
   "execution_count": 28,
   "metadata": {
    "slideshow": {
     "slide_type": "slide"
    }
   },
   "outputs": [
    {
     "name": "stdout",
     "output_type": "stream",
     "text": [
      "10\n",
      "9\n",
      "8\n",
      "7\n",
      "6\n",
      "5\n",
      "4\n",
      "3\n",
      "2\n",
      "1\n"
     ]
    },
    {
     "data": {
      "text/plain": [
       "null"
      ]
     },
     "execution_count": 28,
     "metadata": {},
     "output_type": "execute_result"
    }
   ],
   "source": [
    "int x = 10;\n",
    "while(x > 0)\n",
    "{\n",
    "    System.out.println(x);\n",
    "    x--;\n",
    "}"
   ]
  },
  {
   "cell_type": "markdown",
   "metadata": {
    "slideshow": {
     "slide_type": "slide"
    }
   },
   "source": [
    "## Practice\n",
    "- Given 2d array of strings produce a 2d array of doubles"
   ]
  },
  {
   "cell_type": "code",
   "execution_count": 19,
   "metadata": {},
   "outputs": [
    {
     "data": {
      "text/plain": [
       "null"
      ]
     },
     "execution_count": 19,
     "metadata": {},
     "output_type": "execute_result"
    }
   ],
   "source": [
    "String [][] numbers = {{\"0\",\"1\",\"2\"},{\"3\",\"4\",\"5\"},{\"6\",\"7\",\"8\"}};"
   ]
  },
  {
   "cell_type": "markdown",
   "metadata": {
    "slideshow": {
     "slide_type": "slide"
    }
   },
   "source": [
    "## Control Statements\n",
    "\n",
    "- Java originally made __if__ statement avaialable and __switch__ partially available\n",
    "- For __if__ statements, there is no *__then__* keyword\n",
    "```java\n",
    "int x;\n",
    "if(x > 0){\n",
    "}\n",
    "else if(x < -100){\n",
    "}\n",
    "else{\n",
    "}\n",
    "```\n"
   ]
  },
  {
   "cell_type": "code",
   "execution_count": 31,
   "metadata": {
    "slideshow": {
     "slide_type": "slide"
    }
   },
   "outputs": [
    {
     "name": "stdout",
     "output_type": "stream",
     "text": [
      "This is a positive number\n"
     ]
    },
    {
     "data": {
      "text/plain": [
       "null"
      ]
     },
     "execution_count": 31,
     "metadata": {},
     "output_type": "execute_result"
    }
   ],
   "source": [
    "double aFloatingPoint = 0.0000009;\n",
    "if(aFloatingPoint < 0){\n",
    "    System.out.println(\"This is negative\");\n",
    "} else if (  aFloatingPoint == 0){\n",
    "    System.out.println(\"This is zero\");\n",
    "}\n",
    "else{\n",
    "    System.out.println(\"This is a positive number\");\n",
    "}"
   ]
  },
  {
   "cell_type": "markdown",
   "metadata": {
    "slideshow": {
     "slide_type": "slide"
    }
   },
   "source": [
    "## Switch\n",
    "- Since Java 7, __switch__ can be used with strings\n",
    "```java\n",
    "String str;\n",
    "switch(str){\n",
    "    case \"Monday\":\n",
    "            //CODE HERE\n",
    "        break;\n",
    "    case \"Tuesday\":\n",
    "            //CODE HERE\n",
    "        break;\n",
    "    default:\n",
    "            //CODE HERE\n",
    "        break;\n",
    "}\n",
    "```\n"
   ]
  },
  {
   "cell_type": "code",
   "execution_count": 35,
   "metadata": {
    "slideshow": {
     "slide_type": "slide"
    }
   },
   "outputs": [
    {
     "name": "stdout",
     "output_type": "stream",
     "text": [
      "Is the color of the sky\n"
     ]
    },
    {
     "data": {
      "text/plain": [
       "null"
      ]
     },
     "execution_count": 35,
     "metadata": {},
     "output_type": "execute_result"
    }
   ],
   "source": [
    "String my_string = \"Blue\";\n",
    "switch(my_string){\n",
    "    case \"Blue\":\n",
    "        System.out.println(\"Is the color of the sky\");\n",
    "        break;\n",
    "    case \"Green\":\n",
    "        System.out.println(\"Is the color of the grass\");\n",
    "        break;\n",
    "    default:\n",
    "        System.out.println(\"I haven't learned what things are this color yet\");\n",
    "}"
   ]
  },
  {
   "cell_type": "markdown",
   "metadata": {
    "slideshow": {
     "slide_type": "slide"
    }
   },
   "source": [
    "## Classes\n",
    "- Classes are the primary organizational unit in Java\n",
    "- They contain both variables and functions\n",
    "- Each class is generally given its own file\n",
    "- No metatables are needed"
   ]
  },
  {
   "cell_type": "markdown",
   "metadata": {
    "slideshow": {
     "slide_type": "slide"
    }
   },
   "source": [
    "## Class Syntax\n",
    "- The syntax for creating a class is\n",
    "```java\n",
    "< accessLevelModifier > class < className >{\n",
    "   //code goes here \n",
    "}\n",
    "```\n",
    "- In general, each class is defined in a file that has the same name as the class\n",
    " - The class __UMBCer__ would be in file named __UMBCer.java__"
   ]
  },
  {
   "cell_type": "markdown",
   "metadata": {
    "slideshow": {
     "slide_type": "slide"
    }
   },
   "source": [
    "## Class Syntax Example\n",
    "\n",
    "```java\n",
    "public class UMBCer{\n",
    "\n",
    "}\n",
    "```\n"
   ]
  },
  {
   "cell_type": "markdown",
   "metadata": {
    "slideshow": {
     "slide_type": "slide"
    }
   },
   "source": [
    "## Class Members\n",
    "- The members of the class are the variables used to hold the state of the class\n",
    "- Each member must be declared with an _access level modifier_ and a type. \n",
    "\n",
    "```java\n",
    "public class UMBCer{\n",
    "    private String firstName;\n",
    "    private String lastName;\n",
    "    private String email;\n",
    "    private String id;\n",
    "}\n",
    "```"
   ]
  },
  {
   "cell_type": "markdown",
   "metadata": {
    "slideshow": {
     "slide_type": "slide"
    }
   },
   "source": [
    "## Class Design Example\n",
    "- Design a class for a dictionary\n",
    "- Each dictionary has\n",
    "    - Several Words\n",
    "    - A language"
   ]
  },
  {
   "cell_type": "code",
   "execution_count": null,
   "metadata": {},
   "outputs": [],
   "source": []
  },
  {
   "cell_type": "markdown",
   "metadata": {
    "slideshow": {
     "slide_type": "slide"
    }
   },
   "source": [
    "## Class Design Practice\n",
    "- Design a class for a word\n",
    "- Each word has\n",
    "    - Several definitions\n",
    "    - A year first used\n",
    "    - A part of speech"
   ]
  },
  {
   "cell_type": "code",
   "execution_count": null,
   "metadata": {},
   "outputs": [],
   "source": []
  },
  {
   "cell_type": "markdown",
   "metadata": {
    "slideshow": {
     "slide_type": "slide"
    }
   },
   "source": [
    "## Methods\n",
    "- Similar to functions in procedural languages\n",
    "- Should be the primary way to interact with the state of an object\n",
    "- Just like members, methods are declared with an _access level modifier_\n",
    "- Methods have access to all the members of a class"
   ]
  },
  {
   "cell_type": "markdown",
   "metadata": {
    "slideshow": {
     "slide_type": "slide"
    }
   },
   "source": [
    "## Method Examples\n",
    "```java\n",
    "public class UBMCer{\n",
    "    private String firstName;\n",
    "    private String lastName;\n",
    "    private String email;\n",
    "    private String id;\n",
    "    \n",
    "    ...\n",
    "    \n",
    "    public void printFullName(){\n",
    "        System.out.println(firstName + \" \" + lastName);\n",
    "    }\n",
    "    \n",
    "    ...\n",
    "}\n",
    "```"
   ]
  },
  {
   "cell_type": "markdown",
   "metadata": {
    "slideshow": {
     "slide_type": "slide"
    }
   },
   "source": [
    "## Method Examples\n",
    "```java\n",
    "public class UBMCer{\n",
    "    private String firstName;\n",
    "    private String lastName;\n",
    "    private String email;\n",
    "    private String id;\n",
    "    \n",
    "    ...\n",
    "    \n",
    "    public String getFullName(){\n",
    "        return firstName + \" \" + lastName;\n",
    "    }\n",
    "    \n",
    "    ...\n",
    "}\n",
    "```"
   ]
  },
  {
   "cell_type": "markdown",
   "metadata": {
    "slideshow": {
     "slide_type": "slide"
    }
   },
   "source": [
    "## Method Examples\n",
    "```java\n",
    "public class UBMCer{\n",
    "    private String firstName;\n",
    "    private String lastName;\n",
    "    private String email;\n",
    "    private String id;\n",
    "    \n",
    "    ...\n",
    "    \n",
    "    public boolean setEmail(String email){\n",
    "        if(email.endsWith(\"@umbc.edu\"))\n",
    "        {\n",
    "          this.email = email;\n",
    "          return true;\n",
    "        }\n",
    "        \n",
    "        return false;\n",
    "    }\n",
    "    \n",
    "    ...\n",
    "}\n",
    "```"
   ]
  },
  {
   "cell_type": "markdown",
   "metadata": {
    "slideshow": {
     "slide_type": "slide"
    }
   },
   "source": [
    "## Methods Example\n",
    "- Write an add definition method to the dictionary class"
   ]
  },
  {
   "cell_type": "code",
   "execution_count": null,
   "metadata": {},
   "outputs": [],
   "source": []
  },
  {
   "cell_type": "markdown",
   "metadata": {
    "slideshow": {
     "slide_type": "slide"
    }
   },
   "source": [
    "## Method Practice\n",
    "- Write a method to add a definition to a word"
   ]
  },
  {
   "cell_type": "code",
   "execution_count": null,
   "metadata": {},
   "outputs": [],
   "source": []
  },
  {
   "cell_type": "markdown",
   "metadata": {
    "slideshow": {
     "slide_type": "slide"
    }
   },
   "source": [
    "## Constructors\n",
    "- Constructors are special methods used to initialize objects of a class\n",
    "- Constructors have no return type and have the same name as the class.\n",
    "- Each class can have multiple constructors\n",
    " - In this case the compilier differentiates them by their parameter types"
   ]
  },
  {
   "cell_type": "markdown",
   "metadata": {
    "slideshow": {
     "slide_type": "slide"
    }
   },
   "source": [
    "## Constructor Example\n",
    "\n",
    "```java\n",
    "import java.util.Random;\n",
    "public class UMBCer{\n",
    "    private String firstName;\n",
    "    private String lastName;\n",
    "    private String email;\n",
    "    private String id;\n",
    "\n",
    "    public UMBCer(String firstName, String lastName)\n",
    "    {\n",
    "\n",
    "        this.firstName = firstName;\n",
    "        this.lastName = lastName;\n",
    "        this.email = firstName + \".\" + lastName + \"@umbc.edu\";\n",
    "\n",
    "        String alphabet = \"ABCDEFGHIJKLMNOPQRSTUVWXYZ\";\n",
    "        Random rnd = new Random();\n",
    "\n",
    "        this.id = alphabet.charAt(rnd.nextInt(alphabet.length())) + \"\" +  \n",
    "                  alphabet.charAt(rnd.nextInt(alphabet.length())) +\n",
    "                  String.valueOf(rnd.nextInt(9) + 1) + String.valueOf(rnd.nextInt(9) + 1)  +\n",
    "                  String.valueOf(rnd.nextInt(9) + 1) + String.valueOf(rnd.nextInt(9) + 1);\n",
    "    }\n",
    "    ...\n",
    "}\n",
    "```"
   ]
  },
  {
   "cell_type": "markdown",
   "metadata": {
    "slideshow": {
     "slide_type": "slide"
    }
   },
   "source": [
    "## Default Constructors\n",
    "- If no constructors are defined, the compiler will make a default constructor for you\n",
    "    - This simply initializes all the member variables according to their default constructors\n",
    "- If any constructors are defined, then the compiler will not help you out\n",
    "    - Should always define a default constructor"
   ]
  },
  {
   "cell_type": "markdown",
   "metadata": {
    "slideshow": {
     "slide_type": "slide"
    }
   },
   "source": [
    "## Constructor Example \n",
    "- For the Dictionary Class\n",
    "    - Implement a default constructor \n",
    "    - Implement a non-default constructor"
   ]
  },
  {
   "cell_type": "code",
   "execution_count": null,
   "metadata": {
    "slideshow": {
     "slide_type": "slide"
    }
   },
   "outputs": [],
   "source": []
  },
  {
   "cell_type": "markdown",
   "metadata": {
    "slideshow": {
     "slide_type": "slide"
    }
   },
   "source": [
    "## Constructor Practice\n",
    "- For thet Word Class\n",
    "    - Implement a default constructor \n",
    "    - Implement a non-default constructor"
   ]
  },
  {
   "cell_type": "code",
   "execution_count": null,
   "metadata": {
    "slideshow": {
     "slide_type": "slide"
    }
   },
   "outputs": [],
   "source": []
  },
  {
   "cell_type": "markdown",
   "metadata": {
    "slideshow": {
     "slide_type": "slide"
    }
   },
   "source": [
    "## Special Methods\n",
    "- Two common tasks don't behave the way we expect with objects by default\n",
    "    - Remember that using == to compare objects will compare their reference\n",
    "        - We need to implement __.equals(Object obj)__ in order to test equality\n",
    "    - If we print an object, by default it will print the type of the object and a hash value\n",
    "        - __.toString()__ allows us to control what happens when we print an object."
   ]
  },
  {
   "cell_type": "markdown",
   "metadata": {
    "slideshow": {
     "slide_type": "slide"
    }
   },
   "source": [
    "## Equals\n",
    "- The __equals__ method should always take one parameter of type Object\n",
    "    - This is to make sure we are overriding the default method all of the time. \n",
    "- A value of __null__ being passed to the method as well as an object of another class should be handled gracefully\n",
    "- When comparing member objects, be sure to use the equal methods of those classes."
   ]
  },
  {
   "cell_type": "markdown",
   "metadata": {
    "slideshow": {
     "slide_type": "slide"
    }
   },
   "source": [
    "## Equals Example\n",
    "```java\n",
    "public class UMBCer{\n",
    "    private String firstName;\n",
    "    private String lastName;\n",
    "    private String email;\n",
    "    private String id;\n",
    "    \n",
    "    public boolean equals(Object other)\n",
    "    {\n",
    "        if(!(other instanceof UMBCer) || other == null)\n",
    "        {\n",
    "            return false;\n",
    "        }\n",
    "        UMBCer otherUMBCer = (UMBCer)other;\n",
    "        \n",
    "        return this.firstName.equals(otherUMBCer.firstName) && \n",
    "               this.lastName.equals(otherUMBCer.lastName) && \n",
    "               this.email.equals(otherUMBCer.email) && \n",
    "               this.id.equals(otherUMBCer.id);\n",
    "    }\n",
    "\n",
    "}\n",
    "```"
   ]
  },
  {
   "cell_type": "markdown",
   "metadata": {
    "slideshow": {
     "slide_type": "slide"
    }
   },
   "source": [
    "## Equals Example\n",
    "- Implement the equals method for the dictionary class"
   ]
  },
  {
   "cell_type": "code",
   "execution_count": null,
   "metadata": {},
   "outputs": [],
   "source": []
  },
  {
   "cell_type": "markdown",
   "metadata": {
    "slideshow": {
     "slide_type": "slide"
    }
   },
   "source": [
    "## Equals Practice\n",
    "- Implement the equals method for the word class"
   ]
  },
  {
   "cell_type": "code",
   "execution_count": null,
   "metadata": {},
   "outputs": [],
   "source": []
  },
  {
   "cell_type": "markdown",
   "metadata": {
    "slideshow": {
     "slide_type": "slide"
    }
   },
   "source": [
    "## toString Example \n",
    "\n",
    "- The toString method is called automatically when the object is passed to a function that produces a string, like System.out.println()\n",
    "- Remember this is the default method and should return something legible, but in many cases shouldn't be relied upon in code to produce formatted strings\n",
    "\n",
    "```java\n",
    "public class UMBCer{\n",
    "    private String firstName;\n",
    "    private String lastName;\n",
    "    private String email;\n",
    "    private String id;\n",
    "    \n",
    "    public String toString(){\n",
    "        return \"UMBCer \" + id + \": \" + firstName + \" \" + lastName;\n",
    "    }\n",
    "    \n",
    "}\n",
    "```"
   ]
  },
  {
   "cell_type": "markdown",
   "metadata": {},
   "source": [
    "## Method Overloading\n",
    "- Due to Java's typing we can have many methods with the same name, even in the same object.\n",
    "- The compiler and the runtime system use the method signature along with the parameters being passed at runtime to deterimine which method to use\n",
    "- The return type is not part of the method signature\n",
    "- The following code __*does not work*__\n",
    "\n",
    "```java\n",
    "public class UMBCer{\n",
    "    private String firstName;\n",
    "    private String lastName;\n",
    "    private String email;\n",
    "    private String id;\n",
    "    \n",
    "    public void setName(String firstName){\n",
    "        this.firstName = firstName;\n",
    "    }\n",
    "    \n",
    "    public boolean setName(String lastName){\n",
    "        this.lastName = lastName;\n",
    "    }\n",
    "\n",
    "```"
   ]
  },
  {
   "cell_type": "markdown",
   "metadata": {},
   "source": [
    "## Method Overloading Example\n",
    "```java\n",
    "import java.util.GregorianCalendar\n",
    "\n",
    "public class UMBCer{\n",
    "    private String firstName;\n",
    "    private String lastName;\n",
    "    private String email;\n",
    "    private String id;\n",
    "    private GregorianCalendar birthday;\n",
    "\n",
    "\n",
    "    public void setBirthday(GegorianCalendar date){\n",
    "        this.birthday = (GregorianCalendar)date.clone();\n",
    "    }\n",
    "\n",
    "    public boolean setBirthday(int month, int day, int year){\n",
    "        this.birthday = new GegorianCalendar(year,month,day);\n",
    "        return true;\n",
    "    }\n",
    "```"
   ]
  },
  {
   "cell_type": "markdown",
   "metadata": {},
   "source": [
    "## Returning Objects\n",
    "- A method can return an object just like any other data type\n",
    "- We need to take special precautions when returing object\n",
    "    - Always return a new object\n",
    "    \n",
    "```java\n",
    "\n",
    "import java.util.GregorianCalendar\n",
    "\n",
    "public class UMBCer{\n",
    "    private String firstName;\n",
    "    private String lastName;\n",
    "    private String email;\n",
    "    private String id;\n",
    "    private GregorianCalendar birthday;\n",
    "    \n",
    "    public GegorianCalendar getBirthday(){\n",
    "        return  (GregorianCalendar)birthday.clone();\n",
    "    }\n",
    "    ```"
   ]
  },
  {
   "cell_type": "markdown",
   "metadata": {},
   "source": [
    "## Copy Constructors\n",
    "- In the previous example, we had to call __clone__ to ensure we were returning a new object.\n",
    "- It is often easier to use new and pass the existing object as a parameter\n",
    "\n",
    "```java\n",
    "public class UMBCer{\n",
    "    private String firstName;\n",
    "    private String lastName;\n",
    "    private String email;\n",
    "    private String id;\n",
    "    private GregorianCalendar birthday;\n",
    "    \n",
    "    public UMBCer(UMBCer other){\n",
    "        this.firstName = new String(other.firstName);\n",
    "        this.lastName = other.lastName;\n",
    "        this.email = other.email;\n",
    "        this.id = other.id;\n",
    "        this.birthday = (GregorianCalendar)other.birthday.clone();\n",
    "    }\n",
    "\n",
    "}\n",
    "```"
   ]
  },
  {
   "cell_type": "markdown",
   "metadata": {
    "slideshow": {
     "slide_type": "slide"
    }
   },
   "source": [
    "## Copy Constructor Example\n",
    "- Let's add a copy constructor to our Word class"
   ]
  },
  {
   "cell_type": "code",
   "execution_count": null,
   "metadata": {},
   "outputs": [],
   "source": []
  },
  {
   "cell_type": "markdown",
   "metadata": {
    "slideshow": {
     "slide_type": "slide"
    }
   },
   "source": [
    "## Returning an Object Practice\n",
    "- Add a get word method to the dictionary that takes a string and returns the corresponding word"
   ]
  },
  {
   "cell_type": "code",
   "execution_count": null,
   "metadata": {},
   "outputs": [],
   "source": []
  },
  {
   "cell_type": "markdown",
   "metadata": {
    "slideshow": {
     "slide_type": "slide"
    }
   },
   "source": [
    "## Private Methods\n",
    "- So far all methods have been public\n",
    "- When we declare a method as private, only other methods of that class can call it.\n",
    "- This is useful for helper methods that we don't want to make available to all users of the class.\n",
    "\n",
    "```java\n",
    "public class UMBCer{\n",
    "    private String firstName;\n",
    "    private String lastName;\n",
    "    private String email;\n",
    "    private String id;\n",
    "    private GregorianCalendar birthday;\n",
    "\n",
    "    private boolean validEmail(String email){\n",
    "        return email.endsWith(\"@umbc.edu\");\n",
    "    }\n",
    "```"
   ]
  },
  {
   "cell_type": "markdown",
   "metadata": {
    "slideshow": {
     "slide_type": "slide"
    }
   },
   "source": [
    "## Static\n",
    "- Sometimes, we want a variable or a method to exist for the whole class rather than an instance of it.\n",
    "- Use the keyword __static__ to accomplish this.\n",
    "- This goes against OOP principles\n",
    "     - But it is really useful and can make implementation more efficent\n",
    "\n",
    "```java\n",
    "import java.util.Random;\n",
    "public class UMBCer{\n",
    "    private String firstName;\n",
    "    private String lastName;\n",
    "    private String email;\n",
    "    private String id;\n",
    "    private static String alphabet = \"ABCDEFGHIJKLMNOPQRSTUVWXYZ\";\n",
    "    private static Random rnd = new Random();\n",
    "\n",
    "    public UMBCer(String firstName, String lastName)\n",
    "    {\n",
    "\n",
    "        this.firstName = firstName;\n",
    "        this.lastName = lastName;\n",
    "        this.email = firstName + \".\" + lastName + \"@umbc.edu\";\n",
    "\n",
    "        this.id = alphabet.charAt(rnd.nextInt(alphabet.length())) + \"\" +  \n",
    "                  alphabet.charAt(rnd.nextInt(alphabet.length())) +\n",
    "                  String.valueOf(rnd.nextInt(9) + 1) + String.valueOf(rnd.nextInt(9) + 1)  +\n",
    "                  String.valueOf(rnd.nextInt(9) + 1) + String.valueOf(rnd.nextInt(9) + 1);\n",
    "    }\n",
    "    ...\n",
    "}\n",
    "```"
   ]
  },
  {
   "cell_type": "markdown",
   "metadata": {
    "slideshow": {
     "slide_type": "slide"
    }
   },
   "source": [
    "## File IO \n",
    "- Working with files in Java requres two objects generally\n",
    "    - Their instantiaions can be combined into one line\n",
    " - A stream represents the flow of text into or out of a file\n",
    " - The __PrintWriter__ class implements functions used in printing\n",
    " - The __Scanner__ class implements functions used in reading.\n"
   ]
  },
  {
   "cell_type": "markdown",
   "metadata": {
    "slideshow": {
     "slide_type": "slide"
    }
   },
   "source": [
    "## Reading from a File\n",
    "- To read from a file we create a __FileInputStream__ that we then pass to a __Scanner__ instance\n",
    "- Some of the methods are __nextLine()__ , __nextInt()__, and __nextFloat()__\n",
    "\n",
    "```java\n",
    "import java.util.Scanner;\n",
    "import java.io.FileInputStream;\n",
    "import java.io.FileNotFoundException;\n",
    "public class ScannerExample{\n",
    "\n",
    "    public static void main(String[] args){\n",
    "    \n",
    "        Scanner input = new Scanner( new FileInputStream(\"words.txt\"));\n",
    "        \n",
    "        while(input.hasNextLine())\n",
    "        {\n",
    "            line = input.nextLine();\n",
    "        }\n",
    "    }\n",
    "}\n",
    "```"
   ]
  },
  {
   "cell_type": "markdown",
   "metadata": {
    "slideshow": {
     "slide_type": "slide"
    }
   },
   "source": [
    "## Writing to a File\n",
    "- Writing is very similar, except we use a __PrintWriter__ instance\n",
    "- The main methods to use in this class are __print__ and __println__\n",
    "\n",
    "```java\n",
    "import java.io.PrintWriter\n",
    "import java.io.FileOutputStream;\n",
    "import java.io.FileNotFoundException;\n",
    "\n",
    "public class WriterExample{\n",
    "    public static void main(String[] args){\n",
    "    \n",
    "        PrintWriter output = new PrintWriter(\n",
    "            new FileOutputStream(\"out.txt\"))\n",
    "        \n",
    "        output.println(\"Print this to the file\");\n",
    "        \n",
    "        output.close();\n",
    "    }\n",
    "}\n",
    "```"
   ]
  },
  {
   "cell_type": "markdown",
   "metadata": {
    "slideshow": {
     "slide_type": "slide"
    }
   },
   "source": [
    "## Example\n",
    "- Write Dictionary out to file \n",
    "    - What does this suggest we should add as a method to word?"
   ]
  },
  {
   "cell_type": "code",
   "execution_count": null,
   "metadata": {
    "slideshow": {
     "slide_type": "slide"
    }
   },
   "outputs": [],
   "source": []
  },
  {
   "cell_type": "markdown",
   "metadata": {
    "slideshow": {
     "slide_type": "slide"
    }
   },
   "source": [
    "## Exceptions Preview\n",
    "- Exceptions are them main way to indicate and handle errors in Java\n",
    "- When attempting to read a file, what happens if the file doesn't exist?\n",
    "\n",
    "```java\n",
    "import java.util.Scanner;\n",
    "import java.io.FileInputStream;\n",
    "import java.io.FileNotFoundException;\n",
    "public class ScannerExample{\n",
    "\n",
    "    public static void main(String[] args){\n",
    "    \n",
    "        try{\n",
    "            input = new Scanner( new FileInputStream(\"words.txt\"));\n",
    "        \n",
    "            while(input.hasNextLine())\n",
    "            {\n",
    "                line = input.nextLine();\n",
    "            }\n",
    "        }\n",
    "        catch(FileNotFoundException)\n",
    "        {\n",
    "            System.err.println(\"Could not open file words.txt\");\n",
    "        }\n",
    "    }\n",
    "}\n",
    "```"
   ]
  },
  {
   "cell_type": "code",
   "execution_count": null,
   "metadata": {},
   "outputs": [],
   "source": []
  }
 ],
 "metadata": {
  "celltoolbar": "Slideshow",
  "kernelspec": {
   "display_name": "Java",
   "language": "java",
   "name": "java"
  },
  "language_info": {
   "codemirror_mode": "text/x-java",
   "file_extension": ".java",
   "mimetype": "",
   "name": "Java",
   "nbconverter_exporter": "",
   "version": "1.8.0_151"
  }
 },
 "nbformat": 4,
 "nbformat_minor": 1
}
