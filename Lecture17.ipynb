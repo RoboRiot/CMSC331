{
 "cells": [
  {
   "cell_type": "markdown",
   "metadata": {
    "slideshow": {
     "slide_type": "slide"
    }
   },
   "source": [
    "# Java I"
   ]
  },
  {
   "cell_type": "markdown",
   "metadata": {
    "slideshow": {
     "slide_type": "slide"
    }
   },
   "source": [
    "## Brief History of Object Oriented Programming\n",
    "- SIMULA 67, an extension of ALGOL, was the first PL to introduce the idea of data abstraction\n",
    " - It's influence is often not recognized\n",
    "- The frist fully object-oriented langauge was Smalltalk, which was developed in the 70's\n",
    " - Not widely adopted\n",
    "- C++ started out as C with Classes in the early 80s, and became a fully separate language \n",
    " - The first version of C++ were released in 1985\n",
    "- Since then Object Oriented Programming Languages have continued to grow in popularity"
   ]
  },
  {
   "cell_type": "markdown",
   "metadata": {
    "slideshow": {
     "slide_type": "slide"
    }
   },
   "source": [
    "## What is Object Oriented Programming (OOP) ?\n",
    "- OOP is a fuzzy concept and programming languages can adhere to it to differing degrees\n",
    "- Can be broken down into three concepts. Various languages may not support all equally well\n",
    " - Polymorphism\n",
    " - Inheritence\n",
    " - Encapsulation"
   ]
  },
  {
   "cell_type": "markdown",
   "metadata": {
    "slideshow": {
     "slide_type": "slide"
    }
   },
   "source": [
    "## Encapsulation\n",
    "- The idea of bundling and object's state (variables) and methods together\n",
    "- Through use of methods, access to the object's can be controlled\n",
    "    - Theoretically the programmer using an existing method should need to know or care about the internals of a class\n",
    "    - All functions can be handled through a method\n",
    "    - Some languages, like Python, allow this bundling, but have no way to prevent direct manipulation of the state\n",
    "- When done right, can lead to cleaner code and improved reusability"
   ]
  },
  {
   "cell_type": "markdown",
   "metadata": {
    "slideshow": {
     "slide_type": "slide"
    }
   },
   "source": [
    "## Misconceptions about OOP\n",
    "- While OOP languages are often based on imperative languages, it is not a good idea to use them like one\n",
    "- The difference is in the design of a program \n",
    " - With OOP we need to figure out what objects are involved in our project\n",
    " - With imperative languages, we figure out what steps are involved"
   ]
  },
  {
   "cell_type": "markdown",
   "metadata": {
    "slideshow": {
     "slide_type": "slide"
    }
   },
   "source": [
    "## History of Java\n",
    "- Invented a Sun Microsystems in 1991 by James Gosling and others\n",
    " - Not officialy released until 1996\n",
    "- The invetors wanted to fix what they saw as problems in C++ (ie, memory management)\n",
    "- Was designed to be runnable on many different devices, not just traditional computers\n",
    "- The current version is Java 8\n",
    "    - On GL it is Java 7 💔"
   ]
  },
  {
   "cell_type": "markdown",
   "metadata": {
    "slideshow": {
     "slide_type": "slide"
    }
   },
   "source": [
    "## Java Basics\n",
    "- Java in an interpreted language\n",
    " - Compiled down to Java byte code, which is the same for every device\n",
    " - The Java Virtual Machine ( JVM ) interperets the bytes code into machine code\n",
    "   - In order to run Java, a JVM must have been constructed for your type of machine\n",
    "- Every Java program must have at least one class with a method named __main__"
   ]
  },
  {
   "cell_type": "markdown",
   "metadata": {
    "slideshow": {
     "slide_type": "slide"
    }
   },
   "source": [
    "## Basic Java Syntax\n",
    "- Every statement ends with a semicolor (**;**)\n",
    "- Comments are //\n",
    "- Multiline comments are `/* */`\n",
    "- Braces are used to segment program blocks"
   ]
  },
  {
   "cell_type": "markdown",
   "metadata": {
    "slideshow": {
     "slide_type": "slide"
    }
   },
   "source": [
    "## Basic Program Structure\n",
    "- In a file named HelloWorld.java\n",
    "    - Class name must be the same as the file name!\n",
    "    \n",
    "```java\n",
    "public class HelloWorld\n",
    "{\n",
    " public static void main(String[] args)\n",
    " {\n",
    "  System.out.println(\"Hello world!\");\n",
    " }\n",
    "}\n",
    "```"
   ]
  },
  {
   "cell_type": "code",
   "execution_count": 1,
   "metadata": {
    "slideshow": {
     "slide_type": "slide"
    }
   },
   "outputs": [
    {
     "data": {
      "text/plain": [
       "com.twosigma.beaker.javash.bkra410b2bd.HelloWorld"
      ]
     },
     "execution_count": 1,
     "metadata": {},
     "output_type": "execute_result"
    }
   ],
   "source": [
    "public class HelloWorld\n",
    "{\n",
    " public static void main(String[] args)\n",
    " {\n",
    "  System.out.println(\"Hello world!\");\n",
    " }\n",
    "}"
   ]
  },
  {
   "cell_type": "code",
   "execution_count": 2,
   "metadata": {
    "slideshow": {
     "slide_type": "slide"
    }
   },
   "outputs": [
    {
     "name": "stdout",
     "output_type": "stream",
     "text": [
      "Error: Could not find or load main class HelloWorld.java\n"
     ]
    }
   ],
   "source": [
    "%%bash\n",
    "cd java\n",
    "java HelloWorld.java"
   ]
  },
  {
   "cell_type": "code",
   "execution_count": 3,
   "metadata": {},
   "outputs": [
    {
     "name": "stdout",
     "output_type": "stream",
     "text": [
      "Hello world!\n"
     ]
    }
   ],
   "source": [
    "%%bash\n",
    "cd java\n",
    "javac HelloWorld.java\n",
    "java HelloWorld"
   ]
  },
  {
   "cell_type": "markdown",
   "metadata": {
    "slideshow": {
     "slide_type": "slide"
    }
   },
   "source": [
    "## JUPYTER CAVEAT\n",
    "- I am running a Jupyter Java Kernel... but Java isn't an interpreted langauge\n",
    "    - What is actually happening is the code I am writing is being wrapped into a class behind the scenes, compiled and run\n",
    "- This isn't how Java Code is normally developed, and isn't how you would write an application\n",
    "    - But it is useful for in class demonstrations"
   ]
  },
  {
   "cell_type": "markdown",
   "metadata": {
    "slideshow": {
     "slide_type": "slide"
    }
   },
   "source": [
    "## Variables\n",
    "- Must start with a letter, underscore, or dollar sign\n",
    "- Can consist of any letter, digit, underscore, or dollar sign\n",
    "- The variable's datatype must be specified when it is declared.\n",
    "- The scope of variable is controlled by declaring it as __public__ or __private__\n",
    "```java \n",
    "     public int x\n",
    "     ```\n",
    "```java \n",
    "     private int y\n",
    "     ```\n",
    "- Variables can be made read-only by use of the __final__ keyword\n",
    "- Allocated space is _garbage collected_ when they can not be reached again"
   ]
  },
  {
   "cell_type": "code",
   "execution_count": 4,
   "metadata": {
    "slideshow": {
     "slide_type": "slide"
    }
   },
   "outputs": [
    {
     "data": {
      "text/plain": [
       "com.twosigma.beaker.javash.bkra410b2bd.Scope"
      ]
     },
     "execution_count": 4,
     "metadata": {},
     "output_type": "execute_result"
    }
   ],
   "source": [
    "//%load java/Scope.java\n",
    "public class Scope\n",
    "{\n",
    " private int x;\n",
    " public int y;\n",
    " \n",
    " public Scope(){\n",
    "  x = 0;\n",
    "  y = 10;\n",
    " }\n",
    "\n",
    "}\n"
   ]
  },
  {
   "cell_type": "code",
   "execution_count": 5,
   "metadata": {
    "slideshow": {
     "slide_type": "slide"
    }
   },
   "outputs": [
    {
     "ename": "ERROR",
     "evalue": " 1 compilation error(s)",
     "output_type": "error",
     "traceback": [
      "\u001b[0;31mERROR: 1 compilation error(s)",
      "\u001b[0;31m",
      "\u001b[0;31merror at line 7: x has private access in com.twosigma.beaker.javash.bkra410b2bd.Scope",
      "\u001b[0;31m    System.out.println(s.x)",
      "\u001b[0;31m                       ^  ^  "
     ]
    }
   ],
   "source": [
    "// %load java/ScopeMain.java\n",
    "public class ScopeMain\n",
    "{\n",
    " public static void main(String[] args)\n",
    " {\n",
    "   Scope s = new Scope();\n",
    "   System.out.println(s.y);\n",
    "   System.out.println(s.x);\n",
    " }\n",
    "}\n"
   ]
  },
  {
   "cell_type": "code",
   "execution_count": 6,
   "metadata": {
    "slideshow": {
     "slide_type": "slide"
    }
   },
   "outputs": [
    {
     "name": "stdout",
     "output_type": "stream",
     "text": [
      "ScopeMain.java:7: error: x has private access in Scope\n",
      "   System.out.println(s.x);\n",
      "                       ^\n",
      "1 error\n"
     ]
    }
   ],
   "source": [
    "%%bash\n",
    "cd java\n",
    "javac ScopeMain.java"
   ]
  },
  {
   "cell_type": "markdown",
   "metadata": {
    "slideshow": {
     "slide_type": "slide"
    }
   },
   "source": [
    "## Datatypes\n",
    "- While, Java is an OOP language, it still has a few primitive types that do not behave like objects\n",
    " - Although since Java 5, the compiler can convert primatives to their associated objects through a process known as _boxing_ \n",
    "- The primitive types are\n",
    " - boolean\n",
    " - char\n",
    " - 6 varities of numbers\n",
    "   - float, double\n",
    "   - byte, short, int , long\n",
    "- Strings, arrays, and everything else are objects"
   ]
  },
  {
   "cell_type": "markdown",
   "metadata": {
    "slideshow": {
     "slide_type": "slide"
    }
   },
   "source": [
    "## Numbers\n",
    "- Java supports compound assignment on numbers as well as increment and decrement operators\n",
    " - ```java\n",
    "     int x = 0\n",
    "     x += 1\n",
    "     x++\n",
    "     x -= 20\n",
    "   ```\n",
    "- Only five basic arithmatic operations are supported\n",
    " - \\+ , - , * , / , % \n",
    " - Exponent is a method in the math library, __Math.pow__"
   ]
  },
  {
   "cell_type": "markdown",
   "metadata": {
    "slideshow": {
     "slide_type": "slide"
    }
   },
   "source": [
    "## Numbers Practice\n",
    "- Write a Java Program that calculates and prints the answer to\n",
    "$$\n",
    "\\frac{3 \\times 4 ^ 5}{2}\n",
    "$$"
   ]
  },
  {
   "cell_type": "code",
   "execution_count": null,
   "metadata": {
    "slideshow": {
     "slide_type": "slide"
    }
   },
   "outputs": [],
   "source": []
  },
  {
   "cell_type": "markdown",
   "metadata": {
    "slideshow": {
     "slide_type": "slide"
    }
   },
   "source": [
    "## Strings\n",
    "- While strings are objects in Java, they can be declared with out using a constructor\n",
    " - ```java\n",
    "   String str = \"This is a fine way to do things\";\n",
    "   ```\n",
    "- The + sign has been overloaded, and is used for concatenation\n",
    " - += is also available\n",
    "- Array syntax cannot be used with strings\n",
    " - Must use the methods __charAt__ and __substring__\n",
    " - Both of these methods are read-only"
   ]
  },
  {
   "cell_type": "code",
   "execution_count": 7,
   "metadata": {
    "slideshow": {
     "slide_type": "slide"
    }
   },
   "outputs": [
    {
     "name": "stdout",
     "output_type": "stream",
     "text": [
      "HelloWorld!\n",
      "H\n",
      "He\n"
     ]
    },
    {
     "data": {
      "text/plain": [
       "null"
      ]
     },
     "execution_count": 7,
     "metadata": {},
     "output_type": "execute_result"
    }
   ],
   "source": [
    "System.out.println(\"Hello\" + \"World\" + \"!\");\n",
    "String h = \"Hello\";\n",
    "System.out.println(h.charAt(0));\n",
    "System.out.println(\"Hello\".substring(0,2));\n"
   ]
  },
  {
   "cell_type": "markdown",
   "metadata": {
    "slideshow": {
     "slide_type": "slide"
    }
   },
   "source": [
    "## Arrays\n",
    "- Similarly to strings, arrays can be be declared with out using a constructor\n",
    " ```java\n",
    "     int[] arr = {10, 20, 30};\n",
    " ```\n",
    "- To create a empty array of a given length , use the __new__ keyword, which hints at its objectness\n",
    " ```java\n",
    "     int [] varName = new int[100];\n",
    " ```\n",
    "- Multidimensional arrays are easy to declare!\n",
    "  ```java\n",
    "      int [][][] tensor = new int[100][100][100];\n",
    "    ```\n",
    "- Array indexing is done using the __[]__ operator; slicing is not supported"
   ]
  },
  {
   "cell_type": "code",
   "execution_count": 8,
   "metadata": {
    "slideshow": {
     "slide_type": "slide"
    }
   },
   "outputs": [
    {
     "name": "stdout",
     "output_type": "stream",
     "text": [
      "100.0\n",
      "0.0\n"
     ]
    },
    {
     "ename": "java.lang.ArrayIndexOutOfBoundsException",
     "evalue": " 200",
     "output_type": "error",
     "traceback": [
      "\u001b[0;31mjava.lang.ArrayIndexOutOfBoundsException: 200",
      "\u001b[0;31m\tat com.twosigma.beaker.javash.bkra410b2bd.BeakerWrapperClass1261714175Idfcde1d80fc484edd93126c778b96408d.beakerRun(BeakerWrapperClass1261714175Idfcde1d80fc484edd93126c778b96408d.java:34)",
      "\u001b[0;31m\tat sun.reflect.NativeMethodAccessorImpl.invoke0(Native Method)",
      "\u001b[0;31m\tat sun.reflect.NativeMethodAccessorImpl.invoke(NativeMethodAccessorImpl.java:62)",
      "\u001b[0;31m\tat sun.reflect.DelegatingMethodAccessorImpl.invoke(DelegatingMethodAccessorImpl.java:43)",
      "\u001b[0;31m\tat java.lang.reflect.Method.invoke(Method.java:498)",
      "\u001b[0;31m\tat com.twosigma.beakerx.javash.evaluator.JavaCodeRunner.run(JavaCodeRunner.java:51)",
      "\u001b[0;31m\tat java.util.concurrent.Executors$RunnableAdapter.call(Executors.java:511)",
      "\u001b[0;31m\tat java.util.concurrent.FutureTask.run(FutureTask.java:266)",
      "\u001b[0;31m\tat java.util.concurrent.ThreadPoolExecutor.runWorker(ThreadPoolExecutor.java:1149)",
      "\u001b[0;31m\tat java.util.concurrent.ThreadPoolExecutor$Worker.run(ThreadPoolExecutor.java:624)",
      "\u001b[0;31m\tat java.lang.Thread.run(Thread.java:748)"
     ]
    }
   ],
   "source": [
    "float [][][] tensor = new float[100][100][100];\n",
    "tensor[0][0][0] = 100;\n",
    "System.out.println(tensor[0][0][0]);\n",
    "System.out.println(tensor[0][0][20]);\n",
    "System.out.println(tensor[0][0][200]);"
   ]
  },
  {
   "cell_type": "markdown",
   "metadata": {
    "slideshow": {
     "slide_type": "slide"
    }
   },
   "source": [
    "## Primitive Type Conversion\n",
    "- Depending on the two types involved, the type conversion may either be _implicit_ or _explicit_ \n",
    " - If there is no danger of loss of precision, we can directly assign to the new type and not encounter any errors\n",
    "    ```java\n",
    "    int number;\n",
    "    long bigNumber = number;\n",
    "    ```\n",
    "  - If precision could be lost, a compilation error will be thrown unless explicit conversion is done\n",
    "   ```java\n",
    "   long bigNumber;\n",
    "   int number = (int) bigNumber;\n",
    "   ```\n",
    "- Boolean variables cannot be converted to anything else"
   ]
  },
  {
   "cell_type": "code",
   "execution_count": 9,
   "metadata": {
    "slideshow": {
     "slide_type": "slide"
    }
   },
   "outputs": [
    {
     "data": {
      "text/plain": [
       "null"
      ]
     },
     "execution_count": 9,
     "metadata": {},
     "output_type": "execute_result"
    }
   ],
   "source": [
    "int number = 10;\n",
    "long bigNumber = number;"
   ]
  },
  {
   "cell_type": "code",
   "execution_count": 13,
   "metadata": {},
   "outputs": [
    {
     "name": "stdout",
     "output_type": "stream",
     "text": [
      "1\n",
      "-1486618624\n"
     ]
    },
    {
     "data": {
      "text/plain": [
       "null"
      ]
     },
     "execution_count": 13,
     "metadata": {},
     "output_type": "execute_result"
    }
   ],
   "source": [
    "long bigNumber = 1000000000;\n",
    "double fl = 1.90;\n",
    "System.out.println((int) fl);\n",
    "int number = (int) (bigNumber * bigNumber);\n",
    "System.out.println(number);"
   ]
  },
  {
   "cell_type": "markdown",
   "metadata": {
    "slideshow": {
     "slide_type": "slide"
    }
   },
   "source": [
    "## Object Type Conversion\n",
    "- To convert a string to one of the primitve classes we must use a wrapper class.\n",
    " ```java\n",
    "  String numString = \"100\";\n",
    "  int number = Integer.parseInt(numString);\n",
    " ```\n",
    "- What a user defined object can be casted to depends on what it inherits from\n",
    " - We will talk more about inheritence later"
   ]
  },
  {
   "cell_type": "code",
   "execution_count": 14,
   "metadata": {
    "slideshow": {
     "slide_type": "slide"
    }
   },
   "outputs": [
    {
     "name": "stdout",
     "output_type": "stream",
     "text": [
      "100\n"
     ]
    },
    {
     "data": {
      "text/plain": [
       "null"
      ]
     },
     "execution_count": 14,
     "metadata": {},
     "output_type": "execute_result"
    }
   ],
   "source": [
    "System.out.println(Integer.parseInt(\"100\"));"
   ]
  },
  {
   "cell_type": "code",
   "execution_count": 16,
   "metadata": {
    "slideshow": {
     "slide_type": "-"
    }
   },
   "outputs": [
    {
     "name": "stdout",
     "output_type": "stream",
     "text": [
      "100.2\n"
     ]
    },
    {
     "data": {
      "text/plain": [
       "null"
      ]
     },
     "execution_count": 16,
     "metadata": {},
     "output_type": "execute_result"
    }
   ],
   "source": [
    "System.out.println(Double.parseDouble(\"100.2\"));"
   ]
  },
  {
   "cell_type": "markdown",
   "metadata": {
    "slideshow": {
     "slide_type": "slide"
    }
   },
   "source": [
    "## Boolean Operators\n",
    "- The relational operators work as expected with primitive types\n",
    " - \\> , < , >=, <= , == , != \n",
    "- For objects __==__ does not work as you might expect\n",
    " - __==__ compares the references of objects, it will only be true when the are the same object\n",
    " - To compare objects, we use the method __equals__ \n",
    "- Objects have an additional operator, __instanceof__\n",
    "     ```java\n",
    "         String s = \"String\";\n",
    "         s instanceof String == true\n",
    "     ```\n",
    "- The logical operators __&&__ and __||__ only work with booleans"
   ]
  },
  {
   "cell_type": "code",
   "execution_count": 20,
   "metadata": {
    "slideshow": {
     "slide_type": "slide"
    }
   },
   "outputs": [
    {
     "name": "stdout",
     "output_type": "stream",
     "text": [
      "true\n",
      "true\n",
      "false\n",
      "true\n"
     ]
    },
    {
     "data": {
      "text/plain": [
       "null"
      ]
     },
     "execution_count": 20,
     "metadata": {},
     "output_type": "execute_result"
    }
   ],
   "source": [
    "System.out.println(1 == 1);\n",
    "System.out.println(1 < 4);\n",
    "System.out.println(2 > 4);\n",
    "System.out.println(2 < 4 && 4 < 5);\n",
    "//int a = 4;\n",
    "//System.out.println(a instanceof String);"
   ]
  },
  {
   "cell_type": "code",
   "execution_count": 23,
   "metadata": {
    "slideshow": {
     "slide_type": "slide"
    }
   },
   "outputs": [
    {
     "name": "stdout",
     "output_type": "stream",
     "text": [
      "false\n",
      "false\n",
      "true\n"
     ]
    },
    {
     "data": {
      "text/plain": [
       "null"
      ]
     },
     "execution_count": 23,
     "metadata": {},
     "output_type": "execute_result"
    }
   ],
   "source": [
    "import java.util.Arrays;\n",
    "\n",
    "int [] oneArray = {1,2,3};\n",
    "int [] twoArray = {1,2,3};\n",
    "System.out.println(oneArray == twoArray);\n",
    "System.out.println(oneArray.equals(twoArray));\n",
    "System.out.println(Arrays.equals(oneArray,twoArray));"
   ]
  },
  {
   "cell_type": "markdown",
   "metadata": {
    "slideshow": {
     "slide_type": "slide"
    }
   },
   "source": [
    "## Loops\n",
    "- Java provides two __for__ loops, a __while__ loop, and a __do-while__ loop\n",
    "- The standard counter based foor loop has the following syntax:\n",
    "```java\n",
    "for(int i =0; i < 100; i ++){\n",
    "}\n",
    "```\n",
    "- Starting with Java 5, a generic for loop was added, it is called an _enhanced_ for loop in java\n",
    "```\n",
    "int[] toLoop = {10,20,30,40,50,60};\n",
    "for(int number: toLoop){\n",
    "}\n",
    "```"
   ]
  },
  {
   "cell_type": "code",
   "execution_count": 24,
   "metadata": {
    "slideshow": {
     "slide_type": "slide"
    }
   },
   "outputs": [
    {
     "name": "stdout",
     "output_type": "stream",
     "text": [
      "0\n",
      "1\n",
      "4\n",
      "9\n",
      "16\n",
      "25\n",
      "36\n",
      "49\n",
      "64\n",
      "81\n"
     ]
    },
    {
     "data": {
      "text/plain": [
       "null"
      ]
     },
     "execution_count": 24,
     "metadata": {},
     "output_type": "execute_result"
    }
   ],
   "source": [
    "for(int i=0; i < 10; i++)\n",
    "{\n",
    "    System.out.println(i * i);\n",
    "}"
   ]
  },
  {
   "cell_type": "code",
   "execution_count": 27,
   "metadata": {
    "slideshow": {
     "slide_type": "slide"
    }
   },
   "outputs": [
    {
     "name": "stdout",
     "output_type": "stream",
     "text": [
      "400\n",
      "400\n",
      "400\n",
      "400\n",
      "400\n",
      "400\n",
      "400\n",
      "400\n",
      "400\n",
      "400\n",
      "0\n",
      "1\n",
      "2\n",
      "3\n",
      "4\n",
      "5\n",
      "6\n",
      "7\n",
      "8\n",
      "9\n"
     ]
    },
    {
     "data": {
      "text/plain": [
       "null"
      ]
     },
     "execution_count": 27,
     "metadata": {},
     "output_type": "execute_result"
    }
   ],
   "source": [
    "int [] numbers = {0,1,2,3,4,5,6,7,8,9};\n",
    "for(int i: numbers){\n",
    "    i = 20;\n",
    "    System.out.println(i*i);\n",
    "}\n",
    "for(int i: numbers){\n",
    "    System.out.println(i);\n",
    "}"
   ]
  },
  {
   "cell_type": "markdown",
   "metadata": {
    "slideshow": {
     "slide_type": "slide"
    }
   },
   "source": [
    "## Loops II\n",
    "- Java also offers logic controlled looping\n",
    "```java\n",
    "while(x < 0){\n",
    "}\n",
    "```\n",
    "```java\n",
    "do{\n",
    "}while(x < 0);\n",
    "```"
   ]
  },
  {
   "cell_type": "code",
   "execution_count": 28,
   "metadata": {
    "slideshow": {
     "slide_type": "slide"
    }
   },
   "outputs": [
    {
     "name": "stdout",
     "output_type": "stream",
     "text": [
      "10\n",
      "9\n",
      "8\n",
      "7\n",
      "6\n",
      "5\n",
      "4\n",
      "3\n",
      "2\n",
      "1\n"
     ]
    },
    {
     "data": {
      "text/plain": [
       "null"
      ]
     },
     "execution_count": 28,
     "metadata": {},
     "output_type": "execute_result"
    }
   ],
   "source": [
    "int x = 10;\n",
    "while(x > 0)\n",
    "{\n",
    "    System.out.println(x);\n",
    "    x--;\n",
    "}"
   ]
  },
  {
   "cell_type": "markdown",
   "metadata": {
    "slideshow": {
     "slide_type": "slide"
    }
   },
   "source": [
    "## Control Statements\n",
    "\n",
    "- Java originally made __if__ statement avaialable and __switch__ partially available\n",
    "- For __if__ statements, there is no *__then__* keyword\n",
    "```java\n",
    "int x;\n",
    "if(x > 0){\n",
    "}\n",
    "else if(x < -100){\n",
    "}\n",
    "else{\n",
    "}\n",
    "```\n"
   ]
  },
  {
   "cell_type": "code",
   "execution_count": 31,
   "metadata": {
    "slideshow": {
     "slide_type": "slide"
    }
   },
   "outputs": [
    {
     "name": "stdout",
     "output_type": "stream",
     "text": [
      "This is a positive number\n"
     ]
    },
    {
     "data": {
      "text/plain": [
       "null"
      ]
     },
     "execution_count": 31,
     "metadata": {},
     "output_type": "execute_result"
    }
   ],
   "source": [
    "double aFloatingPoint = 0.0000009;\n",
    "if(aFloatingPoint < 0){\n",
    "    System.out.println(\"This is negative\");\n",
    "} else if (  aFloatingPoint == 0){\n",
    "    System.out.println(\"This is zero\");\n",
    "}\n",
    "else{\n",
    "    System.out.println(\"This is a positive number\");\n",
    "}"
   ]
  },
  {
   "cell_type": "markdown",
   "metadata": {
    "slideshow": {
     "slide_type": "slide"
    }
   },
   "source": [
    "## Switch\n",
    "- Since Java 7, __switch__ can be used with strings\n",
    "```java\n",
    "String str;\n",
    "switch(str){\n",
    "    case \"Monday\":\n",
    "            //CODE HERE\n",
    "        break;\n",
    "    case \"Tuesday\":\n",
    "            //CODE HERE\n",
    "        break;\n",
    "    default:\n",
    "            //CODE HERE\n",
    "        break;\n",
    "}\n",
    "```\n"
   ]
  },
  {
   "cell_type": "code",
   "execution_count": 35,
   "metadata": {
    "slideshow": {
     "slide_type": "slide"
    }
   },
   "outputs": [
    {
     "name": "stdout",
     "output_type": "stream",
     "text": [
      "Is the color of the sky\n"
     ]
    },
    {
     "data": {
      "text/plain": [
       "null"
      ]
     },
     "execution_count": 35,
     "metadata": {},
     "output_type": "execute_result"
    }
   ],
   "source": [
    "String my_string = \"Blue\";\n",
    "switch(my_string){\n",
    "    case \"Blue\":\n",
    "        System.out.println(\"Is the color of the sky\");\n",
    "        break;\n",
    "    case \"Green\":\n",
    "        System.out.println(\"Is the color of the grass\");\n",
    "        break;\n",
    "    default:\n",
    "        System.out.println(\"I haven't learned what things are this color yet\");\n",
    "}"
   ]
  }
 ],
 "metadata": {
  "celltoolbar": "Slideshow",
  "kernelspec": {
   "display_name": "Java",
   "language": "java",
   "name": "java"
  },
  "language_info": {
   "codemirror_mode": "text/x-java",
   "file_extension": ".java",
   "mimetype": "",
   "name": "Java",
   "nbconverter_exporter": "",
   "version": "1.8.0_151"
  }
 },
 "nbformat": 4,
 "nbformat_minor": 1
}
