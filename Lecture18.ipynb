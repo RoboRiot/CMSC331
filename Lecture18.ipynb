{
 "cells": [
  {
   "cell_type": "markdown",
   "metadata": {
    "slideshow": {
     "slide_type": "slide"
    }
   },
   "source": [
    "# Java II"
   ]
  },
  {
   "cell_type": "markdown",
   "metadata": {
    "slideshow": {
     "slide_type": "slide"
    }
   },
   "source": [
    "## Classes\n",
    "- Classes are the primary organizational unit in Java\n",
    "- They contain both variables and functions\n",
    "- Each class is generally given its own file\n",
    "- No prototypes/metatables are needed"
   ]
  },
  {
   "cell_type": "markdown",
   "metadata": {
    "slideshow": {
     "slide_type": "slide"
    }
   },
   "source": [
    "## Class Syntax\n",
    "- The syntax for creating a class is\n",
    "```java\n",
    "< accessLevelModifier > class < className >{\n",
    "   //code goes here \n",
    "}\n",
    "```\n",
    "- In general, each class is defined in a file that has the same name as the class\n",
    " - The class __UMBCer__ would be in file named __UMBCer.java__"
   ]
  },
  {
   "cell_type": "markdown",
   "metadata": {
    "slideshow": {
     "slide_type": "slide"
    }
   },
   "source": [
    "## Class Syntax Example\n",
    "\n",
    "```java\n",
    "public class UMBCer{\n",
    "\n",
    "}\n",
    "```\n"
   ]
  },
  {
   "cell_type": "markdown",
   "metadata": {
    "slideshow": {
     "slide_type": "slide"
    }
   },
   "source": [
    "## Class Members\n",
    "- The members of the class are the variables used to hold the state of the class\n",
    "- Each member must be declared with an _access level modifier_ and a type. \n",
    "\n",
    "```java\n",
    "public class UMBCer{\n",
    "    private String firstName;\n",
    "    private String lastName;\n",
    "    private String email;\n",
    "    private String id;\n",
    "}\n",
    "```"
   ]
  },
  {
   "cell_type": "markdown",
   "metadata": {
    "slideshow": {
     "slide_type": "slide"
    }
   },
   "source": [
    "## Methods\n",
    "- Similar to functions in procedural languages\n",
    "- Should be the primary way to interact with the state of an object\n",
    "- Just like members, methods are declared with an _access level modifier_\n",
    "- Methods have access to all the members of a class"
   ]
  },
  {
   "cell_type": "markdown",
   "metadata": {
    "slideshow": {
     "slide_type": "slide"
    }
   },
   "source": [
    "## Method Examples\n",
    "```java\n",
    "public class UBMCer{\n",
    "    private String firstName;\n",
    "    private String lastName;\n",
    "    private String email;\n",
    "    private String id;\n",
    "    \n",
    "    ...\n",
    "    \n",
    "    public void printFullName(){\n",
    "        System.out.println(firstName + \" \" + lastName);\n",
    "    }\n",
    "    \n",
    "    ...\n",
    "}\n",
    "```"
   ]
  },
  {
   "cell_type": "markdown",
   "metadata": {
    "slideshow": {
     "slide_type": "slide"
    }
   },
   "source": [
    "## Method Examples\n",
    "```java\n",
    "public class UBMCer{\n",
    "    private String firstName;\n",
    "    private String lastName;\n",
    "    private String email;\n",
    "    private String id;\n",
    "    \n",
    "    ...\n",
    "    \n",
    "    public String getFullName(){\n",
    "        return firstName + \" \" + lastName;\n",
    "    }\n",
    "    \n",
    "    ...\n",
    "}\n",
    "```"
   ]
  },
  {
   "cell_type": "markdown",
   "metadata": {
    "slideshow": {
     "slide_type": "slide"
    }
   },
   "source": [
    "## Method Examples\n",
    "```java\n",
    "public class UBMCer{\n",
    "    private String firstName;\n",
    "    private String lastName;\n",
    "    private String email;\n",
    "    private String id;\n",
    "    \n",
    "    ...\n",
    "    \n",
    "    public boolean setEmail(String email){\n",
    "        if(email.endsWith(\"@umbc.edu\"))\n",
    "        {\n",
    "          this.email = email;\n",
    "          return true;\n",
    "        }\n",
    "        \n",
    "        return false;\n",
    "    }\n",
    "    \n",
    "    ...\n",
    "}\n",
    "```"
   ]
  },
  {
   "cell_type": "markdown",
   "metadata": {
    "slideshow": {
     "slide_type": "slide"
    }
   },
   "source": [
    "## Constructors\n",
    "- Constructors are special methods used to initialize objects of a class\n",
    "- Constructors have no return type and have the same name as the class.\n",
    "- Each class can have multiple constructors\n",
    " - In this case the compilier differentiates them by their parameter types"
   ]
  },
  {
   "cell_type": "markdown",
   "metadata": {
    "slideshow": {
     "slide_type": "slide"
    }
   },
   "source": [
    "## Constructor Example\n",
    "\n",
    "```java\n",
    "import java.util.Random;\n",
    "public class UMBCer{\n",
    "    private String firstName;\n",
    "    private String lastName;\n",
    "    private String email;\n",
    "    private String id;\n",
    "\n",
    "    public UMBCer(String firstName, String lastName)\n",
    "    {\n",
    "\n",
    "        this.firstName = firstName;\n",
    "        this.lastName = lastName;\n",
    "        this.email = firstName + \".\" + lastName + \"@umbc.edu\";\n",
    "\n",
    "        String alphabet = \"ABCDEFGHIJKLMNOPQRSTUVWXYZ\";\n",
    "        Random rnd = new Random();\n",
    "\n",
    "        this.id = alphabet.charAt(rnd.nextInt(alphabet.length())) + \"\" +  \n",
    "                  alphabet.charAt(rnd.nextInt(alphabet.length())) +\n",
    "                  String.valueOf(rnd.nextInt(9) + 1) + String.valueOf(rnd.nextInt(9) + 1)  +\n",
    "                  String.valueOf(rnd.nextInt(9) + 1) + String.valueOf(rnd.nextInt(9) + 1);\n",
    "    }\n",
    "    ...\n",
    "}\n",
    "```"
   ]
  },
  {
   "cell_type": "markdown",
   "metadata": {
    "slideshow": {
     "slide_type": "slide"
    }
   },
   "source": [
    "## Special Methods\n",
    "- Two common tasks don't behave the way we expect with objects by default\n",
    "    - Remember that using == to compare objects will compare their reference\n",
    "        - We need to implement __.equals(Object obj)__ in order to test equality\n",
    "    - If we print an object, by default it will print the type of the object and a hash value\n",
    "        - __.toString()__ allows us to control what happens when we print an object.\n"
   ]
  },
  {
   "cell_type": "markdown",
   "metadata": {
    "slideshow": {
     "slide_type": "slide"
    }
   },
   "source": [
    "## Equals\n",
    "- The __equals__ method should always take one parameter of type Object\n",
    "    - This is to make sure we are overriding the default method all of the time. \n",
    "- A value of __null__ being passed to the method as well as an object of another class should be handled gracefully\n",
    "- When comparing member objects, be sure to use the equal methods of those classes."
   ]
  },
  {
   "cell_type": "markdown",
   "metadata": {
    "slideshow": {
     "slide_type": "slide"
    }
   },
   "source": [
    "## Equals Example\n",
    "```java\n",
    "public class UMBCer{\n",
    "    private String firstName;\n",
    "    private String lastName;\n",
    "    private String email;\n",
    "    private String id;\n",
    "    \n",
    "    public boolean equals(Object other)\n",
    "    {\n",
    "        if(!(other instanceof UMBCer) || other == null)\n",
    "        {\n",
    "            return false;\n",
    "        }\n",
    "        UMBCer otherUMBCer = (UMBCer)other;\n",
    "        \n",
    "        return this.firstName.equals(otherUMBCer.firstName) && \n",
    "               this.lastName.equals(otherUMBCer.lastName) && \n",
    "               this.email.equals(otherUMBCer.email) && \n",
    "               this.id.equals(otherUMBCer.id);\n",
    "    }\n",
    "\n",
    "}\n",
    "```"
   ]
  },
  {
   "cell_type": "markdown",
   "metadata": {
    "slideshow": {
     "slide_type": "slide"
    }
   },
   "source": [
    "## toString Example \n",
    "\n",
    "- The toString method is called automatically when the object is passed to a function that produces a string, like System.out.println()\n",
    "- Remember this is the default method and should return something legible, but in many cases shouldn't be relied upon in code to produce formatted strings\n",
    "\n",
    "```java\n",
    "public class UMBCer{\n",
    "    private String firstName;\n",
    "    private String lastName;\n",
    "    private String email;\n",
    "    private String id;\n",
    "    \n",
    "    public String toString(){\n",
    "        return \"UMBCer \" + id + \": \" + firstName + \" \" + lastName;\n",
    "    }\n",
    "    \n",
    "}\n",
    "```\n"
   ]
  },
  {
   "cell_type": "markdown",
   "metadata": {
    "slideshow": {
     "slide_type": "slide"
    }
   },
   "source": [
    "## Method Overloading\n",
    "- Due to Java's typing we can have many methods with the same name, even in the same object.\n",
    "- The compiler and the runtime system use the method signature along with the parameters being passed at runtime to deterimine which method to use\n",
    "- The return type is not part of the method signature\n",
    "- The following code __*does not work*__\n",
    "\n",
    "```java\n",
    "public class UMBCer{\n",
    "    private String firstName;\n",
    "    private String lastName;\n",
    "    private String email;\n",
    "    private String id;\n",
    "    \n",
    "    public void setName(String firstName){\n",
    "        this.firstName = firstName;\n",
    "    }\n",
    "    \n",
    "    public boolean setName(String lastName){\n",
    "        this.lastName = lastName;\n",
    "    }\n",
    "\n",
    "```"
   ]
  },
  {
   "cell_type": "markdown",
   "metadata": {
    "slideshow": {
     "slide_type": "slide"
    }
   },
   "source": [
    "## Method Overloading Example\n",
    "```java\n",
    "import java.util.GregorianCalendar\n",
    "\n",
    "public class UMBCer{\n",
    "    private String firstName;\n",
    "    private String lastName;\n",
    "    private String email;\n",
    "    private String id;\n",
    "    private GregorianCalendar birthday;\n",
    "\n",
    "\n",
    "    public void setBirthday(GegorianCalendar date){\n",
    "        this.birthday = (GregorianCalendar)date.clone();\n",
    "    }\n",
    "\n",
    "    public boolean setBirthday(int month, int day, int year){\n",
    "        this.birthday = new GegorianCalendar(year,month,day);\n",
    "        return true;\n",
    "    }\n",
    "```"
   ]
  },
  {
   "cell_type": "markdown",
   "metadata": {
    "slideshow": {
     "slide_type": "slide"
    }
   },
   "source": [
    "## Returning Objects\n",
    "- A method can return an object just like any other data type\n",
    "- We need to take special precautions when returing object\n",
    "    - Always return a new object\n",
    "    \n",
    "```java\n",
    "\n",
    "import java.util.GregorianCalendar\n",
    "\n",
    "public class UMBCer{\n",
    "    private String firstName;\n",
    "    private String lastName;\n",
    "    private String email;\n",
    "    private String id;\n",
    "    private GregorianCalendar birthday;\n",
    "    \n",
    "    public GegorianCalendar getBirthday(){\n",
    "        return  (GregorianCalendar)birthday.clone();\n",
    "    }\n",
    "    ```"
   ]
  },
  {
   "cell_type": "markdown",
   "metadata": {
    "slideshow": {
     "slide_type": "slide"
    }
   },
   "source": [
    "## Copy Constructors\n",
    "- In the previous example, we had to call __clone__ to ensure we were returning a new object.\n",
    "- It is often easier to use new and pass the existing object as a parameter\n",
    "\n",
    "```java\n",
    "public class UMBCer{\n",
    "    private String firstName;\n",
    "    private String lastName;\n",
    "    private String email;\n",
    "    private String id;\n",
    "    private GregorianCalendar birthday;\n",
    "    \n",
    "    public UMBCer(UMBCer other){\n",
    "        this.firstName = new String(other.firstName);\n",
    "        this.lastName = other.lastName;\n",
    "        this.email = other.email;\n",
    "        this.id = other.id;\n",
    "        this.birthday = (GregorianCalendar)other.birthday.clone();\n",
    "    }\n",
    "\n",
    "}\n",
    "```"
   ]
  },
  {
   "cell_type": "markdown",
   "metadata": {
    "slideshow": {
     "slide_type": "slide"
    }
   },
   "source": [
    "## Private Methods\n",
    "- So far all methods have been public\n",
    "- When we declare a method as private, only other methods of that class can call it.\n",
    "- This is useful for helper methods that we don't want to make available to all users of the class.\n",
    "\n",
    "```java\n",
    "public class UMBCer{\n",
    "    private String firstName;\n",
    "    private String lastName;\n",
    "    private String email;\n",
    "    private String id;\n",
    "    private GregorianCalendar birthday;\n",
    "\n",
    "    private boolean validEmail(String email){\n",
    "        return email.endsWith(\"@umbc.edu\");\n",
    "    }\n",
    "```"
   ]
  },
  {
   "cell_type": "markdown",
   "metadata": {
    "slideshow": {
     "slide_type": "slide"
    }
   },
   "source": [
    "## Static\n",
    "- Sometimes, we want a variable or a method to exist for the whole class rather than an instance of it.\n",
    "- Use the keyword __static__ to accomplish this.\n",
    "- This goes against OOP principles\n",
    "     - But it is really useful and can make implementation more efficent\n",
    "\n",
    "```java\n",
    "import java.util.Random;\n",
    "public class UMBCer{\n",
    "    private String firstName;\n",
    "    private String lastName;\n",
    "    private String email;\n",
    "    private String id;\n",
    "    private static String alphabet = \"ABCDEFGHIJKLMNOPQRSTUVWXYZ\";\n",
    "    private static Random rnd = new Random();\n",
    "\n",
    "    public UMBCer(String firstName, String lastName)\n",
    "    {\n",
    "\n",
    "        this.firstName = firstName;\n",
    "        this.lastName = lastName;\n",
    "        this.email = firstName + \".\" + lastName + \"@umbc.edu\";\n",
    "\n",
    "        this.id = alphabet.charAt(rnd.nextInt(alphabet.length())) + \"\" +  \n",
    "                  alphabet.charAt(rnd.nextInt(alphabet.length())) +\n",
    "                  String.valueOf(rnd.nextInt(9) + 1) + String.valueOf(rnd.nextInt(9) + 1)  +\n",
    "                  String.valueOf(rnd.nextInt(9) + 1) + String.valueOf(rnd.nextInt(9) + 1);\n",
    "    }\n",
    "    ...\n",
    "}\n",
    "```"
   ]
  },
  {
   "cell_type": "markdown",
   "metadata": {
    "slideshow": {
     "slide_type": "slide"
    }
   },
   "source": [
    "## File IO \n",
    "- Working with files in Java requres two objects generally\n",
    "    - Their instantiaions can be combined into one line\n",
    " - A stream represents the flow of text into or out of a file\n",
    " - The __PrintWriter__ class implements functions used in printing\n",
    " - The __Scanner__ class implements functions used in reading.\n"
   ]
  },
  {
   "cell_type": "markdown",
   "metadata": {
    "slideshow": {
     "slide_type": "slide"
    }
   },
   "source": [
    "## Reading from a File\n",
    "- To read from a file we create a __FileInputStream__ that we then pass to a __Scanner__ instance\n",
    "- Some of the methods are __nextLine()__ , __nextInt()__, and __nextFloat()__\n",
    "\n",
    "```java\n",
    "import java.util.Scanner;\n",
    "import java.io.FileInputStream;\n",
    "import java.io.FileNotFoundException;\n",
    "public class ScannerExample{\n",
    "\n",
    "    public static void main(String[] args){\n",
    "    \n",
    "        Scanner input = new Scanner( new FileInputStream(\"words.txt\"));\n",
    "        \n",
    "        while(input.hasNextLine())\n",
    "        {\n",
    "            line = input.nextLine();\n",
    "        }\n",
    "    }\n",
    "}\n",
    "```"
   ]
  },
  {
   "cell_type": "markdown",
   "metadata": {
    "slideshow": {
     "slide_type": "slide"
    }
   },
   "source": [
    "## Writing to a File\n",
    "- Writing is very similar, except we use a __PrintWriter__ instance\n",
    "- The main methods to use in this class are __print__ and __println__\n",
    "\n",
    "```java\n",
    "import java.io.PrintWriter\n",
    "import java.io.FileOutputStream;\n",
    "import java.io.FileNotFoundException;\n",
    "\n",
    "public class WriterExample{\n",
    "    public static void main(String[] args){\n",
    "    \n",
    "        PrintWriter output = new PrintWriter(\n",
    "            new FileOutputStream(\"out.txt\"))\n",
    "        \n",
    "        output.println(\"Print this to the file\");\n",
    "        \n",
    "        output.close();\n",
    "    }\n",
    "}\n",
    "```"
   ]
  },
  {
   "cell_type": "markdown",
   "metadata": {
    "collapsed": true,
    "slideshow": {
     "slide_type": "slide"
    }
   },
   "source": [
    "## Exceptions Preview\n",
    "- Exceptions are them main way to indicate and handle errors in Java\n",
    "- When attempting to read a file, what happens if the file doesn't exist?\n",
    "\n",
    "```java\n",
    "import java.util.Scanner;\n",
    "import java.io.FileInputStream;\n",
    "import java.io.FileNotFoundException;\n",
    "public class ScannerExample{\n",
    "\n",
    "    public static void main(String[] args){\n",
    "    \n",
    "        try{\n",
    "            input = new Scanner( new FileInputStream(\"words.txt\"));\n",
    "        \n",
    "            while(input.hasNextLine())\n",
    "            {\n",
    "                line = input.nextLine();\n",
    "            }\n",
    "        }\n",
    "        catch(FileNotFoundException)\n",
    "        {\n",
    "            System.err.println(\"Could not open file words.txt\");\n",
    "        }\n",
    "    }\n",
    "}\n",
    "```"
   ]
  }
 ],
 "metadata": {
  "celltoolbar": "Slideshow",
  "kernelspec": {
   "display_name": "Python 2",
   "language": "python",
   "name": "python2"
  },
  "language_info": {
   "codemirror_mode": {
    "name": "ipython",
    "version": 3
   },
   "file_extension": ".py",
   "mimetype": "text/x-python",
   "name": "python",
   "nbconvert_exporter": "python",
   "pygments_lexer": "ipython3",
   "version": "3.5.2"
  }
 },
 "nbformat": 4,
 "nbformat_minor": 1
}
