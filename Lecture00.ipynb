{
 "cells": [
  {
   "cell_type": "markdown",
   "metadata": {
    "slideshow": {
     "slide_type": "fragment"
    }
   },
   "source": [
    "# Principles of Programming Languages\n",
    "\n",
    "## CMSC 331 Course Information"
   ]
  },
  {
   "cell_type": "markdown",
   "metadata": {
    "slideshow": {
     "slide_type": "slide"
    }
   },
   "source": [
    "## Contact Information\n",
    "### Bryan Wilkinson  \n",
    "  \n",
    "  \n",
    "bryan.wilkinson@umbc.edu  \n",
    "ITE 373  \n",
    "Office Hours: \n",
    "      Monday 10:30 AM - 11:30AM  and Thursday 3:00 PM - 4:30 PM  \n",
    "      or by appointment  \n",
    "Course Website: https://www.csee.umbc.edu/courses/undergraduate/331/spring18/wilkinson/"
   ]
  },
  {
   "cell_type": "markdown",
   "metadata": {
    "slideshow": {
     "slide_type": "slide"
    }
   },
   "source": [
    "## What is a Programming Language?\n",
    "- Oxford English Dictionary Definition\n",
    "    -  a system of precisely defined symbols and rules devised for writing computer programs\n",
    "- Wiktionary Definition\n",
    "    - Code of reserved words and symbols used in computer programs, which give instructions to the computer on how to accomplish certain computing tasks. "
   ]
  },
  {
   "cell_type": "markdown",
   "metadata": {
    "slideshow": {
     "slide_type": "slide"
    }
   },
   "source": [
    "## Reasons to Study Programming Languages\n",
    "\n",
    "* Increased capacity to\texpress\tprogramming\tconcepts\t\n",
    "* Improved background for choosing appropriate languages\t\n",
    "* **Enhanced ability to learn\tnew\tlanguages**\n",
    "* Improved understanding of the significance of\timplementation\t\n",
    "* Increased\tability to design new languages\t\n",
    "* Mastering\tdifferent programming paradigms\t"
   ]
  },
  {
   "cell_type": "markdown",
   "metadata": {
    "slideshow": {
     "slide_type": "slide"
    }
   },
   "source": [
    "## Some Programing Languages Available @ UMBC\n",
    "<div style=\"width:33%;float:left\">\n",
    "    <ul>\n",
    "        <li>Awk</li>\n",
    "        <li>bash</li>\n",
    "        <li>C</li>\n",
    "        <li>C++</li>\n",
    "        <li>Common Lisp</li>\n",
    "        <li>csh</li>\n",
    "        <li>dash</li>\n",
    "         <li>Fortran</li>\n",
    "    </ul>\n",
    "    </div>\n",
    "    <div style=\"width:33%;float:left\">\n",
    "    <ul>\n",
    "\n",
    "        <li>Haskell</li>\n",
    "        <li>Java</li>\n",
    "        <li>Lua</li>\n",
    "        <li>Matlab</li>\n",
    "            <li>Octave</li>\n",
    "            <li>Perl</li>\n",
    "            <li>PHP</li>\n",
    "            <li>Python</li>\n",
    "    </ul>\n",
    "    </div>\n",
    "   <div style=\"width:33%;float:left\"> \n",
    "        <ul>\n",
    "            \n",
    "            <li>R</li>\n",
    "            <li>Ruby</li>\n",
    "            <li>S</li>\n",
    "            <li>Scheme</li>\n",
    "            <li>TCL</li>\n",
    "            <li>tcsh</li>\n",
    "            <li>zsh</li>\n",
    "    </ul>\n",
    "    </div>"
   ]
  },
  {
   "cell_type": "markdown",
   "metadata": {
    "slideshow": {
     "slide_type": "slide"
    }
   },
   "source": [
    "## How Many Programming Languages are There?\n",
    "- Just like counting the number of natural languages, this is a tricky question to answer\n",
    "    - Are python 2 and python 3 different languages?\n",
    "    - How about the csh and tcsh?\n",
    "- Wikipedia's [List of Programming Languages](https://en.wikipedia.org/wiki/List_of_programming_languages) currently has 707 entries\n",
    "- [GitHub](https://octoverse.github.com/) reports hosting repositories in 337 languages \n",
    "    - 13 languages had over 100K pull requests to projects associated with them"
   ]
  },
  {
   "cell_type": "markdown",
   "metadata": {
    "slideshow": {
     "slide_type": "slide"
    }
   },
   "source": [
    "## Language Evaluation Criteria\n",
    "\n",
    "* Readability\t\n",
    "* Writability\n",
    "* Reliability\t\n",
    "* Cost\t"
   ]
  },
  {
   "cell_type": "markdown",
   "metadata": {
    "slideshow": {
     "slide_type": "slide"
    }
   },
   "source": [
    "## Readability\n",
    "* How easy is it to\tread and understand\tprograms writen in the programming language?\t\n",
    "* Arguably the most important criterion!\t"
   ]
  },
  {
   "cell_type": "markdown",
   "metadata": {
    "slideshow": {
     "slide_type": "slide"
    }
   },
   "source": [
    "## Readability Factors\n",
    " * Simplicity: too many features is\tbad\t\n",
    " * Orthogonality: small\tset\tof primitive constructs combinable in a small number of ways to build the language’s control and data structures\t\t\n",
    " * Control\tstatements\t\n",
    " * Data\ttype\tand\tstructures\t\n",
    " * Syntax\tconsiderations"
   ]
  },
  {
   "cell_type": "markdown",
   "metadata": {
    "slideshow": {
     "slide_type": "slide"
    }
   },
   "source": [
    "## Readability in the real World\n",
    "- Readability is largely programmer dependent\n",
    "    - A programmers experiecne and prior languages influence which langauges they consider readable\n",
    "    - How the programmer writes the code influences the readability to others\n",
    "- Programming Languages that support features like good reuse of code through functions, etc. allow more readable code to be written"
   ]
  },
  {
   "cell_type": "markdown",
   "metadata": {
    "slideshow": {
     "slide_type": "slide"
    }
   },
   "source": [
    "## Readability Example 1\n",
    "```lisp\n",
    "(define (mystery A B)\n",
    "    (apply + (map *  A B)))\n",
    "```"
   ]
  },
  {
   "cell_type": "markdown",
   "metadata": {
    "slideshow": {
     "slide_type": "slide"
    }
   },
   "source": [
    "## Readability Example 2\n",
    "```c\n",
    "float operation(something a, something b)\n",
    "{\n",
    "\treturn a.i*b.i+a.j*b.j+a.k*b.k;\n",
    "}\n",
    "```"
   ]
  },
  {
   "cell_type": "markdown",
   "metadata": {
    "slideshow": {
     "slide_type": "slide"
    }
   },
   "source": [
    "## Readability Example 3\n",
    "```python\n",
    "def secret(a,b):\n",
    "    return reduce( lambda x,y: x + y, map(*, a,b))\n",
    "```"
   ]
  },
  {
   "cell_type": "markdown",
   "metadata": {
    "slideshow": {
     "slide_type": "slide"
    }
   },
   "source": [
    "## Readability Example 1.1\n",
    "```lisp\n",
    "(define X '(3 4 5))\n",
    "(define Y '(4 3 5))\n",
    "\n",
    "(define mystery (lambda (A B)\n",
    "    (apply + (map *  A B))))\n",
    "\n",
    "(mystery X Y)\n",
    "```"
   ]
  },
  {
   "cell_type": "markdown",
   "metadata": {
    "slideshow": {
     "slide_type": "slide"
    }
   },
   "source": [
    "## Readability Example 2.1\n",
    "```c\n",
    "typedef struct{\n",
    "\tfloat i,j,k;\n",
    "\t}something;\n",
    " \n",
    "something x = {3, 4, 5},y = {4, 3, 5},z = {-5, -12, -13};\n",
    "\n",
    "float operation(something a, something b)\n",
    "{\n",
    "\treturn a.i*b.i+a.j*b.j+a.k*b.k;\n",
    "}\n",
    "\n",
    "operation(x,y);\n",
    "```"
   ]
  },
  {
   "cell_type": "markdown",
   "metadata": {
    "slideshow": {
     "slide_type": "slide"
    }
   },
   "source": [
    "## Readability Example 3.1"
   ]
  },
  {
   "cell_type": "code",
   "execution_count": 2,
   "metadata": {
    "slideshow": {
     "slide_type": "-"
    }
   },
   "outputs": [
    {
     "name": "stdout",
     "output_type": "stream",
     "text": [
      "49\n"
     ]
    }
   ],
   "source": [
    "from functools import reduce\n",
    "\n",
    "x = [3, 4, 5]\n",
    "y = [4, 3, 5]\n",
    "def secret(a,b):\n",
    "    return reduce(lambda x,y: x + y, map(lambda i,j: i * j, a,b))\n",
    "    \n",
    "    \n",
    "print(secret(x,y))"
   ]
  },
  {
   "cell_type": "markdown",
   "metadata": {
    "slideshow": {
     "slide_type": "slide"
    }
   },
   "source": [
    "## Writeability\n",
    "* How easy is\tit\tto\twrite\tprograms\tin\tthe\tlanguage?\t\n",
    "* Factors\teffecting\twritability:\n",
    " * Simplicity\tand\torthogonality\n",
    " * Support\tfor\tabstraction\t\n",
    " * Expressivity\t\n",
    " * Fit\tfor\tthe\tdomain\tand\tproblem\t"
   ]
  },
  {
   "cell_type": "markdown",
   "metadata": {
    "slideshow": {
     "slide_type": "slide"
    }
   },
   "source": [
    "## My Personal Writeability Criteria\n",
    "- How much of what I am trying to do has been implemented by someone else, and how easy is that code to use?"
   ]
  },
  {
   "cell_type": "markdown",
   "metadata": {
    "slideshow": {
     "slide_type": "slide"
    }
   },
   "source": [
    "## Reliability\n",
    "\n",
    "* Type\tchecking\t\n",
    "* Exception\thandling\t\n",
    "* Aliasing\t\n",
    "* Readability and writability"
   ]
  },
  {
   "cell_type": "markdown",
   "metadata": {
    "slideshow": {
     "slide_type": "slide"
    }
   },
   "source": [
    "## Examples of Reliability\n",
    "- How important is it to to catch bugs before the product is shipped\n",
    "    - Should a programmer be able to try and do math with a string undetected?\n",
    "- How easy is it to make a bug in the language\n",
    "    - Can a misplaced tab character drastically change the behavior of the program?"
   ]
  },
  {
   "cell_type": "markdown",
   "metadata": {
    "slideshow": {
     "slide_type": "slide"
    }
   },
   "source": [
    "## A reliability factor tangential to the language\n",
    "- How many IDEs and editors support the language\n",
    "   - Is a good quality linter available?"
   ]
  },
  {
   "cell_type": "markdown",
   "metadata": {
    "slideshow": {
     "slide_type": "slide"
    }
   },
   "source": [
    "## Cost\n",
    "* Programmer\ttraining\t\n",
    "* Software\tcreation\t\n",
    "* Compilation\t\n",
    "* Execution\t\n",
    "* Compiler cost\t\n",
    "* Poor reliability\t\n",
    "* Maintenance\t"
   ]
  },
  {
   "cell_type": "markdown",
   "metadata": {
    "slideshow": {
     "slide_type": "slide"
    }
   },
   "source": [
    "## Language Popularity on Stack Overflow\n",
    "![](img/stackoverflow_insights_one.svg)"
   ]
  },
  {
   "cell_type": "markdown",
   "metadata": {
    "slideshow": {
     "slide_type": "slide"
    }
   },
   "source": [
    "## Zoomed in Look at Language Popularity on Stack Overflow\n",
    "![](img/stackoverflow_insights_rare.svg)"
   ]
  },
  {
   "cell_type": "markdown",
   "metadata": {
    "slideshow": {
     "slide_type": "slide"
    }
   },
   "source": [
    "## Language Popularity on GitHub\n",
    "https://madnight.github.io/githut/#/pull_requests/2017/4"
   ]
  },
  {
   "cell_type": "markdown",
   "metadata": {
    "slideshow": {
     "slide_type": "slide"
    }
   },
   "source": [
    "## Language\tDesign\tTrade-offs\t\n",
    "* Reliability\tversus\tcost\tof\texecution\t\n",
    " * Ada,\tunlike\tC,\tchecks\tall\tarray\tindices\tto\tensure proper\trange\tbut\thas\tvery\texpensive\tcompilation\t\n",
    "* Writability\tversus\treadability\t\n",
    " ```apl\n",
    "     (2 = 0 +.= T o.| T) / T <- iN\n",
    "   ```\n",
    "  * APL\tone-liner\tproducing\tprime\tnumbers\tfrom\t1 to\tN,\tobscure\tto\tall\tbut\tthe\tauthor\t\n",
    "* Flexibility\tversus\tsafety\t\n",
    " * C,\tunlike\tJava,\tallows\tone\tto\tdo\tarithmetic\ton pointers\t"
   ]
  },
  {
   "cell_type": "markdown",
   "metadata": {
    "slideshow": {
     "slide_type": "slide"
    }
   },
   "source": [
    "## Types of Languages\n",
    "* Imperative or\tprocedural\n",
    "* Object-oriented\n",
    "* Functional\n",
    "* Rule based\t\n",
    "\n",
    "The following examples are taken from http://rosettacode.org/"
   ]
  },
  {
   "cell_type": "markdown",
   "metadata": {
    "slideshow": {
     "slide_type": "slide"
    }
   },
   "source": [
    "## Imperative Language: C\n",
    "```c\n",
    "#include <stdio.h>\n",
    "#include <math.h>\n",
    " \n",
    "int main(int argc, char **argv) {\n",
    " \n",
    "   float x[4] = {1,2,3,1e11}, y[4];\n",
    "   int i = 0;\n",
    "   FILE *filePtr;\n",
    " \n",
    "   filePtr = fopen(\"floatArray\",\"w\");\n",
    " \n",
    "   for (i = 0; i < 4; i++) {\n",
    "      y[i] = sqrt(x[i]);\n",
    "      fprintf(filePtr, \"%.3g\\t%.5g\\n\", x[i], y[i]);\n",
    "   }\n",
    " \n",
    "   return 0;\n",
    "}\n",
    "```\n"
   ]
  },
  {
   "cell_type": "markdown",
   "metadata": {
    "slideshow": {
     "slide_type": "slide"
    }
   },
   "source": [
    "## Imperative Language: Lua\n",
    "```lua\n",
    "filename = \"file.txt\"\n",
    " \n",
    "x = { 1, 2, 3, 1e11 }\n",
    "y = { 1, 1.4142135623730951, 1.7320508075688772, 316227.76601683791 };\n",
    "xprecision = 3;\n",
    "yprecision = 5;\n",
    " \n",
    "fstr = \"%.\"..tostring(xprecision)..\"f \"..\"%.\"..tostring(yprecision)..\"f\\n\"\n",
    " \n",
    "fp = io.open( filename, \"w+\" )\n",
    " \n",
    "for i = 1, #x do\n",
    "    fp:write( string.format( fstr, x[i], y[i] ) )\n",
    "end\n",
    " \n",
    "io.close( fp )\n",
    "```"
   ]
  },
  {
   "cell_type": "markdown",
   "metadata": {
    "slideshow": {
     "slide_type": "slide"
    }
   },
   "source": [
    "## Object-Oriented Language: Ruby\n",
    "```Ruby\n",
    "# prepare test data\n",
    "x = [1, 2, 3, 1e11]\n",
    "y = x.collect { |xx| Math.sqrt xx }\n",
    "xprecision = 3\n",
    "yprecision = 5\n",
    " \n",
    "# write the arrays\n",
    "open('sqrt.dat', 'w') do |f|\n",
    "  x.zip(y) { |xx, yy| f.printf(\"%.*g\\t%.*g\\n\", xprecision, xx, yprecision, yy) }\n",
    "end\n",
    " \n",
    "# print the result file\n",
    "open('sqrt.dat', 'r') { |f| puts f.read }\n",
    "```"
   ]
  },
  {
   "cell_type": "markdown",
   "metadata": {
    "slideshow": {
     "slide_type": "slide"
    }
   },
   "source": [
    "## Object-Oriented Language: Java\n",
    "```java\n",
    "import java.io.*;\n",
    " \n",
    "public class FloatArray {\n",
    "    public static void writeDat(String filename, double[] x, double[] y,\n",
    "                                int xprecision, int yprecision)\n",
    "        throws IOException {\n",
    "        assert x.length == y.length;\n",
    "        PrintWriter out = new PrintWriter(filename);\n",
    "        for (int i = 0; i < x.length; i++)\n",
    "            out.printf(\"%.\"+xprecision+\"g\\t%.\"+yprecision+\"g\\n\", x[i], y[i]);\n",
    "        out.close();\n",
    "    }\n",
    " \n",
    "    public static void main(String[] args) {\n",
    "        double[] x = {1, 2, 3, 1e11};\n",
    "        double[] y = new double[x.length];\n",
    "        for (int i = 0; i < x.length; i++)\n",
    "            y[i] = Math.sqrt(x[i]);\n",
    " \n",
    "        try {\n",
    "            writeDat(\"sqrt.dat\", x, y, 3, 5);\n",
    "        } catch (IOException e) {\n",
    "            System.err.println(\"writeDat: exception: \"+e);\n",
    "        }\n",
    " \n",
    "        try {\n",
    "            BufferedReader br = new BufferedReader(new FileReader(\"sqrt.dat\"));\n",
    "            String line;\n",
    "            while ((line = br.readLine()) != null)\n",
    "                System.out.println(line);\n",
    "        } catch (IOException e) { }\n",
    "    }\n",
    "}\n",
    "```"
   ]
  },
  {
   "cell_type": "markdown",
   "metadata": {
    "slideshow": {
     "slide_type": "slide"
    }
   },
   "source": [
    "## Functional Language: LISP\n",
    "```lisp\n",
    "(with-open-file (stream (make-pathname :name \"filename\") :direction :output)\n",
    "    (let* ((x (make-array 4 :initial-contents '(1 2 3 1e11)))\n",
    "              (y (map 'vector 'sqrt x))\n",
    "              (xprecision 3)\n",
    "              (yprecision 5)\n",
    "              (fmt (format nil \"~~,1,~d,,G~~12t~~,~dG~~%\" xprecision yprecision)))\n",
    "        (map nil (lambda (a b)\n",
    "                     (format stream fmt a b)) x y)))\n",
    "```"
   ]
  },
  {
   "cell_type": "markdown",
   "metadata": {
    "slideshow": {
     "slide_type": "slide"
    }
   },
   "source": [
    "## Functional Language: Haskell\n",
    "```bash\n",
    "import System.IO\n",
    "import Text.Printf\n",
    "import Control.Monad\n",
    " \n",
    "writeDat filename x y xprec yprec =\n",
    "  withFile filename WriteMode $ \\h ->\n",
    "     -- Haskell's printf doesn't support a precision given as an argument for some reason, so we insert it into the format manually:\n",
    "     let writeLine = hPrintf h $ \"%.\" ++ show xprec ++ \"g\\t%.\" ++ show yprec ++ \"g\\n\" in\n",
    "       zipWithM_ writeLine x y\n",
    "```"
   ]
  },
  {
   "cell_type": "markdown",
   "metadata": {
    "slideshow": {
     "slide_type": "slide"
    }
   },
   "source": [
    "## Logical Language: Prolog\n",
    "\n",
    "```\n",
    "palindrome(Word) :- name(Word,List), reverse(List,List).\n",
    "```"
   ]
  },
  {
   "cell_type": "markdown",
   "metadata": {
    "slideshow": {
     "slide_type": "slide"
    }
   },
   "source": [
    "## Implementation\tmethods\t\n",
    "* Direct\texecution\tby\thardware\t\n",
    " * e.g.,\tnative\tmachine\tlanguage\t\t\n",
    "* Compilation\tto\tanother\tlanguage\t\n",
    " * e.g.,\tC\tcompiled\tto\tIntel\tPentium\t4\tnative\tmachine\tlanguage\t\t\n",
    "* Interpretation:\tdirect\texecution\tby\tsoftware\t\n",
    " * e.g.,\tcsh,\tLisp,\tPython,\tJavaScript\t\n",
    "* Hybrid:\tcompilation\tthen\tinterpretation\t\t\n",
    " * Compilation\tto\tanother\tlanguage\t(aka\tbytecode),\tthen\tinterpreted\tby\ta\t‘virtual\tmachine’,\te.g.,\tJava,\tPerl\t\n",
    "* Just-in-time\tcompilation\t\n",
    " * Dynamically\tcompile\tsome\tbytecode\tto\tnative\tcode (e.g.,\tV8\tJavaScript\tengine)\t"
   ]
  },
  {
   "cell_type": "markdown",
   "metadata": {
    "slideshow": {
     "slide_type": "slide"
    }
   },
   "source": [
    "## Compliation\n",
    "<img src=\"img/compilation.jpg\" style=\"height:75vh;margin:5px auto\">"
   ]
  },
  {
   "cell_type": "markdown",
   "metadata": {
    "slideshow": {
     "slide_type": "slide"
    }
   },
   "source": [
    "## Interpretation\n",
    "<img src=\"img/interpreter.jpg\" style=\"height:75vh;margin:5px auto;\">"
   ]
  },
  {
   "cell_type": "markdown",
   "metadata": {
    "slideshow": {
     "slide_type": "slide"
    }
   },
   "source": [
    "## Hybrid\n",
    "\n",
    "<img src=\"img/hybrid.jpg\" style=\"height:75vh;margin:5px auto;\">"
   ]
  }
 ],
 "metadata": {
  "celltoolbar": "Slideshow",
  "kernelspec": {
   "display_name": "Python 3",
   "language": "python",
   "name": "python3"
  },
  "language_info": {
   "codemirror_mode": {
    "name": "ipython",
    "version": 3
   },
   "file_extension": ".py",
   "mimetype": "text/x-python",
   "name": "python",
   "nbconvert_exporter": "python",
   "pygments_lexer": "ipython3",
   "version": "3.5.2"
  },
  "toc": {
   "nav_menu": {},
   "number_sections": false,
   "sideBar": true,
   "skip_h1_title": false,
   "toc_cell": false,
   "toc_position": {},
   "toc_section_display": "block",
   "toc_window_display": false
  }
 },
 "nbformat": 4,
 "nbformat_minor": 1
}
