{
 "cells": [
  {
   "cell_type": "markdown",
   "metadata": {
    "slideshow": {
     "slide_type": "slide"
    }
   },
   "source": [
    "# Programming Languages\n",
    "\n",
    "## Course Information"
   ]
  },
  {
   "cell_type": "markdown",
   "metadata": {
    "slideshow": {
     "slide_type": "slide"
    }
   },
   "source": [
    "## Contact Information\n",
    "### Bryan Wilkinson  \n",
    "  \n",
    "  \n",
    "bwilk1@umbc.edu  \n",
    "bwilk7.github.io  \n",
    "ITE 374\n",
    "Office Hours: Tuesday 10:00am and Wednesday 2:30pm or by appointment"
   ]
  },
  {
   "cell_type": "markdown",
   "metadata": {
    "slideshow": {
     "slide_type": "slide"
    }
   },
   "source": [
    "## Reasons to Study Programming Languages\n",
    "\n",
    "* Increased capacity to\texpress\tprogramming\tconcepts\t\n",
    "* Improved background for choosing appropriate languages\t\n",
    "* Enhanced ability to learn\tnew\tlanguages\t\n",
    "* Improved understanding of the significance of\timplementation\t\n",
    "* Increased\tability to design new languages\t\n",
    "* Mastering\tdifferent programming paradigms\t"
   ]
  },
  {
   "cell_type": "markdown",
   "metadata": {
    "collapsed": true,
    "slideshow": {
     "slide_type": "slide"
    }
   },
   "source": [
    "```python\n",
    "import pickle\n",
    "import numpy\n",
    "\n",
    "import rpy2.robjects.packages as rpackages\n",
    "import rpy2.robjects.numpy2ri as np2ri\n",
    "import rpy2.robjects as ro\n",
    "np2ri.activate()\n",
    "psych = rpackages.importr('psych')\n",
    "\n",
    "\n",
    "rawData = pickle.load(open('mturkResults.pkl'))\n",
    "data = pandas.DataFrame(rawData)\n",
    "\n",
    "agreementMatrix = numpy.nan_to_num(numpy.corrcoef(data))\n",
    "numpy.fill_diagonal(agreementMatrix,1)\n",
    "\n",
    "#Call R function\n",
    "factors = psych.fa(agreementMatrix,fm='pa')\n",
    "```"
   ]
  },
  {
   "cell_type": "markdown",
   "metadata": {
    "slideshow": {
     "slide_type": "slide"
    }
   },
   "source": [
    "## Language Evaluation Criteria\n",
    "\n",
    "* Readability\t\n",
    "* Writability\n",
    "* Reliability\t\n",
    "* Cost\t"
   ]
  },
  {
   "cell_type": "markdown",
   "metadata": {
    "slideshow": {
     "slide_type": "slide"
    }
   },
   "source": [
    "## Readability\n",
    "* How easy is it to\tread and understand\tprograms writen in the programming language?\t\n",
    "* Arguably the most important criterion!\t"
   ]
  },
  {
   "cell_type": "markdown",
   "metadata": {
    "slideshow": {
     "slide_type": "slide"
    }
   },
   "source": [
    "## Readability Factors\n",
    " * Simplicity: too many features is\tbad\t\n",
    " * Orthogonality: small\tset\tof primitive constructs combinable in a small number of ways to build the language’s control and data structures\t\t\n",
    " * Control\tstatements\t\n",
    " * Data\ttype\tand\tstructures\t\n",
    " * Syntax\tconsiderations"
   ]
  },
  {
   "cell_type": "markdown",
   "metadata": {
    "slideshow": {
     "slide_type": "slide"
    }
   },
   "source": [
    "## Writeability\n",
    "* How easy is\tit\tto\twrite\tprograms\tin\tthe\tlanguage?\t\n",
    "* Factors\teffecting\twritability:\n",
    " * Simplicity\tand\torthogonality\n",
    " * Support\tfor\tabstraction\t\n",
    " * Expressivity\t\n",
    " * Fit\tfor\tthe\tdomain\tand\tproblem\t"
   ]
  },
  {
   "cell_type": "markdown",
   "metadata": {
    "slideshow": {
     "slide_type": "slide"
    }
   },
   "source": [
    "## Reliability\n",
    "\n",
    "* Type\tchecking\t\n",
    "* Exception\thandling\t\n",
    "* Aliasing\t\n",
    "* Readability\tand\twritability"
   ]
  },
  {
   "cell_type": "markdown",
   "metadata": {
    "slideshow": {
     "slide_type": "slide"
    }
   },
   "source": [
    "## Cost\n",
    "* Programmer\ttraining\t\n",
    "* Software\tcreation\t\n",
    "* Compilation\t\n",
    "* Execution\t\n",
    "* Compiler cost\t\n",
    "* Poor reliability\t\n",
    "* Maintenance\t"
   ]
  },
  {
   "cell_type": "markdown",
   "metadata": {
    "slideshow": {
     "slide_type": "slide"
    }
   },
   "source": [
    "## Language\tDesign\tTrade-offs\t\n",
    "* Reliability\tversus\tcost\tof\texecution\t\n",
    " * Ada,\tunlike\tC,\tchecks\tall\tarray\tindices\tto\tensure proper\trange\tbut\thas\tvery\texpensive\tcompilation\t\n",
    "* Writability\tversus\treadability\t\n",
    " ```apl\n",
    "     (2 = 0 +.= T o.| T) / T <- iN\n",
    "   ```\n",
    "  * APL\tone-liner\tproducing\tprime\tnumbers\tfrom\t1 to\tN,\tobscure\tto\tall\tbut\tthe\tauthor\t\n",
    "* Flexibility\tversus\tsafety\t\n",
    " * C,\tunlike\tJava,\tallows\tone\tto\tdo\tarithmetic\ton pointers\t"
   ]
  },
  {
   "cell_type": "markdown",
   "metadata": {
    "slideshow": {
     "slide_type": "slide"
    }
   },
   "source": [
    "## Types of Languages\n",
    "* Imperative or\tprocedural\n",
    "* Object-oriented\n",
    "* Functional\n",
    "* Rule based\t\n",
    "\n",
    "The following examples are taken from http://rosettacode.org/"
   ]
  },
  {
   "cell_type": "markdown",
   "metadata": {
    "slideshow": {
     "slide_type": "slide"
    }
   },
   "source": [
    "## Imperative Language: C\n",
    "```c\n",
    "#include <stdio.h>\n",
    "#include <math.h>\n",
    " \n",
    "int main(int argc, char **argv) {\n",
    " \n",
    "   float x[4] = {1,2,3,1e11}, y[4];\n",
    "   int i = 0;\n",
    "   FILE *filePtr;\n",
    " \n",
    "   filePtr = fopen(\"floatArray\",\"w\");\n",
    " \n",
    "   for (i = 0; i < 4; i++) {\n",
    "      y[i] = sqrt(x[i]);\n",
    "      fprintf(filePtr, \"%.3g\\t%.5g\\n\", x[i], y[i]);\n",
    "   }\n",
    " \n",
    "   return 0;\n",
    "}\n",
    "```\n"
   ]
  },
  {
   "cell_type": "markdown",
   "metadata": {
    "slideshow": {
     "slide_type": "slide"
    }
   },
   "source": [
    "## Imperative Language: Lua\n",
    "```lua\n",
    "filename = \"file.txt\"\n",
    " \n",
    "x = { 1, 2, 3, 1e11 }\n",
    "y = { 1, 1.4142135623730951, 1.7320508075688772, 316227.76601683791 };\n",
    "xprecision = 3;\n",
    "yprecision = 5;\n",
    " \n",
    "fstr = \"%.\"..tostring(xprecision)..\"f \"..\"%.\"..tostring(yprecision)..\"f\\n\"\n",
    " \n",
    "fp = io.open( filename, \"w+\" )\n",
    " \n",
    "for i = 1, #x do\n",
    "    fp:write( string.format( fstr, x[i], y[i] ) )\n",
    "end\n",
    " \n",
    "io.close( fp )\n",
    "```"
   ]
  },
  {
   "cell_type": "markdown",
   "metadata": {
    "slideshow": {
     "slide_type": "slide"
    }
   },
   "source": [
    "## Object-Oriented Language: Ruby\n",
    "```Ruby\n",
    "# prepare test data\n",
    "x = [1, 2, 3, 1e11]\n",
    "y = x.collect { |xx| Math.sqrt xx }\n",
    "xprecision = 3\n",
    "yprecision = 5\n",
    " \n",
    "# write the arrays\n",
    "open('sqrt.dat', 'w') do |f|\n",
    "  x.zip(y) { |xx, yy| f.printf(\"%.*g\\t%.*g\\n\", xprecision, xx, yprecision, yy) }\n",
    "end\n",
    " \n",
    "# print the result file\n",
    "open('sqrt.dat', 'r') { |f| puts f.read }\n",
    "```"
   ]
  },
  {
   "cell_type": "markdown",
   "metadata": {
    "slideshow": {
     "slide_type": "slide"
    }
   },
   "source": [
    "## Object-Oriented Language: Java\n",
    "```java\n",
    "import java.io.*;\n",
    " \n",
    "public class FloatArray {\n",
    "    public static void writeDat(String filename, double[] x, double[] y,\n",
    "                                int xprecision, int yprecision)\n",
    "        throws IOException {\n",
    "        assert x.length == y.length;\n",
    "        PrintWriter out = new PrintWriter(filename);\n",
    "        for (int i = 0; i < x.length; i++)\n",
    "            out.printf(\"%.\"+xprecision+\"g\\t%.\"+yprecision+\"g\\n\", x[i], y[i]);\n",
    "        out.close();\n",
    "    }\n",
    " \n",
    "    public static void main(String[] args) {\n",
    "        double[] x = {1, 2, 3, 1e11};\n",
    "        double[] y = new double[x.length];\n",
    "        for (int i = 0; i < x.length; i++)\n",
    "            y[i] = Math.sqrt(x[i]);\n",
    " \n",
    "        try {\n",
    "            writeDat(\"sqrt.dat\", x, y, 3, 5);\n",
    "        } catch (IOException e) {\n",
    "            System.err.println(\"writeDat: exception: \"+e);\n",
    "        }\n",
    " \n",
    "        try {\n",
    "            BufferedReader br = new BufferedReader(new FileReader(\"sqrt.dat\"));\n",
    "            String line;\n",
    "            while ((line = br.readLine()) != null)\n",
    "                System.out.println(line);\n",
    "        } catch (IOException e) { }\n",
    "    }\n",
    "}\n",
    "```"
   ]
  },
  {
   "cell_type": "markdown",
   "metadata": {
    "slideshow": {
     "slide_type": "slide"
    }
   },
   "source": [
    "## Functional Language: LISP\n",
    "```lisp\n",
    "(with-open-file (stream (make-pathname :name \"filename\") :direction :output)\n",
    "    (let* ((x (make-array 4 :initial-contents '(1 2 3 1e11)))\n",
    "              (y (map 'vector 'sqrt x))\n",
    "              (xprecision 3)\n",
    "              (yprecision 5)\n",
    "              (fmt (format nil \"~~,1,~d,,G~~12t~~,~dG~~%\" xprecision yprecision)))\n",
    "        (map nil (lambda (a b)\n",
    "                     (format stream fmt a b)) x y)))\n",
    "```"
   ]
  },
  {
   "cell_type": "markdown",
   "metadata": {
    "slideshow": {
     "slide_type": "slide"
    }
   },
   "source": [
    "## Functional Language: Haskell\n",
    "```haskell\n",
    "import System.IO\n",
    "import Text.Printf\n",
    "import Control.Monad\n",
    " \n",
    "writeDat filename x y xprec yprec =\n",
    "  withFile filename WriteMode $ \\h ->\n",
    "     -- Haskell's printf doesn't support a precision given as an argument for some reason, so we insert it into the format manually:\n",
    "     let writeLine = hPrintf h $ \"%.\" ++ show xprec ++ \"g\\t%.\" ++ show yprec ++ \"g\\n\" in\n",
    "       zipWithM_ writeLine x y\n",
    "```"
   ]
  },
  {
   "cell_type": "markdown",
   "metadata": {
    "slideshow": {
     "slide_type": "slide"
    }
   },
   "source": [
    "## Logical Language: Prolog\n",
    "\n",
    "```\n",
    "palindrome(Word) :- name(Word,List), reverse(List,List).\n",
    "```"
   ]
  },
  {
   "cell_type": "markdown",
   "metadata": {
    "slideshow": {
     "slide_type": "slide"
    }
   },
   "source": [
    "## Implementation\tmethods\t\n",
    "* Direct\texecution\tby\thardware\t\n",
    " * e.g.,\tnative\tmachine\tlanguage\t\t\n",
    "* Compilation\tto\tanother\tlanguage\t\n",
    " * e.g.,\tC\tcompiled\tto\tIntel\tPentium\t4\tnative\tmachine\tlanguage\t\t\n",
    "* Interpretation:\tdirect\texecution\tby\tsoftware\t\n",
    " * e.g.,\tcsh,\tLisp,\tPython,\tJavaScript\t\n",
    "* Hybrid:\tcompilation\tthen\tinterpretation\t\t\n",
    " * Compilation\tto\tanother\tlanguage\t(aka\tbytecode),\tthen\tinterpreted\tby\ta\t‘virtual\tmachine’,\te.g.,\tJava,\tPerl\t\n",
    "* Just-in-time\tcompilation\t\n",
    " * Dynamically\tcompile\tsome\tbytecode\tto\tnative\tcode (e.g.,\tV8\tJavaScript\tengine)\t"
   ]
  },
  {
   "cell_type": "markdown",
   "metadata": {
    "slideshow": {
     "slide_type": "slide"
    }
   },
   "source": [
    "## Compliation\n",
    "![Compilation Process](compilation.jpg)"
   ]
  },
  {
   "cell_type": "markdown",
   "metadata": {
    "slideshow": {
     "slide_type": "slide"
    }
   },
   "source": [
    "## Interpretation\n",
    "![Interpreter Process](interpreter.jpg)"
   ]
  },
  {
   "cell_type": "markdown",
   "metadata": {
    "slideshow": {
     "slide_type": "slide"
    }
   },
   "source": [
    "## Hybrid\n",
    "\n",
    "![Hybrid Process](hybrid.jpg)"
   ]
  },
  {
   "cell_type": "code",
   "execution_count": null,
   "metadata": {
    "collapsed": true
   },
   "outputs": [],
   "source": []
  }
 ],
 "metadata": {
  "celltoolbar": "Slideshow",
  "kernelspec": {
   "display_name": "Python 2",
   "language": "python",
   "name": "python2"
  },
  "language_info": {
   "codemirror_mode": {
    "name": "ipython",
    "version": 2
   },
   "file_extension": ".py",
   "mimetype": "text/x-python",
   "name": "python",
   "nbconvert_exporter": "python",
   "pygments_lexer": "ipython2",
   "version": "2.7.6"
  }
 },
 "nbformat": 4,
 "nbformat_minor": 0
}
