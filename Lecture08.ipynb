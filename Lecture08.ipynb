{
 "cells": [
  {
   "cell_type": "markdown",
   "metadata": {
    "slideshow": {
     "slide_type": "slide"
    }
   },
   "source": [
    "<div style=\"float:left;width:20%\">\n",
    "<h1>Lua</h1> \n",
    "</div>\n",
    "\n",
    "<div style=\"float:left;width:20%\">\n",
    "<img src=\"http://www.lua.org/images/lua.gif\" />\n",
    "</div>\n"
   ]
  },
  {
   "cell_type": "markdown",
   "metadata": {
    "slideshow": {
     "slide_type": "slide"
    }
   },
   "source": [
    "## Brief Lua History\n",
    "- Designed by Roberto Ierusalimschy, Luiz Henrique de Figueiredo, and Waldemar Celes\n",
    " - All with Tecgraf at PUC-Rio at the time\n",
    "- Version 1.0 came out in 1993, version 5.3 is the current version\n",
    "- Very small - Lua interpreter is less than 150K "
   ]
  },
  {
   "cell_type": "markdown",
   "metadata": {
    "slideshow": {
     "slide_type": "slide"
    }
   },
   "source": [
    "## Notable Uses of Lua - Adobe Lightroom\n",
    "\n",
    "- <a href=\"https://www.adobe.io/apis/creativecloud/lightroomclassic.html\">Adobe Lightroom</a> is Adobe's photo development suite\n",
    "    - Lua is used to script much of the user interface\n",
    "    - One <a href=\"https://luanova.org/lightroom/\">source</a> puts the number at 40% of all code is in Lua\n",
    "    \n",
    "    \n",
    "<img src=\"https://upload.wikimedia.org/wikipedia/commons/thumb/d/df/Adobe_Photoshop_Lightroom_CC_icon.svg/512px-Adobe_Photoshop_Lightroom_CC_icon.svg.png\" alt=\"Lr (Adobe Lightroom Logo)\">"
   ]
  },
  {
   "cell_type": "markdown",
   "metadata": {
    "slideshow": {
     "slide_type": "slide"
    }
   },
   "source": [
    "## Notable Uses of Lua - Volvo V40\n",
    "- For the past several years, the Volvo V40 line of cars has used Lua in the <a href=\"https://support.volvocars.com/uk/cars/Pages/owners-manual.aspx?mc=y556&my=2015&sw=14w20&category=93d3896a62945bc6c0a801e800019080&article=032e95d139fd9ca1c0a801e801ace120\">combined driver display</a>\n",
    "\n",
    "<img src=\"https://assets.volvocars.com/intl/~/media/shared-assets/master/images/cars/new-models/v40/pdp/v40-pdp-gallery-08.jpg?w=1600\">"
   ]
  },
  {
   "cell_type": "markdown",
   "metadata": {
    "slideshow": {
     "slide_type": "slide"
    }
   },
   "source": [
    "## Notable Uses of Lua - LOVE Game Framework\n",
    "- The 2d gaming engine <a href=\"https://love2d.org/\">LÖVE</a> uses Lua for creating games\n",
    "\n",
    "- <a href=\"http://www.ohmygiraffe.com/\">Oh My Giraffe</a> is one example\n",
    "<video src=\"http://www.ohmygiraffe.com/static/video/big-scary-cats.mp4\" poster=\"http://www.ohmygiraffe.com/static/video/big-scary-cats.gif\" loop=\"\" muted=\"\" controls=\"\" preload=\"auto\" width=\"50%\" >\n",
    "                    <img src=\"http://www.ohmygiraffe.com/static/video/big-scary-cats.gif\">\n",
    "                  </video>"
   ]
  },
  {
   "cell_type": "markdown",
   "metadata": {
    "slideshow": {
     "slide_type": "slide"
    }
   },
   "source": [
    "## Notable Uses of Lua - Angry Birds\n",
    "- The original 2009 game Angry Birds was written largely in Lua\n",
    "<img src=\"https://upload.wikimedia.org/wikipedia/en/2/2d/Angry_Birds_promo_art.png\">"
   ]
  },
  {
   "cell_type": "markdown",
   "metadata": {
    "slideshow": {
     "slide_type": "slide"
    }
   },
   "source": [
    "## Lua Basics\n",
    "- Lua is an imperative scripting language\n",
    "- The Lua intrepreter is available on gl and run with __lua__\n",
    " - To exit, type __os.exit()__ or __Ctrl + D__\n",
    "- Lua files traditionaly end in *.lua*\n",
    "- To print, use the `print()` function\n",
    "    - Multiple variables can be printed at once, separated by commas"
   ]
  },
  {
   "cell_type": "code",
   "execution_count": 1,
   "metadata": {
    "slideshow": {
     "slide_type": "slide"
    }
   },
   "outputs": [
    {
     "name": "stdout",
     "output_type": "stream",
     "text": [
      "Welcome to Lua!"
     ]
    }
   ],
   "source": [
    "--This is a comment, nothing will happen\n",
    "--[[\n",
    "This is a multiline commen, just like /* */ in C or C++\n",
    "--]]\n",
    "print(\"Welcome to Lua!\")"
   ]
  },
  {
   "cell_type": "markdown",
   "metadata": {
    "slideshow": {
     "slide_type": "slide"
    }
   },
   "source": [
    "## Lua Resources\n",
    "- Many excellent resources on the web \n",
    " - [Programming in Lua](http://www.lua.org/pil/contents.html)\n",
    " - [Learn X in Y Minutes (Lua)](http://learnxinyminutes.com/docs/lua/)\n",
    " - [Lua Reference Manual](http://www.lua.org/manual/5.3/manual.html) [(complete EBNF of syntax in section 9)](http://www.lua.org/manual/5.3/manual.html#9)"
   ]
  },
  {
   "cell_type": "markdown",
   "metadata": {
    "slideshow": {
     "slide_type": "slide"
    }
   },
   "source": [
    "## Lua in Interactive Mode\n",
    "- Typing just `lua` in at the command prompt will launch an interactive REPL, similar to python\n",
    "<img src=\"casts/interactive.gif\">"
   ]
  },
  {
   "cell_type": "markdown",
   "metadata": {
    "slideshow": {
     "slide_type": "slide"
    }
   },
   "source": [
    "## Lua in Batch Mode\n",
    "- To run a lua file, pass the file name as the argument to the `lua` command\n",
    "<img src=\"casts/batch.gif\">"
   ]
  },
  {
   "cell_type": "markdown",
   "metadata": {
    "slideshow": {
     "slide_type": "slide"
    }
   },
   "source": [
    "## Variables in Lua\n",
    "- Can be any combination of letters, numbers and _ (the underscore character)\n",
    "- Cannot \n",
    "    - start with a digit \n",
    "    - be the same as a reserved word\n",
    "- Do not need to be declared\n",
    "- Are global by default"
   ]
  },
  {
   "cell_type": "code",
   "execution_count": 2,
   "metadata": {
    "slideshow": {
     "slide_type": "slide"
    }
   },
   "outputs": [
    {
     "name": "stdout",
     "output_type": "stream",
     "text": [
      "Hello Word!"
     ]
    }
   ],
   "source": [
    "text = \"Hello Word!\"\n",
    "print(text)"
   ]
  },
  {
   "cell_type": "code",
   "execution_count": 3,
   "metadata": {},
   "outputs": [
    {
     "name": "stdout",
     "output_type": "stream",
     "text": [
      "10000090000.0"
     ]
    }
   ],
   "source": [
    "number = 1.000009e10\n",
    "print(number)"
   ]
  },
  {
   "cell_type": "code",
   "execution_count": 4,
   "metadata": {
    "slideshow": {
     "slide_type": "slide"
    }
   },
   "outputs": [
    {
     "name": "stdout",
     "output_type": "stream",
     "text": [
      "true"
     ]
    }
   ],
   "source": [
    "_this_is_ok=true\n",
    "print(_this_is_ok)"
   ]
  },
  {
   "cell_type": "code",
   "execution_count": 5,
   "metadata": {},
   "outputs": [
    {
     "name": "stdout",
     "output_type": "stream",
     "text": [
      "[string \"--Starts with digit...\"]:2: unexpected symbol near '10'"
     ]
    }
   ],
   "source": [
    "--Starts with digit\n",
    "10not_ok = \"Anything, It doesn't matter\"\n"
   ]
  },
  {
   "cell_type": "code",
   "execution_count": 6,
   "metadata": {
    "slideshow": {
     "slide_type": "slide"
    }
   },
   "outputs": [
    {
     "name": "stdout",
     "output_type": "stream",
     "text": [
      "Lua 5.3\n",
      "100"
     ]
    }
   ],
   "source": [
    "print(_VERSION)\n",
    "_VERSION=100\n",
    "print(_VERSION)"
   ]
  },
  {
   "cell_type": "code",
   "execution_count": 8,
   "metadata": {
    "slideshow": {
     "slide_type": "slide"
    }
   },
   "outputs": [],
   "source": [
    "--You can do this, but please dont\n",
    "FOR=100\n",
    "NIL=10000"
   ]
  },
  {
   "cell_type": "markdown",
   "metadata": {
    "slideshow": {
     "slide_type": "slide"
    }
   },
   "source": [
    "## Multiple Assignment\n",
    "- Lua supports true multiple assignment\n",
    "    - We will see how this is taken advantage of for return statements and parameter passing later\n",
    "- If the number of variables on the left is equal to the number of values on the right, it is a one to one correspondence\n",
    "- If there are more values than variables, the extra values are discarded\n",
    "- If there are more variables than values, the extra variables are set to nil"
   ]
  },
  {
   "cell_type": "code",
   "execution_count": 9,
   "metadata": {
    "slideshow": {
     "slide_type": "slide"
    }
   },
   "outputs": [
    {
     "name": "stdout",
     "output_type": "stream",
     "text": [
      "1\t2\t3\t4"
     ]
    }
   ],
   "source": [
    "a, b , c , d = 1 ,2 , 3 , 4\n",
    "print(a,b,c,d)"
   ]
  },
  {
   "cell_type": "code",
   "execution_count": 10,
   "metadata": {
    "slideshow": {
     "slide_type": "-"
    }
   },
   "outputs": [
    {
     "name": "stdout",
     "output_type": "stream",
     "text": [
      "1\t2\t3\t4"
     ]
    }
   ],
   "source": [
    "a, b, c, d = 1, 2, 3, 4, 5\n",
    "print(a,b,c,d)"
   ]
  },
  {
   "cell_type": "code",
   "execution_count": 11,
   "metadata": {
    "slideshow": {
     "slide_type": "slide"
    }
   },
   "outputs": [
    {
     "name": "stdout",
     "output_type": "stream",
     "text": [
      "1\t2\tnil\tnil"
     ]
    }
   ],
   "source": [
    "a, b, c, d = 1, 2\n",
    "print(a,b,c,d)"
   ]
  },
  {
   "cell_type": "code",
   "execution_count": 12,
   "metadata": {},
   "outputs": [
    {
     "name": "stdout",
     "output_type": "stream",
     "text": [
      "1\ta\t2"
     ]
    }
   ],
   "source": [
    "a,b,c = 1, \"a\", 2\n",
    "print(a,b,c)"
   ]
  },
  {
   "cell_type": "markdown",
   "metadata": {
    "slideshow": {
     "slide_type": "slide"
    }
   },
   "source": [
    "## Scope in Lua\n",
    "- The scope of a variable is the portion of the code for which a variable is defined\n",
    "- In Lua, variables are global by default\n",
    "- To make the scope of a variable the current block, use the __local__ keyword"
   ]
  },
  {
   "cell_type": "code",
   "execution_count": 13,
   "metadata": {
    "slideshow": {
     "slide_type": "slide"
    }
   },
   "outputs": [
    {
     "name": "stdout",
     "output_type": "stream",
     "text": [
      "_y is \t10"
     ]
    }
   ],
   "source": [
    "-- Global By Default\n",
    "do\n",
    "    _y = 10\n",
    "end\n",
    "print(\"_y is \", _y)"
   ]
  },
  {
   "cell_type": "code",
   "execution_count": 14,
   "metadata": {
    "slideshow": {
     "slide_type": "slide"
    }
   },
   "outputs": [
    {
     "name": "stdout",
     "output_type": "stream",
     "text": [
      "q is  1\n",
      "q is \n",
      "\tnil"
     ]
    }
   ],
   "source": [
    "-- Local restricts the scope\n",
    "do \n",
    "    x = 2\n",
    "    do \n",
    "        local q = 1\n",
    "        print('q is ' .. ' ' .. q)\n",
    "    end\n",
    "    print('q is \\n', q)\n",
    "end"
   ]
  },
  {
   "cell_type": "code",
   "execution_count": 15,
   "metadata": {
    "slideshow": {
     "slide_type": "slide"
    }
   },
   "outputs": [
    {
     "name": "stdout",
     "output_type": "stream",
     "text": [
      "LOCAL X is -1\n",
      "GLOBAL X is \t1\n",
      "x is 1\n",
      "Z is \tnil"
     ]
    }
   ],
   "source": [
    "-- Local can temporarily shadow the value\n",
    "x = 1\n",
    "\n",
    "do\n",
    "    local global_x = x\n",
    "    local Z = -2\n",
    "    local x = -1\n",
    "    print(\"LOCAL X is \" .. x)\n",
    "    print(\"GLOBAL X is \", global_x)\n",
    "end\n",
    "\n",
    "print(\"x is\" .. \" \" .. x)\n",
    "\n",
    "print(\"Z is \" , Z)"
   ]
  },
  {
   "cell_type": "markdown",
   "metadata": {
    "slideshow": {
     "slide_type": "slide"
    }
   },
   "source": [
    "## Data Types in Lua\n",
    "- Lua has a very simple type system, with just 8 types\n",
    " - number\n",
    " - string\n",
    " - boolean\n",
    " - nil\n",
    " - table\n",
    " - function\n",
    " - userdata\n",
    " - thread"
   ]
  },
  {
   "cell_type": "markdown",
   "metadata": {
    "slideshow": {
     "slide_type": "slide"
    }
   },
   "source": [
    "## Number\n",
    "- There is only one type for all numbers in Lua\n",
    "- Stored internally as a float\n",
    "- Can be written in scientific notation\n",
    "- Operators for numbers are: __ + __, __-__ , __*__ , __/__ , __%__ ,"
   ]
  },
  {
   "cell_type": "code",
   "execution_count": 16,
   "metadata": {
    "slideshow": {
     "slide_type": "slide"
    }
   },
   "outputs": [],
   "source": [
    "exponent_two = 2e0\n",
    "int_two = 2\n",
    "leading_zero_two = 02\n",
    "decimal_two = 2.00"
   ]
  },
  {
   "cell_type": "code",
   "execution_count": 17,
   "metadata": {},
   "outputs": [
    {
     "name": "stdout",
     "output_type": "stream",
     "text": [
      "2.0\t2\t2\t2.0"
     ]
    }
   ],
   "source": [
    "print(exponent_two, int_two, leading_zero_two, decimal_two)\n"
   ]
  },
  {
   "cell_type": "code",
   "execution_count": 18,
   "metadata": {
    "slideshow": {
     "slide_type": "slide"
    }
   },
   "outputs": [],
   "source": [
    "almost_two = 2.000001\n",
    "two_hundred = 2e+2\n",
    "two_something = 200000000000000000000"
   ]
  },
  {
   "cell_type": "code",
   "execution_count": 19,
   "metadata": {},
   "outputs": [
    {
     "name": "stdout",
     "output_type": "stream",
     "text": [
      "2.000001\t200.0\t2e+20"
     ]
    }
   ],
   "source": [
    "print(almost_two,two_hundred, two_something)"
   ]
  },
  {
   "cell_type": "code",
   "execution_count": 20,
   "metadata": {
    "slideshow": {
     "slide_type": "slide"
    }
   },
   "outputs": [
    {
     "name": "stdout",
     "output_type": "stream",
     "text": [
      "-nan\tnumber"
     ]
    }
   ],
   "source": [
    "mystery = 0/0\n",
    "print(mystery, type(mystery))"
   ]
  },
  {
   "cell_type": "code",
   "execution_count": 21,
   "metadata": {},
   "outputs": [
    {
     "name": "stdout",
     "output_type": "stream",
     "text": [
      "inf\tnumber"
     ]
    }
   ],
   "source": [
    "another_one = 3/0\n",
    "print(another_one, type(another_one))"
   ]
  },
  {
   "cell_type": "code",
   "execution_count": 22,
   "metadata": {
    "slideshow": {
     "slide_type": "slide"
    }
   },
   "outputs": [
    {
     "name": "stdout",
     "output_type": "stream",
     "text": [
      "-inf\tnumber"
     ]
    }
   ],
   "source": [
    "what_now = -100/0\n",
    "print(what_now, type(what_now))"
   ]
  },
  {
   "cell_type": "code",
   "execution_count": 24,
   "metadata": {},
   "outputs": [
    {
     "name": "stdout",
     "output_type": "stream",
     "text": [
      "inf\tnumber"
     ]
    }
   ],
   "source": [
    "how_big = 1e309\n",
    "print(how_big, type(how_big))"
   ]
  },
  {
   "cell_type": "code",
   "execution_count": 25,
   "metadata": {
    "slideshow": {
     "slide_type": "slide"
    }
   },
   "outputs": [
    {
     "name": "stdout",
     "output_type": "stream",
     "text": [
      "7"
     ]
    }
   ],
   "source": [
    "print(3 + 4)"
   ]
  },
  {
   "cell_type": "code",
   "execution_count": 26,
   "metadata": {},
   "outputs": [
    {
     "name": "stdout",
     "output_type": "stream",
     "text": [
      "0.75"
     ]
    }
   ],
   "source": [
    "print(3/4)"
   ]
  },
  {
   "cell_type": "code",
   "execution_count": 27,
   "metadata": {},
   "outputs": [
    {
     "name": "stdout",
     "output_type": "stream",
     "text": [
      "12"
     ]
    }
   ],
   "source": [
    "print(3 * 4)"
   ]
  },
  {
   "cell_type": "code",
   "execution_count": 28,
   "metadata": {},
   "outputs": [
    {
     "name": "stdout",
     "output_type": "stream",
     "text": [
      "-1"
     ]
    }
   ],
   "source": [
    "print(3 - 4)"
   ]
  },
  {
   "cell_type": "code",
   "execution_count": 29,
   "metadata": {},
   "outputs": [
    {
     "name": "stdout",
     "output_type": "stream",
     "text": [
      "1"
     ]
    }
   ],
   "source": [
    "print(-3 % 4)"
   ]
  },
  {
   "cell_type": "markdown",
   "metadata": {
    "slideshow": {
     "slide_type": "slide"
    }
   },
   "source": [
    "## Numbers Example\n",
    "\n",
    "- Find a root of an equation of the form $ax^2 + bx + c$\n",
    "\n",
    "$x = \\frac{-b+\\sqrt{b^2-4ac}}{2a}$"
   ]
  },
  {
   "cell_type": "code",
   "execution_count": 30,
   "metadata": {},
   "outputs": [
    {
     "name": "stdout",
     "output_type": "stream",
     "text": [
      "7.0"
     ]
    }
   ],
   "source": [
    "a, b, c = 1, -4, -21\n",
    "x = (-b + math.sqrt(math.pow(b,2) - (4 * a * c)))/(2 * a)\n",
    "print(x)"
   ]
  },
  {
   "cell_type": "markdown",
   "metadata": {
    "slideshow": {
     "slide_type": "slide"
    }
   },
   "source": [
    "## String\n",
    "- Can be denoted by using either single or double quotes\n",
    "    - Multi-line strings can be defined using [[ ]] \n",
    "- Strings are immutable\n",
    "- Can hold any unicode character\n",
    "- __..__ is the concatenation operator\n",
    "- \\# can be used to get the length of a string\n",
    "- No indexing supported without a library"
   ]
  },
  {
   "cell_type": "code",
   "execution_count": 31,
   "metadata": {
    "slideshow": {
     "slide_type": "slide"
    }
   },
   "outputs": [
    {
     "name": "stdout",
     "output_type": "stream",
     "text": [
      "true"
     ]
    }
   ],
   "source": [
    "string1 = 'dog'\n",
    "string2 = \"dog\"\n",
    "print(string1 == string2)"
   ]
  },
  {
   "cell_type": "code",
   "execution_count": 32,
   "metadata": {
    "slideshow": {
     "slide_type": "slide"
    }
   },
   "outputs": [
    {
     "name": "stdout",
     "output_type": "stream",
     "text": [
      "these\n",
      "    are on\n",
      "        different lines\n",
      "    "
     ]
    }
   ],
   "source": [
    "long_string = [[\n",
    "these\n",
    "    are on\n",
    "        different lines\n",
    "    ]]\n",
    "\n",
    "print(long_string)"
   ]
  },
  {
   "cell_type": "code",
   "execution_count": 33,
   "metadata": {
    "slideshow": {
     "slide_type": "slide"
    }
   },
   "outputs": [
    {
     "name": "stdout",
     "output_type": "stream",
     "text": [
      "the strings are together0.09"
     ]
    }
   ],
   "source": [
    "print('the'..' strings '..'are together' .. 0.09) "
   ]
  },
  {
   "cell_type": "code",
   "execution_count": 34,
   "metadata": {},
   "outputs": [
    {
     "name": "stdout",
     "output_type": "stream",
     "text": [
      "[string \"'abc'[0]\"]:1: unexpected symbol near ''abc''"
     ]
    }
   ],
   "source": [
    "'abc'[0]"
   ]
  },
  {
   "cell_type": "code",
   "execution_count": 35,
   "metadata": {},
   "outputs": [
    {
     "name": "stdout",
     "output_type": "stream",
     "text": [
      "39"
     ]
    }
   ],
   "source": [
    "print(#'how many characters are in this string?')"
   ]
  },
  {
   "cell_type": "markdown",
   "metadata": {
    "slideshow": {
     "slide_type": "slide"
    }
   },
   "source": [
    "## String Example\n",
    "\n",
    "- Use a multiline string to print the equation and the solution we found earlier\n"
   ]
  },
  {
   "cell_type": "code",
   "execution_count": 42,
   "metadata": {},
   "outputs": [
    {
     "name": "stdout",
     "output_type": "stream",
     "text": [
      "        2\n",
      "       \"x  - 4x - 21\" = 0\n",
      "       x = 7\n",
      "    "
     ]
    }
   ],
   "source": [
    "print([[\n",
    "        2\n",
    "       \"x  - 4x - 21\" = 0\n",
    "       x = 7\n",
    "    ]])"
   ]
  },
  {
   "cell_type": "markdown",
   "metadata": {
    "slideshow": {
     "slide_type": "slide"
    }
   },
   "source": [
    "## Interaction between Strings and Numbers\n",
    "- If possible, Lua will automatically convert a string to a numeric representation when the context suggests it\n",
    "    - This is known as *type coercion*\n",
    "- To convert a string to a number manually, use the tonumber() function"
   ]
  },
  {
   "cell_type": "code",
   "execution_count": 43,
   "metadata": {
    "slideshow": {
     "slide_type": "slide"
    }
   },
   "outputs": [
    {
     "name": "stdout",
     "output_type": "stream",
     "text": [
      "11.0"
     ]
    }
   ],
   "source": [
    "print(\"7\" + 4)"
   ]
  },
  {
   "cell_type": "code",
   "execution_count": 44,
   "metadata": {},
   "outputs": [
    {
     "name": "stdout",
     "output_type": "stream",
     "text": [
      "12.56"
     ]
    }
   ],
   "source": [
    "print(4 * \"3.14\")"
   ]
  },
  {
   "cell_type": "code",
   "execution_count": 45,
   "metadata": {},
   "outputs": [
    {
     "name": "stdout",
     "output_type": "stream",
     "text": [
      "[string \"print(\"a\" * 4)\"]:1: attempt to perform arithmetic on a string value"
     ]
    }
   ],
   "source": [
    "print(\"a\" * 4)"
   ]
  },
  {
   "cell_type": "code",
   "execution_count": 46,
   "metadata": {},
   "outputs": [
    {
     "name": "stdout",
     "output_type": "stream",
     "text": [
      "3.14"
     ]
    }
   ],
   "source": [
    "print(tonumber(\"3.14\"))"
   ]
  },
  {
   "cell_type": "markdown",
   "metadata": {
    "slideshow": {
     "slide_type": "slide"
    }
   },
   "source": [
    "## Booleans\n",
    "- __false__ and __nil__ evaluate to False\n",
    "- Everything else is true\n",
    "- __and__ and __or__ return their arguments\n",
    " - __and__ returns the first argument when that argument evaluates to false, otherwise returns the second arguemnt\n",
    " - __or__ returns the first argument when that argument evaluates to true, otherwise returns the second argument "
   ]
  },
  {
   "cell_type": "code",
   "execution_count": 47,
   "metadata": {
    "slideshow": {
     "slide_type": "slide"
    }
   },
   "outputs": [
    {
     "name": "stdout",
     "output_type": "stream",
     "text": [
      "false"
     ]
    }
   ],
   "source": [
    "print(false and 5)"
   ]
  },
  {
   "cell_type": "code",
   "execution_count": 48,
   "metadata": {},
   "outputs": [
    {
     "name": "stdout",
     "output_type": "stream",
     "text": [
      "false"
     ]
    }
   ],
   "source": [
    "print(5 and false)"
   ]
  },
  {
   "cell_type": "code",
   "execution_count": 49,
   "metadata": {},
   "outputs": [
    {
     "name": "stdout",
     "output_type": "stream",
     "text": [
      "5"
     ]
    }
   ],
   "source": [
    "print(true and 5)"
   ]
  },
  {
   "cell_type": "code",
   "execution_count": 50,
   "metadata": {},
   "outputs": [
    {
     "name": "stdout",
     "output_type": "stream",
     "text": [
      "5"
     ]
    }
   ],
   "source": [
    "print(4 and 5)"
   ]
  },
  {
   "cell_type": "code",
   "execution_count": 51,
   "metadata": {
    "slideshow": {
     "slide_type": "slide"
    }
   },
   "outputs": [
    {
     "name": "stdout",
     "output_type": "stream",
     "text": [
      "5"
     ]
    }
   ],
   "source": [
    "print(false or 5)"
   ]
  },
  {
   "cell_type": "code",
   "execution_count": 52,
   "metadata": {},
   "outputs": [
    {
     "name": "stdout",
     "output_type": "stream",
     "text": [
      "true"
     ]
    }
   ],
   "source": [
    "print(true or 5)"
   ]
  },
  {
   "cell_type": "code",
   "execution_count": 53,
   "metadata": {},
   "outputs": [
    {
     "name": "stdout",
     "output_type": "stream",
     "text": [
      "4"
     ]
    }
   ],
   "source": [
    "print(4 or 5)"
   ]
  },
  {
   "cell_type": "code",
   "execution_count": 54,
   "metadata": {},
   "outputs": [
    {
     "name": "stdout",
     "output_type": "stream",
     "text": [
      "4"
     ]
    }
   ],
   "source": [
    "print(4 or 5 or 6)"
   ]
  },
  {
   "cell_type": "code",
   "execution_count": 55,
   "metadata": {},
   "outputs": [
    {
     "name": "stdout",
     "output_type": "stream",
     "text": [
      "5"
     ]
    }
   ],
   "source": [
    "print(false or 5 or 6)"
   ]
  },
  {
   "cell_type": "code",
   "execution_count": 58,
   "metadata": {
    "slideshow": {
     "slide_type": "slide"
    }
   },
   "outputs": [
    {
     "name": "stdout",
     "output_type": "stream",
     "text": [
      "-400"
     ]
    }
   ],
   "source": [
    "x = -400\n",
    "y = -1000\n",
    "print((x > y) and x or y)"
   ]
  },
  {
   "cell_type": "markdown",
   "metadata": {
    "slideshow": {
     "slide_type": "slide"
    }
   },
   "source": [
    "## Boolean Example\n",
    "\n",
    "- Write a boolean statement in lua which is equivalent to the tertiary operator in other languages\n",
    "```c\n",
    "a ? b : c\n",
    "```"
   ]
  },
  {
   "cell_type": "code",
   "execution_count": 63,
   "metadata": {},
   "outputs": [
    {
     "name": "stdout",
     "output_type": "stream",
     "text": [
      "10"
     ]
    }
   ],
   "source": [
    "a ,b ,c = nil, 3 , 10\n",
    "print(a and b or c)"
   ]
  },
  {
   "cell_type": "markdown",
   "metadata": {
    "slideshow": {
     "slide_type": "slide"
    }
   },
   "source": [
    "## Boolean Practice\n",
    "- Write a boolean statement that has the same effect as checking if a variable exists, and if it doesn't do not change it, but it if doesn't set it to a default value\n",
    "\n",
    "- Pseudocode\n",
    "```python\n",
    "    if not x:\n",
    "        x = v\n",
    "```"
   ]
  },
  {
   "cell_type": "code",
   "execution_count": 65,
   "metadata": {},
   "outputs": [
    {
     "name": "stdout",
     "output_type": "stream",
     "text": [
      "10"
     ]
    }
   ],
   "source": [
    "x = 10\n",
    "x = x or v\n",
    "print(x)"
   ]
  },
  {
   "cell_type": "markdown",
   "metadata": {
    "slideshow": {
     "slide_type": "slide"
    }
   },
   "source": [
    "## Nil\n",
    "- Represents absence of a useful value (_Programming in Lua_)"
   ]
  },
  {
   "cell_type": "code",
   "execution_count": 66,
   "metadata": {
    "slideshow": {
     "slide_type": "slide"
    }
   },
   "outputs": [
    {
     "name": "stdout",
     "output_type": "stream",
     "text": [
      "nil"
     ]
    }
   ],
   "source": [
    "print(type(nil))"
   ]
  },
  {
   "cell_type": "code",
   "execution_count": 67,
   "metadata": {},
   "outputs": [
    {
     "name": "stdout",
     "output_type": "stream",
     "text": [
      "nil"
     ]
    }
   ],
   "source": [
    "print(empty)"
   ]
  },
  {
   "cell_type": "code",
   "execution_count": 68,
   "metadata": {},
   "outputs": [
    {
     "name": "stdout",
     "output_type": "stream",
     "text": [
      "[string \"nil + nil\"]:1: unexpected symbol near 'nil'"
     ]
    }
   ],
   "source": [
    "nil + nil"
   ]
  },
  {
   "cell_type": "markdown",
   "metadata": {
    "collapsed": true,
    "slideshow": {
     "slide_type": "slide"
    }
   },
   "source": [
    "## Control Statements\n",
    "- All control statements must be terminated, usually with an __end__\n",
    "- __if__ , __elseif__ , __else__ , __then__ are the keywords\n",
    "    - No __switch__ statement present"
   ]
  },
  {
   "cell_type": "code",
   "execution_count": null,
   "metadata": {
    "slideshow": {
     "slide_type": "slide"
    }
   },
   "outputs": [],
   "source": [
    "x = 10\n",
    "y = 20\n",
    "z = 0\n",
    "\n",
    "if x > y then\n",
    "    print(x)\n",
    "elseif z > y then\n",
    "    print(z)  \n",
    "elseif y > 200 then\n",
    "    print(\"Here\")\n",
    "    print(\"Another\")\n",
    "else \n",
    "    print(y) \n",
    "    print(z)\n",
    "end"
   ]
  },
  {
   "cell_type": "code",
   "execution_count": null,
   "metadata": {
    "slideshow": {
     "slide_type": "slide"
    }
   },
   "outputs": [],
   "source": [
    "varA = 20\n",
    "varB = 10\n",
    "varC = 10\n",
    "\n",
    "if varB < varC then\n",
    "    print \"10 is less than 10\"\n",
    "elseif varB <= varC then\n",
    "    if varA ~= varC then\n",
    "        print \"20 and 10 are not equal\"\n",
    "    else\n",
    "        print \"20 and 10 are equal?\"\n",
    "    end\n",
    "end"
   ]
  },
  {
   "cell_type": "markdown",
   "metadata": {
    "slideshow": {
     "slide_type": "slide"
    }
   },
   "source": [
    "## Boolean Relations in Lua\n",
    "-  &lt;\n",
    "-  &gt;\n",
    "-  &lt;=\n",
    "-  &gt;=\n",
    "-  ==\n",
    "-  ~="
   ]
  },
  {
   "cell_type": "markdown",
   "metadata": {
    "slideshow": {
     "slide_type": "slide"
    }
   },
   "source": [
    "## If Statement Practice\n",
    "\n",
    "- Modify the code we wrote earlier to find one root of the quadratic equation and find the other root.\n",
    "- Print a message if the equation has a double root"
   ]
  },
  {
   "cell_type": "code",
   "execution_count": 1,
   "metadata": {},
   "outputs": [],
   "source": [
    "a, b, c = 1, -4, -21\n",
    "x = (-b + math.sqrt(math.pow(b,2)-(4 * a * c)))/(2 * a)\n"
   ]
  },
  {
   "cell_type": "markdown",
   "metadata": {
    "collapsed": true,
    "slideshow": {
     "slide_type": "slide"
    }
   },
   "source": [
    "## Looping\n",
    "- Two types of conditional loops __while__ loops and __repeat__ loops\n",
    "- __repeat__ is similar to do while loops in many other languages\n",
    "- __for__ comes in two variations, numeric ( traditional ) and generic (foreach)"
   ]
  },
  {
   "cell_type": "code",
   "execution_count": null,
   "metadata": {
    "slideshow": {
     "slide_type": "slide"
    }
   },
   "outputs": [],
   "source": [
    "x = 10\n",
    "while x < 20 do\n",
    "    print(x)\n",
    "    x = x + 1\n",
    "end"
   ]
  },
  {
   "cell_type": "code",
   "execution_count": null,
   "metadata": {
    "slideshow": {
     "slide_type": "slide"
    }
   },
   "outputs": [],
   "source": [
    "x = 10\n",
    "repeat\n",
    "    print(x)\n",
    "    x = x + 1\n",
    "until x > 20"
   ]
  },
  {
   "cell_type": "code",
   "execution_count": null,
   "metadata": {
    "slideshow": {
     "slide_type": "slide"
    }
   },
   "outputs": [],
   "source": [
    "for x = 10,20,1 do\n",
    "    print(x)\n",
    "end\n",
    "\n",
    "print(x)\n",
    "print(x)"
   ]
  },
  {
   "cell_type": "markdown",
   "metadata": {
    "slideshow": {
     "slide_type": "slide"
    }
   },
   "source": [
    "## Looping Example\n",
    "\n",
    "- Write a for loop to find the sum of all numbers from 1 to 1000 that are multiples of 10"
   ]
  },
  {
   "cell_type": "code",
   "execution_count": null,
   "metadata": {},
   "outputs": [],
   "source": []
  },
  {
   "cell_type": "markdown",
   "metadata": {
    "slideshow": {
     "slide_type": "slide"
    }
   },
   "source": [
    "## Looping Practice\n",
    "\n",
    "- Use a loop (of any kind) to find the factorial of a number"
   ]
  },
  {
   "cell_type": "code",
   "execution_count": null,
   "metadata": {},
   "outputs": [],
   "source": []
  }
 ],
 "metadata": {
  "celltoolbar": "Slideshow",
  "kernelspec": {
   "display_name": "Lua",
   "language": "",
   "name": "lupyter"
  },
  "language_info": {
   "file_extension": ".lua",
   "mimetype": "text/Lua",
   "name": "Lua",
   "version": "5.X.Y"
  }
 },
 "nbformat": 4,
 "nbformat_minor": 1
}
