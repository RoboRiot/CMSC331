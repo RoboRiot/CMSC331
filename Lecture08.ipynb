{
 "cells": [
  {
   "cell_type": "markdown",
   "metadata": {
    "slideshow": {
     "slide_type": "slide"
    }
   },
   "source": [
    "<div style=\"float:left;width:20%\">\n",
    "<h1>Lua</h1> \n",
    "</div>\n",
    "\n",
    "<div style=\"float:left;width:20%\">\n",
    "<img src=\"http://www.lua.org/images/lua.gif\" />\n",
    "</div>\n"
   ]
  },
  {
   "cell_type": "markdown",
   "metadata": {
    "slideshow": {
     "slide_type": "slide"
    }
   },
   "source": [
    "## How we are going to look at languages\n",
    "- Use chapters 5-10 of textbook as a guide\n",
    " - Variable Names, Binding, and Scope\n",
    " - Data types\n",
    " - Assignment, Epression, and Control Statements\n",
    " - Subprograms\n",
    "- What effect do these have on implementation and use of a language?"
   ]
  },
  {
   "cell_type": "markdown",
   "metadata": {
    "slideshow": {
     "slide_type": "slide"
    }
   },
   "source": [
    "## Brief Lua History\n",
    "- Designed by Roberto Ierusalimschy, Luiz Henrique de Figueiredo, and Waldemar Celes\n",
    " - All with Tecgraf at PUC-Rio at the time\n",
    "- Version 1.0 came out in 1993, version 5.3 is the current version\n",
    "- Very small - Lua interpreter is less than 150K \n",
    "- Notable Uses\n",
    " - Game Scripting\n",
    " - Adobe Lightroom Frontend\n",
    " - Deep Learning (torch library)"
   ]
  },
  {
   "cell_type": "markdown",
   "metadata": {
    "slideshow": {
     "slide_type": "slide"
    }
   },
   "source": [
    "## Lua Basics\n",
    "- Lua is an imperative scripting language\n",
    "- The Lua intrepreter is available on gl and run with __lua__\n",
    " - To exit, type __os.exit()__ or __Ctrl + D__\n",
    "- Lua files traditionaly end in *.lua*\n",
    "- Many excellent resources on the web \n",
    " - [Programming in Lua](http://www.lua.org/pil/contents.html)\n",
    " - [Learn X in Y Minutes (Lua)](http://learnxinyminutes.com/docs/lua/)\n",
    " - [Lua Reference Manual](http://www.lua.org/manual/5.3/manual.html) [(complete EBNF of syntax in section 9)](http://www.lua.org/manual/5.3/manual.html#9)"
   ]
  },
  {
   "cell_type": "code",
   "execution_count": 13,
   "metadata": {
    "slideshow": {
     "slide_type": "slide"
    }
   },
   "outputs": [
    {
     "name": "stdout",
     "output_type": "stream",
     "text": []
    }
   ],
   "source": [
    "--This is a comment, nothing will happen\n",
    "--[[\n",
    "This is a multiline commen, just like /* */ in C or C++\n",
    "--]]"
   ]
  },
  {
   "cell_type": "markdown",
   "metadata": {
    "slideshow": {
     "slide_type": "slide"
    }
   },
   "source": [
    "## Variables in Lua\n",
    "- Can be any combination of letters, numbers and _ (the underscore character)\n",
    "- Cannot \n",
    "    - start with a digit \n",
    "    - be the same as a reserved word\n",
    "- Do not need to be declared\n",
    "- Are global by default"
   ]
  },
  {
   "cell_type": "code",
   "execution_count": 15,
   "metadata": {
    "slideshow": {
     "slide_type": "slide"
    }
   },
   "outputs": [
    {
     "name": "stdout",
     "output_type": "stream",
     "text": [
      "Hello Word!\n",
      "10000090000\n",
      "true"
     ]
    }
   ],
   "source": [
    "text = \"Hello Word!\"\n",
    "number = 1.000009e10\n",
    "_this_is_ok=true\n",
    "\n",
    "print(text)\n",
    "print(number)\n",
    "print(_this_is_ok)\n",
    "\n",
    "--10not_ok = \"Anything, It doesn't matter\""
   ]
  },
  {
   "cell_type": "code",
   "execution_count": 17,
   "metadata": {
    "slideshow": {
     "slide_type": "slide"
    }
   },
   "outputs": [
    {
     "name": "stdout",
     "output_type": "stream",
     "text": [
      "100\n",
      "100"
     ]
    }
   ],
   "source": [
    "print(_VERSION)\n",
    "_VERSION=100\n",
    "print(_VERSION)\n",
    "--You can do this, but please dont\n",
    "FOR=100\n",
    "NIL=10000"
   ]
  },
  {
   "cell_type": "code",
   "execution_count": 18,
   "metadata": {
    "slideshow": {
     "slide_type": "slide"
    }
   },
   "outputs": [
    {
     "name": "stdout",
     "output_type": "stream",
     "text": [
      "1\t2\t3\t4\n",
      "1\t2\t3\t4\n",
      "1\t2\tnil\tnil\n",
      "1\ta\t2"
     ]
    }
   ],
   "source": [
    "--Multiple Assignment is Supported\n",
    "a, b , c , d = 1 ,2 , 3 , 4\n",
    "print(a,b,c,d)\n",
    "a, b, c, d = 1, 2, 3, 4, 5\n",
    "print(a,b,c,d)\n",
    "a, b, c, d = 1, 2\n",
    "print(a,b,c,d)\n",
    "a,b,c = 1, \"a\", 2\n",
    "print(a,b,c)"
   ]
  },
  {
   "cell_type": "markdown",
   "metadata": {
    "slideshow": {
     "slide_type": "slide"
    }
   },
   "source": [
    "## Scope in Lua\n",
    "- The scope of a variable is the portion of the code for which a variable is defined\n",
    "- In Lua, variables are global by default\n",
    "- To make the scope of a variable the current block, use the __local__ keyword"
   ]
  },
  {
   "cell_type": "code",
   "execution_count": 23,
   "metadata": {
    "slideshow": {
     "slide_type": "slide"
    }
   },
   "outputs": [
    {
     "name": "stdout",
     "output_type": "stream",
     "text": [
      "q is  1\n",
      "q is \tnil\n",
      "LOCAL X is -1\n",
      "x is 2\n",
      "_y is \t10\n",
      "Z is \tnil"
     ]
    }
   ],
   "source": [
    "x = 1\n",
    "do \n",
    "    x = 2\n",
    "    do \n",
    "        local q = 1\n",
    "        print('q is ' .. ' ' .. q)\n",
    "    end\n",
    "    print('q is ', q)\n",
    "end\n",
    "\n",
    "do\n",
    "    _y = 10\n",
    "end\n",
    "\n",
    "do\n",
    "    local Z = -2\n",
    "    local x = -1\n",
    "    print(\"LOCAL X is \" .. x)\n",
    "end\n",
    "\n",
    "print(\"x is\" .. \" \" .. x)\n",
    "print(\"_y is \", _y)\n",
    "print(\"Z is \" , Z)"
   ]
  },
  {
   "cell_type": "markdown",
   "metadata": {
    "slideshow": {
     "slide_type": "slide"
    }
   },
   "source": [
    "## Data Types in Lua\n",
    "- Lua has a very simple type system, with just 8 types\n",
    " - number\n",
    " - string\n",
    " - boolean\n",
    " - nil\n",
    " - table\n",
    " - function\n",
    " - userdata\n",
    " - thread"
   ]
  },
  {
   "cell_type": "markdown",
   "metadata": {
    "slideshow": {
     "slide_type": "slide"
    }
   },
   "source": [
    "## Number\n",
    "- There is only one type for all numbers in Lua\n",
    "- Stored internally as a float\n",
    "- Can be written in scientific notation\n",
    "- Operators for numbers are: __ + __, __-__ , __*__ , __/__ , __%__ ,"
   ]
  },
  {
   "cell_type": "code",
   "execution_count": 31,
   "metadata": {
    "slideshow": {
     "slide_type": "slide"
    }
   },
   "outputs": [],
   "source": [
    "exponent_two = 2e0\n",
    "int_two = 2\n",
    "leading_zero_two = 02\n",
    "decimal_two = 2.00\n",
    "almost_two = 2.000001\n",
    "two_hundred = 2e+2\n",
    "two_something = 200000000000000000000"
   ]
  },
  {
   "cell_type": "code",
   "execution_count": 32,
   "metadata": {},
   "outputs": [
    {
     "name": "stdout",
     "output_type": "stream",
     "text": [
      "2\t2\t2\t2\n",
      "2.000001\t200\t2e+20"
     ]
    }
   ],
   "source": [
    "print(exponent_two, int_two, leading_zero_two, decimal_two)\n",
    "print(almost_two,two_hundred, two_something)"
   ]
  },
  {
   "cell_type": "code",
   "execution_count": 37,
   "metadata": {
    "slideshow": {
     "slide_type": "slide"
    }
   },
   "outputs": [
    {
     "name": "stdout",
     "output_type": "stream",
     "text": [
      "-nan\tnumber\n",
      "inf\tnumber\n",
      "-inf\tnumber\n",
      "inf\tnumber"
     ]
    }
   ],
   "source": [
    "mystery = 0/0\n",
    "another_one = 3/0\n",
    "what_now = -100/0\n",
    "how_big = 1e309\n",
    "print(mystery, type(mystery))\n",
    "print(another_one, type(another_one))\n",
    "print(what_now, type(what_now))\n",
    "print(how_big, type(how_big))"
   ]
  },
  {
   "cell_type": "code",
   "execution_count": 38,
   "metadata": {
    "slideshow": {
     "slide_type": "slide"
    }
   },
   "outputs": [
    {
     "name": "stdout",
     "output_type": "stream",
     "text": [
      "7\t0.75\t12\t-1\t3"
     ]
    }
   ],
   "source": [
    "sum = 3 + 4\n",
    "fraction = 3 / 4\n",
    "product = 3 * 4\n",
    "difference = 3 - 4\n",
    "remainder = 3 % 4\n",
    "print(sum, fraction, product, difference, remainder)"
   ]
  },
  {
   "cell_type": "markdown",
   "metadata": {
    "slideshow": {
     "slide_type": "slide"
    }
   },
   "source": [
    "## String\n",
    "- Can be denoted by using either single or double quotes\n",
    "    - Multi-line strings can be defined using [[ ]] \n",
    "- Strings are immutable\n",
    "- Can hold any unicode character\n",
    "- __..__ is the concatenation operator\n",
    "- \\# can be used to get the length of a string\n",
    "- No indexing supported without a library"
   ]
  },
  {
   "cell_type": "code",
   "execution_count": 39,
   "metadata": {
    "slideshow": {
     "slide_type": "slide"
    }
   },
   "outputs": [
    {
     "name": "stdout",
     "output_type": "stream",
     "text": [
      "true"
     ]
    }
   ],
   "source": [
    "string1 = 'dog'\n",
    "string2 = \"dog\"\n",
    "print(string1 == string2)"
   ]
  },
  {
   "cell_type": "code",
   "execution_count": 45,
   "metadata": {
    "slideshow": {
     "slide_type": "slide"
    }
   },
   "outputs": [
    {
     "name": "stdout",
     "output_type": "stream",
     "text": [
      "these\n",
      "    are on\n",
      "        different lines\n",
      "    "
     ]
    }
   ],
   "source": [
    "long_string = [[\n",
    "these\n",
    "    are on\n",
    "        different lines\n",
    "    ]]\n",
    "\n",
    "print(long_string)"
   ]
  },
  {
   "cell_type": "code",
   "execution_count": 46,
   "metadata": {
    "slideshow": {
     "slide_type": "slide"
    }
   },
   "outputs": [
    {
     "name": "stdout",
     "output_type": "stream",
     "text": [
      "the strings are together0.09"
     ]
    }
   ],
   "source": [
    "print('the'..' strings '..'are together' .. 0.09)"
   ]
  },
  {
   "cell_type": "code",
   "execution_count": 47,
   "metadata": {},
   "outputs": [
    {
     "name": "stdout",
     "output_type": "stream",
     "text": [
      "[string \"'abc'[0]\"]:1: unexpected symbol near ''abc''"
     ]
    }
   ],
   "source": [
    "'abc'[0]"
   ]
  },
  {
   "cell_type": "code",
   "execution_count": 50,
   "metadata": {},
   "outputs": [
    {
     "name": "stdout",
     "output_type": "stream",
     "text": [
      "39"
     ]
    }
   ],
   "source": [
    "#'how many characters are in this string?'"
   ]
  },
  {
   "cell_type": "markdown",
   "metadata": {
    "slideshow": {
     "slide_type": "slide"
    }
   },
   "source": [
    "## Booleans\n",
    "- __false__ and __nil__ evaluate to False\n",
    "- Everything else is true\n",
    "- __and__ and __or__ return their arguments\n",
    " - __and__ returns the first argument when that argument evaluates to false, otherwise returns the second arguemnt\n",
    " - __or__ returns the first argument when that argument evaluates to true, otherwise returns the second argument "
   ]
  },
  {
   "cell_type": "code",
   "execution_count": 55,
   "metadata": {
    "slideshow": {
     "slide_type": "slide"
    }
   },
   "outputs": [
    {
     "name": "stdout",
     "output_type": "stream",
     "text": [
      "false\n",
      "false\n",
      "5\n",
      "5"
     ]
    }
   ],
   "source": [
    "print(false and 5)\n",
    "print(5 and false)\n",
    "print(true and 5)\n",
    "print(4 and 5)"
   ]
  },
  {
   "cell_type": "code",
   "execution_count": 56,
   "metadata": {
    "slideshow": {
     "slide_type": "slide"
    }
   },
   "outputs": [
    {
     "name": "stdout",
     "output_type": "stream",
     "text": [
      "5\n",
      "true\n",
      "4\n",
      "4\n",
      "5"
     ]
    }
   ],
   "source": [
    "print(false or 5)\n",
    "print(true or 5)\n",
    "print(4 or 5)\n",
    "print(4 or 5 or 6)\n",
    "print(false or 5 or 6)"
   ]
  },
  {
   "cell_type": "code",
   "execution_count": 68,
   "metadata": {
    "slideshow": {
     "slide_type": "slide"
    }
   },
   "outputs": [
    {
     "name": "stdout",
     "output_type": "stream",
     "text": [
      "100"
     ]
    }
   ],
   "source": [
    "x = 400\n",
    "y = 100\n",
    "--print(y or x and (x > y))\n",
    "print(y or (x > y) and x)\n",
    "--False or y"
   ]
  },
  {
   "cell_type": "markdown",
   "metadata": {
    "slideshow": {
     "slide_type": "slide"
    }
   },
   "source": [
    "## Nil\n",
    "- Represents absence of a useful value (_Programming in Lua_)"
   ]
  },
  {
   "cell_type": "code",
   "execution_count": 69,
   "metadata": {
    "slideshow": {
     "slide_type": "slide"
    }
   },
   "outputs": [
    {
     "name": "stdout",
     "output_type": "stream",
     "text": [
      "nil"
     ]
    }
   ],
   "source": [
    "print(type(nil))\n",
    "--var=nil"
   ]
  },
  {
   "cell_type": "code",
   "execution_count": 70,
   "metadata": {},
   "outputs": [
    {
     "name": "stdout",
     "output_type": "stream",
     "text": [
      "nil"
     ]
    }
   ],
   "source": [
    "print(empty)"
   ]
  },
  {
   "cell_type": "code",
   "execution_count": 74,
   "metadata": {},
   "outputs": [
    {
     "name": "stdout",
     "output_type": "stream",
     "text": [
      "[string \"nil + nil\"]:1: unexpected symbol near 'nil'"
     ]
    }
   ],
   "source": [
    "nil + nil"
   ]
  },
  {
   "cell_type": "markdown",
   "metadata": {
    "collapsed": true,
    "slideshow": {
     "slide_type": "slide"
    }
   },
   "source": [
    "## Control Statements\n",
    "- All control statements must be terminated, usually with an __end__\n",
    "- __if__ , __elseif__ , __else__ , __then__ are the keywords\n",
    "    - No __switch__ statement present"
   ]
  },
  {
   "cell_type": "code",
   "execution_count": 75,
   "metadata": {
    "slideshow": {
     "slide_type": "slide"
    }
   },
   "outputs": [
    {
     "name": "stdout",
     "output_type": "stream",
     "text": [
      "20\n",
      "0"
     ]
    }
   ],
   "source": [
    "x = 10\n",
    "y = 20\n",
    "z = 0\n",
    "\n",
    "if x > y then\n",
    "    print(x)\n",
    "elseif z > y then\n",
    "    print(z)  \n",
    "elseif y > 200 then\n",
    "    print(\"Here\")\n",
    "else \n",
    "    print(y) \n",
    "    print(z)\n",
    "end"
   ]
  },
  {
   "cell_type": "code",
   "execution_count": 76,
   "metadata": {
    "slideshow": {
     "slide_type": "slide"
    }
   },
   "outputs": [
    {
     "name": "stdout",
     "output_type": "stream",
     "text": [
      "20 and 10 are not equal"
     ]
    }
   ],
   "source": [
    "varA = 20\n",
    "varB = 10\n",
    "varC = 10\n",
    "\n",
    "if varB < varC then\n",
    "    print \"10 is less than 10\"\n",
    "elseif varB <= varC then\n",
    "    if varA ~= varC then\n",
    "        print \"20 and 10 are not equal\"\n",
    "    else\n",
    "        print \"20 and 10 are equal?\"\n",
    "    end\n",
    "end"
   ]
  },
  {
   "cell_type": "markdown",
   "metadata": {
    "collapsed": true,
    "slideshow": {
     "slide_type": "slide"
    }
   },
   "source": [
    "## Looping\n",
    "- Two types of conditional loops __while__ loops and __repeat__ loops\n",
    "- __repeat__ is similar to do while loops in many other languages\n",
    "- __for__ comes in two variations, numeric ( traditional ) and generic (foreach)"
   ]
  },
  {
   "cell_type": "code",
   "execution_count": 77,
   "metadata": {
    "slideshow": {
     "slide_type": "slide"
    }
   },
   "outputs": [
    {
     "name": "stdout",
     "output_type": "stream",
     "text": [
      "10\n",
      "11\n",
      "12\n",
      "13\n",
      "14\n",
      "15\n",
      "16\n",
      "17\n",
      "18\n",
      "19"
     ]
    }
   ],
   "source": [
    "x = 10\n",
    "while x < 20 do\n",
    "    print(x)\n",
    "    x = x + 1\n",
    "\n",
    "end"
   ]
  },
  {
   "cell_type": "code",
   "execution_count": 79,
   "metadata": {
    "slideshow": {
     "slide_type": "slide"
    }
   },
   "outputs": [
    {
     "name": "stdout",
     "output_type": "stream",
     "text": [
      "10\n",
      "11\n",
      "12\n",
      "13\n",
      "14\n",
      "15\n",
      "16\n",
      "17\n",
      "18\n",
      "19\n",
      "20"
     ]
    }
   ],
   "source": [
    "x = 10\n",
    "repeat\n",
    "    print(x)\n",
    "    x = x + 1\n",
    "until x > 20"
   ]
  },
  {
   "cell_type": "code",
   "execution_count": 83,
   "metadata": {
    "slideshow": {
     "slide_type": "slide"
    }
   },
   "outputs": [
    {
     "name": "stdout",
     "output_type": "stream",
     "text": [
      "10\n",
      "11\n",
      "12\n",
      "13\n",
      "14\n",
      "15\n",
      "16\n",
      "17\n",
      "18\n",
      "19\n",
      "20\n",
      "21\n",
      "21"
     ]
    }
   ],
   "source": [
    "for x = 10,20,1 do\n",
    "    print(x)\n",
    "end\n",
    "print(x)\n",
    "print(x)"
   ]
  }
 ],
 "metadata": {
  "celltoolbar": "Slideshow",
  "kernelspec": {
   "display_name": "Lua",
   "language": "",
   "name": "lupyter"
  },
  "language_info": {
   "file_extension": ".lua",
   "mimetype": "text/Lua",
   "name": "Lua",
   "version": "5.X.Y"
  }
 },
 "nbformat": 4,
 "nbformat_minor": 1
}
