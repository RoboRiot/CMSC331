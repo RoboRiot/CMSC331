{
 "cells": [
  {
   "cell_type": "code",
   "execution_count": 8,
   "metadata": {
    "collapsed": false
   },
   "outputs": [
    {
     "data": {
      "text/plain": [
       "file (0x01371e00)\n"
      ]
     },
     "execution_count": 8,
     "metadata": {},
     "output_type": "execute_result"
    }
   ],
   "source": [
    "io.input(\"turing.txt\")"
   ]
  },
  {
   "cell_type": "code",
   "execution_count": 9,
   "metadata": {
    "collapsed": false
   },
   "outputs": [
    {
     "data": {
      "text/plain": [
       "1\t\n",
       "9\t\n",
       "6\t\n",
       "6\t\n",
       "\t\t\n",
       "TAB\t\n",
       "A\t\n",
       "l\t\n",
       "a\t\n",
       "n\t\n",
       " \t\n",
       "P\t\n",
       "e\t\n",
       "r\t\n",
       "l\t\n",
       "i\t\n",
       "s\t\n",
       "\t\t\n",
       "TAB\t\n",
       "Y\t\n",
       "a\t\n",
       "l\t\n",
       "e\t\n",
       " \t\n",
       "U\t\n",
       "n\t\n",
       "i\t\n",
       "v\t\n",
       "e\t\n",
       "r\t\n",
       "s\t\n",
       "i\t\n",
       "t\t\n",
       "y\t\n",
       "\t\t\n",
       "TAB\t\n",
       "C\t\n",
       "o\t\n",
       "m\t\n",
       "p\t\n",
       "i\t\n",
       "l\t\n",
       "e\t\n",
       "r\t\n",
       "s\t\n",
       "\r",
       "\t\n",
       "\t\t\n",
       "TAB\t\n",
       "H\t\n",
       "a\t\n",
       "r\t\n",
       "d\t\n",
       "w\t\n",
       "a\t\n",
       "r\t\n",
       "e\t\n",
       "\r",
       "\t\n",
       "n\t\n",
       "g\t\n",
       " \t\n",
       "S\t\n",
       "y\t\n",
       "s\t\n",
       "t\t\n",
       "e\t\n",
       "m\t\n",
       "s\t\n",
       "\r",
       "\t\n",
       "y\t\n",
       "s\t\n",
       "i\t\n",
       "s\t\n",
       "\r",
       "\t\n",
       "a\t\n",
       "n\t\n",
       "g\t\n",
       "u\t\n",
       "a\t\n",
       "g\t\n",
       "e\t\n",
       "s\t\n",
       "\r",
       "\t\n",
       "\r",
       "\t\n"
      ]
     },
     "execution_count": 9,
     "metadata": {},
     "output_type": "execute_result"
    }
   ],
   "source": [
    "local line = nil\n",
    "local currentChar = nil\n",
    "local lineIndex = 1\n",
    "local tab = \"\\t\"\n",
    "\n",
    "while true do\n",
    "\n",
    "    line = io.read();\n",
    "\n",
    "    if line == nil then\n",
    "      break\n",
    "    end\n",
    "-- Parses the line and stores it in a table\n",
    "    while lineIndex <= #line do\n",
    "      \n",
    "      currentChar = line:sub(lineIndex, lineIndex)\n",
    "      print(currentChar)\n",
    "      if currentChar == tab then\n",
    "        print(\"TAB\")\n",
    "      end\n",
    "\n",
    "    lineIndex = 1 + lineIndex\n",
    "    end\n",
    "end"
   ]
  },
  {
   "cell_type": "code",
   "execution_count": null,
   "metadata": {
    "collapsed": true
   },
   "outputs": [],
   "source": []
  }
 ],
 "metadata": {
  "kernelspec": {
   "display_name": "iTorch",
   "language": "lua",
   "name": "itorch"
  },
  "language_info": {
   "name": "lua",
   "version": "20100"
  }
 },
 "nbformat": 4,
 "nbformat_minor": 0
}
